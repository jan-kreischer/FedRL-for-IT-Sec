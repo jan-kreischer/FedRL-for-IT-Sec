{
 "cells": [
  {
   "cell_type": "markdown",
   "id": "b6e241cc-6d2e-40dc-ac92-d23ad6fdc9ea",
   "metadata": {
    "tags": []
   },
   "source": [
    "# Experiment 03"
   ]
  },
  {
   "cell_type": "markdown",
   "id": "2636fe05-7f60-4a42-9b4e-c51b76c59d07",
   "metadata": {
    "tags": []
   },
   "source": [
    "### Training on Google Collab "
   ]
  },
  {
   "cell_type": "code",
   "execution_count": 1,
   "id": "aOKaMgUnZYbP",
   "metadata": {
    "colab": {
     "base_uri": "https://localhost:8080/"
    },
    "id": "aOKaMgUnZYbP",
    "outputId": "240f59de-2be0-483f-d1db-521468987b62"
   },
   "outputs": [
    {
     "ename": "ModuleNotFoundError",
     "evalue": "No module named 'google'",
     "output_type": "error",
     "traceback": [
      "\u001b[0;31m---------------------------------------------------------------------------\u001b[0m",
      "\u001b[0;31mModuleNotFoundError\u001b[0m                       Traceback (most recent call last)",
      "Input \u001b[0;32mIn [1]\u001b[0m, in \u001b[0;36m<cell line: 2>\u001b[0;34m()\u001b[0m\n\u001b[1;32m      1\u001b[0m \u001b[38;5;66;03m# Mount your google drive in google colab\u001b[39;00m\n\u001b[0;32m----> 2\u001b[0m \u001b[38;5;28;01mfrom\u001b[39;00m \u001b[38;5;21;01mgoogle\u001b[39;00m\u001b[38;5;21;01m.\u001b[39;00m\u001b[38;5;21;01mcolab\u001b[39;00m \u001b[38;5;28;01mimport\u001b[39;00m drive\n\u001b[1;32m      3\u001b[0m drive\u001b[38;5;241m.\u001b[39mmount(\u001b[38;5;124m'\u001b[39m\u001b[38;5;124m/content/drive\u001b[39m\u001b[38;5;124m'\u001b[39m, force_remount\u001b[38;5;241m=\u001b[39m\u001b[38;5;28;01mTrue\u001b[39;00m)\n",
      "\u001b[0;31mModuleNotFoundError\u001b[0m: No module named 'google'"
     ]
    }
   ],
   "source": [
    "# Mount your google drive in google colab\n",
    "from google.colab import drive\n",
    "drive.mount('/content/drive', force_remount=True)"
   ]
  },
  {
   "cell_type": "code",
   "execution_count": null,
   "id": "c091283c-4f2b-4c79-992b-690f01776638",
   "metadata": {},
   "outputs": [],
   "source": [
    "# Go to base directory\n",
    "%cd /content/drive/MyDrive/University/Master-Thesis/Code"
   ]
  },
  {
   "cell_type": "markdown",
   "id": "27d7a805-6914-464e-a09d-4d6dee93394a",
   "metadata": {},
   "source": [
    "### Training on Local Machine"
   ]
  },
  {
   "cell_type": "code",
   "execution_count": 1,
   "id": "e93a4765-f570-4a09-a4bb-92361eec9f48",
   "metadata": {},
   "outputs": [
    {
     "name": "stdout",
     "output_type": "stream",
     "text": [
      "The original working directory is /Users/jankreischer/Library/Mobile Documents/com~apple~CloudDocs/Master-Thesis/Code/experiments/experiment_03\n"
     ]
    }
   ],
   "source": [
    "import os\n",
    "\n",
    "original_working_directory_path = os.getcwd()\n",
    "print(\"The original working directory is {0}\".format(os.getcwd()))\n",
    "\n",
    "def to_original_working_directory():\n",
    "    os.chdir(original_working_directory_path)\n",
    "    print(f\"Changed to original working directory {original_working_directory_path}\")"
   ]
  },
  {
   "cell_type": "code",
   "execution_count": 2,
   "id": "3f290fa7-29f1-4376-86e4-56d78679f771",
   "metadata": {},
   "outputs": [],
   "source": [
    "def to_root_working_directory():\n",
    "    root_working_directory_path = os.path.join(original_working_directory_path, \"../..\")\n",
    "    os.chdir(root_working_directory_path)\n",
    "    print(f\"Changed to root working directory {os.getcwd()}\")"
   ]
  },
  {
   "cell_type": "code",
   "execution_count": 3,
   "id": "4f949990-e666-4f91-a9f4-831dc7b2462c",
   "metadata": {},
   "outputs": [
    {
     "name": "stdout",
     "output_type": "stream",
     "text": [
      "Changed to root working directory /Users/jankreischer/Library/Mobile Documents/com~apple~CloudDocs/Master-Thesis/Code\n"
     ]
    }
   ],
   "source": [
    "to_root_working_directory()"
   ]
  },
  {
   "cell_type": "markdown",
   "id": "cc816964-946d-4e7f-8b8c-a9d13191889c",
   "metadata": {},
   "source": [
    "### 1. Dependencies"
   ]
  },
  {
   "cell_type": "code",
   "execution_count": 4,
   "id": "cd90c7ae-bb49-46a8-a23a-3f1612e55846",
   "metadata": {},
   "outputs": [],
   "source": [
    "# Standard Dependencies\n",
    "import sys\n",
    "import os\n",
    "import numpy as np\n",
    "from time import time"
   ]
  },
  {
   "cell_type": "code",
   "execution_count": 5,
   "id": "b13ebd8b-d3bc-484d-aed4-070cccf7f7c4",
   "metadata": {},
   "outputs": [
    {
     "name": "stderr",
     "output_type": "stream",
     "text": [
      "/Users/jankreischer/opt/anaconda3/envs/FedRL-for-IT-Sec/lib/python3.9/site-packages/tqdm/auto.py:22: TqdmWarning: IProgress not found. Please update jupyter and ipywidgets. See https://ipywidgets.readthedocs.io/en/stable/user_install.html\n",
      "  from .autonotebook import tqdm as notebook_tqdm\n"
     ]
    }
   ],
   "source": [
    "# Local Dependencies\n",
    "from experiments.experiment_03.environment import SensorEnvironment"
   ]
  },
  {
   "cell_type": "code",
   "execution_count": 6,
   "id": "fd081675-37e7-4315-af84-3ad33d1281a5",
   "metadata": {},
   "outputs": [],
   "source": [
    "# Global Dependencies\n",
    "from src.data_provider import DataProvider\n",
    "from src.agent import Agent\n",
    "from src.custom_types import Behavior\n",
    "from src.simulation_engine import SimulationEngine\n",
    "from src.evaluation_utils import plot_learning, seed_random, evaluate_agent, \\\n",
    "    evaluate_agent_on_afterstates, get_pretrained_agent\n",
    "from src.autoencoder_utils import get_pretrained_ae, evaluate_ae_on_afterstates, evaluate_ae_on_no_mtd_behavior, pretrain_ae_model, \\\n",
    "    evaluate_all_ds_as_ae_models, pretrain_all_ds_as_ae_models"
   ]
  },
  {
   "cell_type": "markdown",
   "id": "4d57e58d-710c-43ba-93c4-b7c13961ed47",
   "metadata": {},
   "source": [
    "### 2. Hyperparameters"
   ]
  },
  {
   "cell_type": "code",
   "execution_count": 7,
   "id": "542e3b0c-7c12-4242-a29d-d1fd05ce8a6d",
   "metadata": {},
   "outputs": [],
   "source": [
    "# Hyperparams\n",
    "GAMMA = 0.1\n",
    "BATCH_SIZE = 100\n",
    "BUFFER_SIZE = 500\n",
    "MIN_REPLAY_SIZE = 100\n",
    "EPSILON_START = 1.0\n",
    "EPSILON_DEC = 1e-4\n",
    "EPSILON_END = 0.01\n",
    "TARGET_UPDATE_FREQ = 100\n",
    "LEARNING_RATE = 1e-4\n",
    "N_EPISODES = 10000\n",
    "LOG_FREQ = 100\n",
    "DIMS = 20\n",
    "SAMPLES = 10"
   ]
  },
  {
   "cell_type": "markdown",
   "id": "8a8fbcb9-5f5d-4dab-83b4-3de65417f71b",
   "metadata": {},
   "source": [
    "### 3. Training"
   ]
  },
  {
   "cell_type": "code",
   "execution_count": 8,
   "id": "9e789561-9952-4e66-90b0-08f4bd38c08a",
   "metadata": {},
   "outputs": [
    {
     "name": "stdout",
     "output_type": "stream",
     "text": [
      "size train: (2760, 46), size valid: (690, 46)\n",
      "---Training AE---\n",
      "AE threshold: 0.458658420230592\n",
      "save model to: experiments/experiment_03/trained_models/ae_model_ds.pth\n",
      "size train: (632, 46), size valid: (159, 46)\n",
      "---Training AE---\n",
      "AE threshold: 0.8644213560053753\n",
      "save model to: experiments/experiment_03/trained_models/ae_model_rootkit_sanitizer.pth\n",
      "size train: (704, 46), size valid: (177, 46)\n",
      "---Training AE---\n",
      "AE threshold: 0.9807522491911944\n",
      "save model to: experiments/experiment_03/trained_models/ae_model_ransomware_directory_trap.pth\n",
      "size train: (623, 46), size valid: (156, 46)\n",
      "---Training AE---\n",
      "AE threshold: 1.1035275906409003\n",
      "save model to: experiments/experiment_03/trained_models/ae_model_ransomware_file_extension_hide.pth\n",
      "size train: (610, 46), size valid: (153, 46)\n",
      "---Training AE---\n",
      "AE threshold: 1.5876529507731125\n",
      "save model to: experiments/experiment_03/trained_models/ae_model_cnc_ip_shuffle.pth\n",
      "all as data:  3214\n",
      "size train: (2571, 46), size valid: (643, 46)\n",
      "---Training AE---\n",
      "AE threshold: 1.5575575320019617\n",
      "save model to: experiments/experiment_03/trained_models/ae_model_all_as.pth\n",
      "all ds/as data:  6664\n",
      "size train: (5331, 46), size valid: (1333, 46)\n",
      "---Training AE---\n",
      "AE threshold: 0.5357054616798729\n",
      "save model to: experiments/experiment_03/trained_models/ae_model_all_ds_as.pth\n"
     ]
    },
    {
     "ename": "TypeError",
     "evalue": "expected str, bytes or os.PathLike object, not builtin_function_or_method",
     "output_type": "error",
     "traceback": [
      "\u001b[0;31m---------------------------------------------------------------------------\u001b[0m",
      "\u001b[0;31mTypeError\u001b[0m                                 Traceback (most recent call last)",
      "Input \u001b[0;32mIn [8]\u001b[0m, in \u001b[0;36m<cell line: 19>\u001b[0;34m()\u001b[0m\n\u001b[1;32m     17\u001b[0m \u001b[38;5;66;03m# MODEL trained on all ds and as normal data assumes the least -> MOST REALISTIC\u001b[39;00m\n\u001b[1;32m     18\u001b[0m pretrain_all_ds_as_ae_models(ae_ds_train, ae_as_train, num_std\u001b[38;5;241m=\u001b[39m\u001b[38;5;241m2.5\u001b[39m)\n\u001b[0;32m---> 19\u001b[0m \u001b[43mevaluate_all_ds_as_ae_models\u001b[49m\u001b[43m(\u001b[49m\u001b[43mdtrain_rl\u001b[49m\u001b[43m,\u001b[49m\u001b[43m \u001b[49m\u001b[43matrain_rl\u001b[49m\u001b[43m,\u001b[49m\u001b[43m \u001b[49m\u001b[43mdims\u001b[49m\u001b[38;5;241;43m=\u001b[39;49m\u001b[43mdims\u001b[49m\u001b[43m,\u001b[49m\u001b[43m \u001b[49m\u001b[38;5;28;43mdir\u001b[39;49m\u001b[38;5;241;43m=\u001b[39;49m\u001b[38;5;28;43mdir\u001b[39;49m\u001b[43m)\u001b[49m\n\u001b[1;32m     20\u001b[0m exit(\u001b[38;5;241m0\u001b[39m)\n\u001b[1;32m     22\u001b[0m \u001b[38;5;66;03m# choose best of the previously trained autoencoders\u001b[39;00m\n",
      "File \u001b[0;32m~/Library/Mobile Documents/com~apple~CloudDocs/Master-Thesis/Code/src/autoencoder_utils.py:99\u001b[0m, in \u001b[0;36mevaluate_all_ds_as_ae_models\u001b[0;34m(dtrain, atrain, dims, dir)\u001b[0m\n\u001b[1;32m     97\u001b[0m \u001b[38;5;28;01mdef\u001b[39;00m \u001b[38;5;21mevaluate_all_ds_as_ae_models\u001b[39m(dtrain, atrain, dims, \u001b[38;5;28mdir\u001b[39m):\n\u001b[1;32m     98\u001b[0m     \u001b[38;5;28;01mfor\u001b[39;00m mtd \u001b[38;5;129;01min\u001b[39;00m MTDTechnique:\n\u001b[0;32m---> 99\u001b[0m         path \u001b[38;5;241m=\u001b[39m \u001b[43mos\u001b[49m\u001b[38;5;241;43m.\u001b[39;49m\u001b[43mpath\u001b[49m\u001b[38;5;241;43m.\u001b[39;49m\u001b[43mjoin\u001b[49m\u001b[43m(\u001b[49m\u001b[38;5;28;43mdir\u001b[39;49m\u001b[43m,\u001b[49m\u001b[43m \u001b[49m\u001b[38;5;124;43mf\u001b[39;49m\u001b[38;5;124;43m\"\u001b[39;49m\u001b[38;5;124;43m/ae_model_\u001b[39;49m\u001b[38;5;132;43;01m{\u001b[39;49;00m\u001b[43mmtd\u001b[49m\u001b[38;5;241;43m.\u001b[39;49m\u001b[43mvalue\u001b[49m\u001b[38;5;132;43;01m}\u001b[39;49;00m\u001b[38;5;124;43m.pth\u001b[39;49m\u001b[38;5;124;43m\"\u001b[39;49m\u001b[43m)\u001b[49m\n\u001b[1;32m    100\u001b[0m         \u001b[38;5;28mprint\u001b[39m(\u001b[38;5;124mf\u001b[39m\u001b[38;5;124m\"\u001b[39m\u001b[38;5;124m---Evaluating AE \u001b[39m\u001b[38;5;132;01m{\u001b[39;00mmtd\u001b[38;5;241m.\u001b[39mvalue\u001b[38;5;132;01m}\u001b[39;00m\u001b[38;5;124m ---\u001b[39m\u001b[38;5;124m\"\u001b[39m)\n\u001b[1;32m    101\u001b[0m         ae_interpreter \u001b[38;5;241m=\u001b[39m get_pretrained_ae(path\u001b[38;5;241m=\u001b[39mpath, dims\u001b[38;5;241m=\u001b[39mdims)\n",
      "File \u001b[0;32m~/opt/anaconda3/envs/FedRL-for-IT-Sec/lib/python3.9/posixpath.py:76\u001b[0m, in \u001b[0;36mjoin\u001b[0;34m(a, *p)\u001b[0m\n\u001b[1;32m     71\u001b[0m \u001b[38;5;28;01mdef\u001b[39;00m \u001b[38;5;21mjoin\u001b[39m(a, \u001b[38;5;241m*\u001b[39mp):\n\u001b[1;32m     72\u001b[0m     \u001b[38;5;124;03m\"\"\"Join two or more pathname components, inserting '/' as needed.\u001b[39;00m\n\u001b[1;32m     73\u001b[0m \u001b[38;5;124;03m    If any component is an absolute path, all previous path components\u001b[39;00m\n\u001b[1;32m     74\u001b[0m \u001b[38;5;124;03m    will be discarded.  An empty last part will result in a path that\u001b[39;00m\n\u001b[1;32m     75\u001b[0m \u001b[38;5;124;03m    ends with a separator.\"\"\"\u001b[39;00m\n\u001b[0;32m---> 76\u001b[0m     a \u001b[38;5;241m=\u001b[39m \u001b[43mos\u001b[49m\u001b[38;5;241;43m.\u001b[39;49m\u001b[43mfspath\u001b[49m\u001b[43m(\u001b[49m\u001b[43ma\u001b[49m\u001b[43m)\u001b[49m\n\u001b[1;32m     77\u001b[0m     sep \u001b[38;5;241m=\u001b[39m _get_sep(a)\n\u001b[1;32m     78\u001b[0m     path \u001b[38;5;241m=\u001b[39m a\n",
      "\u001b[0;31mTypeError\u001b[0m: expected str, bytes or os.PathLike object, not builtin_function_or_method"
     ]
    }
   ],
   "source": [
    "experiment_base_dir = \"experiments/experiment_03\"\n",
    "seed_random()\n",
    "start = time()\n",
    "\n",
    "# read in all preprocessed data for a simulated, supervised environment to sample from\n",
    "# dtrain, dtest, atrain, atest = DataProvider.get_reduced_dimensions_with_pca_ds_as(DIMS,\n",
    "#                                                                                   dir=f\"{experiment_base_dir}/\")\n",
    "dtrain, dtest, atrain, atest, scaler = DataProvider.get_scaled_scaled_train_test_split_with_afterstates(\n",
    "    scaling_minmax=True, scale_normal_only=True)\n",
    "\n",
    "# get splits for RL & AD of normal data\n",
    "ae_ds_train, dtrain_rl = DataProvider.split_ds_data_for_ae_and_rl(dtrain)\n",
    "ae_ds_train = np.vstack((ae_ds_train, ae_ds_train)) # upsampling to have equal contribution with afterstates\n",
    "dims = len(ae_ds_train[0, :-1])\n",
    "ae_as_train, atrain_rl = DataProvider.split_as_data_for_ae_and_rl(atrain)\n",
    "\n",
    "# MODEL trained on all ds and as normal data assumes the least -> MOST REALISTIC\n",
    "pretrain_all_ds_as_ae_models(ae_ds_train, ae_as_train, num_std=2.5)\n",
    "evaluate_all_ds_as_ae_models(dtrain_rl, atrain_rl, dims=dims, dir=dir)\n",
    "exit(0)\n",
    "\n",
    "# choose best of the previously trained autoencoders\n",
    "dir = f\"{experiment_base_dir}/trained_models/\"\n",
    "model_name = \"ae_model_all_ds_as.pth\"\n",
    "path = dir + model_name\n",
    "ae_interpreter = get_pretrained_ae(path=path, dims=dims)\n",
    "print(\"Evaluating AE trained on all decision and afterstates normal\")\n",
    "print(\"---Evaluation on decision behaviors train---\")\n",
    "evaluate_ae_on_no_mtd_behavior(ae_interpreter, test_data=dtrain)\n",
    "print(\"---Evaluation on afterstate behaviors train---\")\n",
    "evaluate_ae_on_afterstates(ae_interpreter, test_data=atrain)\n",
    "\n",
    "# Reinforcement Learning\n",
    "env = SensorEnvironment(decision_train_data=dtrain_rl,\n",
    "                        after_train_data=atrain_rl, interpreter=ae_interpreter,\n",
    "                        state_samples=SAMPLES)\n",
    "\n",
    "agent = Agent(input_dims=env.observation_space_size, n_actions=len(env.actions), buffer_size=BUFFER_SIZE,\n",
    "              batch_size=BATCH_SIZE, lr=LEARNING_RATE, gamma=GAMMA, epsilon=EPSILON_START, eps_end=EPSILON_END)\n",
    "\n",
    "# initialize memory replay buffer (randomly)\n",
    "SimulationEngine.init_replay_memory(agent=agent, env=env, min_size=MIN_REPLAY_SIZE)\n",
    "\n",
    "# main training\n",
    "episode_returns, eps_history = SimulationEngine.learn_agent_offline(agent=agent, env=env, num_episodes=N_EPISODES,\n",
    "                                                                    t_update_freq=TARGET_UPDATE_FREQ)\n",
    "\n",
    "end = time()\n",
    "print(\"(Adapt!) Total training time: \", end - start)\n",
    "\n",
    "# save pretrained agent for later (online) use\n",
    "num = 0\n",
    "agent.save_agent_state(num, f\"{experiment_base_dir}\")\n",
    "\n",
    "x = [i + 1 for i in range(N_EPISODES)]\n",
    "filename = f\"{experiment_base_dir}/mtd_agent_p3_{SAMPLES}_samples.pdf\"\n",
    "plot_learning(x, episode_returns, eps_history, filename)\n",
    "\n",
    "# check predictions with dqn from trained and stored agent\n",
    "path = f\"{experiment_base_dir}/trained_models/agent_{num}.pth\"\n",
    "pretrained_agent = get_pretrained_agent(path=path, input_dims=env.observation_space_size,\n",
    "                                        n_actions=len(env.actions), buffer_size=BUFFER_SIZE)\n",
    "evaluate_agent(agent=pretrained_agent, test_data=dtest)\n",
    "evaluate_agent_on_afterstates(agent=pretrained_agent, test_data=atest)"
   ]
  }
 ],
 "metadata": {
  "kernelspec": {
   "display_name": "FedRL-for-IT-Sec",
   "language": "python",
   "name": "fedrl-for-it-sec"
  },
  "language_info": {
   "codemirror_mode": {
    "name": "ipython",
    "version": 3
   },
   "file_extension": ".py",
   "mimetype": "text/x-python",
   "name": "python",
   "nbconvert_exporter": "python",
   "pygments_lexer": "ipython3",
   "version": "3.10.10"
  }
 },
 "nbformat": 4,
 "nbformat_minor": 5
}
