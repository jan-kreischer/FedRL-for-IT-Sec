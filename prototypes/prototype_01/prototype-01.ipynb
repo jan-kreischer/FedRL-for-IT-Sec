{
 "cells": [
  {
   "cell_type": "markdown",
   "id": "ba26052c-2bb9-48c9-9565-ed139cc65688",
   "metadata": {
    "tags": []
   },
   "source": [
    "# Prototype 01\n",
    "#### Tasks\n",
    "##### Done\n",
    "\n",
    "- Check timos epsilon decay strategy [✓]\n",
    "- Split the dataset presented to each client [✓]\n",
    "- Check the format of training data [✓]\n",
    "- Add softmax to the last layer [✓] \n",
    "- Make function to save the most important details about an experiment in a README.md file and save it with the models and the graphics [✓]\n",
    "- Improve the log experiment function [✓]\n",
    "- Check why the learning curve shows twice as many epochs as actually existent [✓]\n",
    "- Add saving functionality to the plotting functions [✓]\n",
    "- write the experiment summary directly into the md file [✓]\n",
    "- Add the global training time and the round training time [✓]\n",
    "- Add a name function to the agent and make the global agent return the correct name [✓]\n",
    "- Check why there is twice as many episodes in the graph as there should be [✓]\n",
    "- Align the markdown table to the left [✓]\n",
    "- Save the full training time [✓]\n",
    "- Save the rount training time on each client [✓]\n",
    "- Add the execution date to the experiment report [✓]\n",
    "- Use the pipe table [✓]\n",
    "- How many threads can my macbook pro run in parallel => 6 (12 with Hyperthreadding) [✓]\n",
    "- Check if the experiment directory already exists and if yest delete it and make space for the new files [✓]\n",
    "- Check different types of tables [✓]\n",
    "- Remove the verbosity flag from the server train functions [✓]\n",
    "- Change the blue in the graphics to a darker blue and the red to a more poppy color. [✓]\n",
    "- Make a subindex possible for the experiment [✓]\n",
    "- Check if the replay memoery init can be moved internally (client_01.init_replay_memory(MIN_REPLAY_SIZE)) [✓]\n",
    "- Check that the test data is independant from the train data [✓]\n",
    "- Validate the copying of the parameters works properly [✓]\n",
    "- Weight aggregation does not take a lot of time [✓].\n",
    "\n",
    "##### Open\n",
    "\n",
    "\n",
    "- How often do i have to initialze the replay memory?\n",
    "- Make sure that the weights of the DQN are not being reset by the training\n",
    "- If you really want to make this work online then the right aggregation strategy is key. Maybe ensemble models would be good.\n",
    "- Check different federated aggregation strategies for class distinct problems\n",
    "- Parallelize the training\n",
    "- Move the training to the GPU.\n",
    "- Make the threadding more efficient\n",
    "- Add f1 score and confusion matrix\n",
    "- Check the weighting strategy that Timo used\n",
    "- Ipmlemtne Multiclass Imbalance Degree (MID) Metric\n",
    "- Print a graph with overall attack detection accuracy (How many got mitigated and how many did not get mitigated)\n",
    "- Check which loss we are using (purpose of binary cross entropy loss)\n",
    "- Add confusion matrices\n",
    "- Check RMS Prop\n",
    "- Check why there is 4 actions (possible outputs) of the DQN while we only use 3 MTDs. Does zero mean no MTD?\n",
    "- Move each class to its own file\n",
    "- Better split the training data to clients\n",
    "- What is the purpose of share memory function?\n",
    "- Check if the DQN is always randomly re-initialized\n",
    "- plot the training data splits\n",
    "- Check why the parallelized training is not faster?\n",
    "- Maybe we should use the model with the best test performance\n",
    "- Check why there is 4 output actions\n",
    "- Check the format of the training data\n",
    "- Make graphs that cover the global test accuracy over all rounds for all clients (including the global agent)\n",
    "- Make sure that the online & target network is randomyl re-initialized again\n",
    "- Make a historgram of samples chosen in each round and a historgram of sample classes chosen over the whole training\n",
    "- incorporate the confusion matrix\n",
    "- Make a performance table where you have the true behavior and the predicted action.\n",
    "- Check hyperparameter search."
   ]
  },
  {
   "cell_type": "markdown",
   "id": "f73029e5-94b9-4123-93c9-1570f19d7a84",
   "metadata": {
    "tags": []
   },
   "source": [
    "## Training on Google Collab "
   ]
  },
  {
   "cell_type": "code",
   "execution_count": 1,
   "id": "aOKaMgUnZYbP",
   "metadata": {
    "colab": {
     "base_uri": "https://localhost:8080/"
    },
    "id": "aOKaMgUnZYbP",
    "outputId": "240f59de-2be0-483f-d1db-521468987b62"
   },
   "outputs": [
    {
     "ename": "ModuleNotFoundError",
     "evalue": "No module named 'google'",
     "output_type": "error",
     "traceback": [
      "\u001b[0;31m---------------------------------------------------------------------------\u001b[0m",
      "\u001b[0;31mModuleNotFoundError\u001b[0m                       Traceback (most recent call last)",
      "Input \u001b[0;32mIn [1]\u001b[0m, in \u001b[0;36m<cell line: 2>\u001b[0;34m()\u001b[0m\n\u001b[1;32m      1\u001b[0m \u001b[38;5;66;03m# Mount your google drive in google colab\u001b[39;00m\n\u001b[0;32m----> 2\u001b[0m \u001b[38;5;28;01mfrom\u001b[39;00m \u001b[38;5;21;01mgoogle\u001b[39;00m\u001b[38;5;21;01m.\u001b[39;00m\u001b[38;5;21;01mcolab\u001b[39;00m \u001b[38;5;28;01mimport\u001b[39;00m drive\n\u001b[1;32m      3\u001b[0m drive\u001b[38;5;241m.\u001b[39mmount(\u001b[38;5;124m'\u001b[39m\u001b[38;5;124m/content/drive\u001b[39m\u001b[38;5;124m'\u001b[39m, force_remount\u001b[38;5;241m=\u001b[39m\u001b[38;5;28;01mTrue\u001b[39;00m)\n",
      "\u001b[0;31mModuleNotFoundError\u001b[0m: No module named 'google'"
     ]
    }
   ],
   "source": [
    "# Mount your google drive in google colab\n",
    "from google.colab import drive\n",
    "drive.mount('/content/drive', force_remount=True)"
   ]
  },
  {
   "cell_type": "code",
   "execution_count": null,
   "id": "c091283c-4f2b-4c79-992b-690f01776638",
   "metadata": {},
   "outputs": [],
   "source": [
    "# Go to base directory\n",
    "%cd /content/drive/MyDrive/University/Master-Thesis/Code"
   ]
  },
  {
   "cell_type": "markdown",
   "id": "6d466b3b-c927-4ef1-ac65-ec3db4576da3",
   "metadata": {},
   "source": [
    "## Training on Local Machine"
   ]
  },
  {
   "cell_type": "code",
   "execution_count": 1,
   "id": "e93a4765-f570-4a09-a4bb-92361eec9f48",
   "metadata": {},
   "outputs": [
    {
     "name": "stdout",
     "output_type": "stream",
     "text": [
      "The original working directory is /Users/jankreischer/Library/Mobile Documents/com~apple~CloudDocs/Master-Thesis/Code/prototypes/prototype_01\n"
     ]
    }
   ],
   "source": [
    "import os\n",
    "\n",
    "original_working_directory_path = os.getcwd()\n",
    "print(\"The original working directory is {0}\".format(os.getcwd()))\n",
    "\n",
    "def to_original_working_directory():\n",
    "    os.chdir(original_working_directory_path)\n",
    "    print(f\"Changed to original working directory {original_working_directory_path}\")"
   ]
  },
  {
   "cell_type": "code",
   "execution_count": 2,
   "id": "3f290fa7-29f1-4376-86e4-56d78679f771",
   "metadata": {},
   "outputs": [],
   "source": [
    "def to_root_working_directory():\n",
    "    root_working_directory_path = os.path.join(original_working_directory_path, \"../..\")\n",
    "    os.chdir(root_working_directory_path)\n",
    "    print(f\"Changed to root working directory {os.getcwd()}\")"
   ]
  },
  {
   "cell_type": "code",
   "execution_count": 3,
   "id": "4f949990-e666-4f91-a9f4-831dc7b2462c",
   "metadata": {},
   "outputs": [
    {
     "name": "stdout",
     "output_type": "stream",
     "text": [
      "Changed to root working directory /Users/jankreischer/Library/Mobile Documents/com~apple~CloudDocs/Master-Thesis/Code\n"
     ]
    }
   ],
   "source": [
    "to_root_working_directory()"
   ]
  },
  {
   "cell_type": "code",
   "execution_count": 4,
   "id": "4a6c146f-9a8a-4739-820b-e9689c45e5a3",
   "metadata": {},
   "outputs": [
    {
     "name": "stdout",
     "output_type": "stream",
     "text": [
      "Python 3.10.10\n"
     ]
    }
   ],
   "source": [
    "# Validate that python 3.10 is used\n",
    "!python --version"
   ]
  },
  {
   "cell_type": "code",
   "execution_count": 5,
   "id": "55107adb-da39-4ef0-b80c-1988f77cb6c0",
   "metadata": {},
   "outputs": [],
   "source": [
    "def seed_random():\n",
    "    random.seed(42)\n",
    "    torch.random.manual_seed(42)\n",
    "    np.random.seed(42)"
   ]
  },
  {
   "cell_type": "markdown",
   "id": "80523a04-4e7d-47de-8c6f-4d0c6c77d05a",
   "metadata": {},
   "source": [
    "## --- Dependencies ---"
   ]
  },
  {
   "cell_type": "code",
   "execution_count": 6,
   "id": "eb2b2e7b-5fad-4d40-b163-163fc1e4eb25",
   "metadata": {},
   "outputs": [],
   "source": [
    "# Standard Dependencies\n",
    "import sys\n",
    "import os\n",
    "import numpy as np\n",
    "from time import time"
   ]
  },
  {
   "cell_type": "code",
   "execution_count": 7,
   "id": "63770f25-75fb-4b9d-8ea3-51354c8152dd",
   "metadata": {
    "id": "63770f25-75fb-4b9d-8ea3-51354c8152dd"
   },
   "outputs": [
    {
     "name": "stderr",
     "output_type": "stream",
     "text": [
      "/Users/jankreischer/opt/anaconda3/envs/FedRL-for-IT-Sec/lib/python3.10/site-packages/tqdm/auto.py:22: TqdmWarning: IProgress not found. Please update jupyter and ipywidgets. See https://ipywidgets.readthedocs.io/en/stable/user_install.html\n",
      "  from .autonotebook import tqdm as notebook_tqdm\n"
     ]
    }
   ],
   "source": [
    "# Global Dependencies\n",
    "from src.custom_types import Behavior, MTDTechnique\n",
    "from src.data_provider import DataProvider\n",
    "#from src.agent import Agent\n",
    "#from src.simulation_engine import SimulationEngine\n",
    "from src.evaluation_utils import plot_learning, seed_random, get_pretrained_agent, evaluate_agent_on_afterstates"
   ]
  },
  {
   "cell_type": "markdown",
   "id": "b19d998e-e35a-4cf8-9681-fb503d077742",
   "metadata": {},
   "source": [
    "## --- Hyperparameters ---"
   ]
  },
  {
   "cell_type": "code",
   "execution_count": 8,
   "id": "70abc681-3cfc-434e-838f-d322c79c7675",
   "metadata": {},
   "outputs": [],
   "source": [
    "# Hyperparams\n",
    "\n",
    "GAMMA = 0.1 #0.99 # discount factor for future rewards\n",
    "BATCH_SIZE = 100\n",
    "N_EPISODES = 10000\n",
    "\n",
    "NR_ROUNDS = 10\n",
    "NR_EPISODES_PER_ROUND = 1000\n",
    "\n",
    "BUFFER_SIZE = 500\n",
    "MIN_REPLAY_SIZE = 100\n",
    "# Epsilon determining Exploration Exploitation Trade Off\n",
    "EPSILON_START = 1.0\n",
    "EPSILON_DEC = 1e-4 # 0.001\n",
    "EPSILON_END = 0.01\n",
    "\n",
    "TARGET_UPDATE_FREQ = 100\n",
    "LEARNING_RATE = 1e-4\n",
    "LOG_FREQ = 100\n",
    "DIMS = 20\n",
    "PI = 3"
   ]
  },
  {
   "cell_type": "markdown",
   "id": "1ac612fb-fbf2-4e11-8824-cb2638258019",
   "metadata": {},
   "source": [
    "## --- Source ---"
   ]
  },
  {
   "cell_type": "code",
   "execution_count": 9,
   "id": "6c41290f-949f-4acf-8cc6-33f6ba8a81fe",
   "metadata": {},
   "outputs": [],
   "source": [
    "def split_training_data(training_data, n_strides):\n",
    "    strides = []\n",
    "    for i in range(n_strides):\n",
    "        strides.append(dict())\n",
    "\n",
    "    for key, value in training_data.items():\n",
    "        #print(f\"{key} => {len(value)}\")\n",
    "        array_split = np.array_split(value, n_strides)\n",
    "        for i in range(n_strides):\n",
    "            strides[i][key] = array_split[i]\n",
    "        \n",
    "    return stridesap"
   ]
  },
  {
   "cell_type": "code",
   "execution_count": 10,
   "id": "7d7f5134-fc39-4af6-998f-409707cb6875",
   "metadata": {},
   "outputs": [],
   "source": [
    "from typing import Dict, Tuple, List\n",
    "from src.custom_types import Behavior, MTDTechnique, actions, supervisor_map\n",
    "import numpy as np\n",
    "import random\n",
    "\n",
    "\n",
    "# handles the supervised, online-simulation of episodes\n",
    "class SensorEnvironment:\n",
    "\n",
    "    def __init__(self, train_data: Dict[Behavior, np.ndarray] = None):\n",
    "        #print(\"Recognized Behaviours\")\n",
    "        #print(train_data.keys())\n",
    "        self.train_data = train_data\n",
    "        self.current_state: np.array = None\n",
    "        self.observation_space_size: int = len(self.train_data[Behavior.NORMAL][0][:-1])\n",
    "        self.actions: List[int] = [i for i in range(len(actions))]\n",
    "\n",
    "    # Returns a randomly selected attack state with non normal behaviour.\n",
    "    def sample_random_attack_state(self):\n",
    "        \"\"\"i.e. for starting state of an episode,\n",
    "        (with replacement; it is possible that the same sample is chosen multiple times)\"\"\"\n",
    "        rb = random.choice([b for b in self.train_data.keys() if b != Behavior.NORMAL])\n",
    "        attack_data = self.train_data[rb]\n",
    "        return attack_data[np.random.randint(attack_data.shape[0], size=1), :]\n",
    "        \n",
    "\n",
    "    # Return random sample with specified behaviour\n",
    "    def sample_behavior(self, b: Behavior):\n",
    "        behavior_data = self.train_data[b]\n",
    "        return behavior_data[np.random.randint(behavior_data.shape[0], size=1), :]\n",
    "\n",
    "    def step(self, action: int):\n",
    "        current_behavior = self.current_state.squeeze()[-1]\n",
    "\n",
    "        if current_behavior in supervisor_map[action]:\n",
    "            # print(\"correct mtd chosen according to supervisor\")\n",
    "            new_state = self.sample_behavior(Behavior.NORMAL)\n",
    "            reward = self.calculate_reward(True)\n",
    "            isTerminalState = True\n",
    "        else:\n",
    "            # print(\"incorrect mtd chosen according to supervisor\")\n",
    "            new_state = self.sample_behavior(current_behavior)\n",
    "            reward = self.calculate_reward(False)\n",
    "            isTerminalState = False\n",
    "\n",
    "        self.current_state = new_state\n",
    "        return new_state, reward, isTerminalState\n",
    "\n",
    "    def reset(self):\n",
    "        self.current_state = self.sample_random_attack_state()\n",
    "        return self.current_state\n",
    "\n",
    "    # TODO: possibly adapt to distinguish between MTDs that are particularly wasteful in case of wrong deployment\n",
    "    def calculate_reward(self, success):\n",
    "        \"\"\"\n",
    "        this method can be refined to distinguish particularly wasteful MTDs (i.e. Dirtrap penalized harder than rootkit sanitization)\n",
    "        \"\"\"\n",
    "        if success:\n",
    "            return 1\n",
    "        else:\n",
    "            return -1"
   ]
  },
  {
   "cell_type": "code",
   "execution_count": 11,
   "id": "bed466ea-811f-4f04-b1b1-3170e9079a5e",
   "metadata": {},
   "outputs": [],
   "source": [
    "from typing import Dict\n",
    "import torch\n",
    "from torch import nn\n",
    "import torch.nn.functional as F\n",
    "import numpy as np\n",
    "from collections import deque\n",
    "import random\n",
    "\n",
    "\n",
    "class DeepQNetwork(nn.Module):\n",
    "    def __init__(self, lr, input_dims, fc1_dims, fc2_dims,\n",
    "                 n_actions):\n",
    "        super(DeepQNetwork, self).__init__()\n",
    "        self.input_dims = input_dims\n",
    "        self.fc1_dims = fc1_dims\n",
    "        self.fc2_dims = fc2_dims\n",
    "        self.n_actions = n_actions\n",
    "\n",
    "        # Layers\n",
    "        self.fc1 = nn.Linear(self.input_dims, self.fc1_dims)\n",
    "        self.fc2 = nn.Linear(self.fc1_dims, self.fc2_dims)\n",
    "        self.fc3 = nn.Linear(self.fc2_dims, self.n_actions)\n",
    "        #self.softmax = torch.nn.Softmax()\n",
    "        # Why are we not using softmax in the last layer\n",
    "\n",
    "        self.optimizer = torch.optim.Adam(self.parameters(), lr=lr)\n",
    "        self.loss = nn.MSELoss()\n",
    "        self.device = torch.device('cuda:0' if torch.cuda.is_available() else 'cpu')\n",
    "        self.to(self.device)\n",
    "\n",
    "    def forward(self, state):\n",
    "        x = F.relu(self.fc1(state))\n",
    "        x = F.relu(self.fc2(x))\n",
    "        x = F.softmax(self.fc3(x), dim=-1)\n",
    "        return x"
   ]
  },
  {
   "cell_type": "code",
   "execution_count": 12,
   "id": "abb82232-0475-4105-b07f-40315eae05d2",
   "metadata": {},
   "outputs": [],
   "source": [
    "from typing import Dict\n",
    "import torch\n",
    "from torch import nn\n",
    "import torch.nn.functional as F\n",
    "import numpy as np\n",
    "from collections import deque\n",
    "import random\n",
    "\n",
    "class Agent:\n",
    "    def __init__(self, agent_id: int, input_dims: int, n_actions, batch_size,\n",
    "                 lr, gamma, epsilon, eps_end=0.02, eps_dec=1e-4, buffer_size=100000, is_global_agent=False, osiose=False):\n",
    "        self.agent_id = agent_id\n",
    "        self.is_global_agent = is_global_agent\n",
    "        #self.verbose = verbose\n",
    "        self.gamma = gamma\n",
    "        self.epsilon = epsilon\n",
    "        self.eps_max = epsilon # Initial epsilon value\n",
    "        self.eps_min = eps_end\n",
    "        self.eps_dec = eps_dec\n",
    "        self.lr = lr\n",
    "        self.action_space = [i for i in range(n_actions)]\n",
    "        self.input_dims = input_dims\n",
    "        self.n_actions = n_actions\n",
    "\n",
    "        self.episode_action_memory = set()\n",
    "        self.replay_buffer = deque(maxlen=buffer_size)\n",
    "        self.reward_buffer = deque([0.0], maxlen=100)  # for printing progress\n",
    "\n",
    "        self.batch_size = batch_size\n",
    "\n",
    "        self.online_net = DeepQNetwork(lr, n_actions=n_actions,\n",
    "                                       input_dims=input_dims,\n",
    "                                       fc1_dims=60, fc2_dims=30)\n",
    "        self.target_net = DeepQNetwork(lr, n_actions=n_actions,\n",
    "                                       input_dims=input_dims,\n",
    "                                       fc1_dims=60, fc2_dims=30)\n",
    "        self.target_net.load_state_dict(self.online_net.state_dict())\n",
    "\n",
    "    def choose_action(self, observation):\n",
    "        try:\n",
    "            if np.random.random() > self.epsilon:\n",
    "                #\n",
    "                action = self.take_greedy_action(observation)\n",
    "                if action in self.episode_action_memory:\n",
    "                    action = np.random.choice(list(set(self.action_space).difference(self.episode_action_memory)))\n",
    "            else:\n",
    "                action = np.random.choice(list(set(self.action_space).difference(self.episode_action_memory)))\n",
    "            self.episode_action_memory.add(action)\n",
    "        except ValueError:\n",
    "            return -1\n",
    "        return action\n",
    "\n",
    "    def take_greedy_action(self, observation):\n",
    "        state = torch.from_numpy(observation.astype(np.float32)).to(self.online_net.device)\n",
    "        actions = self.online_net.forward(state)\n",
    "        action = torch.argmax(actions).item()\n",
    "        return action\n",
    "\n",
    "    def learn(self):\n",
    "        # init data batch from memory replay for dqn\n",
    "        transitions = random.sample(self.replay_buffer, self.batch_size)\n",
    "        b_obses = np.stack([t[0].astype(np.float32).squeeze(0) for t in transitions], axis=0)\n",
    "        b_actions = np.asarray([t[1] for t in transitions]).astype(np.int64)\n",
    "        b_rewards = np.asarray([t[2] for t in transitions]).astype(np.int16)\n",
    "        b_new_obses = np.stack([t[3].astype(np.float32).squeeze(0) for t in transitions], axis=0)\n",
    "        b_dones = np.asarray([t[4] for t in transitions]).astype(np.int16)\n",
    "        t_obses = torch.from_numpy(b_obses).to(self.target_net.device)\n",
    "        t_actions = torch.from_numpy(b_actions).to(self.target_net.device)\n",
    "        t_rewards = torch.from_numpy(b_rewards).to(self.target_net.device)\n",
    "        t_new_obses = torch.as_tensor(b_new_obses).to(self.target_net.device)\n",
    "        t_dones = torch.as_tensor(b_dones).to(self.target_net.device)\n",
    "\n",
    "        # compute targets\n",
    "        target_q_values = self.target_net(t_new_obses)\n",
    "        max_target_q_values = torch.max(target_q_values, dim=1)[0]\n",
    "\n",
    "        targets = (t_rewards + self.gamma * (1 - t_dones) * max_target_q_values).unsqueeze(1)\n",
    "\n",
    "        # compute loss\n",
    "        q_values = self.online_net(t_obses)\n",
    "        taken_action_q_values = torch.gather(input=q_values, dim=1, index=t_actions.unsqueeze(1))\n",
    "\n",
    "        loss = self.online_net.loss(taken_action_q_values, targets).to(self.target_net.device)\n",
    "\n",
    "        # gradient descent\n",
    "        self.online_net.optimizer.zero_grad()\n",
    "        loss.backward()\n",
    "        self.online_net.optimizer.step()\n",
    "\n",
    "        # epsilon decay\n",
    "        self.epsilon = self.epsilon - self.eps_dec if self.epsilon > self.eps_min else self.eps_min\n",
    "\n",
    "    def update_target_network(self):\n",
    "        self.target_net.load_state_dict(self.online_net.state_dict())\n",
    "\n",
    "    def get_weights(self):\n",
    "        return copy.deepcopy(self.target_net.state_dict())\n",
    "    \n",
    "    def update_weights(self, model_params):\n",
    "        #start_time = time_ns()\n",
    "        self.online_net.load_state_dict(copy.deepcopy(model_params))\n",
    "        self.target_net.load_state_dict(copy.deepcopy(model_params))\n",
    "        #end_time = time_ns()\n",
    "        #time_difference = end_time - start_time\n",
    "        #print(f\"Updating weights on {self.get_name()} took {time_difference / 10**9}s\")\n",
    "        \n",
    "    def get_name(self):\n",
    "        if self.agent_id == 0:\n",
    "            return \"Global Agent\"\n",
    "        else:\n",
    "            return f\"Agent {self.agent_id}\"\n",
    "    \n",
    "    \n",
    "    def save_agent_state(self, n: int, directory: str):\n",
    "        torch.save({\n",
    "            'online_net_state_dict': self.online_net.state_dict(),\n",
    "            'target_net_state_dict': self.target_net.state_dict(),\n",
    "            'batch_size': self.batch_size,\n",
    "            'replay_buffer': self.replay_buffer,\n",
    "            'reward_buffer': self.reward_buffer,\n",
    "            'action_space': self.action_space,\n",
    "            'gamma': self.gamma,\n",
    "            'eps': self.epsilon,\n",
    "            'eps_min': self.eps_min,\n",
    "            'eps_dec': self.eps_dec,\n",
    "            'lr': self.lr\n",
    "        }, f\"{directory}/trained_models/agent_{n}.pth\")\n",
    "\n",
    "        #torch.save(self.online_net.state_dict(), f\"offline_prototype_2_raw_behaviors/trained_models/online_net_{n}.pth\")\n",
    "        #torch.save(self.target_net.state_dict(), f\"offline_prototype_2_raw_behaviors/trained_models/target_net_{n}.pth\")"
   ]
  },
  {
   "cell_type": "code",
   "execution_count": 13,
   "id": "5dd44063-5d9a-4ebf-acc2-a6f270150097",
   "metadata": {},
   "outputs": [],
   "source": [
    "import torch\n",
    "from torch import nn, optim\n",
    "import copy\n",
    "import matplotlib.pyplot as plt\n",
    "from tabulate import tabulate\n",
    "import matplotlib.pyplot as plt\n",
    "from time import time, time_ns\n",
    "%matplotlib inline\n",
    "\n",
    "class Client:\n",
    "        # memory buffer is influenced by env.step -> resetting to previous action, which may result in unbalanced training\n",
    "    def __init__(self, client_id: int, agent: Agent, environment: SensorEnvironment, save_path=\"\",  min_replay_size=100):\n",
    "        self.client_id = client_id\n",
    "        self.agent = agent\n",
    "        self.environment = environment\n",
    "        self.episode_returns = [] \n",
    "        self.eps_history = []\n",
    "        self.save_path = save_path\n",
    "        self.start_time = 0\n",
    "        self.end_time = 0\n",
    "        \n",
    "        # initialize replay memory\n",
    "        self.init_replay_memory(min_replay_size)\n",
    "    \n",
    "    def init_replay_memory(self, min_size):\n",
    "        obs = self.environment.reset()\n",
    "        episode_action_memory = []\n",
    "        i = 0\n",
    "        while i < min_size:\n",
    "            try:\n",
    "                action = np.random.choice(list({0,1,2,3}.difference(episode_action_memory)))\n",
    "                episode_action_memory.append(action)\n",
    "            except ValueError:\n",
    "                obs = self.environment.reset()\n",
    "                episode_action_memory = []\n",
    "                # results in slightly less entries than min_size\n",
    "                print(\"exhausted all mtd techniques\")\n",
    "                continue\n",
    "            i += 1\n",
    "\n",
    "            new_obs, reward, done = self.environment.step(action)\n",
    "            idx1 = -1 if obs[0, -1] in Behavior else -2\n",
    "            idx2 = -1 if new_obs[0, -1] in Behavior else -2\n",
    "            transition = (obs[:, :idx1], action, reward, new_obs[:, :idx2], done)\n",
    "            self.agent.replay_buffer.append(transition)\n",
    "\n",
    "            obs = new_obs\n",
    "            if done:\n",
    "                obs = self.environment.reset()\n",
    "                episode_action_memory = []\n",
    "\n",
    "                \n",
    "    def train_agent(self, num_episodes, t_update_freq, verbose=False):\n",
    "        self.start_time = time()\n",
    "        step = 0\n",
    "        for num_episode in range(num_episodes):\n",
    "            episode_return = 0\n",
    "            episode_steps = 0\n",
    "            done = False\n",
    "            obs = self.environment.reset()\n",
    "            while not done:\n",
    "                idx1 = -1 if obs[0, -1] in Behavior else -2\n",
    "                action = self.agent.choose_action(obs[:, :idx1])\n",
    "                if action == -1:\n",
    "                    print(\"Agent exhausted all MTD techniques upon behavior: \", obs[0, -1])\n",
    "                    self.agent.episode_action_memory = set()\n",
    "                    done = True\n",
    "                    continue\n",
    "\n",
    "                new_obs, reward, done = self.environment.step(action)\n",
    "                idx2 = -1 if new_obs[0, -1] in Behavior else -2\n",
    "                episode_return += reward\n",
    "                self.agent.replay_buffer.append((obs[:, :idx1], action, reward,\n",
    "                                            new_obs[:, :idx2], done))\n",
    "                self.agent.reward_buffer.append(reward)\n",
    "                if done:\n",
    "                    self.agent.episode_action_memory = set()\n",
    "\n",
    "                self.agent.learn()\n",
    "                obs = new_obs\n",
    "\n",
    "                episode_steps += 1\n",
    "                # update target network\n",
    "                step += 1\n",
    "                if step % t_update_freq == 0:\n",
    "                    self.agent.update_target_network()\n",
    "\n",
    "            self.episode_returns.append(episode_return / episode_steps)\n",
    "            self.eps_history.append(self.agent.epsilon)\n",
    "         \n",
    "        self.end_time = time() \n",
    "        #print(f\"The total training time on {self.agent.get_name()} ({num_episodes}) was {self.get_training_time()}s\")\n",
    "        \n",
    "    \n",
    "    def receive_weights(self, model_params):\n",
    "        self.agent.update_weights(model_params)\n",
    "        \n",
    "    def get_weights(self):\n",
    "        return self.agent.get_weights()\n",
    "    \n",
    "    def get_training_summary(self):\n",
    "        return self.episode_returns, self.eps_history\n",
    "    \n",
    "\n",
    "    def plot_learning_curve(self, filename, nr_round: int):\n",
    "        title = f\"Learning Curve until Round {nr_round} on Client {self.client_id}\"\n",
    "        returns =  []\n",
    "        epsilons = []\n",
    "        returns, epsilons = self.get_training_summary()\n",
    "\n",
    "        assert len(returns) == len(epsilons)\n",
    "        x = [i + 1 for i in range(len(returns))]\n",
    "        fig = plt.figure()\n",
    "\n",
    "        ax = fig.add_subplot(111, label=\"1\")\n",
    "        ax2 = fig.add_subplot(111, label=\"2\", frame_on=False)\n",
    "        ax.set_title(title)\n",
    "\n",
    "        color_1 = \"red\"\n",
    "        ax.plot(x, epsilons, color=color_1)\n",
    "        ax.set_xlabel(\"Episode\", color='black')\n",
    "        ax.set_ylabel(\"Epsilon\", color=color_1)\n",
    "        ax.set_ylim([0, 1])\n",
    "        ax.tick_params(axis='x', colors='black')\n",
    "        ax.tick_params(axis='y', colors=color_1)\n",
    "        \n",
    "        N = len(returns)\n",
    "        running_avg = np.empty(N)\n",
    "        for t in range(N):\n",
    "            running_avg[t] = np.mean(returns[max(0, t - 20):(t + 1)])\n",
    "        \n",
    "        color_2 = \"blue\"\n",
    "        ax2.scatter(x, running_avg, color=color_2, s=2 ** 2)\n",
    "        ax2.axes.get_xaxis().set_visible(False)\n",
    "        ax2.yaxis.tick_right()\n",
    "        ax2.set_ylabel('Average Return', color=color_2)\n",
    "        ax2.set_ylim([0, 1])\n",
    "        ax2.yaxis.set_label_position('right')\n",
    "        ax2.tick_params(axis='y', colors=color_2)\n",
    "\n",
    "        if self.save_path:\n",
    "            if not os.path.isdir(self.save_path):\n",
    "                os.makedirs(self.save_path)\n",
    "            filepath = os.path.join(self.save_path, filename)\n",
    "            plt.savefig(filepath)\n",
    "            \n",
    "        plt.show()\n",
    "        \n",
    "    def get_training_time(self):\n",
    "        return self.end_time - self.start_time\n",
    "    \n",
    "    def plot_training_data_split(self):\n",
    "        D = {}\n",
    "        for key, value in self.environment.train_data.items():\n",
    "            name = str(key).split('.')[1]\n",
    "            D[name] = len(value)\n",
    "        \n",
    "        plt.bar(range(len(D)), list(D.values()), align='center', color='blue')\n",
    "        plt.xticks(range(len(D)), list(D.keys()))\n",
    "        plt.xticks(rotation=45, ha='right')\n",
    "        plt.title(f\"Behavior Distribution on Client {self.client_id}\")\n",
    "        plt.ylabel('n_samples')\n",
    "        \n",
    "        filename = f\"behavior_sample_distribution_on_client-{self.client_id:02d}.png\"\n",
    "        filepath = os.path.join(self.save_path, filename)\n",
    "        plt.savefig(filepath, bbox_inches=\"tight\")\n",
    "        plt.show()\n",
    "        \n",
    "    #def plot_performance_curve():\n",
    "        "
   ]
  },
  {
   "cell_type": "code",
   "execution_count": 21,
   "id": "e53b3e6b-7638-410b-9833-f0a604e6b918",
   "metadata": {},
   "outputs": [],
   "source": [
    "#NR_ROUNDS = 10\n",
    "#NR_EPISODES_PER_ROUND = 1000\n",
    "import torch\n",
    "from torch import nn\n",
    "import copy\n",
    "from time import time, time_ns\n",
    "\n",
    "from typing import List, Dict\n",
    "import threading\n",
    "import numpy as np\n",
    "import json\n",
    "from tabulate import tabulate\n",
    "from datetime import date\n",
    "from src.custom_types import MTDTechnique, Behavior\n",
    "\n",
    "class Server:\n",
    "    def __init__(self, global_agent: Agent, test_data, experiment_id, save_path, nr_rounds = NR_ROUNDS, nr_episodes_per_round=NR_EPISODES_PER_ROUND, parallelized=False):\n",
    "        self.clients = []\n",
    "        self.global_agent = global_agent\n",
    "        self.test_data = test_data\n",
    "        self.save_path = save_path\n",
    "        self.experiment_id = experiment_id\n",
    "        self.file_path = os.path.join(save_path, f\"experiment-{experiment_id:02d}_summary.md\")\n",
    "        self.nr_rounds = nr_rounds\n",
    "        self.nr_epochs_per_round = nr_episodes_per_round\n",
    "        self.parallelized = parallelized\n",
    "        self.total_training_time = None\n",
    "        \n",
    "        self.performance_evaluations = {}\n",
    "        self.performance_evaluations[0] = {}\n",
    "        self.performance_evaluations[\"rounds\"] = []\n",
    "        for behavior in Behavior:\n",
    "            self.performance_evaluations[0][behavior] = []\n",
    "        \n",
    "        \n",
    "    def aggregate_weights(self):\n",
    "        client_params = {client.client_id: client.get_weights() for client in self.clients}\n",
    "        new_params = copy.deepcopy(next(iter(client_params.values())))  # names\n",
    "        for name in new_params:\n",
    "            new_params[name] = torch.zeros(new_params[name].shape)\n",
    "        for client_id, params in client_params.items():\n",
    "            client_weight = 1/len(self.clients)\n",
    "            for name in new_params:\n",
    "                new_params[name] += params[name] * client_weight  # averaging\n",
    "        #set new parameters to global model\n",
    "        self.global_agent.update_weights(new_params)\n",
    "        \n",
    "        \n",
    "    def broadcast_weights(self):\n",
    "        for client in self.clients:\n",
    "            client.receive_weights(self.global_agent.get_weights())\n",
    "\n",
    "    def add_client(self, client: Client):\n",
    "        self.clients.append(client)\n",
    "        \n",
    "        self.performance_evaluations[client.client_id] = {}\n",
    "        for behavior in Behavior:\n",
    "            self.performance_evaluations[client.client_id][behavior] = []\n",
    "      \n",
    "    def run_federation(self, evaluations=[], evaluation_frequency: int = 10, verbose=True, document_results=True):\n",
    "        if \"time\" in evaluations:\n",
    "            start_time = time()\n",
    "        \n",
    "        if document_results:\n",
    "            self.document(\"\")\n",
    "            self.document(f\"# Prototype 1 (Experiment {self.experiment_id})\")\n",
    "            self.document(\"---\")\n",
    "            self.document(\"\")\n",
    "            self.document(f\"Executed on {date.today().strftime('%d.%m.%Y')}\")\n",
    "            self.save_experiment_summary()\n",
    "            \n",
    "        for nr_round in range(1, self.nr_rounds+1):\n",
    "            if nr_round % evaluation_frequency == 0:\n",
    "                if document_results:\n",
    "                    self.document(\"\")\n",
    "                    self.document('<div style=\"page-break-after: always;\"></div>')\n",
    "                    self.document(\"\")\n",
    "                    self.document(\"---\")\n",
    "                    self.document(f\"### Training Round {nr_round}/{self.nr_rounds}\")\n",
    "                    self.document(\"\")\n",
    "\n",
    "            if verbose:\n",
    "                print(f\">>> SERVER TRAINING ROUND {nr_round}/{self.nr_rounds} <<<\")\n",
    "                \n",
    "            for client in self.clients:\n",
    "                client.receive_weights(self.global_agent.get_weights())\n",
    "                \n",
    "            if self.parallelized:\n",
    "                # Parallel training\n",
    "                threads = []\n",
    "                for client in self.clients:\n",
    "                    client.agent.online_net.share_memory()\n",
    "                    t = threading.Thread(target=Client.train_agent, args=(client, self.nr_epochs_per_round, 100))\n",
    "                    t.start()\n",
    "                    threads.append(t)\n",
    "                for t in threads:\n",
    "                    # Wait until all workers are done with training\n",
    "                    t.join()\n",
    "            else:\n",
    "                # Sequential training\n",
    "                for client in self.clients:\n",
    "                    client.train_agent(self.nr_epochs_per_round, 100)\n",
    "            \n",
    "            self.aggregate_weights()\n",
    "            if nr_round % evaluation_frequency == 0:\n",
    "                self.performance_evaluations['rounds'].append(nr_round)\n",
    "                for client in self.clients:\n",
    "                    self.document(f\"- Training Round {nr_round} on Client {client.client_id} took {round(client.get_training_time(), 2)}s\")\n",
    "                \n",
    "                if \"learning_curve\" in evaluations:\n",
    "                    for client in self.clients:\n",
    "                        filename = f\"round-{self.prefix(nr_round)}_agent-{(client.client_id):02d}_learning-curve.png\"\n",
    "                        client.plot_learning_curve(filename, nr_round)\n",
    "                        self.document(f\"![graph]({filename})\")\n",
    "                   \n",
    "                if \"performance_evaluation\" in evaluations:\n",
    "                    for client in self.clients:  \n",
    "                        print(f\"\\n=== {client.agent.get_name()} - Evaluation ===\\n\")\n",
    "                        self.performance_evaluation(client.agent, self.test_data)\n",
    "                        self.confusion_matrix(client.agent, self.test_data)\n",
    "                        self.behavior_action_evaluation(client.agent, self.test_data)\n",
    "\n",
    "                    print(f\"\\n=== {self.global_agent.get_name()} - Evaluation ===\\n\")\n",
    "                    self.performance_evaluation(self.global_agent, self.test_data)\n",
    "                    self.confusion_matrix(self.global_agent, self.test_data)\n",
    "                    self.behavior_action_evaluation(self.global_agent, self.test_data)\n",
    "        \n",
    "            if \"time\" in evaluations:\n",
    "                round_time = time()\n",
    "                time_elapsed = round_time - start_time\n",
    "                print(f\"Total time elapsed until end of round {nr_round}: {time_elapsed}s\")    \n",
    "            \n",
    "        if \"time\" in evaluations:\n",
    "            end_time = time()\n",
    "            total_training_time = end_time - start_time\n",
    "            print(f\"Total training time with {len(self.clients)} clients: {total_training_time}\")\n",
    "            self.total_training_time = total_training_time\n",
    "            \n",
    "            if document_results:\n",
    "                self.document(f\"\\n ### Total training time with {len(self.clients)}: {round(total_training_time, 2)}s\")\n",
    "           \n",
    "    def document(self, text):\n",
    "        text = text.replace(\"_\", \"\\_\")\n",
    "        if self.save_path:\n",
    "            with open(self.file_path,'a') as f:\n",
    "                # Add newline to text\n",
    "                text += \"  \\n\"\n",
    "                f.write(text)   \n",
    "                \n",
    "    def document_block(self, text):\n",
    "        text = text.replace(\"_\", \"\\_\")\n",
    "        if self.save_path:\n",
    "            with open(self.file_path,'a') as f:\n",
    "                # Add newline to text\n",
    "                text += \"\\n \\n  \\n \\n\"\n",
    "                f.write(text)  \n",
    "                            \n",
    "                    \n",
    "    def prefix(self, round: int): \n",
    "        prefix_length = len(str(self.nr_rounds))\n",
    "        return f\"{round:0{prefix_length}d}\"\n",
    "\n",
    "    def plot_learning_curves(self):\n",
    "        for client in self.clients:\n",
    "            episode_returns, eps_history = client.get_training_summary()\n",
    "            plot_learning_curve(f\"{client.client_id}\", episode_returns, eps_history)\n",
    "            \n",
    "    def save_experiment_summary(self):\n",
    "        experiment_summary = {}\n",
    "        self.document(\"## Configuration\")\n",
    "        self.document(\"### Server\")\n",
    "        self.document(f\"- nr_clients: {len(self.clients)}\")\n",
    "        self.document(f\"- nr_rounds: {self.nr_rounds}\")\n",
    "        self.document(f\"- nr_epochs_per_round: {self.nr_epochs_per_round}\")\n",
    "        self.document(f\"- parallelized: {self.parallelized}\")\n",
    "        self.document(\"\")\n",
    "        \n",
    "        for client in self.clients:\n",
    "            self.document(f\"### Client {client.client_id}\")\n",
    "            self.document(f\"- gamma: {client.agent.gamma}\")\n",
    "            self.document(f\"- learning_rate: {client.agent.lr}\")\n",
    "            self.document(f\"- batch_size: {client.agent.batch_size}\")\n",
    "            self.document(f\"- epsilon_max: {client.agent.eps_max}\")\n",
    "            self.document(f\"- epsilon_min: {client.agent.eps_min}\")\n",
    "            self.document(f\"- epsilon_decay: {client.agent.eps_dec}\")\n",
    "            self.document(f\"- input_dims: {client.agent.input_dims}\")\n",
    "            self.document(f\"- output_dims: {client.agent.n_actions}\")\n",
    "            self.document(\"\")\n",
    "\n",
    "            self.document(f\"Training Data Split\")\n",
    "            for key, value in client.environment.train_data.items():\n",
    "                self.document(f\"- {len(value)} samples of {key}\")\n",
    "                \n",
    "            client.plot_training_data_split()\n",
    "            self.document(f\"![](behavior_sample_distribution_on_client-{client.client_id:02d}.png)\")\n",
    "            \n",
    "        self.document(f\"### Global Agent\") \n",
    "        self.document(f\"- id: {self.global_agent.agent_id}\")\n",
    "        self.document(f\"- batch_size: {self.global_agent.batch_size}\")\n",
    "        self.document(f\"- epsilon: 0\")\n",
    "        self.document(f\"- batch_size: {self.global_agent.input_dims}\")\n",
    "        self.document(f\"- batch_size: {self.global_agent.n_actions}\")\n",
    "\n",
    "            \n",
    "    def performance_evaluation(self, agent: Agent, test_data):\n",
    "        # check predictions with learnt dqn\n",
    "        agent.online_net.eval()\n",
    "        res_dict = {}\n",
    "        objective_dict = {}\n",
    "        with torch.no_grad():\n",
    "            for b, d in test_data.items():\n",
    "                if b != Behavior.NORMAL:\n",
    "                    cnt_corr = 0\n",
    "                    cnt = 0\n",
    "                    for state in d:\n",
    "                        action = agent.take_greedy_action(state[:-1])\n",
    "                        if b in supervisor_map[action]:\n",
    "                            cnt_corr += 1\n",
    "                        cnt += 1\n",
    "                    res_dict[b] = (cnt_corr, cnt)\n",
    "\n",
    "                for i in range(len(actions)):\n",
    "                    if b in supervisor_map[i]:\n",
    "                        objective_dict[b] = actions[i]\n",
    "        labels = (\"Behavior\", \"Accuracy\", \"Objective\")\n",
    "        results = []\n",
    "\n",
    "        for behavior, t in res_dict.items():\n",
    "            #print(\"---\")\n",
    "            #print(f\"behavior: {behavior} {behavior.value}\")\n",
    "            accuracy = t[0] / t[1] * 100\n",
    "            accuracy_in_percent = round(accuracy, 2)\n",
    "            #print(f\"accuracy_in_percent: {accuracy_in_percent}\")\n",
    "            self.performance_evaluations[agent.agent_id][behavior].append(accuracy_in_percent)\n",
    "            results.append((behavior.value, accuracy_in_percent, objective_dict[behavior].value))\n",
    "\n",
    "        self.document(f\"\\n\\n{agent.get_name()}\\n\")\n",
    "        self.document(tabulate(results, headers=labels, tablefmt=\"pipe\"))\n",
    "\n",
    "        print(f\"{agent.get_name()} > Performance Evaluation\")\n",
    "        print(tabulate(results, headers=labels, tablefmt=\"pipe\"))\n",
    "        \n",
    "        \n",
    "    def confusion_matrix(self, agent: Agent, test_data):\n",
    "        agent.online_net.eval()\n",
    "        confusion_matrix = np.zeros((4,4))\n",
    "          \n",
    "        with torch.no_grad():\n",
    "            for behavior, state_samples in test_data.items():\n",
    "                if behavior != Behavior.NORMAL:\n",
    "                    for state_sample in state_samples:\n",
    "                        a_pred = agent.take_greedy_action(state_sample[:-1])\n",
    "                        if behavior in supervisor_map[a_pred]:\n",
    "                               confusion_matrix[a_pred][a_pred] +=1\n",
    "                        else:\n",
    "                            leftover_actions = [i for i in range(4) if i != a_pred]\n",
    "                            for leftover_action in leftover_actions:\n",
    "                                if behavior in supervisor_map[leftover_action]:\n",
    "                                   confusion_matrix[leftover_action][a_pred] +=1\n",
    "          \n",
    "        mtds = list(map(lambda x: x.value, actions))\n",
    "        results = np.concatenate((np.array(mtds).reshape((-1, 1)), confusion_matrix), axis=1)\n",
    "        labels = [\"MTD_true/ MTD_pred\"] + mtds\n",
    "        print(\"\")\n",
    "        print(f\"{agent.get_name()} > Confusion Matrix\")\n",
    "        print(tabulate(results, headers=labels, tablefmt=\"pipe\"))\n",
    "        \n",
    "    def behavior_action_evaluation(self, agent: Agent, test_data):\n",
    "        n_behaviors = len(Behavior) - 1\n",
    "        n_actions = len(actions)\n",
    "        matrix = np.zeros((n_behaviors, n_actions))\n",
    "        \n",
    "        behavior_action_counts = {}\n",
    "        for behavior in Behavior:\n",
    "            if behavior != Behavior.NORMAL:\n",
    "                behavior_action_counts[behavior] = np.zeros((1, n_actions))\n",
    "        \n",
    "        with torch.no_grad():\n",
    "            for behavior, state_samples in test_data.items():\n",
    "                if behavior != Behavior.NORMAL:\n",
    "                    for state_sample in state_samples:\n",
    "                        a_pred = agent.take_greedy_action(state_sample[:-1])\n",
    "                        behavior_action_counts[behavior][0][a_pred]+=1\n",
    "          \n",
    "        labels = [\"behavior\"] + list(map(lambda x: x.value, actions))\n",
    "        \n",
    "        results = np.empty((0, n_actions+1))\n",
    "        for behavior, action_counts in behavior_action_counts.items():\n",
    "            row = np.append(np.array([behavior]).reshape(-1, 1), action_counts, axis=1)\n",
    "            results = np.concatenate((results, row), axis=0)\n",
    "        \n",
    "        print(f\"\\n{agent.get_name()} > Behavior Action Evaluation\")\n",
    "        print(tabulate(results, headers=labels, tablefmt=\"pipe\"))\n",
    "\n",
    "        \n",
    "    def print_performance_evaluations(self):\n",
    "        for behavior in Behavior:\n",
    "            for id in range(len(self.clients)+1):\n",
    "                performance = self.performance_evaluations[id][behavior]\n",
    "                rounds = self.performance_evaluations['rounds']\n",
    "                plt.title(f\"Mitigation Accuracy for {behavior}\")\n",
    "                plt.ylim([0,100])\n",
    "                if id == 0:\n",
    "                    plt.plot([*range(len(performance))], performance, linestyle='-', label=f\"Global Agent\") # plotting t, a separately \n",
    "                else:\n",
    "                    plt.plot([*range(len(performance))], performance, linestyle='--', label=f\"Agent {id}\") # plotting t, a separately \n",
    "            plt.xlabel('Round')\n",
    "            plt.ylabel('Accuracy [%]')\n",
    "            plt.show()"
   ]
  },
  {
   "cell_type": "code",
   "execution_count": 44,
   "id": "08fee175-856e-4ce1-abad-dc178ef3431f",
   "metadata": {},
   "outputs": [
    {
     "name": "stdout",
     "output_type": "stream",
     "text": [
      "52.9\n",
      "0.0003540515899658203\n"
     ]
    }
   ],
   "source": [
    "import time\n",
    "\n",
    "start = time.time()\n",
    "\n",
    "print(23*2.3)\n",
    "\n",
    "end = time.time()\n",
    "print(end - start)"
   ]
  },
  {
   "cell_type": "code",
   "execution_count": 45,
   "id": "18653728-d4a6-42f7-95b8-5ad91926c317",
   "metadata": {},
   "outputs": [
    {
     "name": "stdout",
     "output_type": "stream",
     "text": [
      "52.9\n",
      "0.00041422698996029794\n"
     ]
    }
   ],
   "source": [
    "from timeit import default_timer as timer\n",
    "\n",
    "start = timer()\n",
    "\n",
    "print(23*2.3)\n",
    "\n",
    "end = timer()\n",
    "print(end - start)"
   ]
  },
  {
   "cell_type": "code",
   "execution_count": 47,
   "id": "7a616880-93da-418d-828a-1aa5e8c64720",
   "metadata": {},
   "outputs": [
    {
     "name": "stdout",
     "output_type": "stream",
     "text": [
      "52.9\n",
      "0.0004971027374267578\n"
     ]
    }
   ],
   "source": [
    "import time\n",
    "\n",
    "start_time = time.time()\n",
    "print(23*2.3)\n",
    "end_time = time.time()\n",
    "\n",
    "timer = end_time - start_time\n",
    "print(timer)"
   ]
  },
  {
   "cell_type": "code",
   "execution_count": 48,
   "id": "834a2a99-ee6f-4000-a64e-202f5c5a2daf",
   "metadata": {},
   "outputs": [
    {
     "name": "stdout",
     "output_type": "stream",
     "text": [
      "52.9\n",
      "273000\n"
     ]
    }
   ],
   "source": [
    "import time\n",
    "\n",
    "start_time_ns = time.time_ns()\n",
    "print(23*2.3)\n",
    "end_time_ns = time.time_ns()\n",
    "\n",
    "timer_ns = end_time_ns - start_time_ns\n",
    "print(timer_ns)"
   ]
  },
  {
   "cell_type": "code",
   "execution_count": 52,
   "id": "5d35b717-9efb-4834-bb4d-e3104bf45e32",
   "metadata": {},
   "outputs": [
    {
     "name": "stdout",
     "output_type": "stream",
     "text": [
      "52.9\n",
      "0.000433507s\n"
     ]
    }
   ],
   "source": [
    "import time\n",
    "\n",
    "start_counter_ns = time.perf_counter_ns()\n",
    "print(23*2.3)\n",
    "end_counter_ns = time.perf_counter_ns()\n",
    "\n",
    "timer_ns = end_counter_ns - start_counter_ns\n",
    "print(f\"{timer_ns/(10**9)}s\")"
   ]
  },
  {
   "cell_type": "code",
   "execution_count": 15,
   "id": "baf6af7f-f773-4a6e-bcff-86ca06a26b32",
   "metadata": {},
   "outputs": [],
   "source": [
    "import os\n",
    "import shutil\n",
    "\n",
    "class Experiment:\n",
    "    def __init__(self, base_path):\n",
    "        self.base_path = base_path\n",
    "        \n",
    "    def get_experiment_path(self, experiment_id, experiment_version=0):\n",
    "        path = os.path.join(self.base_path, f\"experiments/experiment_{experiment_id:02d}\")\n",
    "        if experiment_version != 0:\n",
    "            path = os.path.join(path, f\"version_{experiment_version:02d}\")\n",
    "            \n",
    "        print(path)\n",
    "        if not os.path.exists(path):\n",
    "            os.makedirs(path)\n",
    "        else:\n",
    "            shutil.rmtree(path)          \n",
    "            os.makedirs(path)\n",
    "            \n",
    "        return path"
   ]
  },
  {
   "cell_type": "code",
   "execution_count": 16,
   "id": "50a5247a-b06e-4807-adde-0181436725b4",
   "metadata": {},
   "outputs": [
    {
     "name": "stdout",
     "output_type": "stream",
     "text": [
      "/Users/jankreischer/Library/Mobile Documents/com~apple~CloudDocs/Master-Thesis/Code/prototypes/prototype_01/experiments/experiment_01\n"
     ]
    }
   ],
   "source": [
    "experiments = Experiment(original_working_directory_path)\n",
    "experiment_id = 1\n",
    "experiment_version = 0\n",
    "experiment_path = experiments.get_experiment_path(experiment_id, experiment_version)"
   ]
  },
  {
   "cell_type": "markdown",
   "id": "8d739067-e0b3-46a8-88ec-d8e9026e63ac",
   "metadata": {
    "tags": []
   },
   "source": [
    "-----------\n",
    "## --- Experiments ---\n",
    "### Experiment 01"
   ]
  },
  {
   "cell_type": "code",
   "execution_count": 96,
   "id": "aa662480-ea19-465b-9baa-2f112a7d7232",
   "metadata": {},
   "outputs": [],
   "source": [
    "#flattend_test_data = np.empty([0,47])\n",
    "#for behavior_data in test_data.values():\n",
    "#    flattend_test_data = np.concatenate((flattend_test_data, behavior_data), axis=0)\n",
    "#\n",
    "#print(flattend_test_data[:10]])"
   ]
  },
  {
   "cell_type": "code",
   "execution_count": 28,
   "id": "b7ff4c2d-b6f8-474e-8147-196e14beb77a",
   "metadata": {
    "tags": []
   },
   "outputs": [
    {
     "data": {
      "text/plain": [
       "3"
      ]
     },
     "execution_count": 28,
     "metadata": {},
     "output_type": "execute_result"
    }
   ],
   "source": [
    "import sys\n",
    "a = []\n",
    "b = a\n",
    "sys.getrefcount(a)"
   ]
  },
  {
   "cell_type": "code",
   "execution_count": 30,
   "id": "4f00de3b-108c-472c-9c83-9f807cb48605",
   "metadata": {
    "tags": []
   },
   "outputs": [
    {
     "name": "stdout",
     "output_type": "stream",
     "text": [
      "Time taken in seconds: 2.0054028034210205\n"
     ]
    }
   ],
   "source": [
    "# single_threaded.py\n",
    "import time\n",
    "from threading import Thread\n",
    "\n",
    "COUNT = 50000000\n",
    "\n",
    "def countdown(n):\n",
    "    while n>0:\n",
    "        n -= 1\n",
    "\n",
    "start = time.time()\n",
    "countdown(COUNT)\n",
    "end = time.time()\n",
    "\n",
    "print('Time taken in seconds:', end - start)"
   ]
  },
  {
   "cell_type": "code",
   "execution_count": 40,
   "id": "e9ba4d51-f3e7-4574-8950-086b23b71785",
   "metadata": {
    "tags": []
   },
   "outputs": [],
   "source": [
    "from multiprocessing import Pool\n",
    "import time\n",
    "\n",
    "COUNT = 5000000\n",
    "def countdownj(n):\n",
    "    while n>0:\n",
    "        n -= 1"
   ]
  },
  {
   "cell_type": "code",
   "execution_count": null,
   "id": "8722afe1-a398-4115-8eec-dd62e784b9cf",
   "metadata": {
    "tags": []
   },
   "outputs": [],
   "source": [
    "pool = Pool(processes=2)\n",
    "start = time.time()\n",
    "r1 = pool.apply_async(countdownj, [COUNT//2])\n",
    "r2 = pool.apply_async(countdownj, [COUNT//2])\n",
    "pool.close()\n",
    "pool.join()\n",
    "end = time.time()\n",
    "print('Time taken in seconds -', end - start)"
   ]
  },
  {
   "cell_type": "code",
   "execution_count": 38,
   "id": "554d6006-a68f-40bf-95f0-8d314d0e3131",
   "metadata": {
    "tags": []
   },
   "outputs": [
    {
     "data": {
      "text/plain": [
       "'CPython'"
      ]
     },
     "execution_count": 38,
     "metadata": {},
     "output_type": "execute_result"
    }
   ],
   "source": [
    "import platform    \n",
    "platform.python_implementation()"
   ]
  },
  {
   "cell_type": "code",
   "execution_count": 42,
   "id": "9b0e9a94-191d-4f99-ab8d-0e6bbc89f1f5",
   "metadata": {
    "tags": []
   },
   "outputs": [
    {
     "name": "stderr",
     "output_type": "stream",
     "text": [
      "Process SpawnPoolWorker-70:\n",
      "Process SpawnPoolWorker-71:\n",
      "Process SpawnPoolWorker-72:\n",
      "Traceback (most recent call last):\n",
      "Traceback (most recent call last):\n",
      "  File \"/Users/jankreischer/opt/anaconda3/envs/FedRL-for-IT-Sec/lib/python3.10/multiprocessing/process.py\", line 314, in _bootstrap\n",
      "    self.run()\n",
      "  File \"/Users/jankreischer/opt/anaconda3/envs/FedRL-for-IT-Sec/lib/python3.10/multiprocessing/process.py\", line 108, in run\n",
      "    self._target(*self._args, **self._kwargs)\n",
      "Traceback (most recent call last):\n",
      "  File \"/Users/jankreischer/opt/anaconda3/envs/FedRL-for-IT-Sec/lib/python3.10/multiprocessing/pool.py\", line 114, in worker\n",
      "    task = get()\n",
      "  File \"/Users/jankreischer/opt/anaconda3/envs/FedRL-for-IT-Sec/lib/python3.10/multiprocessing/queues.py\", line 367, in get\n",
      "    return _ForkingPickler.loads(res)\n",
      "  File \"/Users/jankreischer/opt/anaconda3/envs/FedRL-for-IT-Sec/lib/python3.10/multiprocessing/process.py\", line 314, in _bootstrap\n",
      "    self.run()\n",
      "  File \"/Users/jankreischer/opt/anaconda3/envs/FedRL-for-IT-Sec/lib/python3.10/multiprocessing/process.py\", line 108, in run\n",
      "    self._target(*self._args, **self._kwargs)\n",
      "  File \"/Users/jankreischer/opt/anaconda3/envs/FedRL-for-IT-Sec/lib/python3.10/multiprocessing/pool.py\", line 114, in worker\n",
      "    task = get()\n",
      "AttributeError: Can't get attribute 'worker' on <module '__main__' (built-in)>\n",
      "  File \"/Users/jankreischer/opt/anaconda3/envs/FedRL-for-IT-Sec/lib/python3.10/multiprocessing/queues.py\", line 367, in get\n",
      "    return _ForkingPickler.loads(res)\n",
      "AttributeError: Can't get attribute 'worker' on <module '__main__' (built-in)>\n",
      "  File \"/Users/jankreischer/opt/anaconda3/envs/FedRL-for-IT-Sec/lib/python3.10/multiprocessing/process.py\", line 314, in _bootstrap\n",
      "    self.run()\n",
      "  File \"/Users/jankreischer/opt/anaconda3/envs/FedRL-for-IT-Sec/lib/python3.10/multiprocessing/process.py\", line 108, in run\n",
      "    self._target(*self._args, **self._kwargs)\n",
      "  File \"/Users/jankreischer/opt/anaconda3/envs/FedRL-for-IT-Sec/lib/python3.10/multiprocessing/pool.py\", line 114, in worker\n",
      "    task = get()\n",
      "  File \"/Users/jankreischer/opt/anaconda3/envs/FedRL-for-IT-Sec/lib/python3.10/multiprocessing/queues.py\", line 367, in get\n",
      "    return _ForkingPickler.loads(res)\n",
      "AttributeError: Can't get attribute 'worker' on <module '__main__' (built-in)>\n",
      "Process SpawnPoolWorker-62:\n",
      "Process SpawnPoolWorker-64:\n",
      "Process SpawnPoolWorker-60:\n",
      "Process SpawnPoolWorker-65:\n",
      "Process SpawnPoolWorker-61:\n",
      "Process SpawnPoolWorker-68:\n",
      "Process SpawnPoolWorker-66:\n",
      "Process SpawnPoolWorker-67:\n",
      "Process SpawnPoolWorker-63:\n",
      "Process SpawnPoolWorker-59:\n",
      "Process SpawnPoolWorker-75:\n",
      "Process SpawnPoolWorker-73:\n",
      "Process SpawnPoolWorker-74:\n",
      "Traceback (most recent call last):\n",
      "Traceback (most recent call last):\n",
      "Traceback (most recent call last):\n",
      "Traceback (most recent call last):\n",
      "  File \"/Users/jankreischer/opt/anaconda3/envs/FedRL-for-IT-Sec/lib/python3.10/multiprocessing/process.py\", line 314, in _bootstrap\n",
      "    self.run()\n",
      "  File \"/Users/jankreischer/opt/anaconda3/envs/FedRL-for-IT-Sec/lib/python3.10/multiprocessing/process.py\", line 108, in run\n",
      "    self._target(*self._args, **self._kwargs)\n",
      "  File \"/Users/jankreischer/opt/anaconda3/envs/FedRL-for-IT-Sec/lib/python3.10/multiprocessing/pool.py\", line 114, in worker\n",
      "    task = get()\n",
      "  File \"/Users/jankreischer/opt/anaconda3/envs/FedRL-for-IT-Sec/lib/python3.10/multiprocessing/queues.py\", line 365, in get\n",
      "    res = self._reader.recv_bytes()\n",
      "  File \"/Users/jankreischer/opt/anaconda3/envs/FedRL-for-IT-Sec/lib/python3.10/multiprocessing/connection.py\", line 216, in recv_bytes\n",
      "    buf = self._recv_bytes(maxlength)\n",
      "  File \"/Users/jankreischer/opt/anaconda3/envs/FedRL-for-IT-Sec/lib/python3.10/multiprocessing/connection.py\", line 414, in _recv_bytes\n",
      "    buf = self._recv(4)\n",
      "  File \"/Users/jankreischer/opt/anaconda3/envs/FedRL-for-IT-Sec/lib/python3.10/multiprocessing/connection.py\", line 379, in _recv\n",
      "    chunk = read(handle, remaining)\n",
      "  File \"/Users/jankreischer/opt/anaconda3/envs/FedRL-for-IT-Sec/lib/python3.10/multiprocessing/process.py\", line 314, in _bootstrap\n",
      "    self.run()\n",
      "  File \"/Users/jankreischer/opt/anaconda3/envs/FedRL-for-IT-Sec/lib/python3.10/multiprocessing/process.py\", line 314, in _bootstrap\n",
      "    self.run()\n",
      "KeyboardInterrupt\n",
      "  File \"/Users/jankreischer/opt/anaconda3/envs/FedRL-for-IT-Sec/lib/python3.10/multiprocessing/process.py\", line 108, in run\n",
      "    self._target(*self._args, **self._kwargs)\n",
      "  File \"/Users/jankreischer/opt/anaconda3/envs/FedRL-for-IT-Sec/lib/python3.10/multiprocessing/process.py\", line 314, in _bootstrap\n",
      "    self.run()\n",
      "  File \"/Users/jankreischer/opt/anaconda3/envs/FedRL-for-IT-Sec/lib/python3.10/multiprocessing/pool.py\", line 114, in worker\n",
      "    task = get()\n",
      "  File \"/Users/jankreischer/opt/anaconda3/envs/FedRL-for-IT-Sec/lib/python3.10/multiprocessing/process.py\", line 108, in run\n",
      "    self._target(*self._args, **self._kwargs)\n",
      "  File \"/Users/jankreischer/opt/anaconda3/envs/FedRL-for-IT-Sec/lib/python3.10/multiprocessing/queues.py\", line 365, in get\n",
      "    res = self._reader.recv_bytes()\n",
      "Traceback (most recent call last):\n",
      "  File \"/Users/jankreischer/opt/anaconda3/envs/FedRL-for-IT-Sec/lib/python3.10/multiprocessing/connection.py\", line 216, in recv_bytes\n",
      "    buf = self._recv_bytes(maxlength)\n",
      "  File \"/Users/jankreischer/opt/anaconda3/envs/FedRL-for-IT-Sec/lib/python3.10/multiprocessing/connection.py\", line 414, in _recv_bytes\n",
      "    buf = self._recv(4)\n",
      "  File \"/Users/jankreischer/opt/anaconda3/envs/FedRL-for-IT-Sec/lib/python3.10/multiprocessing/connection.py\", line 379, in _recv\n",
      "    chunk = read(handle, remaining)\n",
      "  File \"/Users/jankreischer/opt/anaconda3/envs/FedRL-for-IT-Sec/lib/python3.10/multiprocessing/process.py\", line 108, in run\n",
      "    self._target(*self._args, **self._kwargs)\n",
      "  File \"/Users/jankreischer/opt/anaconda3/envs/FedRL-for-IT-Sec/lib/python3.10/multiprocessing/pool.py\", line 114, in worker\n",
      "    task = get()\n",
      "  File \"/Users/jankreischer/opt/anaconda3/envs/FedRL-for-IT-Sec/lib/python3.10/multiprocessing/queues.py\", line 365, in get\n",
      "    res = self._reader.recv_bytes()\n",
      "KeyboardInterrupt\n",
      "  File \"/Users/jankreischer/opt/anaconda3/envs/FedRL-for-IT-Sec/lib/python3.10/multiprocessing/connection.py\", line 216, in recv_bytes\n",
      "    buf = self._recv_bytes(maxlength)\n",
      "  File \"/Users/jankreischer/opt/anaconda3/envs/FedRL-for-IT-Sec/lib/python3.10/multiprocessing/connection.py\", line 414, in _recv_bytes\n",
      "    buf = self._recv(4)\n",
      "  File \"/Users/jankreischer/opt/anaconda3/envs/FedRL-for-IT-Sec/lib/python3.10/multiprocessing/connection.py\", line 379, in _recv\n",
      "    chunk = read(handle, remaining)\n",
      "Traceback (most recent call last):\n",
      "Traceback (most recent call last):\n",
      "KeyboardInterrupt\n",
      "Traceback (most recent call last):\n",
      "  File \"/Users/jankreischer/opt/anaconda3/envs/FedRL-for-IT-Sec/lib/python3.10/multiprocessing/process.py\", line 314, in _bootstrap\n",
      "    self.run()\n",
      "  File \"/Users/jankreischer/opt/anaconda3/envs/FedRL-for-IT-Sec/lib/python3.10/multiprocessing/process.py\", line 108, in run\n",
      "    self._target(*self._args, **self._kwargs)\n",
      "  File \"/Users/jankreischer/opt/anaconda3/envs/FedRL-for-IT-Sec/lib/python3.10/multiprocessing/process.py\", line 314, in _bootstrap\n",
      "    self.run()\n",
      "  File \"/Users/jankreischer/opt/anaconda3/envs/FedRL-for-IT-Sec/lib/python3.10/multiprocessing/pool.py\", line 114, in worker\n",
      "    task = get()\n",
      "  File \"/Users/jankreischer/opt/anaconda3/envs/FedRL-for-IT-Sec/lib/python3.10/multiprocessing/queues.py\", line 364, in get\n",
      "    with self._rlock:\n",
      "  File \"/Users/jankreischer/opt/anaconda3/envs/FedRL-for-IT-Sec/lib/python3.10/multiprocessing/synchronize.py\", line 95, in __enter__\n",
      "    return self._semlock.__enter__()\n",
      "  File \"/Users/jankreischer/opt/anaconda3/envs/FedRL-for-IT-Sec/lib/python3.10/multiprocessing/process.py\", line 108, in run\n",
      "    self._target(*self._args, **self._kwargs)\n",
      "  File \"/Users/jankreischer/opt/anaconda3/envs/FedRL-for-IT-Sec/lib/python3.10/multiprocessing/pool.py\", line 114, in worker\n",
      "    task = get()\n",
      "  File \"/Users/jankreischer/opt/anaconda3/envs/FedRL-for-IT-Sec/lib/python3.10/multiprocessing/process.py\", line 314, in _bootstrap\n",
      "    self.run()\n",
      "  File \"/Users/jankreischer/opt/anaconda3/envs/FedRL-for-IT-Sec/lib/python3.10/multiprocessing/queues.py\", line 364, in get\n",
      "    with self._rlock:\n",
      "  File \"/Users/jankreischer/opt/anaconda3/envs/FedRL-for-IT-Sec/lib/python3.10/multiprocessing/synchronize.py\", line 95, in __enter__\n",
      "    return self._semlock.__enter__()\n",
      "  File \"/Users/jankreischer/opt/anaconda3/envs/FedRL-for-IT-Sec/lib/python3.10/multiprocessing/process.py\", line 108, in run\n",
      "    self._target(*self._args, **self._kwargs)\n",
      "  File \"/Users/jankreischer/opt/anaconda3/envs/FedRL-for-IT-Sec/lib/python3.10/multiprocessing/pool.py\", line 114, in worker\n",
      "    task = get()\n",
      "KeyboardInterrupt\n",
      "  File \"/Users/jankreischer/opt/anaconda3/envs/FedRL-for-IT-Sec/lib/python3.10/multiprocessing/queues.py\", line 364, in get\n",
      "    with self._rlock:\n",
      "  File \"/Users/jankreischer/opt/anaconda3/envs/FedRL-for-IT-Sec/lib/python3.10/multiprocessing/synchronize.py\", line 95, in __enter__\n",
      "    return self._semlock.__enter__()\n",
      "KeyboardInterrupt\n",
      "KeyboardInterrupt\n",
      "Traceback (most recent call last):\n",
      "Traceback (most recent call last):\n",
      "  File \"/Users/jankreischer/opt/anaconda3/envs/FedRL-for-IT-Sec/lib/python3.10/multiprocessing/process.py\", line 314, in _bootstrap\n",
      "    self.run()\n",
      "  File \"/Users/jankreischer/opt/anaconda3/envs/FedRL-for-IT-Sec/lib/python3.10/multiprocessing/process.py\", line 108, in run\n",
      "    self._target(*self._args, **self._kwargs)\n",
      "  File \"/Users/jankreischer/opt/anaconda3/envs/FedRL-for-IT-Sec/lib/python3.10/multiprocessing/pool.py\", line 114, in worker\n",
      "    task = get()\n",
      "  File \"/Users/jankreischer/opt/anaconda3/envs/FedRL-for-IT-Sec/lib/python3.10/multiprocessing/queues.py\", line 365, in get\n",
      "    res = self._reader.recv_bytes()\n",
      "  File \"/Users/jankreischer/opt/anaconda3/envs/FedRL-for-IT-Sec/lib/python3.10/multiprocessing/connection.py\", line 216, in recv_bytes\n",
      "    buf = self._recv_bytes(maxlength)\n",
      "  File \"/Users/jankreischer/opt/anaconda3/envs/FedRL-for-IT-Sec/lib/python3.10/multiprocessing/connection.py\", line 414, in _recv_bytes\n",
      "    buf = self._recv(4)\n",
      "  File \"/Users/jankreischer/opt/anaconda3/envs/FedRL-for-IT-Sec/lib/python3.10/multiprocessing/connection.py\", line 379, in _recv\n",
      "    chunk = read(handle, remaining)\n",
      "  File \"/Users/jankreischer/opt/anaconda3/envs/FedRL-for-IT-Sec/lib/python3.10/multiprocessing/process.py\", line 314, in _bootstrap\n",
      "    self.run()\n",
      "  File \"/Users/jankreischer/opt/anaconda3/envs/FedRL-for-IT-Sec/lib/python3.10/multiprocessing/process.py\", line 108, in run\n",
      "    self._target(*self._args, **self._kwargs)\n",
      "  File \"/Users/jankreischer/opt/anaconda3/envs/FedRL-for-IT-Sec/lib/python3.10/multiprocessing/pool.py\", line 114, in worker\n",
      "    task = get()\n",
      "  File \"/Users/jankreischer/opt/anaconda3/envs/FedRL-for-IT-Sec/lib/python3.10/multiprocessing/queues.py\", line 365, in get\n",
      "    res = self._reader.recv_bytes()\n",
      "  File \"/Users/jankreischer/opt/anaconda3/envs/FedRL-for-IT-Sec/lib/python3.10/multiprocessing/connection.py\", line 216, in recv_bytes\n",
      "    buf = self._recv_bytes(maxlength)\n",
      "  File \"/Users/jankreischer/opt/anaconda3/envs/FedRL-for-IT-Sec/lib/python3.10/multiprocessing/pool.py\", line 114, in worker\n",
      "    task = get()\n",
      "  File \"/Users/jankreischer/opt/anaconda3/envs/FedRL-for-IT-Sec/lib/python3.10/multiprocessing/queues.py\", line 364, in get\n",
      "    with self._rlock:\n",
      "  File \"/Users/jankreischer/opt/anaconda3/envs/FedRL-for-IT-Sec/lib/python3.10/multiprocessing/synchronize.py\", line 95, in __enter__\n",
      "    return self._semlock.__enter__()\n",
      "KeyboardInterrupt\n",
      "Traceback (most recent call last):\n",
      "  File \"/Users/jankreischer/opt/anaconda3/envs/FedRL-for-IT-Sec/lib/python3.10/multiprocessing/connection.py\", line 414, in _recv_bytes\n",
      "    buf = self._recv(4)\n",
      "  File \"/Users/jankreischer/opt/anaconda3/envs/FedRL-for-IT-Sec/lib/python3.10/multiprocessing/connection.py\", line 379, in _recv\n",
      "    chunk = read(handle, remaining)\n",
      "KeyboardInterrupt\n",
      "  File \"/Users/jankreischer/opt/anaconda3/envs/FedRL-for-IT-Sec/lib/python3.10/multiprocessing/process.py\", line 314, in _bootstrap\n",
      "    self.run()\n",
      "  File \"/Users/jankreischer/opt/anaconda3/envs/FedRL-for-IT-Sec/lib/python3.10/multiprocessing/process.py\", line 108, in run\n",
      "    self._target(*self._args, **self._kwargs)\n",
      "  File \"/Users/jankreischer/opt/anaconda3/envs/FedRL-for-IT-Sec/lib/python3.10/multiprocessing/pool.py\", line 114, in worker\n",
      "    task = get()\n",
      "  File \"/Users/jankreischer/opt/anaconda3/envs/FedRL-for-IT-Sec/lib/python3.10/multiprocessing/queues.py\", line 364, in get\n",
      "    with self._rlock:\n",
      "  File \"/Users/jankreischer/opt/anaconda3/envs/FedRL-for-IT-Sec/lib/python3.10/multiprocessing/synchronize.py\", line 95, in __enter__\n",
      "    return self._semlock.__enter__()\n",
      "KeyboardInterrupt\n",
      "Traceback (most recent call last):\n",
      "Traceback (most recent call last):\n",
      "  File \"/Users/jankreischer/opt/anaconda3/envs/FedRL-for-IT-Sec/lib/python3.10/multiprocessing/process.py\", line 314, in _bootstrap\n",
      "    self.run()\n",
      "  File \"/Users/jankreischer/opt/anaconda3/envs/FedRL-for-IT-Sec/lib/python3.10/multiprocessing/process.py\", line 108, in run\n",
      "    self._target(*self._args, **self._kwargs)\n",
      "  File \"/Users/jankreischer/opt/anaconda3/envs/FedRL-for-IT-Sec/lib/python3.10/multiprocessing/pool.py\", line 114, in worker\n",
      "    task = get()\n",
      "  File \"/Users/jankreischer/opt/anaconda3/envs/FedRL-for-IT-Sec/lib/python3.10/multiprocessing/queues.py\", line 364, in get\n",
      "    with self._rlock:\n",
      "  File \"/Users/jankreischer/opt/anaconda3/envs/FedRL-for-IT-Sec/lib/python3.10/multiprocessing/synchronize.py\", line 95, in __enter__\n",
      "    return self._semlock.__enter__()\n",
      "KeyboardInterrupt\n",
      "KeyboardInterrupt\n",
      "  File \"/Users/jankreischer/opt/anaconda3/envs/FedRL-for-IT-Sec/lib/python3.10/multiprocessing/process.py\", line 314, in _bootstrap\n",
      "    self.run()\n",
      "  File \"/Users/jankreischer/opt/anaconda3/envs/FedRL-for-IT-Sec/lib/python3.10/multiprocessing/process.py\", line 108, in run\n",
      "    self._target(*self._args, **self._kwargs)\n",
      "  File \"/Users/jankreischer/opt/anaconda3/envs/FedRL-for-IT-Sec/lib/python3.10/multiprocessing/pool.py\", line 114, in worker\n",
      "    task = get()\n",
      "  File \"/Users/jankreischer/opt/anaconda3/envs/FedRL-for-IT-Sec/lib/python3.10/multiprocessing/queues.py\", line 364, in get\n",
      "    with self._rlock:\n",
      "  File \"/Users/jankreischer/opt/anaconda3/envs/FedRL-for-IT-Sec/lib/python3.10/multiprocessing/synchronize.py\", line 95, in __enter__\n",
      "    return self._semlock.__enter__()\n",
      "KeyboardInterrupt\n",
      "  File \"/Users/jankreischer/opt/anaconda3/envs/FedRL-for-IT-Sec/lib/python3.10/multiprocessing/process.py\", line 314, in _bootstrap\n",
      "    self.run()\n",
      "  File \"/Users/jankreischer/opt/anaconda3/envs/FedRL-for-IT-Sec/lib/python3.10/multiprocessing/process.py\", line 108, in run\n",
      "    self._target(*self._args, **self._kwargs)\n",
      "  File \"/Users/jankreischer/opt/anaconda3/envs/FedRL-for-IT-Sec/lib/python3.10/multiprocessing/pool.py\", line 114, in worker\n",
      "    task = get()\n",
      "  File \"/Users/jankreischer/opt/anaconda3/envs/FedRL-for-IT-Sec/lib/python3.10/multiprocessing/queues.py\", line 364, in get\n",
      "    with self._rlock:\n",
      "  File \"/Users/jankreischer/opt/anaconda3/envs/FedRL-for-IT-Sec/lib/python3.10/multiprocessing/synchronize.py\", line 95, in __enter__\n",
      "    return self._semlock.__enter__()\n",
      "KeyboardInterrupt\n"
     ]
    },
    {
     "ename": "KeyboardInterrupt",
     "evalue": "",
     "output_type": "error",
     "traceback": [
      "\u001b[0;31m---------------------------------------------------------------------------\u001b[0m",
      "\u001b[0;31mKeyboardInterrupt\u001b[0m                         Traceback (most recent call last)",
      "Input \u001b[0;32mIn [42]\u001b[0m, in \u001b[0;36m<cell line: 11>\u001b[0;34m()\u001b[0m\n\u001b[1;32m      9\u001b[0m p\u001b[38;5;241m=\u001b[39mPool(processes \u001b[38;5;241m=\u001b[39m num_processors)\n\u001b[1;32m     10\u001b[0m \u001b[38;5;66;03m#get them to work in parallel\u001b[39;00m\n\u001b[0;32m---> 11\u001b[0m output \u001b[38;5;241m=\u001b[39m \u001b[43mp\u001b[49m\u001b[38;5;241;43m.\u001b[39;49m\u001b[43mmap\u001b[49m\u001b[43m(\u001b[49m\u001b[43mworker\u001b[49m\u001b[43m,\u001b[49m\u001b[43m[\u001b[49m\u001b[43mi\u001b[49m\u001b[43m \u001b[49m\u001b[38;5;28;43;01mfor\u001b[39;49;00m\u001b[43m \u001b[49m\u001b[43mi\u001b[49m\u001b[43m \u001b[49m\u001b[38;5;129;43;01min\u001b[39;49;00m\u001b[43m \u001b[49m\u001b[38;5;28;43mrange\u001b[39;49m\u001b[43m(\u001b[49m\u001b[38;5;241;43m0\u001b[39;49m\u001b[43m,\u001b[49m\u001b[38;5;241;43m3\u001b[39;49m\u001b[43m)\u001b[49m\u001b[43m]\u001b[49m\u001b[43m)\u001b[49m\n\u001b[1;32m     12\u001b[0m \u001b[38;5;28mprint\u001b[39m(output)\n",
      "File \u001b[0;32m~/opt/anaconda3/envs/FedRL-for-IT-Sec/lib/python3.10/multiprocessing/pool.py:367\u001b[0m, in \u001b[0;36mPool.map\u001b[0;34m(self, func, iterable, chunksize)\u001b[0m\n\u001b[1;32m    362\u001b[0m \u001b[38;5;28;01mdef\u001b[39;00m \u001b[38;5;21mmap\u001b[39m(\u001b[38;5;28mself\u001b[39m, func, iterable, chunksize\u001b[38;5;241m=\u001b[39m\u001b[38;5;28;01mNone\u001b[39;00m):\n\u001b[1;32m    363\u001b[0m \u001b[38;5;250m    \u001b[39m\u001b[38;5;124;03m'''\u001b[39;00m\n\u001b[1;32m    364\u001b[0m \u001b[38;5;124;03m    Apply `func` to each element in `iterable`, collecting the results\u001b[39;00m\n\u001b[1;32m    365\u001b[0m \u001b[38;5;124;03m    in a list that is returned.\u001b[39;00m\n\u001b[1;32m    366\u001b[0m \u001b[38;5;124;03m    '''\u001b[39;00m\n\u001b[0;32m--> 367\u001b[0m     \u001b[38;5;28;01mreturn\u001b[39;00m \u001b[38;5;28;43mself\u001b[39;49m\u001b[38;5;241;43m.\u001b[39;49m\u001b[43m_map_async\u001b[49m\u001b[43m(\u001b[49m\u001b[43mfunc\u001b[49m\u001b[43m,\u001b[49m\u001b[43m \u001b[49m\u001b[43miterable\u001b[49m\u001b[43m,\u001b[49m\u001b[43m \u001b[49m\u001b[43mmapstar\u001b[49m\u001b[43m,\u001b[49m\u001b[43m \u001b[49m\u001b[43mchunksize\u001b[49m\u001b[43m)\u001b[49m\u001b[38;5;241;43m.\u001b[39;49m\u001b[43mget\u001b[49m\u001b[43m(\u001b[49m\u001b[43m)\u001b[49m\n",
      "File \u001b[0;32m~/opt/anaconda3/envs/FedRL-for-IT-Sec/lib/python3.10/multiprocessing/pool.py:768\u001b[0m, in \u001b[0;36mApplyResult.get\u001b[0;34m(self, timeout)\u001b[0m\n\u001b[1;32m    767\u001b[0m \u001b[38;5;28;01mdef\u001b[39;00m \u001b[38;5;21mget\u001b[39m(\u001b[38;5;28mself\u001b[39m, timeout\u001b[38;5;241m=\u001b[39m\u001b[38;5;28;01mNone\u001b[39;00m):\n\u001b[0;32m--> 768\u001b[0m     \u001b[38;5;28;43mself\u001b[39;49m\u001b[38;5;241;43m.\u001b[39;49m\u001b[43mwait\u001b[49m\u001b[43m(\u001b[49m\u001b[43mtimeout\u001b[49m\u001b[43m)\u001b[49m\n\u001b[1;32m    769\u001b[0m     \u001b[38;5;28;01mif\u001b[39;00m \u001b[38;5;129;01mnot\u001b[39;00m \u001b[38;5;28mself\u001b[39m\u001b[38;5;241m.\u001b[39mready():\n\u001b[1;32m    770\u001b[0m         \u001b[38;5;28;01mraise\u001b[39;00m \u001b[38;5;167;01mTimeoutError\u001b[39;00m\n",
      "File \u001b[0;32m~/opt/anaconda3/envs/FedRL-for-IT-Sec/lib/python3.10/multiprocessing/pool.py:765\u001b[0m, in \u001b[0;36mApplyResult.wait\u001b[0;34m(self, timeout)\u001b[0m\n\u001b[1;32m    764\u001b[0m \u001b[38;5;28;01mdef\u001b[39;00m \u001b[38;5;21mwait\u001b[39m(\u001b[38;5;28mself\u001b[39m, timeout\u001b[38;5;241m=\u001b[39m\u001b[38;5;28;01mNone\u001b[39;00m):\n\u001b[0;32m--> 765\u001b[0m     \u001b[38;5;28;43mself\u001b[39;49m\u001b[38;5;241;43m.\u001b[39;49m\u001b[43m_event\u001b[49m\u001b[38;5;241;43m.\u001b[39;49m\u001b[43mwait\u001b[49m\u001b[43m(\u001b[49m\u001b[43mtimeout\u001b[49m\u001b[43m)\u001b[49m\n",
      "File \u001b[0;32m~/opt/anaconda3/envs/FedRL-for-IT-Sec/lib/python3.10/threading.py:607\u001b[0m, in \u001b[0;36mEvent.wait\u001b[0;34m(self, timeout)\u001b[0m\n\u001b[1;32m    605\u001b[0m signaled \u001b[38;5;241m=\u001b[39m \u001b[38;5;28mself\u001b[39m\u001b[38;5;241m.\u001b[39m_flag\n\u001b[1;32m    606\u001b[0m \u001b[38;5;28;01mif\u001b[39;00m \u001b[38;5;129;01mnot\u001b[39;00m signaled:\n\u001b[0;32m--> 607\u001b[0m     signaled \u001b[38;5;241m=\u001b[39m \u001b[38;5;28;43mself\u001b[39;49m\u001b[38;5;241;43m.\u001b[39;49m\u001b[43m_cond\u001b[49m\u001b[38;5;241;43m.\u001b[39;49m\u001b[43mwait\u001b[49m\u001b[43m(\u001b[49m\u001b[43mtimeout\u001b[49m\u001b[43m)\u001b[49m\n\u001b[1;32m    608\u001b[0m \u001b[38;5;28;01mreturn\u001b[39;00m signaled\n",
      "File \u001b[0;32m~/opt/anaconda3/envs/FedRL-for-IT-Sec/lib/python3.10/threading.py:320\u001b[0m, in \u001b[0;36mCondition.wait\u001b[0;34m(self, timeout)\u001b[0m\n\u001b[1;32m    318\u001b[0m \u001b[38;5;28;01mtry\u001b[39;00m:    \u001b[38;5;66;03m# restore state no matter what (e.g., KeyboardInterrupt)\u001b[39;00m\n\u001b[1;32m    319\u001b[0m     \u001b[38;5;28;01mif\u001b[39;00m timeout \u001b[38;5;129;01mis\u001b[39;00m \u001b[38;5;28;01mNone\u001b[39;00m:\n\u001b[0;32m--> 320\u001b[0m         \u001b[43mwaiter\u001b[49m\u001b[38;5;241;43m.\u001b[39;49m\u001b[43macquire\u001b[49m\u001b[43m(\u001b[49m\u001b[43m)\u001b[49m\n\u001b[1;32m    321\u001b[0m         gotit \u001b[38;5;241m=\u001b[39m \u001b[38;5;28;01mTrue\u001b[39;00m\n\u001b[1;32m    322\u001b[0m     \u001b[38;5;28;01melse\u001b[39;00m:\n",
      "\u001b[0;31mKeyboardInterrupt\u001b[0m: "
     ]
    }
   ],
   "source": [
    "#import Pool\n",
    "from multiprocessing import Pool\n",
    "#Define a worker — a function which will be executed in parallel\n",
    "def worker(x):\n",
    "    return x*x\n",
    "#Assuming you want to use 3 processors\n",
    "num_processors = 3\n",
    "#Create a pool of processors\n",
    "p=Pool(processes = num_processors)\n",
    "#get them to work in parallel\n",
    "output = p.map(worker,[i for i in range(0,3)])\n",
    "print(output)"
   ]
  },
  {
   "cell_type": "code",
   "execution_count": 46,
   "id": "4ca84d0f-fd36-4c85-88cb-05a6c50c3bc2",
   "metadata": {
    "tags": []
   },
   "outputs": [
    {
     "name": "stdout",
     "output_type": "stream",
     "text": [
      "97619\n",
      "97622\n",
      "97620\n",
      "97621\n",
      "97623\n",
      "97624\n",
      "[2, 3, 4, 5, 6, 7]\n"
     ]
    }
   ],
   "source": [
    "import multiprocessing\n",
    "import workers\n",
    "\n",
    "pool = multiprocessing.Pool()\n",
    "results = pool.map(workers.my_function, [1,2,3,4,5,6])\n",
    "print(results)"
   ]
  },
  {
   "cell_type": "code",
   "execution_count": null,
   "id": "24bb36fc-5ba9-4c22-a8ce-a7af43200f5b",
   "metadata": {},
   "outputs": [],
   "source": [
    "import os\n",
    "multiprocessing.cpu_count() function\n",
    "os.cpu_count() function."
   ]
  },
  {
   "cell_type": "code",
   "execution_count": 47,
   "id": "1497161b-2b75-4576-a88c-471816177a8d",
   "metadata": {
    "tags": []
   },
   "outputs": [
    {
     "data": {
      "image/png": "[encoded data removed]",
      "text/plain": [
       "<Figure size 144x144 with 1 Axes>"
      ]
     },
     "metadata": {
      "needs_background": "light"
     },
     "output_type": "display_data"
    }
   ],
   "source": [
    "import matplotlib.pyplot as plt\n",
    "import numpy as np\n",
    "\n",
    "plt.style.use('_mpl-gallery')\n",
    "\n",
    "# make data\n",
    "x = np.linspace(0, 10, 100)\n",
    "y = 4 + 2 * np.sin(2 * x)\n",
    "\n",
    "# plot\n",
    "fig, ax = plt.subplots()\n",
    "\n",
    "ax.plot(x, y, linewidth=2.0)\n",
    "\n",
    "ax.set(xlim=(0, 8), xticks=np.arange(1, 8),\n",
    "       ylim=(0, 8), yticks=np.arange(1, 8))\n",
    "\n",
    "plt.show()"
   ]
  },
  {
   "cell_type": "code",
   "execution_count": null,
   "id": "4d4cb513-1bee-4c2f-aed3-49037a8eda53",
   "metadata": {},
   "outputs": [
    {
     "name": "stderr",
     "output_type": "stream",
     "text": [
      "Exception in thread Thread-648 (train_agent):\n",
      "Traceback (most recent call last):\n",
      "  File \"/Users/jankreischer/opt/anaconda3/envs/FedRL-for-IT-Sec/lib/python3.10/threading.py\", line 1016, in _bootstrap_inner\n",
      "    self.run()\n",
      "  File \"/Users/jankreischer/opt/anaconda3/envs/FedRL-for-IT-Sec/lib/python3.10/threading.py\", line 953, in run\n",
      "    self._target(*self._args, **self._kwargs)\n",
      "  File \"/var/folders/8v/42fl0kws5cs5j84mbf8mbhbh0000gn/T/ipykernel_94637/3442970130.py\", line 79, in train_agent\n",
      "  File \"/var/folders/8v/42fl0kws5cs5j84mbf8mbhbh0000gn/T/ipykernel_94637/2539719147.py\", line 87, in learn\n",
      "  File \"/Users/jankreischer/opt/anaconda3/envs/FedRL-for-IT-Sec/lib/python3.10/site-packages/torch/_tensor.py\", line 488, in backward\n",
      "    torch.autograd.backward(\n",
      "  File \"/Users/jankreischer/opt/anaconda3/envs/FedRL-for-IT-Sec/lib/python3.10/site-packages/torch/autograd/__init__.py\", line 197, in backward\n",
      "    Variable._execution_engine.run_backward(  # Calls into the C++ engine to run the backward pass\n",
      "RuntimeError: one of the variables needed for gradient computation has been modified by an inplace operation: [torch.FloatTensor [60, 30]], which is output 0 of AsStridedBackward0, is at version 34; expected version 33 instead. Hint: enable anomaly detection to find the operation that failed to compute its gradient, with torch.autograd.set_detect_anomaly(True).\n",
      "Exception in thread Thread-649 (train_agent):\n",
      "Traceback (most recent call last):\n",
      "  File \"/Users/jankreischer/opt/anaconda3/envs/FedRL-for-IT-Sec/lib/python3.10/threading.py\", line 1016, in _bootstrap_inner\n",
      "    self.run()\n",
      "  File \"/Users/jankreischer/opt/anaconda3/envs/FedRL-for-IT-Sec/lib/python3.10/threading.py\", line 953, in run\n",
      "    self._target(*self._args, **self._kwargs)\n",
      "  File \"/var/folders/8v/42fl0kws5cs5j84mbf8mbhbh0000gn/T/ipykernel_94637/3442970130.py\", line 79, in train_agent\n",
      "  File \"/var/folders/8v/42fl0kws5cs5j84mbf8mbhbh0000gn/T/ipykernel_94637/2539719147.py\", line 87, in learn\n",
      "  File \"/Users/jankreischer/opt/anaconda3/envs/FedRL-for-IT-Sec/lib/python3.10/site-packages/torch/_tensor.py\", line 488, in backward\n",
      "    torch.autograd.backward(\n",
      "  File \"/Users/jankreischer/opt/anaconda3/envs/FedRL-for-IT-Sec/lib/python3.10/site-packages/torch/autograd/__init__.py\", line 197, in backward\n",
      "    Variable._execution_engine.run_backward(  # Calls into the C++ engine to run the backward pass\n",
      "RuntimeError: one of the variables needed for gradient computation has been modified by an inplace operation: [torch.FloatTensor [60, 30]], which is output 0 of AsStridedBackward0, is at version 42; expected version 41 instead. Hint: enable anomaly detection to find the operation that failed to compute its gradient, with torch.autograd.set_detect_anomaly(True).\n"
     ]
    }
   ],
   "source": [
    "import math\n",
    "\n",
    "experiments = Experiment(original_working_directory_path)\n",
    "experiment_id = 10\n",
    "experiment_version = 0\n",
    "experiment_path = experiments.get_experiment_path(experiment_id, experiment_version)\n",
    "\n",
    "TOTAL_NUMBER_OF_EPISODES = 10000\n",
    "NR_ROUNDS = 10\n",
    "MAX_NUMBER_OF_CLIENTS = 10\n",
    "\n",
    "seed_random()\n",
    "\n",
    "train_data, test_data, _ = DataProvider.get_scaled_train_test_split(scaling_minmax=True, scale_normal_only=True)\n",
    "\n",
    "for nr_clients in range(1, 12):\n",
    "    print(f\"nr_clients: {nr_clients}\")\n",
    "    parallelized = False\n",
    "    if nr_clients > 1:\n",
    "         parallelized=True\n",
    "    print(f\"parallelized: {parallelized}\")\n",
    "            \n",
    "    environment = SensorEnvironment(train_data)\n",
    "    global_agent = Agent(0, input_dims=environment.observation_space_size, n_actions=len(environment.actions), buffer_size=BUFFER_SIZE,\n",
    "                batch_size=BATCH_SIZE, lr=LEARNING_RATE, gamma=GAMMA, epsilon=EPSILON_START, eps_end=EPSILON_END, eps_dec=EPSILON_DEC)\n",
    "    # We want to train for n episodes when adding all episodes across all clients and rounds\n",
    "    nr_episodes_per_round = math.floor(TOTAL_NUMBER_OF_EPISODES / (NR_ROUNDS * nr_clients))\n",
    "    server = Server(global_agent, test_data, experiment_id, experiment_path, nr_rounds=NR_ROUNDS, nr_episodes_per_round=nr_episodes_per_round, parallelized=parallelized)\n",
    "    \n",
    "    for unique_id in range(1, nr_clients + 1):\n",
    "        environment = SensorEnvironment(train_data)\n",
    "        agent = Agent(unique_id, input_dims=environment.observation_space_size, n_actions=len(environment.actions), buffer_size=BUFFER_SIZE,\n",
    "              batch_size=BATCH_SIZE, lr=LEARNING_RATE, gamma=GAMMA, epsilon=EPSILON_START, eps_end=EPSILON_END, eps_dec=EPSILON_DEC)                               \n",
    "        client = Client(unique_id, agent, environment, experiment_path, MIN_REPLAY_SIZE)                                   \n",
    "        server.add_client(client)\n",
    "    server.run_federation(evaluations=[\"time\"], evaluation_frequency=10, verbose=False, document_results=False)"
   ]
  },
  {
   "cell_type": "code",
   "execution_count": null,
   "id": "b8f2a5ac-6468-4acd-83ac-f7ef277a2d2e",
   "metadata": {},
   "outputs": [],
   "source": [
    "# Python program to explain the\n",
    "# use of join() method in Thread class\n",
    "\n",
    "import time\n",
    "import threading\n",
    "\n",
    "def thread_1(i):\n",
    "    time.sleep(2)\n",
    "    print('Value by Thread 1:', i)\n",
    "\n",
    "def thread_2(i):\n",
    "    time.sleep(5)\n",
    "    print('Value by Thread 2:', i)\n",
    "\n",
    "def thread_3(i):\n",
    "    print('Value by Thread 3:', i)    \n",
    "\n",
    "    \n",
    "# Creating three sample threads \n",
    "thread1 = threading.Thread(target=thread_1, args=(1,))\n",
    "thread2 = threading.Thread(target=thread_2, args=(2,))\n",
    "thread3 = threading.Thread(target=thread_3, args=(3,))\n",
    "\n",
    "# Running three thread object\n",
    "thread1.start()\n",
    "thread1.join()\n",
    "thread2.start()\n",
    "thread2.join()\n",
    "thread3.start()\n",
    "thread3.join()\n",
    "\n",
    "print()\n",
    "# Creating another 3 threads\n",
    "thread4 = threading.Thread(target=thread_1, args=(1,))\n",
    "thread5 = threading.Thread(target=thread_2, args=(2,))\n",
    "thread6 = threading.Thread(target=thread_3, args=(3,))\n",
    "\n",
    "thread4.start()\n",
    "thread5.start()\n",
    "thread6.start()\n",
    "thread4.join()\n",
    "thread5.join()\n",
    "thread6.join()"
   ]
  },
  {
   "cell_type": "code",
   "execution_count": 34,
   "id": "6d1e88bf-6d0d-4610-9d9d-f4db28cb0798",
   "metadata": {},
   "outputs": [],
   "source": [
    "for i in range(1,1):\n",
    "    print(i)\n"
   ]
  },
  {
   "cell_type": "code",
   "execution_count": 30,
   "id": "1c522c24-0ed6-4b88-a713-94a43902daae",
   "metadata": {},
   "outputs": [
    {
     "data": {
      "text/plain": [
       "1"
      ]
     },
     "execution_count": 30,
     "metadata": {},
     "output_type": "execute_result"
    }
   ],
   "source": [
    "import math \n",
    "math.ceil(0.2)"
   ]
  },
  {
   "cell_type": "code",
   "execution_count": null,
   "id": "ca0637c6-9328-4d39-9d84-801e2cc85a86",
   "metadata": {},
   "outputs": [],
   "source": [
    "experiments = Experiment(original_working_directory_path)\n",
    "experiment_id = 1\n",
    "experiment_version = 0\n",
    "experiment_path = experiments.get_experiment_path(experiment_id, experiment_version)\n",
    "\n",
    "NR_ROUNDS = 10\n",
    "NR_EPISODES_PER_ROUND=1000\n",
    "\n",
    "seed_random()\n",
    "\n",
    "train_data, test_data, _ = DataProvider.get_scaled_train_test_split(scaling_minmax=True, scale_normal_only=True)\n",
    "\n",
    "environment_01 = SensorEnvironment(train_data)\n",
    "environment_02 = SensorEnvironment(train_data)\n",
    "\n",
    "global_agent = Agent(0, input_dims=environment_02.observation_space_size, n_actions=len(environment_02.actions), buffer_size=BUFFER_SIZE,\n",
    "                batch_size=BATCH_SIZE, lr=LEARNING_RATE, gamma=GAMMA, epsilon=EPSILON_START, eps_end=EPSILON_END, eps_dec=EPSILON_DEC)\n",
    "\n",
    "agent_01 = Agent(1, input_dims=environment_01.observation_space_size, n_actions=len(environment_01.actions), buffer_size=BUFFER_SIZE,\n",
    "              batch_size=BATCH_SIZE, lr=LEARNING_RATE, gamma=GAMMA, epsilon=EPSILON_START, eps_end=EPSILON_END, eps_dec=EPSILON_DEC)\n",
    "\n",
    "agent_02 = Agent(2, input_dims=environment_02.observation_space_size, n_actions=len(environment_02.actions), buffer_size=BUFFER_SIZE,\n",
    "                batch_size=BATCH_SIZE, lr=LEARNING_RATE, gamma=GAMMA, epsilon=EPSILON_START, eps_end=EPSILON_END, eps_dec=EPSILON_DEC)\n",
    "\n",
    "server = Server(global_agent, test_data, experiment_id, experiment_path, nr_rounds=NR_ROUNDS, nr_episodes_per_round=NR_EPISODES_PER_ROUND, parallelized=False)\n",
    "\n",
    "client_01 = Client(1, agent_01, environment_01, experiment_path, MIN_REPLAY_SIZE)\n",
    "client_02 = Client(2, agent_02, environment_02, experiment_path, MIN_REPLAY_SIZE)\n",
    "\n",
    "server.add_client(client_01)\n",
    "server.add_client(client_02)\n",
    "\n",
    "server.run_federation(evaluations=[\"performance_evaluation\", \"learning_curve\"], evaluation_frequency=1)"
   ]
  },
  {
   "cell_type": "code",
   "execution_count": 241,
   "id": "67ff9035-875f-4361-a51d-0bb01b079415",
   "metadata": {},
   "outputs": [
    {
     "name": "stdout",
     "output_type": "stream",
     "text": [
      "/Users/jankreischer/Library/Mobile Documents/com~apple~CloudDocs/Master-Thesis/Code\n"
     ]
    }
   ],
   "source": [
    "train_data, test_data, _ = DataProvider.get_scaled_train_test_split(scaling_minmax=True, scale_normal_only=True)"
   ]
  },
  {
   "cell_type": "code",
   "execution_count": 245,
   "id": "32cde563-f858-4e2c-9a52-e1533fa2e030",
   "metadata": {},
   "outputs": [
    {
     "name": "stdout",
     "output_type": "stream",
     "text": [
      "dict_keys([<Behavior.NORMAL: 'normal'>, <Behavior.RANSOMWARE_POC: 'ransomware_poc'>, <Behavior.ROOTKIT_BDVL: 'bdvl'>, <Behavior.ROOTKIT_BEURK: 'beurk'>, <Behavior.CNC_THETICK: 'the_tick'>, <Behavior.CNC_BACKDOOR_JAKORITAR: 'backdoor_jakoritar'>, <Behavior.CNC_OPT1: 'data_leak_1'>, <Behavior.CNC_OPT2: 'data_leak_2'>])\n"
     ]
    }
   ],
   "source": [
    "# for each client i need a number of total samples\n",
    "# and i need a split of behaviors adding up to 100\n",
    "print(test_data.keys())"
   ]
  },
  {
   "cell_type": "code",
   "execution_count": 268,
   "id": "0b1d8619-5ca0-45cf-ab3a-8dba285d9f97",
   "metadata": {},
   "outputs": [],
   "source": [
    "from functools import reduce \n",
    "\n",
    "sample_distribution_percentages = {\n",
    "    Behavior.NORMAL: 20,\n",
    "    Behavior.RANSOMWARE_POC: 20,\n",
    "    Behavior.ROOTKIT_BDVL: 10,\n",
    "    Behavior.ROOTKIT_BEURK: 10,\n",
    "    Behavior.CNC_THETICK: 10, \n",
    "    Behavior.CNC_BACKDOOR_JAKORITAR: 10,\n",
    "    Behavior.CNC_OPT1: 10,\n",
    "    Behavior.CNC_OPT2: 10\n",
    "}\n",
    "\n",
    "sum_of_percentages = reduce(lambda x, y: x+y, sample_distribution_percentages.values())\n",
    "assert sum_of_percentages == 100, f\"Make sure that all percentages sum to 100. Right now it is {sum_of_percentages}\""
   ]
  },
  {
   "cell_type": "code",
   "execution_count": 311,
   "id": "cb602f9a-6596-47ea-9216-1a11d9996f14",
   "metadata": {},
   "outputs": [],
   "source": [
    "a = [[i]*8 for i in range(1,101)]\n",
    "m = np.asarray(a)\n",
    "#np.asarray(a)\n",
    "np.random.shuffle(m)\n",
    "last_row = m[-1]\n",
    "new_matrix = m[:-1]"
   ]
  },
  {
   "cell_type": "code",
   "execution_count": 252,
   "id": "23dd0fbc-1bf4-4902-b263-a977b5e32bbc",
   "metadata": {},
   "outputs": [
    {
     "name": "stdout",
     "output_type": "stream",
     "text": [
      "9633\n",
      "6196\n",
      "3405\n",
      "4723\n",
      "4941\n",
      "2391\n",
      "3632\n",
      "2533\n"
     ]
    }
   ],
   "source": [
    "for key, value in train_data.items():\n",
    "    print(len(value))"
   ]
  },
  {
   "cell_type": "code",
   "execution_count": 107,
   "id": "9122be44-84ca-4423-b391-375845f08569",
   "metadata": {},
   "outputs": [
    {
     "data": {
      "image/png": "[encoded data removed]",
      "text/plain": [
       "<Figure size 432x288 with 1 Axes>"
      ]
     },
     "metadata": {
      "needs_background": "light"
     },
     "output_type": "display_data"
    },
    {
     "data": {
      "image/png": "[encoded data removed]",
      "text/plain": [
       "<Figure size 432x288 with 1 Axes>"
      ]
     },
     "metadata": {
      "needs_background": "light"
     },
     "output_type": "display_data"
    },
    {
     "data": {
      "image/png": "[encoded data removed]",
      "text/plain": [
       "<Figure size 432x288 with 1 Axes>"
      ]
     },
     "metadata": {
      "needs_background": "light"
     },
     "output_type": "display_data"
    },
    {
     "data": {
      "image/png": "[encoded data removed]",
      "text/plain": [
       "<Figure size 432x288 with 1 Axes>"
      ]
     },
     "metadata": {
      "needs_background": "light"
     },
     "output_type": "display_data"
    },
    {
     "data": {
      "image/png": "[encoded data removed]",
      "text/plain": [
       "<Figure size 432x288 with 1 Axes>"
      ]
     },
     "metadata": {
      "needs_background": "light"
     },
     "output_type": "display_data"
    },
    {
     "data": {
      "image/png": "[encoded data removed]",
      "text/plain": [
       "<Figure size 432x288 with 1 Axes>"
      ]
     },
     "metadata": {
      "needs_background": "light"
     },
     "output_type": "display_data"
    },
    {
     "data": {
      "image/png": "[encoded data removed]",
      "text/plain": [
       "<Figure size 432x288 with 1 Axes>"
      ]
     },
     "metadata": {
      "needs_background": "light"
     },
     "output_type": "display_data"
    },
    {
     "data": {
      "image/png": "[encoded data removed]",
      "text/plain": [
       "<Figure size 432x288 with 1 Axes>"
      ]
     },
     "metadata": {
      "needs_background": "light"
     },
     "output_type": "display_data"
    }
   ],
   "source": [
    "server.print_performance_evaluations()"
   ]
  },
  {
   "cell_type": "code",
   "execution_count": 76,
   "id": "135f85df-bd69-4031-89e3-d3d99b832f75",
   "metadata": {},
   "outputs": [
    {
     "data": {
      "image/png": "[encoded data removed]",
      "text/plain": [
       "<Figure size 432x288 with 1 Axes>"
      ]
     },
     "metadata": {
      "needs_background": "light"
     },
     "output_type": "display_data"
    },
    {
     "data": {
      "image/png": "[encoded data removed]",
      "text/plain": [
       "<Figure size 432x288 with 1 Axes>"
      ]
     },
     "metadata": {
      "needs_background": "light"
     },
     "output_type": "display_data"
    },
    {
     "data": {
      "image/png": "[encoded data removed]",
      "text/plain": [
       "<Figure size 432x288 with 1 Axes>"
      ]
     },
     "metadata": {
      "needs_background": "light"
     },
     "output_type": "display_data"
    }
   ],
   "source": [
    "for id in range(3):\n",
    "    for behavior in Behavior:\n",
    "        performance = server.client_performance[id][behavior]\n",
    "        plt.title(f\"Client {id}\")\n",
    "        plt.plot([*range(len(performance))], performance) # plotting t, a separately \n",
    "    plt.show()"
   ]
  },
  {
   "cell_type": "code",
   "execution_count": 81,
   "id": "85847ca6-bb9c-452f-b663-be2adb8ffb67",
   "metadata": {},
   "outputs": [
    {
     "data": {
      "image/png": "[encoded data removed]",
      "text/plain": [
       "<Figure size 432x288 with 1 Axes>"
      ]
     },
     "metadata": {
      "needs_background": "light"
     },
     "output_type": "display_data"
    },
    {
     "data": {
      "image/png": "[encoded data removed]",
      "text/plain": [
       "<Figure size 432x288 with 1 Axes>"
      ]
     },
     "metadata": {
      "needs_background": "light"
     },
     "output_type": "display_data"
    },
    {
     "data": {
      "image/png": "[encoded data removed]",
      "text/plain": [
       "<Figure size 432x288 with 1 Axes>"
      ]
     },
     "metadata": {
      "needs_background": "light"
     },
     "output_type": "display_data"
    },
    {
     "data": {
      "image/png": "[encoded data removed]",
      "text/plain": [
       "<Figure size 432x288 with 1 Axes>"
      ]
     },
     "metadata": {
      "needs_background": "light"
     },
     "output_type": "display_data"
    },
    {
     "data": {
      "image/png": "[encoded data removed]",
      "text/plain": [
       "<Figure size 432x288 with 1 Axes>"
      ]
     },
     "metadata": {
      "needs_background": "light"
     },
     "output_type": "display_data"
    },
    {
     "data": {
      "image/png": "[encoded data removed]",
      "text/plain": [
       "<Figure size 432x288 with 1 Axes>"
      ]
     },
     "metadata": {
      "needs_background": "light"
     },
     "output_type": "display_data"
    },
    {
     "data": {
      "image/png": "[encoded data removed]",
      "text/plain": [
       "<Figure size 432x288 with 1 Axes>"
      ]
     },
     "metadata": {
      "needs_background": "light"
     },
     "output_type": "display_data"
    },
    {
     "data": {
      "image/png": "[encoded data removed]",
      "text/plain": [
       "<Figure size 432x288 with 1 Axes>"
      ]
     },
     "metadata": {
      "needs_background": "light"
     },
     "output_type": "display_data"
    }
   ],
   "source": [
    "for behavior in Behavior:\n",
    "    for id in range(3):\n",
    "        performance = server.client_performance[id][behavior]\n",
    "        plt.title(f\"Behavior {behavior.value}\")\n",
    "        plt.ylim([0,100])\n",
    "        if id == 0:\n",
    "            plt.plot([*range(len(performance))], performance, linestyle='-') # plotting t, a separately \n",
    "        else:\n",
    "            plt.plot([*range(len(performance))], performance, linestyle='--') # plotting t, a separately \n",
    "    plt.show()"
   ]
  },
  {
   "cell_type": "markdown",
   "id": "34f5068c-bf17-4c85-b360-cdfde3efaed7",
   "metadata": {
    "tags": []
   },
   "source": [
    "-----------\n",
    "### Experiment 02"
   ]
  },
  {
   "cell_type": "code",
   "execution_count": null,
   "id": "91bf722c-e010-4108-920c-b360eaa19f5f",
   "metadata": {},
   "outputs": [],
   "source": [
    "experiments = Experiment(original_working_directory_path)\n",
    "experiment_id = 2\n",
    "experiment_version = 0\n",
    "experiment_path = experiments.get_experiment_path(experiment_id, experiment_version)\n",
    "\n",
    "NR_ROUNDS = 10\n",
    "NR_EPISODES_PER_ROUND=1000\n",
    "\n",
    "seed_random()\n",
    "\n",
    "train_data, test_data, _ = DataProvider.get_scaled_train_test_split(scaling_minmax=True, scale_normal_only=True)\n",
    "training_data_strides = split_training_data(train_data, 2)\n",
    "\n",
    "environment_01 = SensorEnvironment(training_data_strides[0])\n",
    "environment_02 = SensorEnvironment(training_data_strides[1])\n",
    "\n",
    "global_agent = Agent(0, input_dims=environment_02.observation_space_size, n_actions=len(environment_02.actions), buffer_size=BUFFER_SIZE,\n",
    "                batch_size=BATCH_SIZE, lr=LEARNING_RATE, gamma=GAMMA, epsilon=EPSILON_START, eps_end=EPSILON_END, eps_dec=EPSILON_DEC)\n",
    "\n",
    "agent_01 = Agent(1, input_dims=environment_01.observation_space_size, n_actions=len(environment_01.actions), buffer_size=BUFFER_SIZE,\n",
    "              batch_size=BATCH_SIZE, lr=LEARNING_RATE, gamma=GAMMA, epsilon=EPSILON_START, eps_end=EPSILON_END, eps_dec=EPSILON_DEC)\n",
    "\n",
    "agent_02 = Agent(2, input_dims=environment_02.observation_space_size, n_actions=len(environment_02.actions), buffer_size=BUFFER_SIZE,\n",
    "                batch_size=BATCH_SIZE, lr=LEARNING_RATE, gamma=GAMMA, epsilon=EPSILON_START, eps_end=EPSILON_END, eps_dec=EPSILON_DEC)\n",
    "\n",
    "server = Server(global_agent, test_data, experiment_id, experiment_path, nr_rounds=NR_ROUNDS, nr_episodes_per_round=NR_EPISODES_PER_ROUND, parallelized=True)\n",
    "\n",
    "client_01 = Client(1, agent_01, environment_01, MIN_REPLAY_SIZE)\n",
    "client_02 = Client(2, agent_02, environment_02, MIN_REPLAY_SIZE)\n",
    "\n",
    "server.add_client(client_01)\n",
    "server.add_client(client_02)\n",
    "\n",
    "server.run_federation(evaluations=[\"performance_evaluation\", \"learning_curve\"], evaluation_frequency=1)"
   ]
  },
  {
   "cell_type": "markdown",
   "id": "68b28e0e-2b9c-483c-a310-417a28766753",
   "metadata": {},
   "source": [
    "-----------\n",
    "### Experiment 03"
   ]
  },
  {
   "cell_type": "code",
   "execution_count": null,
   "id": "0567c0e7-547d-463d-8d65-c7abe2d1aa52",
   "metadata": {},
   "outputs": [],
   "source": [
    "experiments = Experiment(original_working_directory_path)\n",
    "experiment_id = 3\n",
    "experiment_version = 0\n",
    "experiment_path = experiments.get_experiment_path(experiment_id, experiment_version)\n",
    "\n",
    "EPSILON_START = 1.0\n",
    "EPSILON_DEC = 1e-4\n",
    "EPSILON_END = 0.01\n",
    "NR_ROUNDS = 10\n",
    "\n",
    "\n",
    "seed_random()\n",
    "\n",
    "full_train_data, full_test_data, _ = DataProvider.get_scaled_train_test_split(scaling_minmax=True, scale_normal_only=True)\n",
    "\n",
    "subset_1 = (Behavior.NORMAL, Behavior.RANSOMWARE_POC, Behavior.ROOTKIT_BDVL, Behavior.ROOTKIT_BEURK)\n",
    "subset_2 = (Behavior.NORMAL, Behavior.CNC_THETICK, Behavior.CNC_BACKDOOR_JAKORITAR, Behavior.CNC_OPT1, Behavior.CNC_OPT2)\n",
    "sub_train_1 = {x: full_train_data[x] for x in subset_1 if x in full_train_data}\n",
    "sub_train_2 = {x: full_train_data[x] for x in subset_2 if x in full_train_data}\n",
    "\n",
    "environment_01 = SensorEnvironment(sub_train_1)\n",
    "environment_02 = SensorEnvironment(sub_train_2)\n",
    "\n",
    "\n",
    "global_agent = Agent(0, input_dims=environment_02.observation_space_size, n_actions=len(environment_02.actions), buffer_size=BUFFER_SIZE,\n",
    "                batch_size=BATCH_SIZE, lr=LEARNING_RATE, gamma=GAMMA, epsilon=EPSILON_START, eps_end=EPSILON_END, eps_dec=EPSILON_DEC)\n",
    "\n",
    "agent_01 = Agent(1, input_dims=environment_01.observation_space_size, n_actions=len(environment_01.actions), buffer_size=BUFFER_SIZE,\n",
    "              batch_size=BATCH_SIZE, lr=LEARNING_RATE, gamma=GAMMA, epsilon=EPSILON_START, eps_end=EPSILON_END, eps_dec=EPSILON_DEC)\n",
    "\n",
    "agent_02 = Agent(2, input_dims=environment_02.observation_space_size, n_actions=len(environment_02.actions), buffer_size=BUFFER_SIZE,\n",
    "                batch_size=BATCH_SIZE, lr=LEARNING_RATE, gamma=GAMMA, epsilon=EPSILON_START, eps_end=EPSILON_END, eps_dec=EPSILON_DEC)\n",
    "\n",
    "server = Server(global_agent, test_data, experiment_id, experiment_path, nr_rounds=NR_ROUNDS, nr_episodes_per_round=NR_EPISODES_PER_ROUND, parallelized=True)\n",
    "\n",
    "client_01 = Client(1, agent_01, environment_01, MIN_REPLAY_SIZE)\n",
    "client_02 = Client(2, agent_02, environment_02, MIN_REPLAY_SIZE)\n",
    "\n",
    "server.add_client(client_01)\n",
    "server.add_client(client_02)\n",
    "\n",
    "server.run_federation(evaluations=[\"performance_evaluation\", \"learning_curve\"], evaluation_frequency=1)"
   ]
  },
  {
   "cell_type": "markdown",
   "id": "0d91d764-ae18-44da-9399-271def80a2ee",
   "metadata": {},
   "source": [
    "-----------\n",
    "#### Experiment 04"
   ]
  },
  {
   "cell_type": "code",
   "execution_count": null,
   "id": "546e4b25-03cd-423f-8e8e-b1913cb5b4ec",
   "metadata": {},
   "outputs": [],
   "source": [
    "experiments = Experiment(original_working_directory_path)\n",
    "experiment_id = 4\n",
    "experiment_version = 0\n",
    "experiment_path = experiments.get_experiment_path(experiment_id, experiment_version)\n",
    "\n",
    "EPSILON_START = 1.0\n",
    "EPSILON_DEC = 1e-4\n",
    "EPSILON_END = 0.01\n",
    "NR_ROUNDS = 10\n",
    "\n",
    "\n",
    "seed_random()\n",
    "\n",
    "full_train_data, full_test_data, _ = DataProvider.get_scaled_train_test_split(scaling_minmax=True, scale_normal_only=True)\n",
    "\n",
    "subset_1 = (Behavior.NORMAL, Behavior.RANSOMWARE_POC, Behavior.ROOTKIT_BDVL, Behavior.ROOTKIT_BEURK)\n",
    "subset_2 = (Behavior.NORMAL, Behavior.CNC_THETICK, Behavior.CNC_BACKDOOR_JAKORITAR, Behavior.CNC_OPT1, Behavior.CNC_OPT2)\n",
    "sub_train_1 = {x: full_train_data[x] for x in subset_1 if x in full_train_data}\n",
    "sub_train_2 = {x: full_train_data[x] for x in subset_2 if x in full_train_data}\n",
    "\n",
    "environment_01 = SensorEnvironment(sub_train_1)\n",
    "environment_02 = SensorEnvironment(sub_train_2)\n",
    "\n",
    "\n",
    "global_agent = Agent(0, input_dims=environment_02.observation_space_size, n_actions=len(environment_02.actions), buffer_size=BUFFER_SIZE,\n",
    "                batch_size=BATCH_SIZE, lr=LEARNING_RATE, gamma=GAMMA, epsilon=EPSILON_START, eps_end=EPSILON_END, eps_dec=EPSILON_DEC)\n",
    "\n",
    "agent_01 = Agent(1, input_dims=environment_01.observation_space_size, n_actions=len(environment_01.actions), buffer_size=BUFFER_SIZE,\n",
    "              batch_size=BATCH_SIZE, lr=LEARNING_RATE, gamma=GAMMA, epsilon=EPSILON_START, eps_end=EPSILON_END, eps_dec=EPSILON_DEC)\n",
    "\n",
    "agent_02 = Agent(2, input_dims=environment_02.observation_space_size, n_actions=len(environment_02.actions), buffer_size=BUFFER_SIZE,\n",
    "                batch_size=BATCH_SIZE, lr=LEARNING_RATE, gamma=GAMMA, epsilon=EPSILON_START, eps_end=EPSILON_END, eps_dec=EPSILON_DEC)\n",
    "\n",
    "server = Server(global_agent, test_data, experiment_id, experiment_path, nr_rounds=NR_ROUNDS, nr_episodes_per_round=NR_EPISODES_PER_ROUND, parallelized=False)\n",
    "\n",
    "client_01 = Client(1, agent_01, environment_01, experiment_path, MIN_REPLAY_SIZE)\n",
    "client_02 = Client(2, agent_02, environment_02, experiment_path, MIN_REPLAY_SIZE)\n",
    "\n",
    "server.add_client(client_01)\n",
    "server.add_client(client_02)\n",
    "\n",
    "server.run_federation(evaluations=[\"performance_evaluation\", \"learning_curve\"], evaluation_frequency=1)"
   ]
  },
  {
   "cell_type": "markdown",
   "id": "3d453c65-dc3b-45f9-8165-83bc3b896998",
   "metadata": {},
   "source": [
    "-----------\n",
    "#### Experiment 05"
   ]
  },
  {
   "cell_type": "code",
   "execution_count": null,
   "id": "5606e077-4453-4bfa-9277-644094c68e81",
   "metadata": {},
   "outputs": [],
   "source": [
    "experiments = Experiment(original_working_directory_path)\n",
    "experiment_id = 5\n",
    "experiment_version = 0\n",
    "experiment_path = experiments.get_experiment_path(experiment_id, experiment_version)\n",
    "\n",
    "seed_random()\n",
    "\n",
    "full_train_data, full_test_data, _ = DataProvider.get_scaled_train_test_split(scaling_minmax=True, scale_normal_only=True)\n",
    "\n",
    "subset_1 = (Behavior.NORMAL, Behavior.RANSOMWARE_POC, Behavior.ROOTKIT_BDVL, Behavior.CNC_OPT1)\n",
    "subset_2 = (Behavior.NORMAL, Behavior.CNC_THETICK, Behavior.ROOTKIT_BEURK , Behavior.CNC_OPT2, Behavior.CNC_BACKDOOR_JAKORITAR)\n",
    "sub_train_1 = {x: full_train_data[x] for x in subset_1 if x in full_train_data}\n",
    "sub_train_2 = {x: full_train_data[x] for x in subset_2 if x in full_train_data}\n",
    "\n",
    "environment_01 = SensorEnvironment(sub_train_1)\n",
    "environment_02 = SensorEnvironment(sub_train_2)\n",
    "\n",
    "\n",
    "global_agent = Agent(0, input_dims=environment_02.observation_space_size, n_actions=len(environment_02.actions), buffer_size=BUFFER_SIZE,\n",
    "                batch_size=BATCH_SIZE, lr=LEARNING_RATE, gamma=GAMMA, epsilon=EPSILON_START, eps_end=EPSILON_END, eps_dec=EPSILON_DEC, is_global_agent=True)\n",
    "\n",
    "agent_01 = Agent(1, input_dims=environment_01.observation_space_size, n_actions=len(environment_01.actions), buffer_size=BUFFER_SIZE,\n",
    "              batch_size=BATCH_SIZE, lr=LEARNING_RATE, gamma=GAMMA, epsilon=EPSILON_START, eps_end=EPSILON_END, eps_dec=EPSILON_DEC)\n",
    "\n",
    "agent_02 = Agent(2, input_dims=environment_02.observation_space_size, n_actions=len(environment_02.actions), buffer_size=BUFFER_SIZE,\n",
    "                batch_size=BATCH_SIZE, lr=LEARNING_RATE, gamma=GAMMA, epsilon=EPSILON_START, eps_end=EPSILON_END, eps_dec=EPSILON_DEC)\n",
    "\n",
    "server = Server(global_agent, test_data, experiment_id, experiment_path, nr_rounds=NR_ROUNDS, nr_episodes_per_round=NR_EPISODES_PER_ROUND, parallelized=False)\n",
    "\n",
    "client_01 = Client(1, agent_01, environment_01, experiment_path, MIN_REPLAY_SIZE)\n",
    "client_02 = Client(2, agent_02, environment_02, experiment_path, MIN_REPLAY_SIZE)\n",
    "\n",
    "server.add_client(client_01)\n",
    "server.add_client(client_02)\n",
    "\n",
    "server.run_federation(evaluations=[\"performance_evaluation\", \"learning_curve\"], evaluation_frequency=1)"
   ]
  },
  {
   "cell_type": "markdown",
   "id": "b73fd288-91fc-4838-a792-740f1db53850",
   "metadata": {},
   "source": [
    "-----------\n",
    "### Experiment 06"
   ]
  },
  {
   "cell_type": "code",
   "execution_count": null,
   "id": "06fba5f9-6a51-449a-b1e5-96cc78b12870",
   "metadata": {
    "tags": []
   },
   "outputs": [],
   "source": [
    "experiments = Experiment(original_working_directory_path)\n",
    "experiment_id = 6\n",
    "experiment_version = 0\n",
    "experiment_path = experiments.get_experiment_path(experiment_id, experiment_version)\n",
    "\n",
    "\n",
    "seed_random()\n",
    "start = time()\n",
    "\n",
    "full_train_data, full_test_data, _ = DataProvider.get_scaled_train_test_split(scaling_minmax=True, scale_normal_only=True)\n",
    "\n",
    "subset_1 = (Behavior.NORMAL, Behavior.RANSOMWARE_POC, Behavior.ROOTKIT_BDVL, Behavior.CNC_BACKDOOR_JAKORITAR, Behavior.CNC_OPT1)\n",
    "subset_2 = (Behavior.NORMAL, Behavior.CNC_THETICK, Behavior.ROOTKIT_BEURK , Behavior.CNC_OPT2)\n",
    "sub_train_1 = {x: full_train_data[x] for x in subset_1 if x in full_train_data}\n",
    "sub_train_2 = {x: full_train_data[x] for x in subset_2 if x in full_train_data}\n",
    "\n",
    "environment_01 = SensorEnvironment(sub_train_1)\n",
    "environment_02 = SensorEnvironment(sub_train_2)\n",
    "\n",
    "\n",
    "global_agent = Agent(0, input_dims=environment_02.observation_space_size, n_actions=len(environment_02.actions), buffer_size=BUFFER_SIZE,\n",
    "                batch_size=BATCH_SIZE, lr=LEARNING_RATE, gamma=GAMMA, epsilon=EPSILON_START, eps_end=EPSILON_END, eps_dec=EPSILON_DEC, is_global_agent=True)\n",
    "\n",
    "agent_01 = Agent(1, input_dims=environment_01.observation_space_size, n_actions=len(environment_01.actions), buffer_size=BUFFER_SIZE,\n",
    "              batch_size=BATCH_SIZE, lr=LEARNING_RATE, gamma=GAMMA, epsilon=EPSILON_START, eps_end=EPSILON_END, eps_dec=EPSILON_DEC)\n",
    "\n",
    "agent_02 = Agent(2, input_dims=environment_02.observation_space_size, n_actions=len(environment_02.actions), buffer_size=BUFFER_SIZE,\n",
    "                batch_size=BATCH_SIZE, lr=LEARNING_RATE, gamma=GAMMA, epsilon=EPSILON_START, eps_end=EPSILON_END, eps_dec=EPSILON_DEC)\n",
    "\n",
    "\n",
    "server = Server(global_agent, full_test_data, experiment_id, experiment_path, nr_rounds=NR_ROUNDS, nr_episodes_per_round=NR_EPISODES_PER_ROUND, parallelized=False)\n",
    "\n",
    "client_01 = Client(1, agent_01, environment_01, experiment_path, MIN_REPLAY_SIZE)\n",
    "client_02 = Client(2, agent_02, environment_02, experiment_path, MIN_REPLAY_SIZE)\n",
    "# initialize memory replay buffer (randomly)\n",
    "client_01.init_replay_memory(MIN_REPLAY_SIZE)\n",
    "client_02.init_replay_memory(MIN_REPLAY_SIZE)\n",
    "\n",
    "server.add_client(client_01)\n",
    "server.add_client(client_02)\n",
    "\n",
    "server.run_federation(evaluations=[\"performance_evaluation\", \"learning_curve\"], evaluation_frequency=1)\n"
   ]
  },
  {
   "cell_type": "markdown",
   "id": "7f8cd571-99ce-47b6-968a-e69aa0bd3258",
   "metadata": {},
   "source": [
    "-----------\n",
    "### Experiment 07"
   ]
  },
  {
   "cell_type": "code",
   "execution_count": null,
   "id": "010a7265-db9b-4812-8fb7-67e36dd4a8cb",
   "metadata": {},
   "outputs": [],
   "source": [
    "experiments = Experiment(original_working_directory_path)\n",
    "experiment_id = 7\n",
    "experiment_version = 0\n",
    "experiment_path = experiments.get_experiment_path(experiment_id, experiment_version)\n",
    "\n",
    "NR_ROUNDS = 100\n",
    "NR_EPISODES_PER_ROUND=100\n",
    "\n",
    "seed_random()\n",
    "\n",
    "train_data, test_data, _ = DataProvider.get_scaled_train_test_split(scaling_minmax=True, scale_normal_only=True)\n",
    "\n",
    "environment_01 = SensorEnvironment(train_data)\n",
    "environment_02 = SensorEnvironment(train_data)\n",
    "\n",
    "\n",
    "global_agent = Agent(0, input_dims=environment_02.observation_space_size, n_actions=len(environment_02.actions), buffer_size=BUFFER_SIZE,\n",
    "                batch_size=BATCH_SIZE, lr=LEARNING_RATE, gamma=GAMMA, epsilon=EPSILON_START, eps_end=EPSILON_END, eps_dec=EPSILON_DEC)\n",
    "\n",
    "agent_01 = Agent(1, input_dims=environment_01.observation_space_size, n_actions=len(environment_01.actions), buffer_size=BUFFER_SIZE,\n",
    "              batch_size=BATCH_SIZE, lr=LEARNING_RATE, gamma=GAMMA, epsilon=EPSILON_START, eps_end=EPSILON_END, eps_dec=EPSILON_DEC)\n",
    "\n",
    "agent_02 = Agent(2, input_dims=environment_02.observation_space_size, n_actions=len(environment_02.actions), buffer_size=BUFFER_SIZE,\n",
    "                batch_size=BATCH_SIZE, lr=LEARNING_RATE, gamma=GAMMA, epsilon=EPSILON_START, eps_end=EPSILON_END, eps_dec=EPSILON_DEC)\n",
    "\n",
    "server = Server(global_agent, test_data, experiment_id, experiment_path, nr_rounds=NR_ROUNDS, nr_episodes_per_round=NR_EPISODES_PER_ROUND, parallelized=False)\n",
    "\n",
    "client_01 = Client(1, agent_01, environment_01, experiment_path, MIN_REPLAY_SIZE)\n",
    "client_02 = Client(2, agent_02, environment_02, experiment_path, MIN_REPLAY_SIZE)\n",
    "\n",
    "server.add_client(client_01)\n",
    "server.add_client(client_02)\n",
    "\n",
    "server.run_federation(evaluations=[\"performance_evaluation\"])"
   ]
  },
  {
   "cell_type": "markdown",
   "id": "f7a479c8-a5c4-433e-b5b9-6903dae9c1a5",
   "metadata": {},
   "source": [
    "-----------\n",
    "#### Experiment 8.1"
   ]
  },
  {
   "cell_type": "code",
   "execution_count": null,
   "id": "b9da82dc-2042-4f21-aa69-ec0abb337a4a",
   "metadata": {},
   "outputs": [],
   "source": [
    "experiments = Experiment(original_working_directory_path)\n",
    "experiment_id = 8\n",
    "experiment_version = 1\n",
    "experiment_path = experiments.get_experiment_path(experiment_id, experiment_version)\n",
    "\n",
    "\n",
    "NR_ROUNDS = 10\n",
    "NR_EPISODES_PER_ROUND=1000\n",
    "NR_CLIENTS = 5\n",
    "\n",
    "environemnts = []\n",
    "clients = []\n",
    "\n",
    "seed_random()\n",
    "\n",
    "train_data, test_data, _ = DataProvider.get_scaled_train_test_split(scaling_minmax=True, scale_normal_only=True)\n",
    "training_data_strides = split_training_data(train_data, NR_CLIENTS)\n",
    "\n",
    "environment = SensorEnvironment(train_data)\n",
    "global_agent = Agent(0, input_dims=environment.observation_space_size, n_actions=len(environment.actions), buffer_size=BUFFER_SIZE,\n",
    "                batch_size=BATCH_SIZE, lr=LEARNING_RATE, gamma=GAMMA, epsilon=EPSILON_START, eps_end=EPSILON_END, eps_dec=EPSILON_DEC)\n",
    "\n",
    "server = Server(global_agent, full_test_data, experiment_id, experiment_path, nr_rounds=NR_ROUNDS, nr_episodes_per_round=NR_EPISODES_PER_ROUND, parallelized=False)\n",
    "\n",
    "for i in range(NR_CLIENTS):\n",
    "    id = i + 1\n",
    "    environment = SensorEnvironment(training_data_strides[i])\n",
    "    agent = Agent(id, input_dims=environment.observation_space_size, n_actions=len(environment.actions), buffer_size=BUFFER_SIZE,\n",
    "              batch_size=BATCH_SIZE, lr=LEARNING_RATE, gamma=GAMMA, epsilon=EPSILON_START, eps_end=EPSILON_END, eps_dec=EPSILON_DEC)\n",
    "    client = Client(id, agent, environment, experiment_path, MIN_REPLAY_SIZE)\n",
    "    client.init_replay_memory(MIN_REPLAY_SIZE)\n",
    "    server.add_client(client)\n",
    "\n",
    "server.run_federation(evaluations=[\"performance_evaluation\", \"learning_curve\"], evaluation_frequency=1)"
   ]
  },
  {
   "cell_type": "code",
   "execution_count": null,
   "id": "dac456df-1f35-4202-8ff1-24c8a80e37f9",
   "metadata": {},
   "outputs": [],
   "source": [
    "experiments = Experiment(original_working_directory_path)\n",
    "experiment_id = 8\n",
    "experiment_version = 2\n",
    "experiment_path = experiments.get_experiment_path(experiment_id, experiment_version)\n",
    "\n",
    "NR_ROUNDS = 10\n",
    "NR_EPISODES_PER_ROUND=1000\n",
    "NR_CLIENTS = 5\n",
    "\n",
    "environemnts = []\n",
    "clients = []\n",
    "\n",
    "seed_random()\n",
    "\n",
    "# read in all preprocessed data for a simulated, supervised environment to sample from\n",
    "train_data, test_data, _ = DataProvider.get_scaled_train_test_split(scaling_minmax=True, scale_normal_only=True)\n",
    "training_data_strides = split_training_data(train_data, NR_CLIENTS)\n",
    "\n",
    "# train_data, test_data = DataProvider.get_reduced_dimensions_with_pca(DIMS, pi=PI, normal_only=True)\n",
    "environment = SensorEnvironment(train_data)\n",
    "global_agent = Agent(0, input_dims=environment.observation_space_size, n_actions=len(environment.actions), buffer_size=BUFFER_SIZE,\n",
    "                batch_size=BATCH_SIZE, lr=LEARNING_RATE, gamma=GAMMA, epsilon=EPSILON_START, eps_end=EPSILON_END, eps_dec=EPSILON_DEC)\n",
    "\n",
    "server = Server(global_agent, full_test_data, experiment_id, experiment_path, nr_rounds=NR_ROUNDS, nr_episodes_per_round=NR_EPISODES_PER_ROUND, parallelized=True)\n",
    "\n",
    "\n",
    "\n",
    "for i in range(NR_CLIENTS):\n",
    "    id = i + 1\n",
    "    environment = SensorEnvironment(training_data_strides[i])\n",
    "    agent = Agent(id, input_dims=environment.observation_space_size, n_actions=len(environment.actions), buffer_size=BUFFER_SIZE,\n",
    "              batch_size=BATCH_SIZE, lr=LEARNING_RATE, gamma=GAMMA, epsilon=EPSILON_START, eps_end=EPSILON_END, eps_dec=EPSILON_DEC)\n",
    "    client = Client(id, agent, environment, experiment_path)\n",
    "    client.init_replay_memory(MIN_REPLAY_SIZE)\n",
    "    server.add_client(client)\n",
    "\n",
    "server.run_federation(evaluations=[\"performance_evaluation\", \"learning_curve\"], evaluation_frequency=1)"
   ]
  },
  {
   "cell_type": "markdown",
   "id": "2228ebfa-f7d9-4330-8861-c8af4aa06206",
   "metadata": {},
   "source": [
    "-----------\n",
    "#### Experiment 09"
   ]
  },
  {
   "cell_type": "code",
   "execution_count": null,
   "id": "44b79703-a8bc-41b2-aa8a-a1a6180fe4e3",
   "metadata": {},
   "outputs": [],
   "source": [
    "experiments = Experiment(original_working_directory_path)\n",
    "experiment_id = 9\n",
    "experiment_version = 0\n",
    "experiment_path = experiments.get_experiment_path(experiment_id, experiment_version)\n",
    "\n",
    "NR_ROUNDS = 100\n",
    "NR_EPISODES_PER_ROUND=100\n",
    "NR_CLIENTS = 5\n",
    "\n",
    "environemnts = []\n",
    "clients = []\n",
    "\n",
    "seed_random()\n",
    "\n",
    "# read in all preprocessed data for a simulated, supervised environment to sample from\n",
    "train_data, test_data, _ = DataProvider.get_scaled_train_test_split(scaling_minmax=True, scale_normal_only=True)\n",
    "training_data_strides = split_training_data(train_data, NR_CLIENTS)\n",
    "\n",
    "# train_data, test_data = DataProvider.get_reduced_dimensions_with_pca(DIMS, pi=PI, normal_only=True)\n",
    "environment = SensorEnvironment(train_data)\n",
    "global_agent = Agent(0, input_dims=environment.observation_space_size, n_actions=len(environment.actions), buffer_size=BUFFER_SIZE,\n",
    "                batch_size=BATCH_SIZE, lr=LEARNING_RATE, gamma=GAMMA, epsilon=EPSILON_START, eps_end=EPSILON_END, eps_dec=EPSILON_DEC)\n",
    "\n",
    "server = Server(global_agent, full_test_data, experiment_id, experiment_path, nr_rounds=NR_ROUNDS, nr_episodes_per_round=NR_EPISODES_PER_ROUND, parallelized=False)\n",
    "\n",
    "\n",
    "\n",
    "for i in range(NR_CLIENTS):\n",
    "    id = i + 1\n",
    "    environment = SensorEnvironment(training_data_strides[i])\n",
    "    agent = Agent(id, input_dims=environment.observation_space_size, n_actions=len(environment.actions), buffer_size=BUFFER_SIZE,\n",
    "              batch_size=BATCH_SIZE, lr=LEARNING_RATE, gamma=GAMMA, epsilon=EPSILON_START, eps_end=EPSILON_END, eps_dec=EPSILON_DEC)\n",
    "    client = Client(id, agent, environment, experiment_path)\n",
    "    client.init_replay_memory(MIN_REPLAY_SIZE)\n",
    "    server.add_client(client)\n",
    "\n",
    "server.run_federation(evaluations=[\"performance_evaluation\", \"learning_curve\"], evaluation_frequency=10)"
   ]
  },
  {
   "cell_type": "code",
   "execution_count": null,
   "id": "9abc4786-ed1a-47dc-b103-2249d1967674",
   "metadata": {},
   "outputs": [],
   "source": [
    "experiments = Experiment(original_working_directory_path)\n",
    "experiment_id = 10\n",
    "experiment_version = 0\n",
    "experiment_path = experiments.get_experiment_path(experiment_id, experiment_version)\n",
    "\n",
    "NR_ROUNDS = 100\n",
    "NR_EPISODES_PER_ROUND=100\n",
    "NR_CLIENTS = 5\n",
    "\n",
    "environemnts = []\n",
    "clients = []\n",
    "\n",
    "seed_random()\n",
    "\n",
    "train_data, test_data, _ = DataProvider.get_scaled_train_test_split(scaling_minmax=True, scale_normal_only=True)\n",
    "training_data_strides = split_training_data(train_data, NR_CLIENTS)\n",
    "\n",
    "environment = SensorEnvironment(train_data)\n",
    "global_agent = Agent(0, input_dims=environment.observation_space_size, n_actions=len(environment.actions), buffer_size=BUFFER_SIZE,\n",
    "                batch_size=BATCH_SIZE, lr=LEARNING_RATE, gamma=GAMMA, epsilon=EPSILON_START, eps_end=EPSILON_END, eps_dec=EPSILON_DEC)\n",
    "\n",
    "server = Server(global_agent, test_data, experiment_id, experiment_path, nr_rounds=NR_ROUNDS, nr_episodes_per_round=NR_EPISODES_PER_ROUND, parallelized=False)\n",
    "\n",
    "for behavior in Behavior:\n",
    "    print(str(behavior).split('.')[1])\n",
    "\n",
    "for i in range(NR_CLIENTS):\n",
    "    id = i + 1\n",
    "    environment = SensorEnvironment(training_data_strides[i])\n",
    "    agent = Agent(id, input_dims=environment.observation_space_size, n_actions=len(environment.actions), buffer_size=BUFFER_SIZE,\n",
    "              batch_size=BATCH_SIZE, lr=LEARNING_RATE, gamma=GAMMA, epsilon=EPSILON_START, eps_end=EPSILON_END, eps_dec=EPSILON_DEC)\n",
    "    client = Client(id, agent, environment, experiment_path)\n",
    "    client.init_replay_memory(MIN_REPLAY_SIZE)\n",
    "    client.plot_training_data_split()\n",
    "    server.add_client(client)\n",
    "\n",
    "server.run_federation(evaluations=[\"performance_evaluation\", \"learning_curve\"], evaluation_frequency=10)"
   ]
  }
 ],
 "metadata": {
  "colab": {
   "include_colab_link": true,
   "provenance": []
  },
  "kernelspec": {
   "display_name": "FedRL-for-IT-Sec",
   "language": "python",
   "name": "fedrl-for-it-sec"
  },
  "language_info": {
   "codemirror_mode": {
    "name": "ipython",
    "version": 3
   },
   "file_extension": ".py",
   "mimetype": "text/x-python",
   "name": "python",
   "nbconvert_exporter": "python",
   "pygments_lexer": "ipython3",
   "version": "3.10.10"
  }
 },
 "nbformat": 4,
 "nbformat_minor": 5
}
