{
 "cells": [
  {
   "cell_type": "markdown",
   "id": "ba26052c-2bb9-48c9-9565-ed139cc65688",
   "metadata": {
    "tags": []
   },
   "source": [
    "# Prototype 01\n",
    "#### Tasks\n",
    "##### Done\n",
    "\n",
    "- Check timos epsilon decay strategy [✓]\n",
    "- Split the dataset presented to each client [✓]\n",
    "- Check the format of training data [✓]\n",
    "- Add softmax to the last layer [✓] \n",
    "- Make function to save the most important details about an experiment in a README.md file and save it with the models and the graphics [✓]\n",
    "- Improve the log experiment function [✓]\n",
    "- Check why the learning curve shows twice as many epochs as actually existent [✓]\n",
    "- Add saving functionality to the plotting functions [✓]\n",
    "- write the experiment summary directly into the md file [✓]\n",
    "- Add the global training time and the round training time [✓]\n",
    "- Add a name function to the agent and make the global agent return the correct name [✓]\n",
    "- Check why there is twice as many episodes in the graph as there should be [✓]\n",
    "- Align the markdown table to the left [✓]\n",
    "- Save the full training time [✓]\n",
    "- Save the rount training time on each client [✓]\n",
    "- Add the execution date to the experiment report [✓]\n",
    "- Use the pipe table [✓]\n",
    "- How many threads can my macbook pro run in parallel => 6 (12 with Hyperthreadding) [✓]\n",
    "- Check if the experiment directory already exists and if yest delete it and make space for the new files [✓]\n",
    "- Check different types of tables [✓]\n",
    "- Remove the verbosity flag from the server train functions [✓]\n",
    "- Change the blue in the graphics to a darker blue and the red to a more poppy color. [✓]\n",
    "- Make a subindex possible for the experiment [✓]\n",
    "- Check if the replay memoery init can be moved internally (client_01.init_replay_memory(MIN_REPLAY_SIZE)) [✓]\n",
    "- Check that the test data is independant from the train data [✓]\n",
    "- Validate the copying of the parameters works properly [✓]\n",
    "- Weight aggregation does not take a lot of time [✓].\n",
    "\n",
    "##### Open\n",
    "\n",
    "\n",
    "- How often do i have to initialze the replay memory?\n",
    "- Make sure that the weights of the DQN are not being reset by the training\n",
    "- If you really want to make this work online then the right aggregation strategy is key. Maybe ensemble models would be good.\n",
    "- Check different federated aggregation strategies for class distinct problems\n",
    "- Parallelize the training\n",
    "- Move the training to the GPU.\n",
    "- Make the threadding more efficient\n",
    "- Add f1 score and confusion matrix\n",
    "- Check the weighting strategy that Timo used\n",
    "- Ipmlemtne Multiclass Imbalance Degree (MID) Metric\n",
    "- Print a graph with overall attack detection accuracy (How many got mitigated and how many did not get mitigated)\n",
    "- Check which loss we are using (purpose of binary cross entropy loss)\n",
    "- Add confusion matrices\n",
    "- Check RMS Prop\n",
    "- Check why there is 4 actions (possible outputs) of the DQN while we only use 3 MTDs. Does zero mean no MTD?\n",
    "- Move each class to its own file\n",
    "- Better split the training data to clients\n",
    "- What is the purpose of share memory function?\n",
    "- Check if the DQN is always randomly re-initialized\n",
    "- plot the training data splits\n",
    "- Check why the parallelized training is not faster?\n",
    "- Maybe we should use the model with the best test performance\n",
    "- Check why there is 4 output actions\n",
    "- Check the format of the training data\n",
    "- Make graphs that cover the global test accuracy over all rounds for all clients (including the global agent)\n",
    "- Make sure that the online & target network is randomyl re-initialized again\n",
    "- Make a historgram of samples chosen in each round and a historgram of sample classes chosen over the whole training\n",
    "- incorporate the confusion matrix\n",
    "- Make a performance table where you have the true behavior and the predicted action.\n",
    "- Check hyperparameter search."
   ]
  },
  {
   "cell_type": "markdown",
   "id": "f73029e5-94b9-4123-93c9-1570f19d7a84",
   "metadata": {
    "tags": []
   },
   "source": [
    "## Training on Google Collab "
   ]
  },
  {
   "cell_type": "code",
   "execution_count": 1,
   "id": "aOKaMgUnZYbP",
   "metadata": {
    "colab": {
     "base_uri": "https://localhost:8080/"
    },
    "id": "aOKaMgUnZYbP",
    "outputId": "240f59de-2be0-483f-d1db-521468987b62"
   },
   "outputs": [
    {
     "ename": "ModuleNotFoundError",
     "evalue": "No module named 'google'",
     "output_type": "error",
     "traceback": [
      "\u001b[0;31m---------------------------------------------------------------------------\u001b[0m",
      "\u001b[0;31mModuleNotFoundError\u001b[0m                       Traceback (most recent call last)",
      "Input \u001b[0;32mIn [1]\u001b[0m, in \u001b[0;36m<cell line: 2>\u001b[0;34m()\u001b[0m\n\u001b[1;32m      1\u001b[0m \u001b[38;5;66;03m# Mount your google drive in google colab\u001b[39;00m\n\u001b[0;32m----> 2\u001b[0m \u001b[38;5;28;01mfrom\u001b[39;00m \u001b[38;5;21;01mgoogle\u001b[39;00m\u001b[38;5;21;01m.\u001b[39;00m\u001b[38;5;21;01mcolab\u001b[39;00m \u001b[38;5;28;01mimport\u001b[39;00m drive\n\u001b[1;32m      3\u001b[0m drive\u001b[38;5;241m.\u001b[39mmount(\u001b[38;5;124m'\u001b[39m\u001b[38;5;124m/content/drive\u001b[39m\u001b[38;5;124m'\u001b[39m, force_remount\u001b[38;5;241m=\u001b[39m\u001b[38;5;28;01mTrue\u001b[39;00m)\n",
      "\u001b[0;31mModuleNotFoundError\u001b[0m: No module named 'google'"
     ]
    }
   ],
   "source": [
    "# Mount your google drive in google colab\n",
    "from google.colab import drive\n",
    "drive.mount('/content/drive', force_remount=True)"
   ]
  },
  {
   "cell_type": "code",
   "execution_count": null,
   "id": "c091283c-4f2b-4c79-992b-690f01776638",
   "metadata": {},
   "outputs": [],
   "source": [
    "# Go to base directory\n",
    "%cd /content/drive/MyDrive/University/Master-Thesis/Code"
   ]
  },
  {
   "cell_type": "markdown",
   "id": "6d466b3b-c927-4ef1-ac65-ec3db4576da3",
   "metadata": {},
   "source": [
    "## Training on Local Machine"
   ]
  },
  {
   "cell_type": "code",
   "execution_count": 1,
   "id": "e93a4765-f570-4a09-a4bb-92361eec9f48",
   "metadata": {},
   "outputs": [
    {
     "name": "stdout",
     "output_type": "stream",
     "text": [
      "The original working directory is /Users/jankreischer/Library/Mobile Documents/com~apple~CloudDocs/Master-Thesis/Code/prototypes/prototype_01\n"
     ]
    }
   ],
   "source": [
    "import os\n",
    "\n",
    "original_working_directory_path = os.getcwd()\n",
    "print(\"The original working directory is {0}\".format(os.getcwd()))\n",
    "\n",
    "def to_original_working_directory():\n",
    "    os.chdir(original_working_directory_path)\n",
    "    print(f\"Changed to original working directory {original_working_directory_path}\")"
   ]
  },
  {
   "cell_type": "code",
   "execution_count": 2,
   "id": "3f290fa7-29f1-4376-86e4-56d78679f771",
   "metadata": {},
   "outputs": [],
   "source": [
    "def to_root_working_directory():\n",
    "    root_working_directory_path = os.path.join(original_working_directory_path, \"../..\")\n",
    "    os.chdir(root_working_directory_path)\n",
    "    print(f\"Changed to root working directory {os.getcwd()}\")"
   ]
  },
  {
   "cell_type": "code",
   "execution_count": 3,
   "id": "4f949990-e666-4f91-a9f4-831dc7b2462c",
   "metadata": {},
   "outputs": [
    {
     "name": "stdout",
     "output_type": "stream",
     "text": [
      "Changed to root working directory /Users/jankreischer/Library/Mobile Documents/com~apple~CloudDocs/Master-Thesis/Code\n"
     ]
    }
   ],
   "source": [
    "to_root_working_directory()"
   ]
  },
  {
   "cell_type": "code",
   "execution_count": 4,
   "id": "4a6c146f-9a8a-4739-820b-e9689c45e5a3",
   "metadata": {},
   "outputs": [
    {
     "name": "stdout",
     "output_type": "stream",
     "text": [
      "Python 3.10.10\n"
     ]
    }
   ],
   "source": [
    "# Validate that python 3.10 is used\n",
    "!python --version"
   ]
  },
  {
   "cell_type": "code",
   "execution_count": 5,
   "id": "55107adb-da39-4ef0-b80c-1988f77cb6c0",
   "metadata": {},
   "outputs": [],
   "source": [
    "def seed_random():\n",
    "    random.seed(42)\n",
    "    torch.random.manual_seed(42)\n",
    "    np.random.seed(42)"
   ]
  },
  {
   "cell_type": "markdown",
   "id": "80523a04-4e7d-47de-8c6f-4d0c6c77d05a",
   "metadata": {},
   "source": [
    "## --- Dependencies ---"
   ]
  },
  {
   "cell_type": "code",
   "execution_count": 6,
   "id": "eb2b2e7b-5fad-4d40-b163-163fc1e4eb25",
   "metadata": {},
   "outputs": [],
   "source": [
    "# Standard Dependencies\n",
    "import sys\n",
    "import os\n",
    "import numpy as np\n",
    "from time import time"
   ]
  },
  {
   "cell_type": "code",
   "execution_count": 7,
   "id": "63770f25-75fb-4b9d-8ea3-51354c8152dd",
   "metadata": {
    "id": "63770f25-75fb-4b9d-8ea3-51354c8152dd"
   },
   "outputs": [
    {
     "name": "stderr",
     "output_type": "stream",
     "text": [
      "/Users/jankreischer/opt/anaconda3/envs/FedRL-for-IT-Sec/lib/python3.10/site-packages/tqdm/auto.py:22: TqdmWarning: IProgress not found. Please update jupyter and ipywidgets. See https://ipywidgets.readthedocs.io/en/stable/user_install.html\n",
      "  from .autonotebook import tqdm as notebook_tqdm\n"
     ]
    }
   ],
   "source": [
    "# Global Dependencies\n",
    "from src.custom_types import Behavior, MTDTechnique\n",
    "from src.data_provider import DataProvider\n",
    "#from src.agent import Agent\n",
    "#from src.simulation_engine import SimulationEngine\n",
    "from src.evaluation_utils import plot_learning, seed_random, get_pretrained_agent, evaluate_agent_on_afterstates"
   ]
  },
  {
   "cell_type": "markdown",
   "id": "b19d998e-e35a-4cf8-9681-fb503d077742",
   "metadata": {},
   "source": [
    "## --- Hyperparameters ---"
   ]
  },
  {
   "cell_type": "code",
   "execution_count": 8,
   "id": "70abc681-3cfc-434e-838f-d322c79c7675",
   "metadata": {},
   "outputs": [],
   "source": [
    "# Hyperparams\n",
    "\n",
    "GAMMA = 0.1 #0.99 # discount factor for future rewards\n",
    "BATCH_SIZE = 100\n",
    "N_EPISODES = 10000\n",
    "\n",
    "NR_ROUNDS = 10\n",
    "NR_EPISODES_PER_ROUND = 1000\n",
    "\n",
    "BUFFER_SIZE = 500\n",
    "MIN_REPLAY_SIZE = 100\n",
    "# Epsilon determining Exploration Exploitation Trade Off\n",
    "EPSILON_START = 1.0\n",
    "EPSILON_DEC = 1e-4 # 0.001\n",
    "EPSILON_END = 0.01\n",
    "\n",
    "TARGET_UPDATE_FREQ = 100\n",
    "LEARNING_RATE = 1e-4\n",
    "LOG_FREQ = 100\n",
    "DIMS = 20\n",
    "PI = 3"
   ]
  },
  {
   "cell_type": "markdown",
   "id": "1ac612fb-fbf2-4e11-8824-cb2638258019",
   "metadata": {},
   "source": [
    "## --- Source ---"
   ]
  },
  {
   "cell_type": "code",
   "execution_count": 9,
   "id": "6c41290f-949f-4acf-8cc6-33f6ba8a81fe",
   "metadata": {},
   "outputs": [],
   "source": [
    "def split_training_data(training_data, n_strides):\n",
    "    strides = []\n",
    "    for i in range(n_strides):\n",
    "        strides.append(dict())\n",
    "\n",
    "    for key, value in training_data.items():\n",
    "        #print(f\"{key} => {len(value)}\")\n",
    "        array_split = np.array_split(value, n_strides)\n",
    "        for i in range(n_strides):\n",
    "            strides[i][key] = array_split[i]\n",
    "        \n",
    "    return stridesap"
   ]
  },
  {
   "cell_type": "code",
   "execution_count": 10,
   "id": "7d7f5134-fc39-4af6-998f-409707cb6875",
   "metadata": {},
   "outputs": [],
   "source": [
    "from prototypes.prototype_01.sensor_environment import SensorEnvironment"
   ]
  },
  {
   "cell_type": "code",
   "execution_count": 38,
   "id": "bed466ea-811f-4f04-b1b1-3170e9079a5e",
   "metadata": {},
   "outputs": [
    {
     "ename": "ImportError",
     "evalue": "cannot import name 'DeepQNetwork' from 'prototypes.prototype_01.deep_q_network' (/Users/jankreischer/Library/Mobile Documents/com~apple~CloudDocs/Master-Thesis/Code/prototypes/prototype_01/deep_q_network.py)",
     "output_type": "error",
     "traceback": [
      "\u001b[0;31m---------------------------------------------------------------------------\u001b[0m",
      "\u001b[0;31mImportError\u001b[0m                               Traceback (most recent call last)",
      "Input \u001b[0;32mIn [38]\u001b[0m, in \u001b[0;36m<cell line: 1>\u001b[0;34m()\u001b[0m\n\u001b[0;32m----> 1\u001b[0m \u001b[38;5;28;01mfrom\u001b[39;00m \u001b[38;5;21;01mprototypes\u001b[39;00m\u001b[38;5;21;01m.\u001b[39;00m\u001b[38;5;21;01mprototype_01\u001b[39;00m\u001b[38;5;21;01m.\u001b[39;00m\u001b[38;5;21;01mdeep_q_network\u001b[39;00m \u001b[38;5;28;01mimport\u001b[39;00m DeepQNetwork\n",
      "\u001b[0;31mImportError\u001b[0m: cannot import name 'DeepQNetwork' from 'prototypes.prototype_01.deep_q_network' (/Users/jankreischer/Library/Mobile Documents/com~apple~CloudDocs/Master-Thesis/Code/prototypes/prototype_01/deep_q_network.py)"
     ]
    }
   ],
   "source": [
    "#from prototypes.prototype_01.deep_q_network import DeepQNetwork"
   ]
  },
  {
   "cell_type": "code",
   "execution_count": 11,
   "id": "3a5c8e03-ced5-4625-bb0b-06cf4b8535ce",
   "metadata": {
    "tags": []
   },
   "outputs": [],
   "source": [
    "from prototypes.prototype_01.agent import Agent"
   ]
  },
  {
   "cell_type": "code",
   "execution_count": 12,
   "id": "abb82232-0475-4105-b07f-40315eae05d2",
   "metadata": {},
   "outputs": [],
   "source": [
    "from prototypes.prototype_01.client import Client"
   ]
  },
  {
   "cell_type": "code",
   "execution_count": 13,
   "id": "341b5ad2-0c48-4353-b3e5-a1e59be870e9",
   "metadata": {
    "tags": []
   },
   "outputs": [
    {
     "name": "stdout",
     "output_type": "stream",
     "text": [
      "Parent Process ID of current process: 6105\n",
      "Process ID of current process: 7063\n"
     ]
    }
   ],
   "source": [
    "import os\n",
    "\n",
    "def print_process_ids():\n",
    "    pid = os.getpid()\n",
    "    ppid = os.getppid()\n",
    "\n",
    "    print(\"Parent Process ID of current process:\", ppid)\n",
    "    print(\"Process ID of current process:\", pid)\n",
    "    \n",
    "print_process_ids()"
   ]
  },
  {
   "cell_type": "code",
   "execution_count": 14,
   "id": "2dfcd26c-039c-48cb-88a9-3dcc3ce5eda3",
   "metadata": {
    "tags": []
   },
   "outputs": [],
   "source": [
    "from enum import Enum, auto\n",
    "\n",
    "class Execution(Enum):\n",
    "    SEQUENTIAL = auto()\n",
    "    MULTI_THREADED = auto()\n",
    "    MULTI_PROCESSING = auto()\n",
    "    MULTI_PROCESSING_POOL = auto()"
   ]
  },
  {
   "cell_type": "code",
   "execution_count": 33,
   "id": "e53b3e6b-7638-410b-9833-f0a604e6b918",
   "metadata": {},
   "outputs": [],
   "source": [
    "#NR_ROUNDS = 10\n",
    "#NR_EPISODES_PER_ROUND = 1000\n",
    "import torch\n",
    "from torch import nn\n",
    "import copy\n",
    "from time import time, time_ns\n",
    "\n",
    "from typing import List, Dict\n",
    "import threading\n",
    "import numpy as np\n",
    "import json\n",
    "from tabulate import tabulate\n",
    "from datetime import date\n",
    "from src.custom_types import MTDTechnique, Behavior\n",
    "#from multiprocessing import Process\n",
    "import multiprocessing\n",
    "\n",
    "class Server:\n",
    "    def __init__(self, global_agent: Agent, test_data, experiment_id, save_path, nr_rounds = NR_ROUNDS, nr_episodes_per_round=NR_EPISODES_PER_ROUND, parallelized=False):\n",
    "        self.clients = []\n",
    "        self.global_agent = global_agent\n",
    "        self.test_data = test_data\n",
    "        self.save_path = save_path\n",
    "        self.experiment_id = experiment_id\n",
    "        self.file_path = os.path.join(save_path, f\"experiment-{experiment_id:02d}_summary.md\")\n",
    "        self.nr_rounds = nr_rounds\n",
    "        self.nr_epochs_per_round = nr_episodes_per_round\n",
    "        self.parallelized = parallelized\n",
    "        self.total_training_time = None\n",
    "        self.round_times = []\n",
    "\n",
    "        self.performance_evaluations = {}\n",
    "        self.performance_evaluations[0] = {}\n",
    "        self.performance_evaluations[\"rounds\"] = []\n",
    "        for behavior in Behavior:\n",
    "            self.performance_evaluations[0][behavior] = []\n",
    "        \n",
    "        \n",
    "    def aggregate_weights(self):\n",
    "        client_parameters = {client.client_id: client.get_weights() for client in self.clients}\n",
    "        client_weight = 1/len(self.clients)\n",
    "        \n",
    "        aggregated_weights = copy.deepcopy(next(iter(client_parameters.values())))  # names\n",
    "        for parameter_name in aggregated_weights:\n",
    "            aggregated_weights[parameter_name] = torch.zeros(aggregated_weights[parameter_name].shape)\n",
    "        for client_parameter in client_parameters.values():\n",
    "            for parameter_name in aggregated_weights:\n",
    "                aggregated_weights[parameter_name] += client_parameter[parameter_name] * client_weight  # averaging\n",
    "\n",
    "        self.global_agent.update_weights(aggregated_weights)\n",
    "        \n",
    "        \n",
    "    def broadcast_weights(self):\n",
    "        for client in self.clients:\n",
    "            client.receive_weights(self.global_agent.get_weights())\n",
    "\n",
    "    def add_client(self, client: Client):\n",
    "        self.clients.append(client)\n",
    "        \n",
    "        self.performance_evaluations[client.client_id] = {}\n",
    "        for behavior in Behavior:\n",
    "            self.performance_evaluations[client.client_id][behavior] = []\n",
    "    \n",
    "    \n",
    "\n",
    "    def run_federation(self, execution=Execution.SEQUENTIAL, evaluations=[], evaluation_frequency: int = 10, verbose=True, document_results=True):\n",
    "        if \"time\" in evaluations:\n",
    "            start_time = time()\n",
    "        \n",
    "        if document_results:\n",
    "            self.document(\"\")\n",
    "            self.document(f\"# Prototype 1 (Experiment {self.experiment_id})\")\n",
    "            self.document(\"---\")\n",
    "            self.document(\"\")\n",
    "            self.document(f\"Executed on {date.today().strftime('%d.%m.%Y')}\")\n",
    "            self.save_experiment_summary()\n",
    "        \n",
    "        for nr_round in range(1, self.nr_rounds+1):\n",
    "            if nr_round % evaluation_frequency == 0:\n",
    "                if document_results:\n",
    "                    self.document(\"\")\n",
    "                    self.document('<div style=\"page-break-after: always;\"></div>')\n",
    "                    self.document(\"\")\n",
    "                    self.document(\"---\")\n",
    "                    self.document(f\"### Training Round {nr_round}/{self.nr_rounds}\")\n",
    "                    self.document(\"\")\n",
    "\n",
    "            if verbose:\n",
    "                print(f\">>> SERVER TRAINING ROUND {nr_round}/{self.nr_rounds} <<<\")\n",
    "                \n",
    "            for client in self.clients:\n",
    "                client.receive_weights(self.global_agent.get_weights())\n",
    "                   \n",
    "            match execution:\n",
    "                case Execution.MULTI_THREADED:\n",
    "                    threads = []\n",
    "                    for client in self.clients:\n",
    "                        client.agent.online_net.share_memory()\n",
    "                        t = threading.Thread(target=Client.train_agent, args=(client, self.nr_epochs_per_round, 100))\n",
    "                        t.start()\n",
    "                        threads.append(t)\n",
    "                    for t in threads:\n",
    "                        # Wait until all workers are done with training\n",
    "                        t.join()\n",
    "                        \n",
    "                        \n",
    "                case Execution.MULTI_PROCESSING:\n",
    "                    threads = []\n",
    "                    for client in self.clients:\n",
    "                        thread = multiprocessing.Process(target=Client.train_agent, args=(client, self.nr_epochs_per_round, 100))  \n",
    "                        thread.start()\n",
    "                        threads.append(thread)\n",
    "\n",
    "                    for thread in threads:\n",
    "                        thread.join() \n",
    "                       \n",
    "                case Execution.MULTI_PROCESSING_POOL:\n",
    "                    pool = multiprocessing.Pool(processes=len(self.clients))\n",
    "                    pool.starmap(Client.train_agent, map(lambda client: (client, self.nr_epochs_per_round), self.clients))\n",
    "                    pool.close()\n",
    "                    pool.join()\n",
    "                    \n",
    "                case _:\n",
    "                    for client in self.clients:\n",
    "                        client.train_agent(self.nr_epochs_per_round, 100)\n",
    "                    \n",
    "            self.aggregate_weights()\n",
    "            if nr_round % evaluation_frequency == 0:\n",
    "                self.performance_evaluations['rounds'].append(nr_round)\n",
    "                for client in self.clients:\n",
    "                    self.document(f\"- Training Round {nr_round} on Client {client.client_id} took {round(client.get_training_time(), 2)}s\")\n",
    "                \n",
    "                if \"learning_curve\" in evaluations:\n",
    "                    for client in self.clients:\n",
    "                        filename = f\"round-{self.prefix(nr_round)}_agent-{(client.client_id):02d}_learning-curve.png\"\n",
    "                        client.plot_learning_curve(filename, nr_round)\n",
    "                        self.document(f\"![graph]({filename})\")\n",
    "                   \n",
    "                if \"performance_evaluation\" in evaluations:\n",
    "                    for client in self.clients:  \n",
    "                        print(f\"\\n=== {client.agent.get_name()} - Evaluation ===\\n\")\n",
    "                        self.performance_evaluation(client.agent, self.test_data)\n",
    "                        self.confusion_matrix(client.agent, self.test_data)\n",
    "                        self.behavior_action_evaluation(client.agent, self.test_data)\n",
    "\n",
    "                    print(f\"\\n=== {self.global_agent.get_name()} - Evaluation ===\\n\")\n",
    "                    self.performance_evaluation(self.global_agent, self.test_data)\n",
    "                    self.confusion_matrix(self.global_agent, self.test_data)\n",
    "                    self.behavior_action_evaluation(self.global_agent, self.test_data)\n",
    "        \n",
    "            if \"time\" in evaluations:\n",
    "                round_time = time()\n",
    "                time_elapsed = round_time - start_time\n",
    "                self.round_times.append(time_elapsed)\n",
    "                print(f\"Total time elapsed until end of round {nr_round}: {time_elapsed}s\")    \n",
    "        \n",
    "        if \"time\" in evaluations:\n",
    "            end_time = time()\n",
    "            total_training_time = end_time - start_time\n",
    "            print(f\"Total training time with {len(self.clients)} clients: {total_training_time}\")\n",
    "            self.total_training_time = total_training_time\n",
    "            \n",
    "            if document_results:\n",
    "                self.document(f\"\\n ### Total training time with {len(self.clients)}: {round(total_training_time, 2)}s\")\n",
    "            \n",
    "            return total_training_time\n",
    "           \n",
    "    def document(self, text):\n",
    "        text = text.replace(\"_\", \"\\_\")\n",
    "        if self.save_path:\n",
    "            with open(self.file_path,'a') as f:\n",
    "                # Add newline to text\n",
    "                text += \"  \\n\"\n",
    "                f.write(text)   \n",
    "                \n",
    "    def document_block(self, text):\n",
    "        text = text.replace(\"_\", \"\\_\")\n",
    "        if self.save_path:\n",
    "            with open(self.file_path,'a') as f:\n",
    "                # Add newline to text\n",
    "                text += \"\\n \\n  \\n \\n\"\n",
    "                f.write(text)  \n",
    "                            \n",
    "                    \n",
    "    def prefix(self, round: int): \n",
    "        prefix_length = len(str(self.nr_rounds))\n",
    "        return f\"{round:0{prefix_length}d}\"\n",
    "\n",
    "    def plot_learning_curves(self):\n",
    "        for client in self.clients:\n",
    "            episode_returns, eps_history = client.get_training_summary()\n",
    "            plot_learning_curve(f\"{client.client_id}\", episode_returns, eps_history)\n",
    "            \n",
    "    def save_experiment_summary(self):\n",
    "        experiment_summary = {}\n",
    "        self.document(\"## Configuration\")\n",
    "        self.document(\"### Server\")\n",
    "        self.document(f\"- nr_clients: {len(self.clients)}\")\n",
    "        self.document(f\"- nr_rounds: {self.nr_rounds}\")\n",
    "        self.document(f\"- nr_epochs_per_round: {self.nr_epochs_per_round}\")\n",
    "        self.document(f\"- parallelized: {self.parallelized}\")\n",
    "        self.document(\"\")\n",
    "        \n",
    "        for client in self.clients:\n",
    "            self.document(f\"### Client {client.client_id}\")\n",
    "            self.document(f\"- gamma: {client.agent.gamma}\")\n",
    "            self.document(f\"- learning_rate: {client.agent.lr}\")\n",
    "            self.document(f\"- batch_size: {client.agent.batch_size}\")\n",
    "            self.document(f\"- epsilon_max: {client.agent.eps_max}\")\n",
    "            self.document(f\"- epsilon_min: {client.agent.eps_min}\")\n",
    "            self.document(f\"- epsilon_decay: {client.agent.eps_dec}\")\n",
    "            self.document(f\"- input_dims: {client.agent.input_dims}\")\n",
    "            self.document(f\"- output_dims: {client.agent.n_actions}\")\n",
    "            self.document(\"\")\n",
    "\n",
    "            self.document(f\"Training Data Split\")\n",
    "            for key, value in client.environment.train_data.items():\n",
    "                self.document(f\"- {len(value)} samples of {key}\")\n",
    "                \n",
    "            client.plot_training_data_split()\n",
    "            self.document(f\"![](behavior_sample_distribution_on_client-{client.client_id:02d}.png)\")\n",
    "            \n",
    "        self.document(f\"### Global Agent\") \n",
    "        self.document(f\"- id: {self.global_agent.agent_id}\")\n",
    "        self.document(f\"- batch_size: {self.global_agent.batch_size}\")\n",
    "        self.document(f\"- epsilon: 0\")\n",
    "        self.document(f\"- batch_size: {self.global_agent.input_dims}\")\n",
    "        self.document(f\"- batch_size: {self.global_agent.n_actions}\")\n",
    "\n",
    "            \n",
    "    def performance_evaluation(self, agent: Agent, test_data):\n",
    "        # check predictions with learnt dqn\n",
    "        agent.online_net.eval()\n",
    "        res_dict = {}\n",
    "        objective_dict = {}\n",
    "        with torch.no_grad():\n",
    "            for b, d in test_data.items():\n",
    "                if b != Behavior.NORMAL:\n",
    "                    cnt_corr = 0\n",
    "                    cnt = 0\n",
    "                    for state in d:\n",
    "                        action = agent.take_greedy_action(state[:-1])\n",
    "                        if b in supervisor_map[action]:\n",
    "                            cnt_corr += 1\n",
    "                        cnt += 1\n",
    "                    res_dict[b] = (cnt_corr, cnt)\n",
    "\n",
    "                for i in range(len(actions)):\n",
    "                    if b in supervisor_map[i]:\n",
    "                        objective_dict[b] = actions[i]\n",
    "        labels = (\"Behavior\", \"Accuracy\", \"Objective\")\n",
    "        results = []\n",
    "\n",
    "        for behavior, t in res_dict.items():\n",
    "            #print(\"---\")\n",
    "            #print(f\"behavior: {behavior} {behavior.value}\")\n",
    "            accuracy = t[0] / t[1] * 100\n",
    "            accuracy_in_percent = round(accuracy, 2)\n",
    "            #print(f\"accuracy_in_percent: {accuracy_in_percent}\")\n",
    "            self.performance_evaluations[agent.agent_id][behavior].append(accuracy_in_percent)\n",
    "            results.append((behavior.value, accuracy_in_percent, objective_dict[behavior].value))\n",
    "\n",
    "        self.document(f\"\\n\\n{agent.get_name()}\\n\")\n",
    "        self.document(tabulate(results, headers=labels, tablefmt=\"pipe\"))\n",
    "\n",
    "        print(f\"{agent.get_name()} > Performance Evaluation\")\n",
    "        print(tabulate(results, headers=labels, tablefmt=\"pipe\"))\n",
    "        \n",
    "        \n",
    "    def confusion_matrix(self, agent: Agent, test_data):\n",
    "        agent.online_net.eval()\n",
    "        confusion_matrix = np.zeros((4,4))\n",
    "          \n",
    "        with torch.no_grad():\n",
    "            for behavior, state_samples in test_data.items():\n",
    "                if behavior != Behavior.NORMAL:\n",
    "                    for state_sample in state_samples:\n",
    "                        a_pred = agent.take_greedy_action(state_sample[:-1])\n",
    "                        if behavior in supervisor_map[a_pred]:\n",
    "                               confusion_matrix[a_pred][a_pred] +=1\n",
    "                        else:\n",
    "                            leftover_actions = [i for i in range(4) if i != a_pred]\n",
    "                            for leftover_action in leftover_actions:\n",
    "                                if behavior in supervisor_map[leftover_action]:\n",
    "                                   confusion_matrix[leftover_action][a_pred] +=1\n",
    "          \n",
    "        mtds = list(map(lambda x: x.value, actions))\n",
    "        results = np.concatenate((np.array(mtds).reshape((-1, 1)), confusion_matrix), axis=1)\n",
    "        labels = [\"MTD_true/ MTD_pred\"] + mtds\n",
    "        print(\"\")\n",
    "        print(f\"{agent.get_name()} > Confusion Matrix\")\n",
    "        print(tabulate(results, headers=labels, tablefmt=\"pipe\"))\n",
    "        \n",
    "    def behavior_action_evaluation(self, agent: Agent, test_data):\n",
    "        n_behaviors = len(Behavior) - 1\n",
    "        n_actions = len(actions)\n",
    "        matrix = np.zeros((n_behaviors, n_actions))\n",
    "        \n",
    "        behavior_action_counts = {}\n",
    "        for behavior in Behavior:\n",
    "            if behavior != Behavior.NORMAL:\n",
    "                behavior_action_counts[behavior] = np.zeros((1, n_actions))\n",
    "        \n",
    "        with torch.no_grad():\n",
    "            for behavior, state_samples in test_data.items():\n",
    "                if behavior != Behavior.NORMAL:\n",
    "                    for state_sample in state_samples:\n",
    "                        a_pred = agent.take_greedy_action(state_sample[:-1])\n",
    "                        behavior_action_counts[behavior][0][a_pred]+=1\n",
    "          \n",
    "        labels = [\"behavior\"] + list(map(lambda x: x.value, actions))\n",
    "        \n",
    "        results = np.empty((0, n_actions+1))\n",
    "        for behavior, action_counts in behavior_action_counts.items():\n",
    "            row = np.append(np.array([behavior]).reshape(-1, 1), action_counts, axis=1)\n",
    "            results = np.concatenate((results, row), axis=0)\n",
    "        \n",
    "        print(f\"\\n{agent.get_name()} > Behavior Action Evaluation\")\n",
    "        print(tabulate(results, headers=labels, tablefmt=\"pipe\"))\n",
    "\n",
    "        \n",
    "    def print_performance_evaluations(self):\n",
    "        for behavior in Behavior:\n",
    "            for id in range(len(self.clients)+1):\n",
    "                performance = self.performance_evaluations[id][behavior]\n",
    "                rounds = self.performance_evaluations['rounds']\n",
    "                plt.title(f\"Mitigation Accuracy for {behavior}\")\n",
    "                plt.ylim([0,100])\n",
    "                if id == 0:\n",
    "                    plt.plot([*range(len(performance))], performance, linestyle='-', label=f\"Global Agent\") # plotting t, a separately \n",
    "                else:\n",
    "                    plt.plot([*range(len(performance))], performance, linestyle='--', label=f\"Agent {id}\") # plotting t, a separately \n",
    "            plt.xlabel('Round')\n",
    "            plt.ylabel('Accuracy [%]')\n",
    "            plt.show()"
   ]
  },
  {
   "cell_type": "code",
   "execution_count": 16,
   "id": "baf6af7f-f773-4a6e-bcff-86ca06a26b32",
   "metadata": {},
   "outputs": [],
   "source": [
    "import os\n",
    "import shutil\n",
    "\n",
    "class Experiment:\n",
    "    def __init__(self, base_path):\n",
    "        self.base_path = base_path\n",
    "        \n",
    "    def get_experiment_path(self, experiment_id, experiment_version=0):\n",
    "        path = os.path.join(self.base_path, f\"experiments/experiment_{experiment_id:02d}\")\n",
    "        if experiment_version != 0:\n",
    "            path = os.path.join(path, f\"version_{experiment_version:02d}\")\n",
    "            \n",
    "        print(path)\n",
    "        if not os.path.exists(path):\n",
    "            os.makedirs(path)\n",
    "        else:\n",
    "            shutil.rmtree(path)          \n",
    "            os.makedirs(path)\n",
    "            \n",
    "        return path"
   ]
  },
  {
   "cell_type": "markdown",
   "id": "8d739067-e0b3-46a8-88ec-d8e9026e63ac",
   "metadata": {
    "tags": []
   },
   "source": [
    "-----------\n",
    "## --- Experiments ---\n",
    "### Experiment 01"
   ]
  },
  {
   "cell_type": "code",
   "execution_count": null,
   "id": "87a3d8e4-5b2e-4fac-8784-969c90870c92",
   "metadata": {},
   "outputs": [],
   "source": [
    "import math\n",
    "\n",
    "experiments = Experiment(original_working_directory_path)\n",
    "experiment_id = 10\n",
    "experiment_version = 0\n",
    "experiment_path = experiments.get_experiment_path(experiment_id, experiment_version)\n",
    "\n",
    "TOTAL_NUMBER_OF_EPISODES = 10000\n",
    "NR_ROUNDS = 10\n",
    "MAX_NUMBER_OF_CLIENTS = 10\n",
    "\n",
    "seed_random()\n",
    "\n",
    "train_data, test_data, _ = DataProvider.get_scaled_train_test_split(scaling_minmax=True, scale_normal_only=True)\n",
    "\n",
    "single_threaded_training_times = {}\n",
    "single_threaded_round_times = {}\n",
    "multi_threaded_training_times = {}\n",
    "multi_threaded_round_times = {}\n",
    "\n",
    "\n",
    "\n",
    "for nr_clients in range(1, MAX_NUMBER_OF_CLIENTS + 1):\n",
    "    for parallelized in [True, False]:\n",
    "        print(f\"nr_clients: {nr_clients}; parallelized: {parallelized}\")\n",
    "\n",
    "        environment = SensorEnvironment(train_data)\n",
    "        global_agent = Agent(0, input_dims=environment.observation_space_size, n_actions=len(environment.actions), buffer_size=BUFFER_SIZE,\n",
    "                    batch_size=BATCH_SIZE, lr=LEARNING_RATE, gamma=GAMMA, epsilon=EPSILON_START, eps_end=EPSILON_END, eps_dec=EPSILON_DEC)\n",
    "        # We want to train for n episodes when adding all episodes across all clients and rounds\n",
    "        nr_episodes_per_round = math.floor(TOTAL_NUMBER_OF_EPISODES / (NR_ROUNDS * nr_clients))\n",
    "        server = Server(global_agent, test_data, experiment_id, experiment_path, nr_rounds=NR_ROUNDS, nr_episodes_per_round=nr_episodes_per_round, parallelized=parallelized)\n",
    "\n",
    "        for unique_id in range(1, nr_clients + 1):\n",
    "            environment = SensorEnvironment(train_data)\n",
    "            agent = Agent(unique_id, input_dims=environment.observation_space_size, n_actions=len(environment.actions), buffer_size=BUFFER_SIZE,\n",
    "                  batch_size=BATCH_SIZE, lr=LEARNING_RATE, gamma=GAMMA, epsilon=EPSILON_START, eps_end=EPSILON_END, eps_dec=EPSILON_DEC)                               \n",
    "            client = Client(unique_id, agent, environment, experiment_path, MIN_REPLAY_SIZE)                                   \n",
    "            server.add_client(client)\n",
    "\n",
    "        server.run_multiprocessing_federation(evaluations=[\"time\"], evaluation_frequency=10, verbose=False, document_results=False)\n",
    "        if parallelized:\n",
    "            multi_threaded_training_times[nr_clients] = server.total_training_time\n",
    "            multi_threaded_round_times[nr_clients] = server.round_times\n",
    "        else:\n",
    "            single_threaded_training_times[nr_clients] = server.total_training_time\n",
    "            single_threaded_round_times[nr_clients] = server.round_times"
   ]
  },
  {
   "cell_type": "raw",
   "id": "190f4787-6073-4421-afd9-c9081cd1e7f3",
   "metadata": {},
   "source": []
  },
  {
   "cell_type": "code",
   "execution_count": 96,
   "id": "aa662480-ea19-465b-9baa-2f112a7d7232",
   "metadata": {},
   "outputs": [],
   "source": [
    "#flattend_test_data = np.empty([0,47])\n",
    "#for behavior_data in test_data.values():\n",
    "#    flattend_test_data = np.concatenate((flattend_test_data, behavior_data), axis=0)\n",
    "#\n",
    "#print(flattend_test_data[:10]])"
   ]
  },
  {
   "cell_type": "code",
   "execution_count": 30,
   "id": "4d4cb513-1bee-4c2f-aed3-49037a8eda53",
   "metadata": {},
   "outputs": [
    {
     "name": "stdout",
     "output_type": "stream",
     "text": [
      "/Users/jankreischer/Library/Mobile Documents/com~apple~CloudDocs/Master-Thesis/Code/prototypes/prototype_01/experiments/experiment_10\n",
      "/Users/jankreischer/Library/Mobile Documents/com~apple~CloudDocs/Master-Thesis/Code\n",
      "nr_clients: 1; parallelized: True\n",
      "Total time elapsed until end of round 1: 4.837022066116333s\n"
     ]
    },
    {
     "ename": "KeyboardInterrupt",
     "evalue": "",
     "output_type": "error",
     "traceback": [
      "\u001b[0;31m---------------------------------------------------------------------------\u001b[0m",
      "\u001b[0;31mKeyboardInterrupt\u001b[0m                         Traceback (most recent call last)",
      "Input \u001b[0;32mIn [30]\u001b[0m, in \u001b[0;36m<cell line: 21>\u001b[0;34m()\u001b[0m\n\u001b[1;32m     36\u001b[0m     client \u001b[38;5;241m=\u001b[39m Client(unique_id, agent, environment, experiment_path, MIN_REPLAY_SIZE)                                   \n\u001b[1;32m     37\u001b[0m     server\u001b[38;5;241m.\u001b[39madd_client(client)\n\u001b[0;32m---> 39\u001b[0m \u001b[43mserver\u001b[49m\u001b[38;5;241;43m.\u001b[39;49m\u001b[43mrun_federation\u001b[49m\u001b[43m(\u001b[49m\u001b[43mevaluations\u001b[49m\u001b[38;5;241;43m=\u001b[39;49m\u001b[43m[\u001b[49m\u001b[38;5;124;43m\"\u001b[39;49m\u001b[38;5;124;43mtime\u001b[39;49m\u001b[38;5;124;43m\"\u001b[39;49m\u001b[43m]\u001b[49m\u001b[43m,\u001b[49m\u001b[43m \u001b[49m\u001b[43mevaluation_frequency\u001b[49m\u001b[38;5;241;43m=\u001b[39;49m\u001b[38;5;241;43m10\u001b[39;49m\u001b[43m,\u001b[49m\u001b[43m \u001b[49m\u001b[43mverbose\u001b[49m\u001b[38;5;241;43m=\u001b[39;49m\u001b[38;5;28;43;01mFalse\u001b[39;49;00m\u001b[43m,\u001b[49m\u001b[43m \u001b[49m\u001b[43mdocument_results\u001b[49m\u001b[38;5;241;43m=\u001b[39;49m\u001b[38;5;28;43;01mFalse\u001b[39;49;00m\u001b[43m)\u001b[49m\n\u001b[1;32m     40\u001b[0m \u001b[38;5;28;01mif\u001b[39;00m parallelized:\n\u001b[1;32m     41\u001b[0m     multi_threaded_training_times[nr_clients] \u001b[38;5;241m=\u001b[39m server\u001b[38;5;241m.\u001b[39mtotal_training_time\n",
      "Input \u001b[0;32mIn [29]\u001b[0m, in \u001b[0;36mServer.run_federation\u001b[0;34m(self, evaluations, evaluation_frequency, verbose, document_results)\u001b[0m\n\u001b[1;32m    193\u001b[0m         threads\u001b[38;5;241m.\u001b[39mappend(t)\n\u001b[1;32m    194\u001b[0m     \u001b[38;5;28;01mfor\u001b[39;00m t \u001b[38;5;129;01min\u001b[39;00m threads:\n\u001b[1;32m    195\u001b[0m         \u001b[38;5;66;03m# Wait until all workers are done with training\u001b[39;00m\n\u001b[0;32m--> 196\u001b[0m         \u001b[43mt\u001b[49m\u001b[38;5;241;43m.\u001b[39;49m\u001b[43mjoin\u001b[49m\u001b[43m(\u001b[49m\u001b[43m)\u001b[49m\n\u001b[1;32m    197\u001b[0m \u001b[38;5;28;01melse\u001b[39;00m:\n\u001b[1;32m    198\u001b[0m     \u001b[38;5;66;03m# Sequential training\u001b[39;00m\n\u001b[1;32m    199\u001b[0m     \u001b[38;5;28;01mfor\u001b[39;00m client \u001b[38;5;129;01min\u001b[39;00m \u001b[38;5;28mself\u001b[39m\u001b[38;5;241m.\u001b[39mclients:\n",
      "File \u001b[0;32m~/opt/anaconda3/envs/FedRL-for-IT-Sec/lib/python3.10/threading.py:1096\u001b[0m, in \u001b[0;36mThread.join\u001b[0;34m(self, timeout)\u001b[0m\n\u001b[1;32m   1093\u001b[0m     \u001b[38;5;28;01mraise\u001b[39;00m \u001b[38;5;167;01mRuntimeError\u001b[39;00m(\u001b[38;5;124m\"\u001b[39m\u001b[38;5;124mcannot join current thread\u001b[39m\u001b[38;5;124m\"\u001b[39m)\n\u001b[1;32m   1095\u001b[0m \u001b[38;5;28;01mif\u001b[39;00m timeout \u001b[38;5;129;01mis\u001b[39;00m \u001b[38;5;28;01mNone\u001b[39;00m:\n\u001b[0;32m-> 1096\u001b[0m     \u001b[38;5;28;43mself\u001b[39;49m\u001b[38;5;241;43m.\u001b[39;49m\u001b[43m_wait_for_tstate_lock\u001b[49m\u001b[43m(\u001b[49m\u001b[43m)\u001b[49m\n\u001b[1;32m   1097\u001b[0m \u001b[38;5;28;01melse\u001b[39;00m:\n\u001b[1;32m   1098\u001b[0m     \u001b[38;5;66;03m# the behavior of a negative timeout isn't documented, but\u001b[39;00m\n\u001b[1;32m   1099\u001b[0m     \u001b[38;5;66;03m# historically .join(timeout=x) for x<0 has acted as if timeout=0\u001b[39;00m\n\u001b[1;32m   1100\u001b[0m     \u001b[38;5;28mself\u001b[39m\u001b[38;5;241m.\u001b[39m_wait_for_tstate_lock(timeout\u001b[38;5;241m=\u001b[39m\u001b[38;5;28mmax\u001b[39m(timeout, \u001b[38;5;241m0\u001b[39m))\n",
      "File \u001b[0;32m~/opt/anaconda3/envs/FedRL-for-IT-Sec/lib/python3.10/threading.py:1116\u001b[0m, in \u001b[0;36mThread._wait_for_tstate_lock\u001b[0;34m(self, block, timeout)\u001b[0m\n\u001b[1;32m   1113\u001b[0m     \u001b[38;5;28;01mreturn\u001b[39;00m\n\u001b[1;32m   1115\u001b[0m \u001b[38;5;28;01mtry\u001b[39;00m:\n\u001b[0;32m-> 1116\u001b[0m     \u001b[38;5;28;01mif\u001b[39;00m \u001b[43mlock\u001b[49m\u001b[38;5;241;43m.\u001b[39;49m\u001b[43macquire\u001b[49m\u001b[43m(\u001b[49m\u001b[43mblock\u001b[49m\u001b[43m,\u001b[49m\u001b[43m \u001b[49m\u001b[43mtimeout\u001b[49m\u001b[43m)\u001b[49m:\n\u001b[1;32m   1117\u001b[0m         lock\u001b[38;5;241m.\u001b[39mrelease()\n\u001b[1;32m   1118\u001b[0m         \u001b[38;5;28mself\u001b[39m\u001b[38;5;241m.\u001b[39m_stop()\n",
      "\u001b[0;31mKeyboardInterrupt\u001b[0m: "
     ]
    }
   ],
   "source": [
    "import math\n",
    "\n",
    "experiments = Experiment(original_working_directory_path)\n",
    "experiment_id = 10\n",
    "experiment_version = 0\n",
    "experiment_path = experiments.get_experiment_path(experiment_id, experiment_version)\n",
    "\n",
    "TOTAL_NUMBER_OF_EPISODES = 10000\n",
    "NR_ROUNDS = 10\n",
    "MAX_NUMBER_OF_CLIENTS = 10\n",
    "\n",
    "seed_random()\n",
    "\n",
    "train_data, test_data, _ = DataProvider.get_scaled_train_test_split(scaling_minmax=True, scale_normal_only=True)\n",
    "\n",
    "single_threaded_training_times = {}\n",
    "single_threaded_round_times = {}\n",
    "multi_threaded_training_times = {}\n",
    "multi_threaded_round_times = {}\n",
    "\n",
    "for nr_clients in range(1, MAX_NUMBER_OF_CLIENTS + 1):\n",
    "    for parallelized in [True, False]:\n",
    "        print(f\"nr_clients: {nr_clients}; parallelized: {parallelized}\")\n",
    "\n",
    "        environment = SensorEnvironment(train_data)\n",
    "        global_agent = Agent(0, input_dims=environment.observation_space_size, n_actions=len(environment.actions), buffer_size=BUFFER_SIZE,\n",
    "                    batch_size=BATCH_SIZE, lr=LEARNING_RATE, gamma=GAMMA, epsilon=EPSILON_START, eps_end=EPSILON_END, eps_dec=EPSILON_DEC)\n",
    "        # We want to train for n episodes when adding all episodes across all clients and rounds\n",
    "        nr_episodes_per_round = math.floor(TOTAL_NUMBER_OF_EPISODES / (NR_ROUNDS * nr_clients))\n",
    "        server = Server(global_agent, test_data, experiment_id, experiment_path, nr_rounds=NR_ROUNDS, nr_episodes_per_round=nr_episodes_per_round, parallelized=parallelized)\n",
    "\n",
    "        for unique_id in range(1, nr_clients + 1):\n",
    "            environment = SensorEnvironment(train_data)\n",
    "            agent = Agent(unique_id, input_dims=environment.observation_space_size, n_actions=len(environment.actions), buffer_size=BUFFER_SIZE,\n",
    "                  batch_size=BATCH_SIZE, lr=LEARNING_RATE, gamma=GAMMA, epsilon=EPSILON_START, eps_end=EPSILON_END, eps_dec=EPSILON_DEC)                               \n",
    "            client = Client(unique_id, agent, environment, experiment_path, MIN_REPLAY_SIZE)                                   \n",
    "            server.add_client(client)\n",
    "\n",
    "        server.run_federation(evaluations=[\"time\"], evaluation_frequency=10, verbose=False, document_results=False)\n",
    "        if parallelized:\n",
    "            multi_threaded_training_times[nr_clients] = server.total_training_time\n",
    "            multi_threaded_round_times[nr_clients] = server.round_times\n",
    "        else:\n",
    "            single_threaded_training_times[nr_clients] = server.total_training_time\n",
    "            single_threaded_round_times[nr_clients] = server.round_times"
   ]
  },
  {
   "cell_type": "code",
   "execution_count": 118,
   "id": "5c8b739c-8599-455b-84b4-3f860f52c002",
   "metadata": {
    "tags": []
   },
   "outputs": [
    {
     "data": {
      "image/png": "[encoded data removed]",
      "text/plain": [
       "<Figure size 648x432 with 1 Axes>"
      ]
     },
     "metadata": {
      "needs_background": "light"
     },
     "output_type": "display_data"
    }
   ],
   "source": [
    "single_threaded_training_times = {\n",
    "    1: 62.185861587524414,\n",
    "    2: 73.55881094932556,\n",
    "    3: 77.18544721603394,\n",
    "    4: 95.86744952201843,\n",
    "    5: 85.5958263874054,\n",
    "    6: 89.41081714630127,\n",
    "    7: 90.85983729362488,\n",
    "    8: 88.41040182113647,\n",
    "    9: 90.274986743927,\n",
    "    10: 93.36574625968933\n",
    "}\n",
    "\n",
    "multi_threaded_training_times = {\n",
    "    1: 59.996912240982056,\n",
    "    2: 84.69177293777466,\n",
    "    3: 95.97647094726562,\n",
    "    4: 112.5046796798706,\n",
    "    5: 119.96393752098083,\n",
    "    6: 122.97974967956543,\n",
    "    7: 128.90417885780334,\n",
    "    8: 130.29015493392944,\n",
    "    9: 135.57496786117554,\n",
    "    10: 137.94399547576904\n",
    "}\n",
    "\n",
    "plt.figure(figsize=(9,6))\n",
    "xlabel = \"Number of Clients\"\n",
    "ylabel = \"Total Training Time\"\n",
    "plt.xlabel(xlabel)\n",
    "plt.ylabel(f\"{ylabel} [s]\")\n",
    "plt.title(f\"{ylabel} depending on the {xlabel}\")\n",
    "plt.xticks(np.arange(1, 11, 1))\n",
    "#plt.figure(facecolor='white')\n",
    "plt.plot(list(multi_threaded_training_times.keys()), list(multi_threaded_training_times.values()), color=\"#0000FF\", marker='o', linestyle='dashed', label='multi-threaded')\n",
    "plt.plot(list(single_threaded_training_times.keys()), list(single_threaded_training_times.values()), color=\"#FF0000\", marker='o', linestyle='dashed', label='single-threaded')\n",
    "plt.legend(loc =\"lower right\")\n",
    "plt.savefig(\"prototypes/prototype_01/total_training_time_anaylsis.jpg\", dpi=150, bbox_inches = \"tight\", transparent=False)\n",
    "plt.show()"
   ]
  },
  {
   "cell_type": "code",
   "execution_count": 180,
   "id": "af739172-4890-47ff-b2b6-d32a79201747",
   "metadata": {
    "tags": []
   },
   "outputs": [
    {
     "data": {
      "image/png": "[encoded data removed]",
      "text/plain": [
       "<Figure size 648x432 with 1 Axes>"
      ]
     },
     "metadata": {
      "needs_background": "light"
     },
     "output_type": "display_data"
    }
   ],
   "source": [
    "import matplotlib.pyplot as plt\n",
    "\n",
    "single_threaded_training_times = {\n",
    "    8: [11.481971979141235, 21.06865358352661, 32.05444097518921, 43.78777265548706, 54.19769239425659, 63.688286542892456, 74.07056212425232, 83.64049768447876, 93.04087591171265, 102.16776514053345],\n",
    "    4: [11.134565114974976, 21.432404279708862, 30.219168186187744, 40.88900446891785, 50.95054054260254, 59.90651512145996, 69.32415723800659, 78.86217856407166, 86.5220353603363, 95.12839889526367],\n",
    "    2: [10.868289709091187, 20.302647829055786, 28.97062063217163, 38.460485219955444, 45.914576292037964, 53.48994708061218, 61.6273672580719, 68.60588765144348, 75.56985259056091, 81.3848009109497],\n",
    "    1: [11.893369436264038, 21.207906484603882, 29.435447692871094, 36.99051022529602, 43.52670192718506, 49.79359436035156, 55.46211814880371, 60.33178234100342, 66.59190773963928, 71.95667171478271]\n",
    "}\n",
    "\n",
    "colors = {\n",
    "    1: \"#FF0000\",\n",
    "    2: \"#EE0000\",\n",
    "    4: \"#DD0000\",\n",
    "    8: \"#AA0000\"\n",
    "}\n",
    "\n",
    "n_samples = len(single_threaded_training_times)\n",
    "n_rounds = len(single_threaded_training_times[1])\n",
    "\n",
    "plt.figure(figsize=(9,6))\n",
    "xlabel = \"Training Round\"\n",
    "ylabel = \"Time Elapsed\"\n",
    "plt.xlabel(xlabel)\n",
    "plt.xticks(np.arange(1, n_rounds+1))\n",
    "plt.ylabel(f\"{ylabel} [s]\")\n",
    "plt.title(f\"{ylabel} after n-th {xlabel} [Single-Threaded]\")\n",
    "\n",
    "for number_of_workers, training_times in single_threaded_training_times.items():\n",
    "    plt.plot(list(range(1,n_rounds+1)), list(training_times), color=colors[number_of_workers], marker=\"o\", linestyle='dashed', label=f\"{number_of_workers} Worker(s)\")\n",
    "plt.legend(loc =\"lower right\")\n",
    "plt.savefig(\"prototypes/prototype_01/round_training_time_analysis.jpg\", dpi=150, bbox_inches = \"tight\", transparent=False)\n",
    "plt.show()"
   ]
  },
  {
   "cell_type": "markdown",
   "id": "4ee7ec29-50cb-4c59-aed8-f0a27b891ae3",
   "metadata": {
    "tags": []
   },
   "source": [
    "-----------\n",
    "### --- Experiment 02 ---"
   ]
  },
  {
   "cell_type": "code",
   "execution_count": null,
   "id": "ca0637c6-9328-4d39-9d84-801e2cc85a86",
   "metadata": {},
   "outputs": [
    {
     "name": "stdout",
     "output_type": "stream",
     "text": [
      "/Users/jankreischer/Library/Mobile Documents/com~apple~CloudDocs/Master-Thesis/Code/prototypes/prototype_01/experiments/experiment_01\n",
      "/Users/jankreischer/Library/Mobile Documents/com~apple~CloudDocs/Master-Thesis/Code\n",
      "Total time elapsed until end of round 1: 8.185750007629395s\n"
     ]
    }
   ],
   "source": [
    "experiments = Experiment(original_working_directory_path)\n",
    "experiment_id = 1\n",
    "experiment_version = 0\n",
    "experiment_path = experiments.get_experiment_path(experiment_id, experiment_version)\n",
    "\n",
    "NR_ROUNDS = 10\n",
    "NR_EPISODES_PER_ROUND=1000\n",
    "\n",
    "seed_random()\n",
    "\n",
    "train_data, test_data, _ = DataProvider.get_scaled_train_test_split(scaling_minmax=True, scale_normal_only=True)\n",
    "\n",
    "environment_01 = SensorEnvironment(train_data)\n",
    "environment_02 = SensorEnvironment(train_data)\n",
    "\n",
    "global_agent = Agent(0, input_dims=environment_02.observation_space_size, n_actions=len(environment_02.actions), buffer_size=BUFFER_SIZE,\n",
    "                batch_size=BATCH_SIZE, lr=LEARNING_RATE, gamma=GAMMA, epsilon=EPSILON_START, eps_end=EPSILON_END, eps_dec=EPSILON_DEC)\n",
    "\n",
    "agent_01 = Agent(1, input_dims=environment_01.observation_space_size, n_actions=len(environment_01.actions), buffer_size=BUFFER_SIZE,\n",
    "              batch_size=BATCH_SIZE, lr=LEARNING_RATE, gamma=GAMMA, epsilon=EPSILON_START, eps_end=EPSILON_END, eps_dec=EPSILON_DEC)\n",
    "\n",
    "agent_02 = Agent(2, input_dims=environment_02.observation_space_size, n_actions=len(environment_02.actions), buffer_size=BUFFER_SIZE,\n",
    "                batch_size=BATCH_SIZE, lr=LEARNING_RATE, gamma=GAMMA, epsilon=EPSILON_START, eps_end=EPSILON_END, eps_dec=EPSILON_DEC)\n",
    "\n",
    "server = Server(global_agent, test_data, experiment_id, experiment_path, nr_rounds=NR_ROUNDS, nr_episodes_per_round=NR_EPISODES_PER_ROUND, parallelized=True)\n",
    "\n",
    "client_01 = Client(1, agent_01, environment_01, experiment_path, MIN_REPLAY_SIZE)\n",
    "client_02 = Client(2, agent_02, environment_02, experiment_path, MIN_REPLAY_SIZE)\n",
    "\n",
    "server.add_client(client_01)\n",
    "server.add_client(client_02)\n",
    "\n",
    "server.run_federation(execution=Execution.MULTI_PROCESSING_POOL, evaluations=[\"time\"], evaluation_frequency=10, verbose=False, document_results=False)"
   ]
  },
  {
   "cell_type": "code",
   "execution_count": 268,
   "id": "0b1d8619-5ca0-45cf-ab3a-8dba285d9f97",
   "metadata": {},
   "outputs": [],
   "source": [
    "from functools import reduce \n",
    "\n",
    "sample_distribution_percentages = {\n",
    "    Behavior.NORMAL: 20,\n",
    "    Behavior.RANSOMWARE_POC: 20,\n",
    "    Behavior.ROOTKIT_BDVL: 10,\n",
    "    Behavior.ROOTKIT_BEURK: 10,\n",
    "    Behavior.CNC_THETICK: 10, \n",
    "    Behavior.CNC_BACKDOOR_JAKORITAR: 10,\n",
    "    Behavior.CNC_OPT1: 10,\n",
    "    Behavior.CNC_OPT2: 10\n",
    "}\n",
    "\n",
    "sum_of_percentages = reduce(lambda x, y: x+y, sample_distribution_percentages.values())\n",
    "assert sum_of_percentages == 100, f\"Make sure that all percentages sum to 100. Right now it is {sum_of_percentages}\""
   ]
  },
  {
   "cell_type": "code",
   "execution_count": 311,
   "id": "cb602f9a-6596-47ea-9216-1a11d9996f14",
   "metadata": {},
   "outputs": [],
   "source": [
    "a = [[i]*8 for i in range(1,101)]\n",
    "m = np.asarray(a)\n",
    "#np.asarray(a)\n",
    "np.random.shuffle(m)\n",
    "last_row = m[-1]\n",
    "new_matrix = m[:-1]"
   ]
  },
  {
   "cell_type": "code",
   "execution_count": 252,
   "id": "23dd0fbc-1bf4-4902-b263-a977b5e32bbc",
   "metadata": {},
   "outputs": [
    {
     "name": "stdout",
     "output_type": "stream",
     "text": [
      "9633\n",
      "6196\n",
      "3405\n",
      "4723\n",
      "4941\n",
      "2391\n",
      "3632\n",
      "2533\n"
     ]
    }
   ],
   "source": [
    "for key, value in train_data.items():\n",
    "    print(len(value))"
   ]
  },
  {
   "cell_type": "code",
   "execution_count": 76,
   "id": "135f85df-bd69-4031-89e3-d3d99b832f75",
   "metadata": {},
   "outputs": [
    {
     "data": {
      "image/png": "[encoded data removed]",
      "text/plain": [
       "<Figure size 432x288 with 1 Axes>"
      ]
     },
     "metadata": {
      "needs_background": "light"
     },
     "output_type": "display_data"
    },
    {
     "data": {
      "image/png": "[encoded data removed]",
      "text/plain": [
       "<Figure size 432x288 with 1 Axes>"
      ]
     },
     "metadata": {
      "needs_background": "light"
     },
     "output_type": "display_data"
    },
    {
     "data": {
      "image/png": "[encoded data removed]",
      "text/plain": [
       "<Figure size 432x288 with 1 Axes>"
      ]
     },
     "metadata": {
      "needs_background": "light"
     },
     "output_type": "display_data"
    }
   ],
   "source": [
    "for id in range(3):\n",
    "    for behavior in Behavior:\n",
    "        performance = server.client_performance[id][behavior]\n",
    "        plt.title(f\"Client {id}\")\n",
    "        plt.plot([*range(len(performance))], performance) # plotting t, a separately \n",
    "    plt.show()"
   ]
  },
  {
   "cell_type": "code",
   "execution_count": 81,
   "id": "85847ca6-bb9c-452f-b663-be2adb8ffb67",
   "metadata": {},
   "outputs": [
    {
     "data": {
      "image/png": "[encoded data removed]",
      "text/plain": [
       "<Figure size 432x288 with 1 Axes>"
      ]
     },
     "metadata": {
      "needs_background": "light"
     },
     "output_type": "display_data"
    },
    {
     "data": {
      "image/png": "[encoded data removed]",
      "text/plain": [
       "<Figure size 432x288 with 1 Axes>"
      ]
     },
     "metadata": {
      "needs_background": "light"
     },
     "output_type": "display_data"
    },
    {
     "data": {
      "image/png": "[encoded data removed]",
      "text/plain": [
       "<Figure size 432x288 with 1 Axes>"
      ]
     },
     "metadata": {
      "needs_background": "light"
     },
     "output_type": "display_data"
    },
    {
     "data": {
      "image/png": "[encoded data removed]",
      "text/plain": [
       "<Figure size 432x288 with 1 Axes>"
      ]
     },
     "metadata": {
      "needs_background": "light"
     },
     "output_type": "display_data"
    },
    {
     "data": {
      "image/png": "[encoded data removed]",
      "text/plain": [
       "<Figure size 432x288 with 1 Axes>"
      ]
     },
     "metadata": {
      "needs_background": "light"
     },
     "output_type": "display_data"
    },
    {
     "data": {
      "image/png": "[encoded data removed]",
      "text/plain": [
       "<Figure size 432x288 with 1 Axes>"
      ]
     },
     "metadata": {
      "needs_background": "light"
     },
     "output_type": "display_data"
    },
    {
     "data": {
      "image/png": "[encoded data removed]",
      "text/plain": [
       "<Figure size 432x288 with 1 Axes>"
      ]
     },
     "metadata": {
      "needs_background": "light"
     },
     "output_type": "display_data"
    },
    {
     "data": {
      "image/png": "[encoded data removed]",
      "text/plain": [
       "<Figure size 432x288 with 1 Axes>"
      ]
     },
     "metadata": {
      "needs_background": "light"
     },
     "output_type": "display_data"
    }
   ],
   "source": [
    "for behavior in Behavior:\n",
    "    for id in range(3):\n",
    "        performance = server.client_performance[id][behavior]\n",
    "        plt.title(f\"Behavior {behavior.value}\")\n",
    "        plt.ylim([0,100])\n",
    "        if id == 0:\n",
    "            plt.plot([*range(len(performance))], performance, linestyle='-') # plotting t, a separately \n",
    "        else:\n",
    "            plt.plot([*range(len(performance))], performance, linestyle='--') # plotting t, a separately \n",
    "    plt.show()"
   ]
  },
  {
   "cell_type": "markdown",
   "id": "34f5068c-bf17-4c85-b360-cdfde3efaed7",
   "metadata": {
    "tags": []
   },
   "source": [
    "-----------\n",
    "### Experiment 02"
   ]
  },
  {
   "cell_type": "code",
   "execution_count": null,
   "id": "91bf722c-e010-4108-920c-b360eaa19f5f",
   "metadata": {},
   "outputs": [],
   "source": [
    "experiments = Experiment(original_working_directory_path)\n",
    "experiment_id = 2\n",
    "experiment_version = 0\n",
    "experiment_path = experiments.get_experiment_path(experiment_id, experiment_version)\n",
    "\n",
    "NR_ROUNDS = 10\n",
    "NR_EPISODES_PER_ROUND=1000\n",
    "\n",
    "seed_random()\n",
    "\n",
    "train_data, test_data, _ = DataProvider.get_scaled_train_test_split(scaling_minmax=True, scale_normal_only=True)\n",
    "training_data_strides = split_training_data(train_data, 2)\n",
    "\n",
    "environment_01 = SensorEnvironment(training_data_strides[0])\n",
    "environment_02 = SensorEnvironment(training_data_strides[1])\n",
    "\n",
    "global_agent = Agent(0, input_dims=environment_02.observation_space_size, n_actions=len(environment_02.actions), buffer_size=BUFFER_SIZE,\n",
    "                batch_size=BATCH_SIZE, lr=LEARNING_RATE, gamma=GAMMA, epsilon=EPSILON_START, eps_end=EPSILON_END, eps_dec=EPSILON_DEC)\n",
    "\n",
    "agent_01 = Agent(1, input_dims=environment_01.observation_space_size, n_actions=len(environment_01.actions), buffer_size=BUFFER_SIZE,\n",
    "              batch_size=BATCH_SIZE, lr=LEARNING_RATE, gamma=GAMMA, epsilon=EPSILON_START, eps_end=EPSILON_END, eps_dec=EPSILON_DEC)\n",
    "\n",
    "agent_02 = Agent(2, input_dims=environment_02.observation_space_size, n_actions=len(environment_02.actions), buffer_size=BUFFER_SIZE,\n",
    "                batch_size=BATCH_SIZE, lr=LEARNING_RATE, gamma=GAMMA, epsilon=EPSILON_START, eps_end=EPSILON_END, eps_dec=EPSILON_DEC)\n",
    "\n",
    "server = Server(global_agent, test_data, experiment_id, experiment_path, nr_rounds=NR_ROUNDS, nr_episodes_per_round=NR_EPISODES_PER_ROUND, parallelized=True)\n",
    "\n",
    "client_01 = Client(1, agent_01, environment_01, MIN_REPLAY_SIZE)\n",
    "client_02 = Client(2, agent_02, environment_02, MIN_REPLAY_SIZE)\n",
    "\n",
    "server.add_client(client_01)\n",
    "server.add_client(client_02)\n",
    "\n",
    "server.run_federation(evaluations=[\"performance_evaluation\", \"learning_curve\"], evaluation_frequency=1)"
   ]
  },
  {
   "cell_type": "markdown",
   "id": "68b28e0e-2b9c-483c-a310-417a28766753",
   "metadata": {},
   "source": [
    "-----------\n",
    "### Experiment 03"
   ]
  },
  {
   "cell_type": "code",
   "execution_count": null,
   "id": "0567c0e7-547d-463d-8d65-c7abe2d1aa52",
   "metadata": {},
   "outputs": [],
   "source": [
    "experiments = Experiment(original_working_directory_path)\n",
    "experiment_id = 3\n",
    "experiment_version = 0\n",
    "experiment_path = experiments.get_experiment_path(experiment_id, experiment_version)\n",
    "\n",
    "EPSILON_START = 1.0\n",
    "EPSILON_DEC = 1e-4\n",
    "EPSILON_END = 0.01\n",
    "NR_ROUNDS = 10\n",
    "\n",
    "\n",
    "seed_random()\n",
    "\n",
    "full_train_data, full_test_data, _ = DataProvider.get_scaled_train_test_split(scaling_minmax=True, scale_normal_only=True)\n",
    "\n",
    "subset_1 = (Behavior.NORMAL, Behavior.RANSOMWARE_POC, Behavior.ROOTKIT_BDVL, Behavior.ROOTKIT_BEURK)\n",
    "subset_2 = (Behavior.NORMAL, Behavior.CNC_THETICK, Behavior.CNC_BACKDOOR_JAKORITAR, Behavior.CNC_OPT1, Behavior.CNC_OPT2)\n",
    "sub_train_1 = {x: full_train_data[x] for x in subset_1 if x in full_train_data}\n",
    "sub_train_2 = {x: full_train_data[x] for x in subset_2 if x in full_train_data}\n",
    "\n",
    "environment_01 = SensorEnvironment(sub_train_1)\n",
    "environment_02 = SensorEnvironment(sub_train_2)\n",
    "\n",
    "\n",
    "global_agent = Agent(0, input_dims=environment_02.observation_space_size, n_actions=len(environment_02.actions), buffer_size=BUFFER_SIZE,\n",
    "                batch_size=BATCH_SIZE, lr=LEARNING_RATE, gamma=GAMMA, epsilon=EPSILON_START, eps_end=EPSILON_END, eps_dec=EPSILON_DEC)\n",
    "\n",
    "agent_01 = Agent(1, input_dims=environment_01.observation_space_size, n_actions=len(environment_01.actions), buffer_size=BUFFER_SIZE,\n",
    "              batch_size=BATCH_SIZE, lr=LEARNING_RATE, gamma=GAMMA, epsilon=EPSILON_START, eps_end=EPSILON_END, eps_dec=EPSILON_DEC)\n",
    "\n",
    "agent_02 = Agent(2, input_dims=environment_02.observation_space_size, n_actions=len(environment_02.actions), buffer_size=BUFFER_SIZE,\n",
    "                batch_size=BATCH_SIZE, lr=LEARNING_RATE, gamma=GAMMA, epsilon=EPSILON_START, eps_end=EPSILON_END, eps_dec=EPSILON_DEC)\n",
    "\n",
    "server = Server(global_agent, test_data, experiment_id, experiment_path, nr_rounds=NR_ROUNDS, nr_episodes_per_round=NR_EPISODES_PER_ROUND, parallelized=True)\n",
    "\n",
    "client_01 = Client(1, agent_01, environment_01, MIN_REPLAY_SIZE)\n",
    "client_02 = Client(2, agent_02, environment_02, MIN_REPLAY_SIZE)\n",
    "\n",
    "server.add_client(client_01)\n",
    "server.add_client(client_02)\n",
    "\n",
    "server.run_federation(evaluations=[\"performance_evaluation\", \"learning_curve\"], evaluation_frequency=1)"
   ]
  },
  {
   "cell_type": "markdown",
   "id": "0d91d764-ae18-44da-9399-271def80a2ee",
   "metadata": {},
   "source": [
    "-----------\n",
    "#### Experiment 04"
   ]
  },
  {
   "cell_type": "code",
   "execution_count": null,
   "id": "546e4b25-03cd-423f-8e8e-b1913cb5b4ec",
   "metadata": {},
   "outputs": [],
   "source": [
    "experiments = Experiment(original_working_directory_path)\n",
    "experiment_id = 4\n",
    "experiment_version = 0\n",
    "experiment_path = experiments.get_experiment_path(experiment_id, experiment_version)\n",
    "\n",
    "EPSILON_START = 1.0\n",
    "EPSILON_DEC = 1e-4\n",
    "EPSILON_END = 0.01\n",
    "NR_ROUNDS = 10\n",
    "\n",
    "\n",
    "seed_random()\n",
    "\n",
    "full_train_data, full_test_data, _ = DataProvider.get_scaled_train_test_split(scaling_minmax=True, scale_normal_only=True)\n",
    "\n",
    "subset_1 = (Behavior.NORMAL, Behavior.RANSOMWARE_POC, Behavior.ROOTKIT_BDVL, Behavior.ROOTKIT_BEURK)\n",
    "subset_2 = (Behavior.NORMAL, Behavior.CNC_THETICK, Behavior.CNC_BACKDOOR_JAKORITAR, Behavior.CNC_OPT1, Behavior.CNC_OPT2)\n",
    "sub_train_1 = {x: full_train_data[x] for x in subset_1 if x in full_train_data}\n",
    "sub_train_2 = {x: full_train_data[x] for x in subset_2 if x in full_train_data}\n",
    "\n",
    "environment_01 = SensorEnvironment(sub_train_1)\n",
    "environment_02 = SensorEnvironment(sub_train_2)\n",
    "\n",
    "\n",
    "global_agent = Agent(0, input_dims=environment_02.observation_space_size, n_actions=len(environment_02.actions), buffer_size=BUFFER_SIZE,\n",
    "                batch_size=BATCH_SIZE, lr=LEARNING_RATE, gamma=GAMMA, epsilon=EPSILON_START, eps_end=EPSILON_END, eps_dec=EPSILON_DEC)\n",
    "\n",
    "agent_01 = Agent(1, input_dims=environment_01.observation_space_size, n_actions=len(environment_01.actions), buffer_size=BUFFER_SIZE,\n",
    "              batch_size=BATCH_SIZE, lr=LEARNING_RATE, gamma=GAMMA, epsilon=EPSILON_START, eps_end=EPSILON_END, eps_dec=EPSILON_DEC)\n",
    "\n",
    "agent_02 = Agent(2, input_dims=environment_02.observation_space_size, n_actions=len(environment_02.actions), buffer_size=BUFFER_SIZE,\n",
    "                batch_size=BATCH_SIZE, lr=LEARNING_RATE, gamma=GAMMA, epsilon=EPSILON_START, eps_end=EPSILON_END, eps_dec=EPSILON_DEC)\n",
    "\n",
    "server = Server(global_agent, test_data, experiment_id, experiment_path, nr_rounds=NR_ROUNDS, nr_episodes_per_round=NR_EPISODES_PER_ROUND, parallelized=False)\n",
    "\n",
    "client_01 = Client(1, agent_01, environment_01, experiment_path, MIN_REPLAY_SIZE)\n",
    "client_02 = Client(2, agent_02, environment_02, experiment_path, MIN_REPLAY_SIZE)\n",
    "\n",
    "server.add_client(client_01)\n",
    "server.add_client(client_02)\n",
    "\n",
    "server.run_federation(evaluations=[\"performance_evaluation\", \"learning_curve\"], evaluation_frequency=1)"
   ]
  },
  {
   "cell_type": "markdown",
   "id": "3d453c65-dc3b-45f9-8165-83bc3b896998",
   "metadata": {},
   "source": [
    "-----------\n",
    "#### Experiment 05"
   ]
  },
  {
   "cell_type": "code",
   "execution_count": null,
   "id": "5606e077-4453-4bfa-9277-644094c68e81",
   "metadata": {},
   "outputs": [],
   "source": [
    "experiments = Experiment(original_working_directory_path)\n",
    "experiment_id = 5\n",
    "experiment_version = 0\n",
    "experiment_path = experiments.get_experiment_path(experiment_id, experiment_version)\n",
    "\n",
    "seed_random()\n",
    "\n",
    "full_train_data, full_test_data, _ = DataProvider.get_scaled_train_test_split(scaling_minmax=True, scale_normal_only=True)\n",
    "\n",
    "subset_1 = (Behavior.NORMAL, Behavior.RANSOMWARE_POC, Behavior.ROOTKIT_BDVL, Behavior.CNC_OPT1)\n",
    "subset_2 = (Behavior.NORMAL, Behavior.CNC_THETICK, Behavior.ROOTKIT_BEURK , Behavior.CNC_OPT2, Behavior.CNC_BACKDOOR_JAKORITAR)\n",
    "sub_train_1 = {x: full_train_data[x] for x in subset_1 if x in full_train_data}\n",
    "sub_train_2 = {x: full_train_data[x] for x in subset_2 if x in full_train_data}\n",
    "\n",
    "environment_01 = SensorEnvironment(sub_train_1)\n",
    "environment_02 = SensorEnvironment(sub_train_2)\n",
    "\n",
    "\n",
    "global_agent = Agent(0, input_dims=environment_02.observation_space_size, n_actions=len(environment_02.actions), buffer_size=BUFFER_SIZE,\n",
    "                batch_size=BATCH_SIZE, lr=LEARNING_RATE, gamma=GAMMA, epsilon=EPSILON_START, eps_end=EPSILON_END, eps_dec=EPSILON_DEC, is_global_agent=True)\n",
    "\n",
    "agent_01 = Agent(1, input_dims=environment_01.observation_space_size, n_actions=len(environment_01.actions), buffer_size=BUFFER_SIZE,\n",
    "              batch_size=BATCH_SIZE, lr=LEARNING_RATE, gamma=GAMMA, epsilon=EPSILON_START, eps_end=EPSILON_END, eps_dec=EPSILON_DEC)\n",
    "\n",
    "agent_02 = Agent(2, input_dims=environment_02.observation_space_size, n_actions=len(environment_02.actions), buffer_size=BUFFER_SIZE,\n",
    "                batch_size=BATCH_SIZE, lr=LEARNING_RATE, gamma=GAMMA, epsilon=EPSILON_START, eps_end=EPSILON_END, eps_dec=EPSILON_DEC)\n",
    "\n",
    "server = Server(global_agent, test_data, experiment_id, experiment_path, nr_rounds=NR_ROUNDS, nr_episodes_per_round=NR_EPISODES_PER_ROUND, parallelized=False)\n",
    "\n",
    "client_01 = Client(1, agent_01, environment_01, experiment_path, MIN_REPLAY_SIZE)\n",
    "client_02 = Client(2, agent_02, environment_02, experiment_path, MIN_REPLAY_SIZE)\n",
    "\n",
    "server.add_client(client_01)\n",
    "server.add_client(client_02)\n",
    "\n",
    "server.run_federation(evaluations=[\"performance_evaluation\", \"learning_curve\"], evaluation_frequency=1)"
   ]
  },
  {
   "cell_type": "markdown",
   "id": "b73fd288-91fc-4838-a792-740f1db53850",
   "metadata": {},
   "source": [
    "-----------\n",
    "### Experiment 06"
   ]
  },
  {
   "cell_type": "code",
   "execution_count": null,
   "id": "06fba5f9-6a51-449a-b1e5-96cc78b12870",
   "metadata": {
    "tags": []
   },
   "outputs": [],
   "source": [
    "experiments = Experiment(original_working_directory_path)\n",
    "experiment_id = 6\n",
    "experiment_version = 0\n",
    "experiment_path = experiments.get_experiment_path(experiment_id, experiment_version)\n",
    "\n",
    "\n",
    "seed_random()\n",
    "start = time()\n",
    "\n",
    "full_train_data, full_test_data, _ = DataProvider.get_scaled_train_test_split(scaling_minmax=True, scale_normal_only=True)\n",
    "\n",
    "subset_1 = (Behavior.NORMAL, Behavior.RANSOMWARE_POC, Behavior.ROOTKIT_BDVL, Behavior.CNC_BACKDOOR_JAKORITAR, Behavior.CNC_OPT1)\n",
    "subset_2 = (Behavior.NORMAL, Behavior.CNC_THETICK, Behavior.ROOTKIT_BEURK , Behavior.CNC_OPT2)\n",
    "sub_train_1 = {x: full_train_data[x] for x in subset_1 if x in full_train_data}\n",
    "sub_train_2 = {x: full_train_data[x] for x in subset_2 if x in full_train_data}\n",
    "\n",
    "environment_01 = SensorEnvironment(sub_train_1)\n",
    "environment_02 = SensorEnvironment(sub_train_2)\n",
    "\n",
    "\n",
    "global_agent = Agent(0, input_dims=environment_02.observation_space_size, n_actions=len(environment_02.actions), buffer_size=BUFFER_SIZE,\n",
    "                batch_size=BATCH_SIZE, lr=LEARNING_RATE, gamma=GAMMA, epsilon=EPSILON_START, eps_end=EPSILON_END, eps_dec=EPSILON_DEC, is_global_agent=True)\n",
    "\n",
    "agent_01 = Agent(1, input_dims=environment_01.observation_space_size, n_actions=len(environment_01.actions), buffer_size=BUFFER_SIZE,\n",
    "              batch_size=BATCH_SIZE, lr=LEARNING_RATE, gamma=GAMMA, epsilon=EPSILON_START, eps_end=EPSILON_END, eps_dec=EPSILON_DEC)\n",
    "\n",
    "agent_02 = Agent(2, input_dims=environment_02.observation_space_size, n_actions=len(environment_02.actions), buffer_size=BUFFER_SIZE,\n",
    "                batch_size=BATCH_SIZE, lr=LEARNING_RATE, gamma=GAMMA, epsilon=EPSILON_START, eps_end=EPSILON_END, eps_dec=EPSILON_DEC)\n",
    "\n",
    "\n",
    "server = Server(global_agent, full_test_data, experiment_id, experiment_path, nr_rounds=NR_ROUNDS, nr_episodes_per_round=NR_EPISODES_PER_ROUND, parallelized=False)\n",
    "\n",
    "client_01 = Client(1, agent_01, environment_01, experiment_path, MIN_REPLAY_SIZE)\n",
    "client_02 = Client(2, agent_02, environment_02, experiment_path, MIN_REPLAY_SIZE)\n",
    "# initialize memory replay buffer (randomly)\n",
    "client_01.init_replay_memory(MIN_REPLAY_SIZE)\n",
    "client_02.init_replay_memory(MIN_REPLAY_SIZE)\n",
    "\n",
    "server.add_client(client_01)\n",
    "server.add_client(client_02)\n",
    "\n",
    "server.run_federation(evaluations=[\"performance_evaluation\", \"learning_curve\"], evaluation_frequency=1)\n"
   ]
  },
  {
   "cell_type": "markdown",
   "id": "7f8cd571-99ce-47b6-968a-e69aa0bd3258",
   "metadata": {},
   "source": [
    "-----------\n",
    "### Experiment 07"
   ]
  },
  {
   "cell_type": "code",
   "execution_count": null,
   "id": "010a7265-db9b-4812-8fb7-67e36dd4a8cb",
   "metadata": {},
   "outputs": [],
   "source": [
    "experiments = Experiment(original_working_directory_path)\n",
    "experiment_id = 7\n",
    "experiment_version = 0\n",
    "experiment_path = experiments.get_experiment_path(experiment_id, experiment_version)\n",
    "\n",
    "NR_ROUNDS = 100\n",
    "NR_EPISODES_PER_ROUND=100\n",
    "\n",
    "seed_random()\n",
    "\n",
    "train_data, test_data, _ = DataProvider.get_scaled_train_test_split(scaling_minmax=True, scale_normal_only=True)\n",
    "\n",
    "environment_01 = SensorEnvironment(train_data)\n",
    "environment_02 = SensorEnvironment(train_data)\n",
    "\n",
    "\n",
    "global_agent = Agent(0, input_dims=environment_02.observation_space_size, n_actions=len(environment_02.actions), buffer_size=BUFFER_SIZE,\n",
    "                batch_size=BATCH_SIZE, lr=LEARNING_RATE, gamma=GAMMA, epsilon=EPSILON_START, eps_end=EPSILON_END, eps_dec=EPSILON_DEC)\n",
    "\n",
    "agent_01 = Agent(1, input_dims=environment_01.observation_space_size, n_actions=len(environment_01.actions), buffer_size=BUFFER_SIZE,\n",
    "              batch_size=BATCH_SIZE, lr=LEARNING_RATE, gamma=GAMMA, epsilon=EPSILON_START, eps_end=EPSILON_END, eps_dec=EPSILON_DEC)\n",
    "\n",
    "agent_02 = Agent(2, input_dims=environment_02.observation_space_size, n_actions=len(environment_02.actions), buffer_size=BUFFER_SIZE,\n",
    "                batch_size=BATCH_SIZE, lr=LEARNING_RATE, gamma=GAMMA, epsilon=EPSILON_START, eps_end=EPSILON_END, eps_dec=EPSILON_DEC)\n",
    "\n",
    "server = Server(global_agent, test_data, experiment_id, experiment_path, nr_rounds=NR_ROUNDS, nr_episodes_per_round=NR_EPISODES_PER_ROUND, parallelized=False)\n",
    "\n",
    "client_01 = Client(1, agent_01, environment_01, experiment_path, MIN_REPLAY_SIZE)\n",
    "client_02 = Client(2, agent_02, environment_02, experiment_path, MIN_REPLAY_SIZE)\n",
    "\n",
    "server.add_client(client_01)\n",
    "server.add_client(client_02)\n",
    "\n",
    "server.run_federation(evaluations=[\"performance_evaluation\"])"
   ]
  },
  {
   "cell_type": "markdown",
   "id": "f7a479c8-a5c4-433e-b5b9-6903dae9c1a5",
   "metadata": {},
   "source": [
    "-----------\n",
    "#### Experiment 8.1"
   ]
  },
  {
   "cell_type": "code",
   "execution_count": null,
   "id": "b9da82dc-2042-4f21-aa69-ec0abb337a4a",
   "metadata": {},
   "outputs": [],
   "source": [
    "experiments = Experiment(original_working_directory_path)\n",
    "experiment_id = 8\n",
    "experiment_version = 1\n",
    "experiment_path = experiments.get_experiment_path(experiment_id, experiment_version)\n",
    "\n",
    "\n",
    "NR_ROUNDS = 10\n",
    "NR_EPISODES_PER_ROUND=1000\n",
    "NR_CLIENTS = 5\n",
    "\n",
    "environemnts = []\n",
    "clients = []\n",
    "\n",
    "seed_random()\n",
    "\n",
    "train_data, test_data, _ = DataProvider.get_scaled_train_test_split(scaling_minmax=True, scale_normal_only=True)\n",
    "training_data_strides = split_training_data(train_data, NR_CLIENTS)\n",
    "\n",
    "environment = SensorEnvironment(train_data)\n",
    "global_agent = Agent(0, input_dims=environment.observation_space_size, n_actions=len(environment.actions), buffer_size=BUFFER_SIZE,\n",
    "                batch_size=BATCH_SIZE, lr=LEARNING_RATE, gamma=GAMMA, epsilon=EPSILON_START, eps_end=EPSILON_END, eps_dec=EPSILON_DEC)\n",
    "\n",
    "server = Server(global_agent, full_test_data, experiment_id, experiment_path, nr_rounds=NR_ROUNDS, nr_episodes_per_round=NR_EPISODES_PER_ROUND, parallelized=False)\n",
    "\n",
    "for i in range(NR_CLIENTS):\n",
    "    id = i + 1\n",
    "    environment = SensorEnvironment(training_data_strides[i])\n",
    "    agent = Agent(id, input_dims=environment.observation_space_size, n_actions=len(environment.actions), buffer_size=BUFFER_SIZE,\n",
    "              batch_size=BATCH_SIZE, lr=LEARNING_RATE, gamma=GAMMA, epsilon=EPSILON_START, eps_end=EPSILON_END, eps_dec=EPSILON_DEC)\n",
    "    client = Client(id, agent, environment, experiment_path, MIN_REPLAY_SIZE)\n",
    "    client.init_replay_memory(MIN_REPLAY_SIZE)\n",
    "    server.add_client(client)\n",
    "\n",
    "server.run_federation(evaluations=[\"performance_evaluation\", \"learning_curve\"], evaluation_frequency=1)"
   ]
  },
  {
   "cell_type": "code",
   "execution_count": null,
   "id": "dac456df-1f35-4202-8ff1-24c8a80e37f9",
   "metadata": {},
   "outputs": [],
   "source": [
    "experiments = Experiment(original_working_directory_path)\n",
    "experiment_id = 8\n",
    "experiment_version = 2\n",
    "experiment_path = experiments.get_experiment_path(experiment_id, experiment_version)\n",
    "\n",
    "NR_ROUNDS = 10\n",
    "NR_EPISODES_PER_ROUND=1000\n",
    "NR_CLIENTS = 5\n",
    "\n",
    "environemnts = []\n",
    "clients = []\n",
    "\n",
    "seed_random()\n",
    "\n",
    "# read in all preprocessed data for a simulated, supervised environment to sample from\n",
    "train_data, test_data, _ = DataProvider.get_scaled_train_test_split(scaling_minmax=True, scale_normal_only=True)\n",
    "training_data_strides = split_training_data(train_data, NR_CLIENTS)\n",
    "\n",
    "# train_data, test_data = DataProvider.get_reduced_dimensions_with_pca(DIMS, pi=PI, normal_only=True)\n",
    "environment = SensorEnvironment(train_data)\n",
    "global_agent = Agent(0, input_dims=environment.observation_space_size, n_actions=len(environment.actions), buffer_size=BUFFER_SIZE,\n",
    "                batch_size=BATCH_SIZE, lr=LEARNING_RATE, gamma=GAMMA, epsilon=EPSILON_START, eps_end=EPSILON_END, eps_dec=EPSILON_DEC)\n",
    "\n",
    "server = Server(global_agent, full_test_data, experiment_id, experiment_path, nr_rounds=NR_ROUNDS, nr_episodes_per_round=NR_EPISODES_PER_ROUND, parallelized=True)\n",
    "\n",
    "\n",
    "\n",
    "for i in range(NR_CLIENTS):\n",
    "    id = i + 1\n",
    "    environment = SensorEnvironment(training_data_strides[i])\n",
    "    agent = Agent(id, input_dims=environment.observation_space_size, n_actions=len(environment.actions), buffer_size=BUFFER_SIZE,\n",
    "              batch_size=BATCH_SIZE, lr=LEARNING_RATE, gamma=GAMMA, epsilon=EPSILON_START, eps_end=EPSILON_END, eps_dec=EPSILON_DEC)\n",
    "    client = Client(id, agent, environment, experiment_path)\n",
    "    client.init_replay_memory(MIN_REPLAY_SIZE)\n",
    "    server.add_client(client)\n",
    "\n",
    "server.run_federation(evaluations=[\"performance_evaluation\", \"learning_curve\"], evaluation_frequency=1)"
   ]
  },
  {
   "cell_type": "markdown",
   "id": "2228ebfa-f7d9-4330-8861-c8af4aa06206",
   "metadata": {},
   "source": [
    "-----------\n",
    "#### Experiment 09"
   ]
  },
  {
   "cell_type": "code",
   "execution_count": null,
   "id": "44b79703-a8bc-41b2-aa8a-a1a6180fe4e3",
   "metadata": {},
   "outputs": [],
   "source": [
    "experiments = Experiment(original_working_directory_path)\n",
    "experiment_id = 9\n",
    "experiment_version = 0\n",
    "experiment_path = experiments.get_experiment_path(experiment_id, experiment_version)\n",
    "\n",
    "NR_ROUNDS = 100\n",
    "NR_EPISODES_PER_ROUND=100\n",
    "NR_CLIENTS = 5\n",
    "\n",
    "environemnts = []\n",
    "clients = []\n",
    "\n",
    "seed_random()\n",
    "\n",
    "# read in all preprocessed data for a simulated, supervised environment to sample from\n",
    "train_data, test_data, _ = DataProvider.get_scaled_train_test_split(scaling_minmax=True, scale_normal_only=True)\n",
    "training_data_strides = split_training_data(train_data, NR_CLIENTS)\n",
    "\n",
    "# train_data, test_data = DataProvider.get_reduced_dimensions_with_pca(DIMS, pi=PI, normal_only=True)\n",
    "environment = SensorEnvironment(train_data)\n",
    "global_agent = Agent(0, input_dims=environment.observation_space_size, n_actions=len(environment.actions), buffer_size=BUFFER_SIZE,\n",
    "                batch_size=BATCH_SIZE, lr=LEARNING_RATE, gamma=GAMMA, epsilon=EPSILON_START, eps_end=EPSILON_END, eps_dec=EPSILON_DEC)\n",
    "\n",
    "server = Server(global_agent, full_test_data, experiment_id, experiment_path, nr_rounds=NR_ROUNDS, nr_episodes_per_round=NR_EPISODES_PER_ROUND, parallelized=False)\n",
    "\n",
    "\n",
    "\n",
    "for i in range(NR_CLIENTS):\n",
    "    id = i + 1\n",
    "    environment = SensorEnvironment(training_data_strides[i])\n",
    "    agent = Agent(id, input_dims=environment.observation_space_size, n_actions=len(environment.actions), buffer_size=BUFFER_SIZE,\n",
    "              batch_size=BATCH_SIZE, lr=LEARNING_RATE, gamma=GAMMA, epsilon=EPSILON_START, eps_end=EPSILON_END, eps_dec=EPSILON_DEC)\n",
    "    client = Client(id, agent, environment, experiment_path)\n",
    "    client.init_replay_memory(MIN_REPLAY_SIZE)\n",
    "    server.add_client(client)\n",
    "\n",
    "server.run_federation(evaluations=[\"performance_evaluation\", \"learning_curve\"], evaluation_frequency=10)"
   ]
  },
  {
   "cell_type": "code",
   "execution_count": null,
   "id": "9abc4786-ed1a-47dc-b103-2249d1967674",
   "metadata": {},
   "outputs": [],
   "source": [
    "experiments = Experiment(original_working_directory_path)\n",
    "experiment_id = 10\n",
    "experiment_version = 0\n",
    "experiment_path = experiments.get_experiment_path(experiment_id, experiment_version)\n",
    "\n",
    "NR_ROUNDS = 100\n",
    "NR_EPISODES_PER_ROUND=100\n",
    "NR_CLIENTS = 5\n",
    "\n",
    "environemnts = []\n",
    "clients = []\n",
    "\n",
    "seed_random()\n",
    "\n",
    "train_data, test_data, _ = DataProvider.get_scaled_train_test_split(scaling_minmax=True, scale_normal_only=True)\n",
    "training_data_strides = split_training_data(train_data, NR_CLIENTS)\n",
    "\n",
    "environment = SensorEnvironment(train_data)\n",
    "global_agent = Agent(0, input_dims=environment.observation_space_size, n_actions=len(environment.actions), buffer_size=BUFFER_SIZE,\n",
    "                batch_size=BATCH_SIZE, lr=LEARNING_RATE, gamma=GAMMA, epsilon=EPSILON_START, eps_end=EPSILON_END, eps_dec=EPSILON_DEC)\n",
    "\n",
    "server = Server(global_agent, test_data, experiment_id, experiment_path, nr_rounds=NR_ROUNDS, nr_episodes_per_round=NR_EPISODES_PER_ROUND, parallelized=False)\n",
    "\n",
    "for behavior in Behavior:\n",
    "    print(str(behavior).split('.')[1])\n",
    "\n",
    "for i in range(NR_CLIENTS):\n",
    "    id = i + 1\n",
    "    environment = SensorEnvironment(training_data_strides[i])\n",
    "    agent = Agent(id, input_dims=environment.observation_space_size, n_actions=len(environment.actions), buffer_size=BUFFER_SIZE,\n",
    "              batch_size=BATCH_SIZE, lr=LEARNING_RATE, gamma=GAMMA, epsilon=EPSILON_START, eps_end=EPSILON_END, eps_dec=EPSILON_DEC)\n",
    "    client = Client(id, agent, environment, experiment_path)\n",
    "    client.init_replay_memory(MIN_REPLAY_SIZE)\n",
    "    client.plot_training_data_split()\n",
    "    server.add_client(client)\n",
    "\n",
    "server.run_federation(evaluations=[\"performance_evaluation\", \"learning_curve\"], evaluation_frequency=10)"
   ]
  }
 ],
 "metadata": {
  "colab": {
   "include_colab_link": true,
   "provenance": []
  },
  "kernelspec": {
   "display_name": "FedRL-for-IT-Sec",
   "language": "python",
   "name": "fedrl-for-it-sec"
  },
  "language_info": {
   "codemirror_mode": {
    "name": "ipython",
    "version": 3
   },
   "file_extension": ".py",
   "mimetype": "text/x-python",
   "name": "python",
   "nbconvert_exporter": "python",
   "pygments_lexer": "ipython3",
   "version": "3.10.10"
  }
 },
 "nbformat": 4,
 "nbformat_minor": 5
}
