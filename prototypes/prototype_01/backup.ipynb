{
 "cells": [
  {
   "cell_type": "code",
   "execution_count": 41,
   "id": "33b47d03-93a1-4c12-bafe-1b3c91138117",
   "metadata": {
    "tags": []
   },
   "outputs": [
    {
     "name": "stdout",
     "output_type": "stream",
     "text": [
      "/Users/jankreischer/Library/Mobile Documents/com~apple~CloudDocs/Master-Thesis/Code\n",
      "[6197 3406 4693 4967 2383 3643 2537]\n",
      "[0.22270538 0.12240351 0.16865521 0.17850212 0.08563933 0.13092072\n",
      " 0.09117372]\n",
      "\n"
     ]
    },
    {
     "data": {
      "image/png": "[encoded data removed]",
      "text/plain": [
       "<Figure size 576x360 with 1 Axes>"
      ]
     },
     "metadata": {
      "needs_background": "light"
     },
     "output_type": "display_data"
    },
    {
     "name": "stdout",
     "output_type": "stream",
     "text": [
      "8\n"
     ]
    }
   ],
   "source": [
    "# Global Dependenciesfig = plt.gcf()\n",
    "from src.custom_types import Behavior, MTDTechnique\n",
    "from src.data_provider import DataProvider\n",
    "import matplotlib.pyplot as plt\n",
    "import numpy as np\n",
    "#from src.agent import Agent\n",
    "#from src.simulation_engine import SimulationEngine\n",
    "from src.evaluation_utils import plot_learning, seed_random, get_pretrained_agent, evaluate_agent_on_afterstates\n",
    "#fig.suptitle(\"Title centered above all subplots\", fontsize=14)\n",
    "plt.rcParams[\"figure.figsize\"] = (8,5)\n",
    "\n",
    "training_data, test_data, _ = DataProvider.get_scaled_train_test_split(scaling_minmax=True, scale_normal_only=True)\n",
    "sample_frequencies = {}\n",
    "for key, value in training_data.items():\n",
    "    if key == Behavior.NORMAL:\n",
    "        continue\n",
    "    sample_frequencies[key] = len(value)\n",
    "    \n",
    "\n",
    "np_sample_frequencies = np.array(list(sample_frequencies.values()))\n",
    "print(np_sample_frequencies)\n",
    "\n",
    "sample_probabilities = np_sample_frequencies/np_sample_frequencies.sum(axis=0,keepdims=1)\n",
    "print(sample_probabilities)\n",
    "normalized_sample_probabilities = sample_probabilities*10000\n",
    "print(\"\")\n",
    "plt.bar(range(len(normalized_sample_probabilities)), normalized_sample_probabilities, align='center', color='blue')\n",
    "plt.xticks(range(len(normalized_sample_probabilities)), sample_frequencies.keys())\n",
    "plt.xticks(rotation=45, ha='right')\n",
    "plt.ylim([0, 3000])\n",
    "plt.title(\"Training Data Sample Distribution\")\n",
    "plt.ylabel('nr_samples')\n",
    "plt.show()\n",
    "        \n",
    "print(len(train_data))"
   ]
  },
  {
   "cell_type": "code",
   "execution_count": null,
   "id": "6f80ca83-57f0-4e51-ab5e-0bc8758ae33e",
   "metadata": {},
   "outputs": [],
   "source": [
    "#flattend_test_data = np.empty([0,47])\n",
    "#for behavior_data in test_data.values():\n",
    "#    flattend_test_data = np.concatenate((flattend_test_data, behavior_data), axis=0)\n",
    "#\n",
    "#print(flattend_test_data[:10]])"
   ]
  },
  {
   "cell_type": "code",
   "execution_count": 1,
   "id": "a8a3ac7b-4178-4c6e-9c7f-cbad708b973a",
   "metadata": {
    "tags": []
   },
   "outputs": [
    {
     "name": "stdout",
     "output_type": "stream",
     "text": [
      "Parent Process ID of current process: 54583\n",
      "Process ID of current process: 54623\n"
     ]
    }
   ],
   "source": [
    "import os\n",
    "\n",
    "def print_process_ids():\n",
    "    pid = os.getpid()\n",
    "    ppid = os.getppid()\n",
    "\n",
    "    print(\"Parent Process ID of current process:\", ppid)\n",
    "    print(\"Process ID of current process:\", pid)\n",
    "    \n",
    "print_process_ids()"
   ]
  },
  {
   "cell_type": "code",
   "execution_count": null,
   "id": "82c5772c-2ba4-408a-8413-0694006036d9",
   "metadata": {},
   "outputs": [],
   "source": [
    "def split_training_data(training_data, n_strides):\n",
    "    strides = []\n",
    "    for i in range(n_strides):\n",
    "        strides.append(dict())\n",
    "\n",
    "    for key, value in training_data.items():\n",
    "        #print(f\"{key} => {len(value)}\")\n",
    "        array_split = np.array_split(value, n_strides)\n",
    "        for i in range(n_strides):\n",
    "            strides[i][key] = array_split[i]\n",
    "        \n",
    "    return stridesap"
   ]
  },
  {
   "cell_type": "markdown",
   "id": "bd540344-ad48-436a-bd67-706fd65f7ab0",
   "metadata": {
    "tags": []
   },
   "source": [
    "-----------\n",
    "#### Experiment 04"
   ]
  },
  {
   "cell_type": "code",
   "execution_count": null,
   "id": "8c5f8ebc-a497-4295-b81a-e618cb781407",
   "metadata": {},
   "outputs": [],
   "source": [
    "experiments = Experiment(original_working_directory_path)\n",
    "experiment_id = 4\n",
    "experiment_version = 0\n",
    "experiment_path = experiments.get_experiment_path(experiment_id, experiment_version)\n",
    "\n",
    "EPSILON_START = 1.0\n",
    "EPSILON_DEC = 1e-4\n",
    "EPSILON_END = 0.01\n",
    "NR_ROUNDS = 10\n",
    "\n",
    "\n",
    "seed_random()\n",
    "\n",
    "full_train_data, full_test_data, _ = DataProvider.get_scaled_train_test_split(scaling_minmax=True, scale_normal_only=True)\n",
    "\n",
    "subset_1 = (Behavior.NORMAL, Behavior.RANSOMWARE_POC, Behavior.ROOTKIT_BDVL, Behavior.ROOTKIT_BEURK)\n",
    "subset_2 = (Behavior.NORMAL, Behavior.CNC_THETICK, Behavior.CNC_BACKDOOR_JAKORITAR, Behavior.CNC_OPT1, Behavior.CNC_OPT2)\n",
    "sub_train_1 = {x: full_train_data[x] for x in subset_1 if x in full_train_data}\n",
    "sub_train_2 = {x: full_train_data[x] for x in subset_2 if x in full_train_data}\n",
    "\n",
    "environment_01 = SensorEnvironment(sub_train_1)\n",
    "environment_02 = SensorEnvironment(sub_train_2)\n",
    "\n",
    "\n",
    "global_agent = Agent(0, input_dims=environment_02.observation_space_size, n_actions=len(environment_02.actions), buffer_size=BUFFER_SIZE,\n",
    "                batch_size=BATCH_SIZE, lr=LEARNING_RATE, gamma=GAMMA, epsilon=EPSILON_START, eps_end=EPSILON_END, eps_dec=EPSILON_DEC)\n",
    "\n",
    "agent_01 = Agent(1, input_dims=environment_01.observation_space_size, n_actions=len(environment_01.actions), buffer_size=BUFFER_SIZE,\n",
    "              batch_size=BATCH_SIZE, lr=LEARNING_RATE, gamma=GAMMA, epsilon=EPSILON_START, eps_end=EPSILON_END, eps_dec=EPSILON_DEC)\n",
    "\n",
    "agent_02 = Agent(2, input_dims=environment_02.observation_space_size, n_actions=len(environment_02.actions), buffer_size=BUFFER_SIZE,\n",
    "                batch_size=BATCH_SIZE, lr=LEARNING_RATE, gamma=GAMMA, epsilon=EPSILON_START, eps_end=EPSILON_END, eps_dec=EPSILON_DEC)\n",
    "\n",
    "server = Server(global_agent, test_data, experiment_id, experiment_path, nr_rounds=NR_ROUNDS, nr_episodes_per_round=NR_EPISODES_PER_ROUND)\n",
    "\n",
    "client_01 = Client(1, agent_01, environment_01, experiment_path, MIN_REPLAY_SIZE)\n",
    "client_02 = Client(2, agent_02, environment_02, experiment_path, MIN_REPLAY_SIZE)\n",
    "\n",
    "server.add_client(client_01)\n",
    "server.add_client(client_02)\n",
    "\n",
    "server.run_federation(evaluations=[Evaluation.PERFORMANCE_EVALUATION, Evaluation.LEARNING_CURVE], evaluation_frequency=1)"
   ]
  },
  {
   "cell_type": "markdown",
   "id": "ac10f55d-9a3f-4421-9c2a-f87747b12481",
   "metadata": {},
   "source": [
    "-----------\n",
    "#### Experiment 05"
   ]
  },
  {
   "cell_type": "code",
   "execution_count": null,
   "id": "d9cc2e45-7810-402d-9a05-99d909284c1e",
   "metadata": {},
   "outputs": [],
   "source": [
    "experiments = Experiment(original_working_directory_path)\n",
    "experiment_id = 5\n",
    "experiment_version = 0\n",
    "experiment_path = experiments.get_experiment_path(experiment_id, experiment_version)\n",
    "\n",
    "seed_random()\n",
    "\n",
    "full_train_data, full_test_data, _ = DataProvider.get_scaled_train_test_split(scaling_minmax=True, scale_normal_only=True)\n",
    "\n",
    "subset_1 = (Behavior.NORMAL, Behavior.RANSOMWARE_POC, Behavior.ROOTKIT_BDVL, Behavior.CNC_OPT1)\n",
    "subset_2 = (Behavior.NORMAL, Behavior.CNC_THETICK, Behavior.ROOTKIT_BEURK , Behavior.CNC_OPT2, Behavior.CNC_BACKDOOR_JAKORITAR)\n",
    "sub_train_1 = {x: full_train_data[x] for x in subset_1 if x in full_train_data}\n",
    "sub_train_2 = {x: full_train_data[x] for x in subset_2 if x in full_train_data}\n",
    "\n",
    "environment_01 = SensorEnvironment(sub_train_1)\n",
    "environment_02 = SensorEnvironment(sub_train_2)\n",
    "\n",
    "\n",
    "global_agent = Agent(0, input_dims=environment_02.observation_space_size, n_actions=len(environment_02.actions), buffer_size=BUFFER_SIZE,\n",
    "                batch_size=BATCH_SIZE, lr=LEARNING_RATE, gamma=GAMMA, epsilon=EPSILON_START, eps_end=EPSILON_END, eps_dec=EPSILON_DEC, is_global_agent=True)\n",
    "\n",
    "agent_01 = Agent(1, input_dims=environment_01.observation_space_size, n_actions=len(environment_01.actions), buffer_size=BUFFER_SIZE,\n",
    "              batch_size=BATCH_SIZE, lr=LEARNING_RATE, gamma=GAMMA, epsilon=EPSILON_START, eps_end=EPSILON_END, eps_dec=EPSILON_DEC)\n",
    "\n",
    "agent_02 = Agent(2, input_dims=environment_02.observation_space_size, n_actions=len(environment_02.actions), buffer_size=BUFFER_SIZE,\n",
    "                batch_size=BATCH_SIZE, lr=LEARNING_RATE, gamma=GAMMA, epsilon=EPSILON_START, eps_end=EPSILON_END, eps_dec=EPSILON_DEC)\n",
    "\n",
    "server = Server(global_agent, test_data, experiment_id, experiment_path, nr_rounds=NR_ROUNDS, nr_episodes_per_round=NR_EPISODES_PER_ROUND)\n",
    "\n",
    "client_01 = Client(1, agent_01, environment_01, experiment_path, MIN_REPLAY_SIZE)\n",
    "client_02 = Client(2, agent_02, environment_02, experiment_path, MIN_REPLAY_SIZE)\n",
    "\n",
    "server.add_client(client_01)\n",
    "server.add_client(client_02)\n",
    "\n",
    "server.run_federation(evaluations=[Evaluation.PERFORMANCE_EVALUATION, Evaluation.LEARNING_CURVE], evaluation_frequency=1)"
   ]
  },
  {
   "cell_type": "markdown",
   "id": "5448f8e5-7a69-4aa8-b13c-c1980cf1018e",
   "metadata": {},
   "source": [
    "-----------\n",
    "### Experiment 06"
   ]
  },
  {
   "cell_type": "code",
   "execution_count": null,
   "id": "f3de6d37-2410-4e2f-bad7-ebe2e4109b4b",
   "metadata": {
    "tags": []
   },
   "outputs": [],
   "source": [
    "experiments = Experiment(original_working_directory_path)\n",
    "experiment_id = 6\n",
    "experiment_version = 0\n",
    "experiment_path = experiments.get_experiment_path(experiment_id, experiment_version)\n",
    "\n",
    "\n",
    "seed_random()\n",
    "start = time()\n",
    "\n",
    "full_train_data, full_test_data, _ = DataProvider.get_scaled_train_test_split(scaling_minmax=True, scale_normal_only=True)\n",
    "\n",
    "subset_1 = (Behavior.NORMAL, Behavior.RANSOMWARE_POC, Behavior.ROOTKIT_BDVL, Behavior.CNC_BACKDOOR_JAKORITAR, Behavior.CNC_OPT1)\n",
    "subset_2 = (Behavior.NORMAL, Behavior.CNC_THETICK, Behavior.ROOTKIT_BEURK , Behavior.CNC_OPT2)\n",
    "sub_train_1 = {x: full_train_data[x] for x in subset_1 if x in full_train_data}\n",
    "sub_train_2 = {x: full_train_data[x] for x in subset_2 if x in full_train_data}\n",
    "\n",
    "environment_01 = SensorEnvironment(sub_train_1)\n",
    "environment_02 = SensorEnvironment(sub_train_2)\n",
    "\n",
    "\n",
    "global_agent = Agent(0, input_dims=environment_02.observation_space_size, n_actions=len(environment_02.actions), buffer_size=BUFFER_SIZE,\n",
    "                batch_size=BATCH_SIZE, lr=LEARNING_RATE, gamma=GAMMA, epsilon=EPSILON_START, eps_end=EPSILON_END, eps_dec=EPSILON_DEC, is_global_agent=True)\n",
    "\n",
    "agent_01 = Agent(1, input_dims=environment_01.observation_space_size, n_actions=len(environment_01.actions), buffer_size=BUFFER_SIZE,\n",
    "              batch_size=BATCH_SIZE, lr=LEARNING_RATE, gamma=GAMMA, epsilon=EPSILON_START, eps_end=EPSILON_END, eps_dec=EPSILON_DEC)\n",
    "\n",
    "agent_02 = Agent(2, input_dims=environment_02.observation_space_size, n_actions=len(environment_02.actions), buffer_size=BUFFER_SIZE,\n",
    "                batch_size=BATCH_SIZE, lr=LEARNING_RATE, gamma=GAMMA, epsilon=EPSILON_START, eps_end=EPSILON_END, eps_dec=EPSILON_DEC)\n",
    "\n",
    "\n",
    "server = Server(global_agent, full_test_data, experiment_id, experiment_path, nr_rounds=NR_ROUNDS, nr_episodes_per_round=NR_EPISODES_PER_ROUND)\n",
    "\n",
    "client_01 = Client(1, agent_01, environment_01, experiment_path, MIN_REPLAY_SIZE)\n",
    "client_02 = Client(2, agent_02, environment_02, experiment_path, MIN_REPLAY_SIZE)\n",
    "# initialize memory replay buffer (randomly)\n",
    "client_01.init_replay_memory(MIN_REPLAY_SIZE)\n",
    "client_02.init_replay_memory(MIN_REPLAY_SIZE)\n",
    "\n",
    "server.add_client(client_01)\n",
    "server.add_client(client_02)\n",
    "\n",
    "server.run_federation(evaluations=[Evaluation.PERFORMANCE_EVALUATION, Evaluation.LEARNING_CURVE], evaluation_frequency=1)\n"
   ]
  },
  {
   "cell_type": "markdown",
   "id": "61540c09-df9b-4293-af95-408ecaa3f50d",
   "metadata": {},
   "source": [
    "-----------\n",
    "### Experiment 07"
   ]
  },
  {
   "cell_type": "code",
   "execution_count": 42,
   "id": "4031c393-ddd2-4e89-b5f9-d22d7e5dcdca",
   "metadata": {},
   "outputs": [
    {
     "ename": "NameError",
     "evalue": "name 'Experiment' is not defined",
     "output_type": "error",
     "traceback": [
      "\u001b[0;31m---------------------------------------------------------------------------\u001b[0m",
      "\u001b[0;31mNameError\u001b[0m                                 Traceback (most recent call last)",
      "Input \u001b[0;32mIn [42]\u001b[0m, in \u001b[0;36m<cell line: 1>\u001b[0;34m()\u001b[0m\n\u001b[0;32m----> 1\u001b[0m experiments \u001b[38;5;241m=\u001b[39m \u001b[43mExperiment\u001b[49m(original_working_directory_path)\n\u001b[1;32m      2\u001b[0m experiment_id \u001b[38;5;241m=\u001b[39m \u001b[38;5;241m7\u001b[39m\n\u001b[1;32m      3\u001b[0m experiment_version \u001b[38;5;241m=\u001b[39m \u001b[38;5;241m0\u001b[39m\n",
      "\u001b[0;31mNameError\u001b[0m: name 'Experiment' is not defined"
     ]
    }
   ],
   "source": [
    "experiments = Experiment(original_working_directory_path)\n",
    "experiment_id = 7\n",
    "experiment_version = 0\n",
    "experiment_path = experiments.get_experiment_path(experiment_id, experiment_version)\n",
    "\n",
    "NR_ROUNDS = 100\n",
    "NR_EPISODES_PER_ROUND=100\n",
    "\n",
    "seed_random()\n",
    "\n",
    "train_data, test_data, _ = DataProvider.get_scaled_train_test_split(scaling_minmax=True, scale_normal_only=True)\n",
    "\n",
    "environment_01 = SensorEnvironment(train_data)\n",
    "environment_02 = SensorEnvironment(train_data)\n",
    "\n",
    "\n",
    "global_agent = Agent(0, input_dims=environment_02.observation_space_size, n_actions=len(environment_02.actions), buffer_size=BUFFER_SIZE,\n",
    "                batch_size=BATCH_SIZE, lr=LEARNING_RATE, gamma=GAMMA, epsilon=EPSILON_START, eps_end=EPSILON_END, eps_dec=EPSILON_DEC)\n",
    "\n",
    "agent_01 = Agent(1, input_dims=environment_01.observation_space_size, n_actions=len(environment_01.actions), buffer_size=BUFFER_SIZE,\n",
    "              batch_size=BATCH_SIZE, lr=LEARNING_RATE, gamma=GAMMA, epsilon=EPSILON_START, eps_end=EPSILON_END, eps_dec=EPSILON_DEC)\n",
    "\n",
    "agent_02 = Agent(2, input_dims=environment_02.observation_space_size, n_actions=len(environment_02.actions), buffer_size=BUFFER_SIZE,\n",
    "                batch_size=BATCH_SIZE, lr=LEARNING_RATE, gamma=GAMMA, epsilon=EPSILON_START, eps_end=EPSILON_END, eps_dec=EPSILON_DEC)\n",
    "\n",
    "server = Server(global_agent, test_data, experiment_id, experiment_path, nr_rounds=NR_ROUNDS, nr_episodes_per_round=NR_EPISODES_PER_ROUND)\n",
    "\n",
    "client_01 = Client(1, agent_01, environment_01, experiment_path, MIN_REPLAY_SIZE)\n",
    "client_02 = Client(2, agent_02, environment_02, experiment_path, MIN_REPLAY_SIZE)\n",
    "\n",
    "server.add_client(client_01)\n",
    "server.add_client(client_02)\n",
    "\n",
    "server.run_federation(evaluations=[Evaluation.PERFORMANCE_EVALUATION])"
   ]
  },
  {
   "cell_type": "markdown",
   "id": "d2a38777-5925-43bc-b5f0-2bf1f2513d3d",
   "metadata": {},
   "source": [
    "-----------\n",
    "#### Experiment 8.1"
   ]
  },
  {
   "cell_type": "code",
   "execution_count": null,
   "id": "a2e4f677-bc9a-489d-b4f3-1c9e93e9d5c9",
   "metadata": {},
   "outputs": [],
   "source": [
    "experiments = Experiment(original_working_directory_path)\n",
    "experiment_id = 8\n",
    "experiment_version = 1\n",
    "experiment_path = experiments.get_experiment_path(experiment_id, experiment_version)\n",
    "\n",
    "\n",
    "NR_ROUNDS = 10\n",
    "NR_EPISODES_PER_ROUND=1000\n",
    "NR_CLIENTS = 5\n",
    "\n",
    "environemnts = []\n",
    "clients = []\n",
    "\n",
    "seed_random()\n",
    "\n",
    "train_data, test_data, _ = DataProvider.get_scaled_train_test_split(scaling_minmax=True, scale_normal_only=True)\n",
    "training_data_strides = split_training_data(train_data, NR_CLIENTS)\n",
    "\n",
    "environment = SensorEnvironment(train_data)\n",
    "global_agent = Agent(0, input_dims=environment.observation_space_size, n_actions=len(environment.actions), buffer_size=BUFFER_SIZE,\n",
    "                batch_size=BATCH_SIZE, lr=LEARNING_RATE, gamma=GAMMA, epsilon=EPSILON_START, eps_end=EPSILON_END, eps_dec=EPSILON_DEC)\n",
    "\n",
    "server = Server(global_agent, full_test_data, experiment_id, experiment_path, nr_rounds=NR_ROUNDS, nr_episodes_per_round=NR_EPISODES_PER_ROUND)\n",
    "\n",
    "for i in range(NR_CLIENTS):\n",
    "    id = i + 1\n",
    "    environment = SensorEnvironment(training_data_strides[i])\n",
    "    agent = Agent(id, input_dims=environment.observation_space_size, n_actions=len(environment.actions), buffer_size=BUFFER_SIZE,\n",
    "              batch_size=BATCH_SIZE, lr=LEARNING_RATE, gamma=GAMMA, epsilon=EPSILON_START, eps_end=EPSILON_END, eps_dec=EPSILON_DEC)\n",
    "    client = Client(id, agent, environment, experiment_path, MIN_REPLAY_SIZE)\n",
    "    client.init_replay_memory(MIN_REPLAY_SIZE)\n",
    "    server.add_client(client)\n",
    "\n",
    "server.run_federation(evaluations=[Evaluation.PERFORMANCE_EVALUATION, Evaluation.LEARNING_CURVE], evaluation_frequency=1)"
   ]
  },
  {
   "cell_type": "code",
   "execution_count": null,
   "id": "a5ad355e-2974-4b49-a330-a06d36a5293d",
   "metadata": {},
   "outputs": [],
   "source": [
    "experiments = Experiment(original_working_directory_path)\n",
    "experiment_id = 8\n",
    "experiment_version = 2\n",
    "experiment_path = experiments.get_experiment_path(experiment_id, experiment_version)\n",
    "\n",
    "NR_ROUNDS = 10\n",
    "NR_EPISODES_PER_ROUND=1000\n",
    "NR_CLIENTS = 5\n",
    "\n",
    "environemnts = []\n",
    "clients = []\n",
    "\n",
    "seed_random()\n",
    "\n",
    "# read in all preprocessed data for a simulated, supervised environment to sample from\n",
    "train_data, test_data, _ = DataProvider.get_scaled_train_test_split(scaling_minmax=True, scale_normal_only=True)\n",
    "training_data_strides = split_training_data(train_data, NR_CLIENTS)\n",
    "\n",
    "# train_data, test_data = DataProvider.get_reduced_dimensions_with_pca(DIMS, pi=PI, normal_only=True)\n",
    "environment = SensorEnvironment(train_data)\n",
    "global_agent = Agent(0, input_dims=environment.observation_space_size, n_actions=len(environment.actions), buffer_size=BUFFER_SIZE,\n",
    "                batch_size=BATCH_SIZE, lr=LEARNING_RATE, gamma=GAMMA, epsilon=EPSILON_START, eps_end=EPSILON_END, eps_dec=EPSILON_DEC)\n",
    "\n",
    "server = Server(global_agent, full_test_data, experiment_id, experiment_path, nr_rounds=NR_ROUNDS, nr_episodes_per_round=NR_EPISODES_PER_ROUND)\n",
    "\n",
    "\n",
    "\n",
    "for i in range(NR_CLIENTS):\n",
    "    id = i + 1\n",
    "    environment = SensorEnvironment(training_data_strides[i])\n",
    "    agent = Agent(id, input_dims=environment.observation_space_size, n_actions=len(environment.actions), buffer_size=BUFFER_SIZE,\n",
    "              batch_size=BATCH_SIZE, lr=LEARNING_RATE, gamma=GAMMA, epsilon=EPSILON_START, eps_end=EPSILON_END, eps_dec=EPSILON_DEC)\n",
    "    client = Client(id, agent, environment, experiment_path)\n",
    "    client.init_replay_memory(MIN_REPLAY_SIZE)\n",
    "    server.add_client(client)\n",
    "\n",
    "server.run_federation(evaluations=[Evaluation.PERFORMANCE_EVALUATION, Evaluation.LEARNING_CURVE], evaluation_frequency=1)"
   ]
  },
  {
   "cell_type": "markdown",
   "id": "89706e82-403e-4ceb-b935-e89a9e5a6891",
   "metadata": {},
   "source": [
    "-----------\n",
    "#### Experiment 09"
   ]
  },
  {
   "cell_type": "code",
   "execution_count": null,
   "id": "6ca1786c-7e68-433d-9d47-83f7d1f11927",
   "metadata": {},
   "outputs": [],
   "source": [
    "experiments = Experiment(original_working_directory_path)\n",
    "experiment_id = 9\n",
    "experiment_version = 0\n",
    "experiment_path = experiments.get_experiment_path(experiment_id, experiment_version)\n",
    "\n",
    "NR_ROUNDS = 100\n",
    "NR_EPISODES_PER_ROUND=100\n",
    "NR_CLIENTS = 5\n",
    "\n",
    "environemnts = []\n",
    "clients = []\n",
    "\n",
    "seed_random()\n",
    "\n",
    "# read in all preprocessed data for a simulated, supervised environment to sample from\n",
    "train_data, test_data, _ = DataProvider.get_scaled_train_test_split(scaling_minmax=True, scale_normal_only=True)\n",
    "training_data_strides = split_training_data(train_data, NR_CLIENTS)\n",
    "\n",
    "# train_data, test_data = DataProvider.get_reduced_dimensions_with_pca(DIMS, pi=PI, normal_only=True)\n",
    "environment = SensorEnvironment(train_data)\n",
    "global_agent = Agent(0, input_dims=environment.observation_space_size, n_actions=len(environment.actions), buffer_size=BUFFER_SIZE,\n",
    "                batch_size=BATCH_SIZE, lr=LEARNING_RATE, gamma=GAMMA, epsilon=EPSILON_START, eps_end=EPSILON_END, eps_dec=EPSILON_DEC)\n",
    "\n",
    "server = Server(global_agent, full_test_data, experiment_id, experiment_path, nr_rounds=NR_ROUNDS, nr_episodes_per_round=NR_EPISODES_PER_ROUND)\n",
    "\n",
    "\n",
    "\n",
    "for i in range(NR_CLIENTS):\n",
    "    id = i + 1\n",
    "    environment = SensorEnvironment(training_data_strides[i])\n",
    "    agent = Agent(id, input_dims=environment.observation_space_size, n_actions=len(environment.actions), buffer_size=BUFFER_SIZE,\n",
    "              batch_size=BATCH_SIZE, lr=LEARNING_RATE, gamma=GAMMA, epsilon=EPSILON_START, eps_end=EPSILON_END, eps_dec=EPSILON_DEC)\n",
    "    client = Client(id, agent, environment, experiment_path)\n",
    "    client.init_replay_memory(MIN_REPLAY_SIZE)\n",
    "    server.add_client(client)\n",
    "\n",
    "server.run_federation(evaluations=[Evaluation.PERFORMANCE_EVALUATION, Evaluation.LEARNING_CURVE], evaluation_frequency=10)"
   ]
  },
  {
   "cell_type": "code",
   "execution_count": null,
   "id": "96299393-271f-48de-80c0-9c16b0ac0470",
   "metadata": {},
   "outputs": [],
   "source": [
    "experiments = Experiment(original_working_directory_path)\n",
    "experiment_id = 10\n",
    "experiment_version = 0\n",
    "experiment_path = experiments.get_experiment_path(experiment_id, experiment_version)\n",
    "\n",
    "NR_ROUNDS = 100\n",
    "NR_EPISODES_PER_ROUND=100\n",
    "NR_CLIENTS = 5\n",
    "\n",
    "environemnts = []\n",
    "clients = []\n",
    "\n",
    "seed_random()\n",
    "\n",
    "train_data, test_data, _ = DataProvider.get_scaled_train_test_split(scaling_minmax=True, scale_normal_only=True)\n",
    "training_data_strides = split_training_data(train_data, NR_CLIENTS)\n",
    "\n",
    "environment = SensorEnvironment(train_data)\n",
    "global_agent = Agent(0, input_dims=environment.observation_space_size, n_actions=len(environment.actions), buffer_size=BUFFER_SIZE,\n",
    "                batch_size=BATCH_SIZE, lr=LEARNING_RATE, gamma=GAMMA, epsilon=EPSILON_START, eps_end=EPSILON_END, eps_dec=EPSILON_DEC)\n",
    "\n",
    "server = Server(global_agent, test_data, experiment_id, experiment_path, nr_rounds=NR_ROUNDS, nr_episodes_per_round=NR_EPISODES_PER_ROUND)\n",
    "\n",
    "for behavior in Behavior:\n",
    "    print(str(behavior).split('.')[1])\n",
    "\n",
    "for i in range(NR_CLIENTS):\n",
    "    id = i + 1\n",
    "    environment = SensorEnvironment(training_data_strides[i])\n",
    "    agent = Agent(id, input_dims=environment.observation_space_size, n_actions=len(environment.actions), buffer_size=BUFFER_SIZE,\n",
    "              batch_size=BATCH_SIZE, lr=LEARNING_RATE, gamma=GAMMA, epsilon=EPSILON_START, eps_end=EPSILON_END, eps_dec=EPSILON_DEC)\n",
    "    client = Client(id, agent, environment, experiment_path)\n",
    "    client.init_replay_memory(MIN_REPLAY_SIZE)\n",
    "    client.plot_training_data_split()\n",
    "    server.add_client(client)\n",
    "\n",
    "server.run_federation(evaluations=[Evaluation.PERFORMANCE_EVALUATION, Evaluation.LEARNING_CURVE], evaluation_frequency=10)"
   ]
  }
 ],
 "metadata": {
  "kernelspec": {
   "display_name": "Python 3 (ipykernel)",
   "language": "python",
   "name": "python3"
  },
  "language_info": {
   "codemirror_mode": {
    "name": "ipython",
    "version": 3
   },
   "file_extension": ".py",
   "mimetype": "text/x-python",
   "name": "python",
   "nbconvert_exporter": "python",
   "pygments_lexer": "ipython3",
   "version": "3.10.10"
  }
 },
 "nbformat": 4,
 "nbformat_minor": 5
}
