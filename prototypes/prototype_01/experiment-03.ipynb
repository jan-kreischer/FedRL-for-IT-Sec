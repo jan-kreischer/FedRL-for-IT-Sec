{
 "cells": [
  {
   "cell_type": "markdown",
   "id": "ba26052c-2bb9-48c9-9565-ed139cc65688",
   "metadata": {
    "tags": []
   },
   "source": [
    "# Prototype 01\n",
    "## Experiment 03"
   ]
  },
  {
   "cell_type": "code",
   "execution_count": null,
   "id": "7a8becb7-1bd2-4eac-b0c6-ebdf4020807d",
   "metadata": {
    "tags": []
   },
   "outputs": [],
   "source": [
    "executed_yet = False"
   ]
  },
  {
   "cell_type": "code",
   "execution_count": null,
   "id": "0bf0f52d-e328-4e9b-adf5-e6f15eb19f40",
   "metadata": {
    "tags": []
   },
   "outputs": [],
   "source": [
    "import os\n",
    "\n",
    "if not executed_yet:\n",
    "    executed_yet = True\n",
    "    original_working_directory_path = os.getcwd()\n",
    "    os.chdir(os.path.join(original_working_directory_path, \"../..\"))\n",
    "    root_working_directory_path =  os.getcwd()\n",
    "    \n",
    "print(f'Original working directory: {original_working_directory_path}')\n",
    "print(f'Current working directory: {root_working_directory_path}')"
   ]
  },
  {
   "cell_type": "markdown",
   "id": "80523a04-4e7d-47de-8c6f-4d0c6c77d05a",
   "metadata": {},
   "source": [
    "## --- Dependencies ---"
   ]
  },
  {
   "cell_type": "code",
   "execution_count": null,
   "id": "eb2b2e7b-5fad-4d40-b163-163fc1e4eb25",
   "metadata": {
    "tags": []
   },
   "outputs": [],
   "source": [
    "# Standard Dependencies\n",
    "import sys\n",
    "import os\n",
    "import numpy as np\n",
    "from time import time"
   ]
  },
  {
   "cell_type": "code",
   "execution_count": null,
   "id": "63770f25-75fb-4b9d-8ea3-51354c8152dd",
   "metadata": {
    "id": "63770f25-75fb-4b9d-8ea3-51354c8152dd",
    "tags": []
   },
   "outputs": [],
   "source": [
    "# Global Dependencies\n",
    "from src.custom_types import Behavior, MTDTechnique\n",
    "from src.enums import Execution, Evaluation\n",
    "from src.data_provider import DataProvider\n",
    "from src.functions import calculate_balance_metrics, split_training_data\n",
    "#from src.agent import Agent\n",
    "#from src.simulation_engine import SimulationEngine\n",
    "from src.evaluation_utils import plot_learning, seed_random, get_pretrained_agent, evaluate_agent_on_afterstates"
   ]
  },
  {
   "cell_type": "code",
   "execution_count": null,
   "id": "fd7c88ae-eb09-44a8-afef-8f1a9922df63",
   "metadata": {
    "tags": []
   },
   "outputs": [],
   "source": [
    "from prototypes.prototype_01.environment import Environment\n",
    "from prototypes.prototype_01.deep_q_network import DeepQNetwork\n",
    "from prototypes.prototype_01.agent import Agent\n",
    "from prototypes.prototype_01.client import Client\n",
    "\n",
    "from prototypes.prototype_01.server import Server\n",
    "from prototypes.prototype_02.experiment import Experiment"
   ]
  },
  {
   "cell_type": "code",
   "execution_count": null,
   "id": "c6608f3b-c1e8-4920-a595-dfb18e6bb7ef",
   "metadata": {
    "tags": []
   },
   "outputs": [],
   "source": [
    "from src.sampling_probabilities import unit_sampling_probabilities, regular_sampling_probabilities, inverted_sampling_probabilities, \\\n",
    "    weak_client_exclusive_sampling_probabilities_01, weak_client_exclusive_sampling_probabilities_02, \\\n",
    "    medium_client_exclusive_sampling_probabilities_01, medium_client_exclusive_sampling_probabilities_02, \\\n",
    "    strong_client_exclusive_sampling_probabilities_01, strong_client_exclusive_sampling_probabilities_02"
   ]
  },
  {
   "cell_type": "markdown",
   "id": "b19d998e-e35a-4cf8-9681-fb503d077742",
   "metadata": {},
   "source": [
    "## --- Hyperparameters ---"
   ]
  },
  {
   "cell_type": "code",
   "execution_count": null,
   "id": "118a039a-c246-4d6f-9d45-f5ddb0e459a7",
   "metadata": {
    "tags": []
   },
   "outputs": [],
   "source": [
    "import torch.nn as nn\n",
    "import torch\n",
    "\n",
    "def run_sample_distribution_experiment(experiment_id, experiment_version, nr_clients, training_data_strides, sampling_probabilities_01, sampling_probabilities_02):\n",
    "    experiment = Experiment(base_path=original_working_directory_path, experiment_id=experiment_id, experiment_version=experiment_version)\n",
    "    experiment_path = experiment.get_experiment_path()\n",
    "\n",
    "    # HYPERPARAMETER for Federated Learning\n",
    "    NR_CLIENTS = nr_clients\n",
    "    NR_ROUNDS = 30\n",
    "    NR_EPISODES_PER_ROUND = 100\n",
    "    NR_EPISODES_PER_CLIENT = NR_ROUNDS * NR_EPISODES_PER_ROUND\n",
    "\n",
    "    # DQN Architecture Hyperparameter\n",
    "    N_ACTIONS = len(MTDTechnique)\n",
    "    N_HIDDEN_1 = 128\n",
    "    N_HIDDEN_2 = 64\n",
    "    N_HIDDEN_3 = 32\n",
    "    N_FEATURES = rl_training_data_dict[Behavior.NORMAL].shape[1] -1\n",
    "\n",
    "    # DQN Training Hyperparameter\n",
    "    GAMMA = 0.5 #0.99 # discount factor for future rewards\n",
    "    LR = 1e-3\n",
    "    BATCH_SIZE = 32\n",
    "    TARGET_UPDATE_FREQ = NR_EPISODES_PER_ROUND - 1\n",
    "    BUFFER_SIZE = 500\n",
    "    MIN_REPLAY_SIZE = 100\n",
    "\n",
    "    #SCHEDULER = \n",
    "    LOSS=nn.MSELoss()\n",
    "    L2 = 0.01\n",
    "\n",
    "    # HYPERPARAMETER for Epsilon Delta Strategy\n",
    "    EPSILON_START = 1.0\n",
    "    EPSILON_DEC = 1/(NR_EPISODES_PER_CLIENT*0.8)\n",
    "    EPSILON_END = 0.01\n",
    "\n",
    "    calculate_balance_metrics(sampling_probabilities_01, sampling_probabilities_02, NR_EPISODES_PER_CLIENT)\n",
    "\n",
    "    deep_q_network = DeepQNetwork(n_features=N_FEATURES, n_hidden_1=N_HIDDEN_1, n_hidden_2=N_HIDDEN_2, n_hidden_3=N_HIDDEN_3, n_actions=N_ACTIONS, loss=LOSS)\n",
    "    global_agent = Agent(0, deep_q_network, buffer_size=BUFFER_SIZE, batch_size=BATCH_SIZE, gamma=GAMMA, optimizer=None, eps=EPSILON_START, eps_min=EPSILON_END, eps_dec=EPSILON_DEC)\n",
    "    server = Server(global_agent, rl_test_data_dict, experiment_id, experiment_path)\n",
    "\n",
    "    clients = []\n",
    "    for i in range(NR_CLIENTS):\n",
    "        entity_id = i + 1\n",
    "        if entity_id % 2 == 0:\n",
    "            SAMPLING_PROBABILITIES = sampling_probabilities_01\n",
    "        else:\n",
    "            SAMPLING_PROBABILITIES = sampling_probabilities_02\n",
    "            \n",
    "        environment = Environment(entity_id, training_data_strides[i], sampling_probabilities=SAMPLING_PROBABILITIES , verbose=False)\n",
    "        deep_q_network = DeepQNetwork(n_features=N_FEATURES, n_hidden_1=N_HIDDEN_1, n_hidden_2=N_HIDDEN_2, n_hidden_3=N_HIDDEN_3, n_actions=N_ACTIONS, loss=LOSS)\n",
    "        optimizer = torch.optim.Adam(deep_q_network.parameters(), lr=LR,  weight_decay=L2, amsgrad=True)\n",
    "        agent = Agent(entity_id, deep_q_network, buffer_size=BUFFER_SIZE, batch_size=BATCH_SIZE, gamma=GAMMA, optimizer=optimizer, eps=EPSILON_START, eps_min=EPSILON_END, eps_dec=EPSILON_DEC)\n",
    "        client = Client(entity_id, agent, environment, experiment_path, MIN_REPLAY_SIZE)\n",
    "        server.add_client(client)\n",
    "\n",
    "\n",
    "    evaluations = [Evaluation.GLOBAL_PERFORMANCE_EVALUATION]\n",
    "    #server.run_federation(evaluations=evaluations, evaluation_frequency=1)\n",
    "    experiment.execute(server, nr_rounds=NR_ROUNDS, nr_episodes_per_round=NR_EPISODES_PER_ROUND, evaluations=evaluations, evaluation_frequency=1)\n",
    "    return experiment"
   ]
  },
  {
   "cell_type": "code",
   "execution_count": null,
   "id": "01444b4d-0701-443a-9e6e-51b052fb619a",
   "metadata": {
    "tags": []
   },
   "outputs": [],
   "source": [
    "def show_learning_curves(experiment):\n",
    "    experiment.server.plot_learning_curves()"
   ]
  },
  {
   "cell_type": "code",
   "execution_count": null,
   "id": "54c5b6c9-bf8c-49bc-b1b4-2ea797717807",
   "metadata": {
    "tags": []
   },
   "outputs": [],
   "source": [
    "def show_experiment_graphs(experiment):\n",
    "    experiment.plot_behavior_performances()\n",
    "    experiment.plot_test_performances()\n",
    "    experiment.plot_class_weighted_test_accuracy()"
   ]
  },
  {
   "cell_type": "markdown",
   "id": "1ac612fb-fbf2-4e11-8824-cb2638258019",
   "metadata": {},
   "source": [
    "---\n",
    "## Data Preparation"
   ]
  },
  {
   "cell_type": "code",
   "execution_count": null,
   "id": "baa0ac92-3fec-4b6e-85c3-43028b49788e",
   "metadata": {
    "tags": []
   },
   "outputs": [],
   "source": [
    "rl_training_data_dict, rl_test_data_dict, _ = DataProvider.get_scaled_train_test_split_one(split=0.8, scaling_minmax=True, scale_normal_only=True)\n",
    "\n",
    "training_data_strides = split_training_data(rl_training_data_dict, 10)"
   ]
  },
  {
   "cell_type": "markdown",
   "id": "06e9d08c-2b27-4a45-b3b4-d09e46e1ddc1",
   "metadata": {},
   "source": [
    "---\n",
    "## Scenario 00 (Baseline)\n",
    "1 Client trained with unit sampling probabilities"
   ]
  },
  {
   "cell_type": "code",
   "execution_count": null,
   "id": "580a6487-1d3d-4a35-860b-4e8a47b9a391",
   "metadata": {
    "tags": []
   },
   "outputs": [],
   "source": [
    "e1v0 = run_sample_distribution_experiment(1, 0, 1, training_data_strides, unit_sampling_probabilities, unit_sampling_probabilities)"
   ]
  },
  {
   "cell_type": "code",
   "execution_count": null,
   "id": "180546cb-1a87-499a-946a-90bcb12743d7",
   "metadata": {
    "tags": []
   },
   "outputs": [],
   "source": [
    "show_learning_curves(e1v0)"
   ]
  },
  {
   "cell_type": "code",
   "execution_count": null,
   "id": "508134dd-7ac9-4cc7-b940-48d2fc99f68b",
   "metadata": {
    "tags": []
   },
   "outputs": [],
   "source": [
    "show_experiment_graphs(e1v0)"
   ]
  },
  {
   "cell_type": "markdown",
   "id": "ff6fca15-8c46-4962-bf94-6d3908b6a04d",
   "metadata": {
    "tags": []
   },
   "source": [
    "---\n",
    "## Scenario 01 (Globally and Locally Class Balanced)"
   ]
  },
  {
   "cell_type": "code",
   "execution_count": null,
   "id": "0d2b0ac3-ec51-44af-bb7a-e061920629f4",
   "metadata": {
    "tags": []
   },
   "outputs": [],
   "source": [
    "e1v1 = run_sample_distribution_experiment(1, 1, 10, training_data_strides, unit_sampling_probabilities, unit_sampling_probabilities)"
   ]
  },
  {
   "cell_type": "code",
   "execution_count": null,
   "id": "c55bb4fe-cfbc-485d-81df-e125d63d4aa4",
   "metadata": {
    "tags": []
   },
   "outputs": [],
   "source": [
    "show_learning_curves(e1v1)"
   ]
  },
  {
   "cell_type": "code",
   "execution_count": null,
   "id": "f56d2b98-d369-4041-9181-f1774f85c5b8",
   "metadata": {
    "tags": []
   },
   "outputs": [],
   "source": [
    "show_experiment_graphs(e1v1)"
   ]
  },
  {
   "cell_type": "markdown",
   "id": "a1dd2d90-9ee3-4411-a9aa-8d78c65e9653",
   "metadata": {},
   "source": [
    "---\n",
    "## Scenario 02 (Globally Imbalanced and Locally Class Balanced)"
   ]
  },
  {
   "cell_type": "code",
   "execution_count": null,
   "id": "86c56976-9c4b-4013-96d4-1ec7203feb7a",
   "metadata": {
    "tags": []
   },
   "outputs": [],
   "source": [
    "e1v2 = run_sample_distribution_experiment(1, 2, 10, training_data_strides, regular_sampling_probabilities, regular_sampling_probabilities)"
   ]
  },
  {
   "cell_type": "code",
   "execution_count": null,
   "id": "181602e6-dac0-4175-85b8-598ffefee379",
   "metadata": {
    "tags": []
   },
   "outputs": [],
   "source": [
    "show_learning_curves(e1v2)"
   ]
  },
  {
   "cell_type": "code",
   "execution_count": null,
   "id": "a149f13f-9bad-477b-b839-e933e84e27d3",
   "metadata": {
    "tags": []
   },
   "outputs": [],
   "source": [
    "show_experiment_graphs(e1v2)"
   ]
  },
  {
   "cell_type": "markdown",
   "id": "825fc888-641d-413e-9bcc-1c8703560e27",
   "metadata": {},
   "source": [
    "---\n",
    "## Scenario 03 (Globally Balanced but Locally Class Imbalanced)"
   ]
  },
  {
   "cell_type": "code",
   "execution_count": null,
   "id": "4dea6f9e-e1d6-4135-a544-3ecaff4fb3f7",
   "metadata": {
    "tags": []
   },
   "outputs": [],
   "source": [
    "e1v3 = run_sample_distribution_experiment(1, 3, 10, training_data_strides, regular_sampling_probabilities, inverted_sampling_probabilities)"
   ]
  },
  {
   "cell_type": "code",
   "execution_count": null,
   "id": "7b066d2b-0d74-40b6-9518-fc104f2d1f73",
   "metadata": {
    "tags": []
   },
   "outputs": [],
   "source": [
    "show_learning_curves(e1v3)"
   ]
  },
  {
   "cell_type": "code",
   "execution_count": null,
   "id": "00d1d8ea-8dea-4cc6-b69d-a1c9f75527a6",
   "metadata": {
    "tags": []
   },
   "outputs": [],
   "source": [
    "show_experiment_graphs(e1v3)"
   ]
  },
  {
   "cell_type": "markdown",
   "id": "054485ce-1ee5-41a1-984e-db3c49f49c46",
   "metadata": {},
   "source": [
    "---\n",
    "## Scenario 04 (Globally and Locally Class Imbalanced)"
   ]
  },
  {
   "cell_type": "code",
   "execution_count": null,
   "id": "1eafd55f-8ac9-4a3b-bbbf-2de98f68042b",
   "metadata": {
    "tags": []
   },
   "outputs": [],
   "source": [
    "e1v4 = run_sample_distribution_experiment(1, 4, 10, training_data_strides, unit_sampling_probabilities, regular_sampling_probabilities)"
   ]
  },
  {
   "cell_type": "code",
   "execution_count": null,
   "id": "ba6054d2-e98c-475c-b611-7f5d07b73d97",
   "metadata": {
    "tags": []
   },
   "outputs": [],
   "source": [
    "show_learning_curves(e1v4)"
   ]
  },
  {
   "cell_type": "code",
   "execution_count": null,
   "id": "62750832-9c87-4777-90df-200bb2b80fd0",
   "metadata": {
    "tags": []
   },
   "outputs": [],
   "source": [
    "show_experiment_graphs(e1v4)"
   ]
  },
  {
   "cell_type": "markdown",
   "id": "2b3a8c07-2974-4060-9ff4-2b9370fc756d",
   "metadata": {},
   "source": [
    "---\n",
    "## Scenario 05 (Weak Client Exclusive Class Setting)"
   ]
  },
  {
   "cell_type": "code",
   "execution_count": null,
   "id": "186397a7-3c8a-4aec-bee2-c9fd7bb7ce0b",
   "metadata": {
    "tags": []
   },
   "outputs": [],
   "source": [
    "e1v5 = run_sample_distribution_experiment(1, 5, 10, training_data_strides, weak_client_exclusive_sampling_probabilities_01, weak_client_exclusive_sampling_probabilities_02)"
   ]
  },
  {
   "cell_type": "code",
   "execution_count": null,
   "id": "58136c8a-f2d1-4819-895a-b7c62a7ac714",
   "metadata": {
    "tags": []
   },
   "outputs": [],
   "source": [
    "show_learning_curves(e1v5)"
   ]
  },
  {
   "cell_type": "code",
   "execution_count": null,
   "id": "8425c3f6-66d0-4fa6-8729-a0ddeb4b8f5a",
   "metadata": {
    "tags": []
   },
   "outputs": [],
   "source": [
    "show_experiment_graphs(e1v5)"
   ]
  },
  {
   "cell_type": "markdown",
   "id": "87ce9863-1d23-45df-a309-d3b78054336f",
   "metadata": {},
   "source": [
    "--- \n",
    "## Scenario 06 (Medium Client Exclusive Class Setting)"
   ]
  },
  {
   "cell_type": "code",
   "execution_count": null,
   "id": "2a0a7dd0-183b-4b36-9492-2545c7ad62d1",
   "metadata": {
    "tags": []
   },
   "outputs": [],
   "source": [
    "e1v6 = run_sample_distribution_experiment(1, 6, training_data_strides, medium_client_exclusive_sampling_probabilities_01, medium_client_exclusive_sampling_probabilities_02)"
   ]
  },
  {
   "cell_type": "code",
   "execution_count": null,
   "id": "dac88d67-66cd-4bf9-abad-741f2a3fcf20",
   "metadata": {
    "tags": []
   },
   "outputs": [],
   "source": [
    "show_learning_curves(e1v6)"
   ]
  },
  {
   "cell_type": "code",
   "execution_count": null,
   "id": "874427ed-7e14-45d4-8c09-7186742de58a",
   "metadata": {
    "tags": []
   },
   "outputs": [],
   "source": [
    "show_experiment_graphs(e1v6)"
   ]
  },
  {
   "cell_type": "markdown",
   "id": "1b581fbb-2c7a-4eb2-9ce4-64c06fe8b0d5",
   "metadata": {},
   "source": [
    "---\n",
    "## Scenario 07 (Strong Client Exclusive Class Setting)"
   ]
  },
  {
   "cell_type": "code",
   "execution_count": null,
   "id": "4b3830a0-0028-4e27-ba00-f9de1aa34953",
   "metadata": {},
   "outputs": [],
   "source": [
    "e1v7 = run_sample_distribution_experiment(1, 7, training_data_strides, strong_client_exclusive_sampling_probabilities_01, strong_client_exclusive_sampling_probabilities_02)"
   ]
  },
  {
   "cell_type": "code",
   "execution_count": null,
   "id": "f02f490b-83ca-4783-affc-38ee2b158b4d",
   "metadata": {
    "tags": []
   },
   "outputs": [],
   "source": [
    "show_learning_curves(e1v7)"
   ]
  },
  {
   "cell_type": "code",
   "execution_count": null,
   "id": "82e9801b-5827-42a5-a245-eaf1daa1aa48",
   "metadata": {
    "tags": []
   },
   "outputs": [],
   "source": [
    "show_experiment_graphs(e1v7)"
   ]
  }
 ],
 "metadata": {
  "colab": {
   "include_colab_link": true,
   "provenance": []
  },
  "kernelspec": {
   "display_name": "FedRL-for-IT-Sec",
   "language": "python",
   "name": "fedrl-for-it-sec"
  },
  "language_info": {
   "codemirror_mode": {
    "name": "ipython",
    "version": 3
   },
   "file_extension": ".py",
   "mimetype": "text/x-python",
   "name": "python",
   "nbconvert_exporter": "python",
   "pygments_lexer": "ipython3",
   "version": "3.10.10"
  }
 },
 "nbformat": 4,
 "nbformat_minor": 5
}
