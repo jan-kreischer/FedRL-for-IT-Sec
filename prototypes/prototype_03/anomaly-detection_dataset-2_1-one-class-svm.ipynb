{
 "cells": [
  {
   "cell_type": "markdown",
   "id": "86c63224-498b-4c16-aa87-42db78bbe7b7",
   "metadata": {},
   "source": [
    "# 1. One-class SVM for State Anomaly Detection"
   ]
  },
  {
   "cell_type": "code",
   "execution_count": 1,
   "id": "7e796890-58dd-4f17-bf30-0e3ca852201e",
   "metadata": {
    "tags": []
   },
   "outputs": [],
   "source": [
    "executed_yet = False"
   ]
  },
  {
   "cell_type": "code",
   "execution_count": 2,
   "id": "0562da66-4301-4ed6-a99f-174d247c8cd4",
   "metadata": {
    "tags": []
   },
   "outputs": [
    {
     "name": "stdout",
     "output_type": "stream",
     "text": [
      "Original working directory: /Users/jankreischer/Library/Mobile Documents/com~apple~CloudDocs/Master-Thesis/Code/prototypes/prototype_03\n",
      "Current working directory: /Users/jankreischer/Library/Mobile Documents/com~apple~CloudDocs/Master-Thesis/Code\n"
     ]
    }
   ],
   "source": [
    "import os\n",
    "\n",
    "if not executed_yet:\n",
    "    executed_yet = True\n",
    "    original_working_directory_path = os.getcwd()\n",
    "    os.chdir(os.path.join(original_working_directory_path, \"../..\"))\n",
    "    root_working_directory_path =  os.getcwd()\n",
    "    \n",
    "print(f'Original working directory: {original_working_directory_path}')\n",
    "print(f'Current working directory: {root_working_directory_path}')"
   ]
  },
  {
   "cell_type": "code",
   "execution_count": 3,
   "id": "30ae8718-77f1-4b6d-953c-2ffae8ab54dc",
   "metadata": {
    "tags": []
   },
   "outputs": [],
   "source": [
    "import warnings\n",
    "warnings.simplefilter(action='ignore', category=FutureWarning)"
   ]
  },
  {
   "cell_type": "code",
   "execution_count": 4,
   "id": "889a4ea2-121e-4ad0-8bf6-03b5b30e86f8",
   "metadata": {},
   "outputs": [],
   "source": [
    "# Standard Dependencies\n",
    "import sys\n",
    "import os\n",
    "import numpy as np\n",
    "from time import time"
   ]
  },
  {
   "cell_type": "code",
   "execution_count": 43,
   "id": "63770f25-75fb-4b9d-8ea3-51354c8152dd",
   "metadata": {
    "id": "63770f25-75fb-4b9d-8ea3-51354c8152dd"
   },
   "outputs": [],
   "source": [
    "# Global Dependencies\n",
    "from src.functions import calculate_balance_metrics\n",
    "from src.custom_types import Behavior, MTDTechnique,  Execution, Evaluation, actions, mitigated_by, normal_afterstates\n",
    "from src.data_provider import DataProvider\n",
    "from src.autoencoder import AutoEncoder, RMSELoss\n",
    "from src.functions import convert_grid_search_result, display_grid_search_result"
   ]
  },
  {
   "cell_type": "code",
   "execution_count": 6,
   "id": "580f9cb8-76ea-4408-81e9-94d910c3b356",
   "metadata": {
    "tags": []
   },
   "outputs": [],
   "source": [
    "#from prototypes.prototype_02.agent import Agent\n",
    "#from prototypes.prototype_02.client import Client\n",
    "#from prototypes.prototype_02.server import Server\n",
    "#from prototypes.prototype_02.experiment import Experiment"
   ]
  },
  {
   "cell_type": "code",
   "execution_count": 6,
   "id": "f16cde5a-acb4-4b13-820c-0345c75f385d",
   "metadata": {},
   "outputs": [
    {
     "name": "stdout",
     "output_type": "stream",
     "text": [
      "17332\n",
      "60549\n"
     ]
    }
   ],
   "source": [
    "import pandas as pd\n",
    "decision_states_dataset = pd.read_csv('prototypes/prototype_03/dataset-02_decision-state-samples.csv')\n",
    "print(len(decision_states_dataset))\n",
    "after_states_dataset = pd.read_csv('prototypes/prototype_03/dataset-02_after-state-samples.csv')\n",
    "print(len(after_states_dataset))\n",
    "dataset = pd.concat([decision_states_dataset, after_states_dataset], axis=0)"
   ]
  },
  {
   "cell_type": "code",
   "execution_count": 7,
   "id": "c9baf9c7-f76e-49be-8ef0-56b30c8e94c5",
   "metadata": {
    "tags": []
   },
   "outputs": [
    {
     "data": {
      "text/plain": [
       "array(['None'], dtype=object)"
      ]
     },
     "execution_count": 7,
     "metadata": {},
     "output_type": "execute_result"
    }
   ],
   "source": [
    "decision_states_dataset[\"mtd\"].unique()"
   ]
  },
  {
   "cell_type": "code",
   "execution_count": 8,
   "id": "74cb649b-379a-4a58-ad13-622752fc4b27",
   "metadata": {
    "tags": []
   },
   "outputs": [],
   "source": [
    "# 3 Status Features\n",
    "time_status_columns = ['time', 'timestamp', 'seconds']\n",
    "try:\n",
    "    dataset.drop(time_status_columns, inplace=True, axis=1)\n",
    "except:\n",
    "    print(\"All time status features are removed from the dataset\")\n",
    "assert len(dataset.columns) == 99"
   ]
  },
  {
   "cell_type": "code",
   "execution_count": 9,
   "id": "b8591552-9118-4acc-9f84-fab7e47ddad2",
   "metadata": {
    "tags": []
   },
   "outputs": [
    {
     "name": "stdout",
     "output_type": "stream",
     "text": [
      "{'dma_fence:dma_fence_init', 'alarmtimer:alarmtimer_fired', 'tasksStopped', 'cachefiles:cachefiles_mark_active', 'cachefiles:cachefiles_lookup', 'clk:clk_set_rate', 'cpuHardIrq', 'cpuNice', 'cachefiles:cachefiles_create', 'alarmtimer:alarmtimer_start', 'udp:udp_fail_queue_rcv_skb', 'connectivity'}\n",
      "(77881, 87)\n"
     ]
    }
   ],
   "source": [
    "from fast_ml.feature_selection import get_constant_features\n",
    "\n",
    "constant_features = set(get_constant_features(dataset, threshold=0.99, dropna=False)['Var'])\n",
    "print(constant_features)\n",
    "try:\n",
    "    dataset.drop(constant_features, inplace=True, axis=1)\n",
    "except:\n",
    "    print(\"All constant features are removed from the dataset\")\n",
    "print(dataset.shape)"
   ]
  },
  {
   "cell_type": "code",
   "execution_count": 10,
   "id": "8e7cce8d-bddd-45bc-b8f2-f863db79281a",
   "metadata": {
    "tags": []
   },
   "outputs": [],
   "source": [
    "normal_afterstate_strings = [\n",
    "    (\"Behavior.ROOTKIT_BDVL\", \"MTDTechnique.ROOTKIT_SANITIZER\"),\n",
    "    (\"Behavior.ROOTKIT_BEURK\", \"MTDTechnique.ROOTKIT_SANITIZER\"),\n",
    "    (\"Behavior.RANSOMWARE_POC\", \"MTDTechnique.RANSOMWARE_DIRTRAP\"),\n",
    "    (\"Behavior.RANSOMWARE_POC\", \"MTDTechnique.RANSOMWARE_FILE_EXT_HIDE\"),\n",
    "    (\"Behavior.CNC_BACKDOOR_JAKORITAR\", \"MTDTechnique.CNC_IP_SHUFFLE\"),\n",
    "    (\"Behavior.CNC_THETICK\", \"MTDTechnique.CNC_IP_SHUFFLE\"),\n",
    "    (\"Behavior.CNC_OPT1\", \"MTDTechnique.CNC_IP_SHUFFLE\"),\n",
    "    (\"Behavior.CNC_OPT2\", \"MTDTechnique.CNC_IP_SHUFFLE\"),\n",
    "]"
   ]
  },
  {
   "cell_type": "code",
   "execution_count": 11,
   "id": "4cbaed76-55cb-435b-afd3-f445de23c0ba",
   "metadata": {
    "tags": []
   },
   "outputs": [
    {
     "data": {
      "text/plain": [
       "array(['Behavior.NORMAL', 'Behavior.RANSOMWARE_POC',\n",
       "       'Behavior.ROOTKIT_BDVL', 'Behavior.CNC_BACKDOOR_JAKORITAR',\n",
       "       'Behavior.ROOTKIT_BEURK', 'Behavior.CNC_THETICK',\n",
       "       'Behavior.CNC_OPT1', 'Behavior.CNC_OPT2'], dtype=object)"
      ]
     },
     "execution_count": 11,
     "metadata": {},
     "output_type": "execute_result"
    }
   ],
   "source": [
    "dataset[\"behavior\"].unique()"
   ]
  },
  {
   "cell_type": "code",
   "execution_count": 44,
   "id": "3368fd12-df1f-48ee-9573-e2cf71fa34d4",
   "metadata": {
    "tags": []
   },
   "outputs": [],
   "source": [
    "normal_label = -1\n",
    "abnormal_label = 1\n",
    "\n",
    "def is_normal(sample):  \n",
    "    behavior = sample.behavior \n",
    "    mtd = sample.mtd\n",
    "    if behavior == \"Behavior.NORMAL\":\n",
    "        label = normal_label\n",
    "    elif (str(behavior), str(mtd)) in normal_afterstate_strings:\n",
    "        label = normal_label\n",
    "    else:\n",
    "        label = abnormal_label\n",
    "    return label"
   ]
  },
  {
   "cell_type": "code",
   "execution_count": 45,
   "id": "d2647ec7-1f7b-49e8-911d-a87302915ff2",
   "metadata": {
    "tags": []
   },
   "outputs": [],
   "source": [
    "# Add a label if a state should be considered normal or not\n",
    "dataset['is_normal'] = dataset.apply(lambda sample: is_normal(sample), axis=1)"
   ]
  },
  {
   "cell_type": "code",
   "execution_count": 46,
   "id": "bd856ce6-ec9d-4ae1-a276-741607b746b8",
   "metadata": {
    "tags": []
   },
   "outputs": [
    {
     "name": "stdout",
     "output_type": "stream",
     "text": [
      "Using MinMaxScaler()\n"
     ]
    }
   ],
   "source": [
    "from sklearn.preprocessing import MinMaxScaler\n",
    "# Scaling\n",
    "fit_normal_behavior_only = True\n",
    "standard_scaling = False\n",
    "if standard_scaling:\n",
    "    scaler = StandardScaler()\n",
    "else:\n",
    "    scaler = MinMaxScaler()\n",
    "    \n",
    "print(f\"Using {scaler}\")\n",
    "\n",
    "if fit_normal_behavior_only:\n",
    "    df = dataset[dataset['is_normal'] == normal_label]\n",
    "\n",
    "else: \n",
    "    df = dataset\n",
    "    \n",
    "scaler.fit(df.values[:,:-3])\n",
    "\n",
    "scaled_dataset = pd.DataFrame(scaler.transform(dataset.values[:,:-3]), columns=dataset.columns.drop([\"behavior\", \"mtd\", \"is_normal\"]), index=dataset.index)\n",
    "scaled_dataset[\"behavior\"] = dataset[\"behavior\"]\n",
    "scaled_dataset[\"mtd\"] = dataset[\"mtd\"]\n",
    "scaled_dataset[\"is_normal\"] = dataset[\"is_normal\"]"
   ]
  },
  {
   "cell_type": "code",
   "execution_count": 47,
   "id": "3b0c8744-57ee-4c44-9a11-2c0fe67581af",
   "metadata": {
    "tags": []
   },
   "outputs": [
    {
     "name": "stdout",
     "output_type": "stream",
     "text": [
      "38940\n",
      "38941\n"
     ]
    }
   ],
   "source": [
    "from sklearn.model_selection import train_test_split\n",
    "\n",
    "rl_dataset, ad_dataset = train_test_split(scaled_dataset, train_size=0.5, shuffle=True)\n",
    "print(len(rl_dataset))\n",
    "print(len(ad_dataset))"
   ]
  },
  {
   "cell_type": "code",
   "execution_count": 24,
   "id": "fa2bf827-606e-42f1-bd6f-21be1dd25581",
   "metadata": {
    "tags": []
   },
   "outputs": [
    {
     "name": "stdout",
     "output_type": "stream",
     "text": [
      "Behavior.NORMAL, None : labeled [1] (2106 samples)\n",
      "Behavior.NORMAL, MTDTechnique.CNC_IP_SHUFFLE : labeled [1] (1041 samples)\n",
      "Behavior.NORMAL, MTDTechnique.ROOTKIT_SANITIZER : labeled [1] (998 samples)\n",
      "Behavior.NORMAL, MTDTechnique.RANSOMWARE_DIRTRAP : labeled [1] (1051 samples)\n",
      "Behavior.NORMAL, MTDTechnique.RANSOMWARE_FILE_EXT_HIDE : labeled [1] (979 samples)\n",
      "Behavior.ROOTKIT_BDVL, None : labeled [-1] (805 samples)\n",
      "Behavior.ROOTKIT_BDVL, MTDTechnique.CNC_IP_SHUFFLE : labeled [-1] (328 samples)\n",
      "Behavior.ROOTKIT_BDVL, MTDTechnique.ROOTKIT_SANITIZER : labeled [1] (1036 samples)\n",
      "Behavior.ROOTKIT_BDVL, MTDTechnique.RANSOMWARE_DIRTRAP : labeled [-1] (707 samples)\n",
      "Behavior.ROOTKIT_BDVL, MTDTechnique.RANSOMWARE_FILE_EXT_HIDE : labeled [-1] (320 samples)\n",
      "Behavior.ROOTKIT_BEURK, None : labeled [-1] (995 samples)\n",
      "Behavior.ROOTKIT_BEURK, MTDTechnique.CNC_IP_SHUFFLE : labeled [-1] (973 samples)\n",
      "Behavior.ROOTKIT_BEURK, MTDTechnique.ROOTKIT_SANITIZER : labeled [1] (1004 samples)\n",
      "Behavior.ROOTKIT_BEURK, MTDTechnique.RANSOMWARE_DIRTRAP : labeled [-1] (973 samples)\n",
      "Behavior.ROOTKIT_BEURK, MTDTechnique.RANSOMWARE_FILE_EXT_HIDE : labeled [-1] (981 samples)\n",
      "Behavior.CNC_BACKDOOR_JAKORITAR, None : labeled [-1] (1004 samples)\n",
      "Behavior.CNC_BACKDOOR_JAKORITAR, MTDTechnique.CNC_IP_SHUFFLE : labeled [1] (972 samples)\n",
      "Behavior.CNC_BACKDOOR_JAKORITAR, MTDTechnique.ROOTKIT_SANITIZER : labeled [-1] (1047 samples)\n",
      "Behavior.CNC_BACKDOOR_JAKORITAR, MTDTechnique.RANSOMWARE_DIRTRAP : labeled [-1] (1037 samples)\n",
      "Behavior.CNC_BACKDOOR_JAKORITAR, MTDTechnique.RANSOMWARE_FILE_EXT_HIDE : labeled [-1] (979 samples)\n",
      "Behavior.CNC_THETICK, None : labeled [-1] (751 samples)\n",
      "Behavior.CNC_THETICK, MTDTechnique.CNC_IP_SHUFFLE : labeled [1] (1030 samples)\n",
      "Behavior.CNC_THETICK, MTDTechnique.ROOTKIT_SANITIZER : labeled [-1] (998 samples)\n",
      "Behavior.CNC_THETICK, MTDTechnique.RANSOMWARE_DIRTRAP : labeled [-1] (1079 samples)\n",
      "Behavior.CNC_THETICK, MTDTechnique.RANSOMWARE_FILE_EXT_HIDE : labeled [-1] (1026 samples)\n",
      "Behavior.CNC_OPT1, None : labeled [-1] (1086 samples)\n",
      "Behavior.CNC_OPT1, MTDTechnique.CNC_IP_SHUFFLE : labeled [1] (1042 samples)\n",
      "Behavior.CNC_OPT1, MTDTechnique.ROOTKIT_SANITIZER : labeled [-1] (1043 samples)\n",
      "Behavior.CNC_OPT1, MTDTechnique.RANSOMWARE_DIRTRAP : labeled [-1] (1079 samples)\n",
      "Behavior.CNC_OPT1, MTDTechnique.RANSOMWARE_FILE_EXT_HIDE : labeled [-1] (1033 samples)\n",
      "Behavior.CNC_OPT2, None : labeled [-1] (1047 samples)\n",
      "Behavior.CNC_OPT2, MTDTechnique.CNC_IP_SHUFFLE : labeled [1] (1044 samples)\n",
      "Behavior.CNC_OPT2, MTDTechnique.ROOTKIT_SANITIZER : labeled [-1] (1063 samples)\n",
      "Behavior.CNC_OPT2, MTDTechnique.RANSOMWARE_DIRTRAP : labeled [-1] (1043 samples)\n",
      "Behavior.CNC_OPT2, MTDTechnique.RANSOMWARE_FILE_EXT_HIDE : labeled [-1] (999 samples)\n",
      "Behavior.RANSOMWARE_POC, None : labeled [-1] (903 samples)\n",
      "Behavior.RANSOMWARE_POC, MTDTechnique.CNC_IP_SHUFFLE : labeled [-1] (328 samples)\n",
      "Behavior.RANSOMWARE_POC, MTDTechnique.ROOTKIT_SANITIZER : labeled [-1] (922 samples)\n",
      "Behavior.RANSOMWARE_POC, MTDTechnique.RANSOMWARE_DIRTRAP : labeled [1] (1044 samples)\n",
      "Behavior.RANSOMWARE_POC, MTDTechnique.RANSOMWARE_FILE_EXT_HIDE : labeled [1] (1044 samples)\n",
      "Contains a total of 38940 samples.\n"
     ]
    }
   ],
   "source": [
    "n_total = 0\n",
    "for behavior in Behavior:\n",
    "    for mtd in [\"None\"] + list(MTDTechnique):\n",
    "        behavior_samples = rl_dataset.loc[(rl_dataset['behavior'] == str(behavior)) & (rl_dataset['mtd'] == str(mtd))]\n",
    "        n_total+=len(behavior_samples)\n",
    "        print(f\"{behavior}, {mtd} : labeled {behavior_samples['is_normal'].unique()} ({len(behavior_samples)} samples)\")\n",
    "print(f\"Contains a total of {n_total} samples.\")"
   ]
  },
  {
   "cell_type": "code",
   "execution_count": 49,
   "id": "34a618aa-4164-4d70-af46-f8227bd5c435",
   "metadata": {
    "tags": []
   },
   "outputs": [
    {
     "name": "stdout",
     "output_type": "stream",
     "text": [
      "Behavior.NORMAL, None : labeled [-1] (4178 samples)\n",
      "Behavior.NORMAL, MTDTechnique.CNC_IP_SHUFFLE : labeled [-1] (2031 samples)\n",
      "Behavior.NORMAL, MTDTechnique.ROOTKIT_SANITIZER : labeled [-1] (1971 samples)\n",
      "Behavior.NORMAL, MTDTechnique.RANSOMWARE_DIRTRAP : labeled [-1] (2084 samples)\n",
      "Behavior.NORMAL, MTDTechnique.RANSOMWARE_FILE_EXT_HIDE : labeled [-1] (1971 samples)\n",
      "Behavior.ROOTKIT_BDVL, None : labeled [1] (1658 samples)\n",
      "Behavior.ROOTKIT_BDVL, MTDTechnique.CNC_IP_SHUFFLE : labeled [1] (657 samples)\n",
      "Behavior.ROOTKIT_BDVL, MTDTechnique.ROOTKIT_SANITIZER : labeled [-1] (1995 samples)\n",
      "Behavior.ROOTKIT_BDVL, MTDTechnique.RANSOMWARE_DIRTRAP : labeled [1] (1392 samples)\n",
      "Behavior.ROOTKIT_BDVL, MTDTechnique.RANSOMWARE_FILE_EXT_HIDE : labeled [1] (624 samples)\n",
      "Behavior.ROOTKIT_BEURK, None : labeled [1] (2012 samples)\n",
      "Behavior.ROOTKIT_BEURK, MTDTechnique.CNC_IP_SHUFFLE : labeled [1] (1975 samples)\n",
      "Behavior.ROOTKIT_BEURK, MTDTechnique.ROOTKIT_SANITIZER : labeled [-1] (2081 samples)\n",
      "Behavior.ROOTKIT_BEURK, MTDTechnique.RANSOMWARE_DIRTRAP : labeled [1] (1969 samples)\n",
      "Behavior.ROOTKIT_BEURK, MTDTechnique.RANSOMWARE_FILE_EXT_HIDE : labeled [1] (1990 samples)\n",
      "Behavior.CNC_BACKDOOR_JAKORITAR, None : labeled [1] (2018 samples)\n",
      "Behavior.CNC_BACKDOOR_JAKORITAR, MTDTechnique.CNC_IP_SHUFFLE : labeled [-1] (2024 samples)\n",
      "Behavior.CNC_BACKDOOR_JAKORITAR, MTDTechnique.ROOTKIT_SANITIZER : labeled [1] (2085 samples)\n",
      "Behavior.CNC_BACKDOOR_JAKORITAR, MTDTechnique.RANSOMWARE_DIRTRAP : labeled [1] (2017 samples)\n",
      "Behavior.CNC_BACKDOOR_JAKORITAR, MTDTechnique.RANSOMWARE_FILE_EXT_HIDE : labeled [1] (2013 samples)\n",
      "Behavior.CNC_THETICK, None : labeled [1] (1507 samples)\n",
      "Behavior.CNC_THETICK, MTDTechnique.CNC_IP_SHUFFLE : labeled [-1] (2086 samples)\n",
      "Behavior.CNC_THETICK, MTDTechnique.ROOTKIT_SANITIZER : labeled [1] (2093 samples)\n",
      "Behavior.CNC_THETICK, MTDTechnique.RANSOMWARE_DIRTRAP : labeled [1] (2095 samples)\n",
      "Behavior.CNC_THETICK, MTDTechnique.RANSOMWARE_FILE_EXT_HIDE : labeled [1] (2087 samples)\n",
      "Behavior.CNC_OPT1, None : labeled [1] (2080 samples)\n",
      "Behavior.CNC_OPT1, MTDTechnique.CNC_IP_SHUFFLE : labeled [-1] (2079 samples)\n",
      "Behavior.CNC_OPT1, MTDTechnique.ROOTKIT_SANITIZER : labeled [1] (2081 samples)\n",
      "Behavior.CNC_OPT1, MTDTechnique.RANSOMWARE_DIRTRAP : labeled [1] (2091 samples)\n",
      "Behavior.CNC_OPT1, MTDTechnique.RANSOMWARE_FILE_EXT_HIDE : labeled [1] (2085 samples)\n",
      "Behavior.CNC_OPT2, None : labeled [1] (2075 samples)\n",
      "Behavior.CNC_OPT2, MTDTechnique.CNC_IP_SHUFFLE : labeled [-1] (2089 samples)\n",
      "Behavior.CNC_OPT2, MTDTechnique.ROOTKIT_SANITIZER : labeled [1] (2082 samples)\n",
      "Behavior.CNC_OPT2, MTDTechnique.RANSOMWARE_DIRTRAP : labeled [1] (2072 samples)\n",
      "Behavior.CNC_OPT2, MTDTechnique.RANSOMWARE_FILE_EXT_HIDE : labeled [1] (2095 samples)\n",
      "Behavior.RANSOMWARE_POC, None : labeled [1] (1804 samples)\n",
      "Behavior.RANSOMWARE_POC, MTDTechnique.CNC_IP_SHUFFLE : labeled [1] (636 samples)\n",
      "Behavior.RANSOMWARE_POC, MTDTechnique.ROOTKIT_SANITIZER : labeled [1] (1812 samples)\n",
      "Behavior.RANSOMWARE_POC, MTDTechnique.RANSOMWARE_DIRTRAP : labeled [-1] (2095 samples)\n",
      "Behavior.RANSOMWARE_POC, MTDTechnique.RANSOMWARE_FILE_EXT_HIDE : labeled [-1] (2092 samples)\n",
      "Contains a total of 77881 samples.\n"
     ]
    }
   ],
   "source": [
    "n_total = 0\n",
    "for behavior in Behavior:\n",
    "    for mtd in [\"None\"] + list(MTDTechnique):\n",
    "        behavior_samples = scaled_dataset.loc[(scaled_dataset['behavior'] == str(behavior)) & (scaled_dataset['mtd'] == str(mtd))]\n",
    "        n_total+=len(behavior_samples)\n",
    "        print(f\"{behavior}, {mtd} : labeled {behavior_samples['is_normal'].unique()} ({len(behavior_samples)} samples)\")\n",
    "print(f\"Contains a total of {n_total} samples.\")"
   ]
  },
  {
   "cell_type": "code",
   "execution_count": 29,
   "id": "66d10245-4934-45da-afd3-982b065b7382",
   "metadata": {
    "tags": []
   },
   "outputs": [
    {
     "name": "stdout",
     "output_type": "stream",
     "text": [
      "14385\n",
      "24556\n",
      "38941\n",
      "0.36940499730361315\n"
     ]
    }
   ],
   "source": [
    "n_normal_ad_dataset = len(ad_dataset.loc[ad_dataset[\"is_normal\"] == normal_label])\n",
    "n_abnormal_ad_dataset = len(ad_dataset.loc[ad_dataset[\"is_normal\"] == abnormal_label])\n",
    "n_total = len(ad_dataset)\n",
    "\n",
    "print(n_normal_ad_dataset)\n",
    "print(n_abnormal_ad_dataset)\n",
    "print(n_total)\n",
    "assert n_normal_ad_dataset + n_abnormal_ad_dataset == n_total\n",
    "\n",
    "nu = n_normal_ad_dataset/n_total\n",
    "print(nu)"
   ]
  },
  {
   "cell_type": "markdown",
   "id": "0950d1f9-7076-4681-bf88-ec11f516dd65",
   "metadata": {
    "tags": []
   },
   "source": [
    "### Functions"
   ]
  },
  {
   "cell_type": "code",
   "execution_count": 226,
   "id": "924759d5-e297-433f-96b7-0bdc82c0c06f",
   "metadata": {},
   "outputs": [],
   "source": [
    "from sklearn.svm import OneClassSVM\n",
    "from sklearn.ensemble import IsolationForest\n",
    "from sklearn.neighbors import LocalOutlierFactor\n",
    "from sklearn.metrics import precision_score, recall_score, f1_score, accuracy_score\n",
    "\n",
    "def evaluate(model, data_dict, tablefmt='latex_raw'):\n",
    "        results = []\n",
    "        labels= [-1,1]\n",
    "        pos_label = 1\n",
    "        \n",
    "        y_true_total = np.empty([0])\n",
    "        y_pred_total = np.empty([0])\n",
    "        for behavior, data in data_dict.items():\n",
    "            y_true = data[:,-1].astype(int)\n",
    "            y_true_total = np.concatenate((y_true_total, y_true))\n",
    "\n",
    "            y_pred = model.predict(data[:, :-1].astype(np.float32))\n",
    "            y_pred_total = np.concatenate((y_pred_total, y_pred))\n",
    "\n",
    "            accuracy = accuracy_score(y_true, y_pred)\n",
    "\n",
    "            n_samples = len(y_true)\n",
    "            results.append([behavior.name.replace(\"_\", \"\\_\"), f'{(100 * accuracy):.2f}\\%', '\\\\notCalculated', '\\\\notCalculated', '\\\\notCalculated', str(n_samples)])\n",
    "\n",
    "        accuracy = accuracy_score(y_true_total, y_pred_total)\n",
    "        precision = precision_score(y_true_total, y_pred_total, average='binary', labels=labels, pos_label=pos_label, zero_division=1)\n",
    "        recall = recall_score(y_true_total, y_pred_total, average='binary', labels=labels, pos_label=pos_label, zero_division=1)\n",
    "        f1 = f1_score(y_true_total, y_pred_total, average='binary', labels=labels, pos_label=pos_label, zero_division=1)\n",
    "        n_samples = len(y_true_total)\n",
    "        results.append([\"GLOBAL\", f'{(100 * accuracy):.2f}\\%', f'{(100 * precision):.2f}\\%', f'{(100 * recall):.2f}\\%', f'{(100 * f1):.2f}\\%', n_samples])\n",
    "        print(tabulate(results, headers=[\"Behavior\", \"Accuracy\", \"Precision\", \"Recall\", \"F1-Score\", \"\\\\#Samples\"], tablefmt=tablefmt)) "
   ]
  },
  {
   "cell_type": "code",
   "execution_count": 50,
   "id": "deb410c9-9069-4e44-8c9a-2d3fd5e2b6b5",
   "metadata": {
    "tags": []
   },
   "outputs": [],
   "source": [
    "svm_training_x = ad_dataset.drop([\"behavior\", \"mtd\", \"is_normal\"],  axis=1, inplace=False).to_numpy().astype(np.float32) \n",
    "svm_training_y = ad_dataset[\"is_normal\"].to_numpy().astype(np.int32)"
   ]
  },
  {
   "cell_type": "code",
   "execution_count": 125,
   "id": "0bd9e76c-50d4-4aa6-bb5e-9423e65f10b6",
   "metadata": {
    "tags": []
   },
   "outputs": [],
   "source": [
    "svm_test_data_dict, svm_test_data_flat = get_test_datasets(test_data, 1, -1)"
   ]
  },
  {
   "cell_type": "code",
   "execution_count": 37,
   "id": "3e478530-88cb-458d-a34f-3364607a29a3",
   "metadata": {
    "tags": []
   },
   "outputs": [],
   "source": [
    "param_grid = [\n",
    "    {\n",
    "        \"kernel\": [\"linear\"],\n",
    "        #\"shrinking\": [True, False]\n",
    "        #\"nu\"\n",
    "    },\n",
    "    {\n",
    "        \"kernel\": [\"poly\"],\n",
    "        \"degree\": [1,2,3,4],\n",
    "        \"gamma\": [\"scale\", \"auto\"]\n",
    "        #\"shrinking\": [True, False]\n",
    "    },\n",
    "    {\n",
    "        \"kernel\": [\"rbf\"],\n",
    "        \"gamma\": [\"scale\", \"auto\"]\n",
    "        #\"shrinking\": [True, False]\n",
    "    },\n",
    "    {\n",
    "        \"kernel\": [\"sigmoid\"],\n",
    "        \"gamma\": [\"scale\", \"auto\"]\n",
    "        #\"shrinking\": [True, False]\n",
    "    },\n",
    "]"
   ]
  },
  {
   "cell_type": "code",
   "execution_count": 42,
   "id": "b95aa9bb-ac4c-4585-99f8-736785649d39",
   "metadata": {
    "tags": []
   },
   "outputs": [
    {
     "name": "stdout",
     "output_type": "stream",
     "text": [
      "Fitting 2 folds for each of 13 candidates, totalling 26 fits\n",
      "[CV 1/2] END .....................kernel=linear;, score=0.427 total time=  37.5s\n",
      "[CV 2/2] END .....................kernel=linear;, score=0.420 total time=  36.4s\n",
      "[CV 1/2] END degree=1, gamma=scale, kernel=poly;, score=0.427 total time=  38.2s\n",
      "[CV 2/2] END degree=1, gamma=scale, kernel=poly;, score=0.420 total time=  45.1s\n",
      "[CV 1/2] END .degree=1, gamma=auto, kernel=poly;, score=0.427 total time=  49.5s\n",
      "[CV 2/2] END .degree=1, gamma=auto, kernel=poly;, score=0.420 total time=  39.4s\n",
      "[CV 1/2] END degree=2, gamma=scale, kernel=poly;, score=0.428 total time=  42.9s\n",
      "[CV 2/2] END degree=2, gamma=scale, kernel=poly;, score=0.422 total time=  43.4s\n",
      "[CV 1/2] END .degree=2, gamma=auto, kernel=poly;, score=0.428 total time=  40.8s\n",
      "[CV 2/2] END .degree=2, gamma=auto, kernel=poly;, score=0.422 total time=  37.8s\n",
      "[CV 1/2] END degree=3, gamma=scale, kernel=poly;, score=0.433 total time=  37.5s\n",
      "[CV 2/2] END degree=3, gamma=scale, kernel=poly;, score=0.423 total time=  37.2s\n",
      "[CV 1/2] END .degree=3, gamma=auto, kernel=poly;, score=0.430 total time=  34.9s\n",
      "[CV 2/2] END .degree=3, gamma=auto, kernel=poly;, score=0.423 total time=  33.9s\n",
      "[CV 1/2] END degree=4, gamma=scale, kernel=poly;, score=0.551 total time=  31.4s\n",
      "[CV 2/2] END degree=4, gamma=scale, kernel=poly;, score=0.424 total time=  33.4s\n",
      "[CV 1/2] END .degree=4, gamma=auto, kernel=poly;, score=0.432 total time=  34.4s\n",
      "[CV 2/2] END .degree=4, gamma=auto, kernel=poly;, score=0.425 total time=  33.9s\n",
      "[CV 1/2] END ...........gamma=scale, kernel=rbf;, score=0.574 total time= 1.1min\n",
      "[CV 2/2] END ...........gamma=scale, kernel=rbf;, score=0.574 total time= 1.1min\n",
      "[CV 1/2] END ............gamma=auto, kernel=rbf;, score=0.574 total time= 1.1min\n",
      "[CV 2/2] END ............gamma=auto, kernel=rbf;, score=0.574 total time= 1.1min\n",
      "[CV 1/2] END .......gamma=scale, kernel=sigmoid;, score=0.427 total time=  35.6s\n",
      "[CV 2/2] END .......gamma=scale, kernel=sigmoid;, score=0.420 total time=  35.9s\n",
      "[CV 1/2] END ........gamma=auto, kernel=sigmoid;, score=0.427 total time=  36.4s\n",
      "[CV 2/2] END ........gamma=auto, kernel=sigmoid;, score=0.420 total time=  36.4s\n"
     ]
    }
   ],
   "source": [
    "from sklearn.svm import OneClassSVM\n",
    "from sklearn.model_selection import GridSearchCV\n",
    "\n",
    "\n",
    "\n",
    "svm_grid_search = GridSearchCV(estimator=OneClassSVM(nu=0.5, verbose=False), \n",
    "                           param_grid=param_grid,\n",
    "                           scoring='accuracy',\n",
    "                           n_jobs=1,\n",
    "                           cv=2,\n",
    "                           verbose=3,\n",
    "                           refit=False)\n",
    "\n",
    "#Fitting 5 folds for each of 26 candidates, totalling 130 fits\n",
    "svm_grid_search_result = svm_grid_search.fit(svm_training_x, svm_training_y)"
   ]
  },
  {
   "cell_type": "code",
   "execution_count": null,
   "id": "b82d638d-4e5d-4c85-be30-d993ab56982b",
   "metadata": {
    "tags": []
   },
   "outputs": [],
   "source": [
    "svm_grid_search_result_table = convert_grid_search_result(svm_grid_search_result)\n",
    "display_grid_search_result(svm_grid_search_result_table)"
   ]
  },
  {
   "cell_type": "code",
   "execution_count": null,
   "id": "06e1cbb8-a9dc-498b-92b2-253e131b83a3",
   "metadata": {
    "tags": []
   },
   "outputs": [],
   "source": [
    "# Testing the best hyperparameter configuration on the 50:50 dataset\n",
    "best_svm = OneClassSVM(nu=0.50, kernel = 'rbf', gamma = 'auto')\n",
    "best_svm.fit(svm_training_x)\n",
    "evaluate(best_svm, svm_test_data_dict, 'latex_raw')"
   ]
  },
  {
   "cell_type": "code",
   "execution_count": 51,
   "id": "d50b5b5a-4ff2-4fc2-9223-3df67b110e25",
   "metadata": {
    "tags": []
   },
   "outputs": [
    {
     "name": "stdout",
     "output_type": "stream",
     "text": [
      "Fitting 2 folds for each of 13 candidates, totalling 26 fits\n",
      "[CV 1/2] END .....................kernel=linear;, score=0.577 total time=  43.9s\n",
      "[CV 2/2] END .....................kernel=linear;, score=0.577 total time=  35.7s\n",
      "[CV 1/2] END degree=1, gamma=scale, kernel=poly;, score=0.577 total time=  38.7s\n",
      "[CV 2/2] END degree=1, gamma=scale, kernel=poly;, score=0.577 total time=  38.4s\n",
      "[CV 1/2] END .degree=1, gamma=auto, kernel=poly;, score=0.577 total time=  41.6s\n",
      "[CV 2/2] END .degree=1, gamma=auto, kernel=poly;, score=0.577 total time=  41.7s\n",
      "[CV 1/2] END degree=2, gamma=scale, kernel=poly;, score=0.575 total time=  45.2s\n",
      "[CV 2/2] END degree=2, gamma=scale, kernel=poly;, score=0.575 total time=  47.2s\n",
      "[CV 1/2] END .degree=2, gamma=auto, kernel=poly;, score=0.576 total time=  40.7s\n",
      "[CV 2/2] END .degree=2, gamma=auto, kernel=poly;, score=0.574 total time=  43.7s\n",
      "[CV 1/2] END degree=3, gamma=scale, kernel=poly;, score=0.571 total time=  40.1s\n",
      "[CV 2/2] END degree=3, gamma=scale, kernel=poly;, score=0.575 total time=  44.1s\n",
      "[CV 1/2] END .degree=3, gamma=auto, kernel=poly;, score=0.574 total time=  46.4s\n",
      "[CV 2/2] END .degree=3, gamma=auto, kernel=poly;, score=0.574 total time=  44.3s\n",
      "[CV 1/2] END degree=4, gamma=scale, kernel=poly;, score=0.549 total time=  41.8s\n",
      "[CV 2/2] END degree=4, gamma=scale, kernel=poly;, score=0.572 total time=  41.4s\n",
      "[CV 1/2] END .degree=4, gamma=auto, kernel=poly;, score=0.574 total time=  40.7s\n",
      "[CV 2/2] END .degree=4, gamma=auto, kernel=poly;, score=0.572 total time=  47.7s\n",
      "[CV 1/2] END ...........gamma=scale, kernel=rbf;, score=0.424 total time= 1.3min\n",
      "[CV 2/2] END ...........gamma=scale, kernel=rbf;, score=0.432 total time= 1.3min\n",
      "[CV 1/2] END ............gamma=auto, kernel=rbf;, score=0.425 total time= 1.3min\n",
      "[CV 2/2] END ............gamma=auto, kernel=rbf;, score=0.432 total time= 1.6min\n",
      "[CV 1/2] END .......gamma=scale, kernel=sigmoid;, score=0.577 total time=  50.3s\n",
      "[CV 2/2] END .......gamma=scale, kernel=sigmoid;, score=0.577 total time=  54.4s\n",
      "[CV 1/2] END ........gamma=auto, kernel=sigmoid;, score=0.577 total time=  51.9s\n",
      "[CV 2/2] END ........gamma=auto, kernel=sigmoid;, score=0.576 total time=  58.6s\n"
     ]
    }
   ],
   "source": [
    "from sklearn.svm import OneClassSVM\n",
    "from sklearn.model_selection import GridSearchCV\n",
    "\n",
    "svm_grid_search = GridSearchCV(estimator=OneClassSVM(nu=0.5, verbose=False), \n",
    "                           param_grid=param_grid,\n",
    "                           scoring='accuracy',\n",
    "                           n_jobs=1,\n",
    "                           cv=2,\n",
    "                           verbose=3,\n",
    "                           refit=False)\n",
    "\n",
    "#Fitting 5 folds for each of 26 candidates, totalling 130 fits\n",
    "svm_grid_search_result = svm_grid_search.fit(svm_training_x, svm_training_y)"
   ]
  },
  {
   "cell_type": "code",
   "execution_count": 52,
   "id": "0ac2d0be-cedd-41d8-92b8-7df813002ee6",
   "metadata": {
    "tags": []
   },
   "outputs": [
    {
     "name": "stdout",
     "output_type": "stream",
     "text": [
      "\\begin{tabular}{lrlrl}\n",
      "\\toprule\n",
      "{} &  mean\\_validation\\_accuracy &   kernel &  degree &  gamma \\\\\n",
      "\\midrule\n",
      "\\textbf{1 } &                  0.576590 &   linear &     NaN &    NaN \\\\\n",
      "\\textbf{2 } &                  0.576590 &     poly &     1.0 &  scale \\\\\n",
      "\\textbf{3 } &                  0.576590 &     poly &     1.0 &   auto \\\\\n",
      "\\textbf{4 } &                  0.576590 &  sigmoid &     NaN &  scale \\\\\n",
      "\\textbf{5 } &                  0.576590 &  sigmoid &     NaN &   auto \\\\\n",
      "\\textbf{6 } &                  0.574998 &     poly &     2.0 &   auto \\\\\n",
      "\\textbf{7 } &                  0.574947 &     poly &     2.0 &  scale \\\\\n",
      "\\textbf{8 } &                  0.574125 &     poly &     3.0 &   auto \\\\\n",
      "\\textbf{9 } &                  0.572918 &     poly &     4.0 &   auto \\\\\n",
      "\\textbf{10} &                  0.572892 &     poly &     3.0 &  scale \\\\\n",
      "\\bottomrule\n",
      "\\end{tabular}\n",
      "\n"
     ]
    }
   ],
   "source": [
    "svm_grid_search_result_table = convert_grid_search_result(svm_grid_search_result)\n",
    "display_grid_search_result(svm_grid_search_result_table)"
   ]
  }
 ],
 "metadata": {
  "kernelspec": {
   "display_name": "Python 3 (ipykernel)",
   "language": "python",
   "name": "python3"
  },
  "language_info": {
   "codemirror_mode": {
    "name": "ipython",
    "version": 3
   },
   "file_extension": ".py",
   "mimetype": "text/x-python",
   "name": "python",
   "nbconvert_exporter": "python",
   "pygments_lexer": "ipython3",
   "version": "3.10.10"
  }
 },
 "nbformat": 4,
 "nbformat_minor": 5
}
