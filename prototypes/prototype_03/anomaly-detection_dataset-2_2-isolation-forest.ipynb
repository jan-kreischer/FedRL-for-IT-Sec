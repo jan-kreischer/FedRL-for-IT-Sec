{
 "cells": [
  {
   "cell_type": "markdown",
   "id": "86c63224-498b-4c16-aa87-42db78bbe7b7",
   "metadata": {},
   "source": [
    "# 2. Isolation Forest for State Anomaly Detection"
   ]
  },
  {
   "cell_type": "code",
   "execution_count": 11,
   "id": "7e796890-58dd-4f17-bf30-0e3ca852201e",
   "metadata": {
    "tags": []
   },
   "outputs": [],
   "source": [
    "executed_yet = False"
   ]
  },
  {
   "cell_type": "code",
   "execution_count": 3,
   "id": "0562da66-4301-4ed6-a99f-174d247c8cd4",
   "metadata": {
    "tags": []
   },
   "outputs": [
    {
     "name": "stdout",
     "output_type": "stream",
     "text": [
      "Original working directory: /Users/jankreischer/Library/Mobile Documents/com~apple~CloudDocs/Master-Thesis/Code/prototypes/prototype_03\n",
      "Current working directory: /Users/jankreischer/Library/Mobile Documents/com~apple~CloudDocs/Master-Thesis/Code\n"
     ]
    }
   ],
   "source": [
    "import os\n",
    "\n",
    "if not executed_yet:\n",
    "    executed_yet = True\n",
    "    original_working_directory_path = os.getcwd()\n",
    "    os.chdir(os.path.join(original_working_directory_path, \"../..\"))\n",
    "    root_working_directory_path =  os.getcwd()\n",
    "    \n",
    "print(f'Original working directory: {original_working_directory_path}')\n",
    "print(f'Current working directory: {root_working_directory_path}')"
   ]
  },
  {
   "cell_type": "code",
   "execution_count": 60,
   "id": "373a5a78-afd9-4637-a313-92bd28f0ebbd",
   "metadata": {
    "tags": []
   },
   "outputs": [],
   "source": [
    "from src.functions import convert_grid_search_result, display_grid_search_result"
   ]
  },
  {
   "cell_type": "code",
   "execution_count": 37,
   "id": "f16cde5a-acb4-4b13-820c-0345c75f385d",
   "metadata": {},
   "outputs": [
    {
     "name": "stdout",
     "output_type": "stream",
     "text": [
      "17332\n",
      "60549\n"
     ]
    }
   ],
   "source": [
    "import pandas as pd\n",
    "decision_states_dataset = pd.read_csv('prototypes/prototype_03/dataset-02_decision-state-samples.csv')\n",
    "print(len(decision_states_dataset))\n",
    "after_states_dataset = pd.read_csv('prototypes/prototype_03/dataset-02_after-state-samples.csv')\n",
    "print(len(after_states_dataset))\n",
    "dataset = pd.concat([decision_states_dataset, after_states_dataset], axis=0)"
   ]
  },
  {
   "cell_type": "code",
   "execution_count": 38,
   "id": "74cb649b-379a-4a58-ad13-622752fc4b27",
   "metadata": {
    "tags": []
   },
   "outputs": [],
   "source": [
    "# 3 Status Features\n",
    "time_status_columns = ['time', 'timestamp', 'seconds']\n",
    "try:\n",
    "    dataset.drop(time_status_columns, inplace=True, axis=1)\n",
    "except:\n",
    "    print(\"All time status features are removed from the dataset\")\n",
    "assert len(dataset.columns) == 99"
   ]
  },
  {
   "cell_type": "code",
   "execution_count": 39,
   "id": "b8591552-9118-4acc-9f84-fab7e47ddad2",
   "metadata": {
    "tags": []
   },
   "outputs": [
    {
     "name": "stdout",
     "output_type": "stream",
     "text": [
      "{'cachefiles:cachefiles_lookup', 'connectivity', 'tasksStopped', 'cachefiles:cachefiles_create', 'cachefiles:cachefiles_mark_active', 'cpuHardIrq', 'alarmtimer:alarmtimer_start', 'dma_fence:dma_fence_init', 'clk:clk_set_rate', 'udp:udp_fail_queue_rcv_skb', 'cpuNice', 'alarmtimer:alarmtimer_fired'}\n",
      "(77881, 87)\n"
     ]
    }
   ],
   "source": [
    "from fast_ml.feature_selection import get_constant_features\n",
    "\n",
    "constant_features = set(get_constant_features(dataset, threshold=0.99, dropna=False)['Var'])\n",
    "print(constant_features)\n",
    "try:\n",
    "    dataset.drop(constant_features, inplace=True, axis=1)\n",
    "except:\n",
    "    print(\"All constant features are removed from the dataset\")\n",
    "print(dataset.shape)"
   ]
  },
  {
   "cell_type": "code",
   "execution_count": 40,
   "id": "8e7cce8d-bddd-45bc-b8f2-f863db79281a",
   "metadata": {
    "tags": []
   },
   "outputs": [],
   "source": [
    "normal_afterstate_strings = [\n",
    "    (\"Behavior.ROOTKIT_BDVL\", \"MTDTechnique.ROOTKIT_SANITIZER\"),\n",
    "    (\"Behavior.ROOTKIT_BEURK\", \"MTDTechnique.ROOTKIT_SANITIZER\"),\n",
    "    (\"Behavior.RANSOMWARE_POC\", \"MTDTechnique.RANSOMWARE_DIRTRAP\"),\n",
    "    (\"Behavior.RANSOMWARE_POC\", \"MTDTechnique.RANSOMWARE_FILE_EXT_HIDE\"),\n",
    "    (\"Behavior.CNC_BACKDOOR_JAKORITAR\", \"MTDTechnique.CNC_IP_SHUFFLE\"),\n",
    "    (\"Behavior.CNC_THETICK\", \"MTDTechnique.CNC_IP_SHUFFLE\"),\n",
    "    (\"Behavior.CNC_OPT1\", \"MTDTechnique.CNC_IP_SHUFFLE\"),\n",
    "    (\"Behavior.CNC_OPT2\", \"MTDTechnique.CNC_IP_SHUFFLE\"),\n",
    "]"
   ]
  },
  {
   "cell_type": "code",
   "execution_count": 41,
   "id": "4cbaed76-55cb-435b-afd3-f445de23c0ba",
   "metadata": {
    "tags": []
   },
   "outputs": [
    {
     "data": {
      "text/plain": [
       "array(['Behavior.NORMAL', 'Behavior.RANSOMWARE_POC',\n",
       "       'Behavior.ROOTKIT_BDVL', 'Behavior.CNC_BACKDOOR_JAKORITAR',\n",
       "       'Behavior.ROOTKIT_BEURK', 'Behavior.CNC_THETICK',\n",
       "       'Behavior.CNC_OPT1', 'Behavior.CNC_OPT2'], dtype=object)"
      ]
     },
     "execution_count": 41,
     "metadata": {},
     "output_type": "execute_result"
    }
   ],
   "source": [
    "dataset[\"behavior\"].unique()"
   ]
  },
  {
   "cell_type": "code",
   "execution_count": 51,
   "id": "3368fd12-df1f-48ee-9573-e2cf71fa34d4",
   "metadata": {
    "tags": []
   },
   "outputs": [],
   "source": [
    "normal_label = 1\n",
    "abnormal_label = -1\n",
    "\n",
    "def is_normal(sample):  \n",
    "    behavior = sample.behavior \n",
    "    mtd = sample.mtd\n",
    "    if behavior == \"Behavior.NORMAL\":\n",
    "        label = normal_label\n",
    "    elif (str(behavior), str(mtd)) in normal_afterstate_strings:\n",
    "        label = normal_label\n",
    "    else:\n",
    "        label = abnormal_label\n",
    "    return label"
   ]
  },
  {
   "cell_type": "code",
   "execution_count": 52,
   "id": "d2647ec7-1f7b-49e8-911d-a87302915ff2",
   "metadata": {
    "tags": []
   },
   "outputs": [],
   "source": [
    "# Add a label if a state should be considered normal or not\n",
    "dataset['is_normal'] = dataset.apply(lambda sample: is_normal(sample), axis=1)"
   ]
  },
  {
   "cell_type": "code",
   "execution_count": 53,
   "id": "bd856ce6-ec9d-4ae1-a276-741607b746b8",
   "metadata": {
    "tags": []
   },
   "outputs": [
    {
     "name": "stdout",
     "output_type": "stream",
     "text": [
      "Using MinMaxScaler()\n"
     ]
    }
   ],
   "source": [
    "from sklearn.preprocessing import MinMaxScaler\n",
    "# Scaling\n",
    "fit_normal_behavior_only = True\n",
    "standard_scaling = False\n",
    "if standard_scaling:\n",
    "    scaler = StandardScaler()\n",
    "else:\n",
    "    scaler = MinMaxScaler()\n",
    "    \n",
    "print(f\"Using {scaler}\")\n",
    "\n",
    "if fit_normal_behavior_only:\n",
    "    df = dataset[dataset['is_normal'] == normal_label]\n",
    "\n",
    "else: \n",
    "    df = dataset\n",
    "    \n",
    "scaler.fit(df.values[:,:-3])\n",
    "\n",
    "scaled_dataset = pd.DataFrame(scaler.transform(dataset.values[:,:-3]), columns=dataset.columns.drop([\"behavior\", \"mtd\", \"is_normal\"]), index=dataset.index)\n",
    "scaled_dataset[\"behavior\"] = dataset[\"behavior\"]\n",
    "scaled_dataset[\"mtd\"] = dataset[\"mtd\"]\n",
    "scaled_dataset[\"is_normal\"] = dataset[\"is_normal\"]"
   ]
  },
  {
   "cell_type": "code",
   "execution_count": 54,
   "id": "3b0c8744-57ee-4c44-9a11-2c0fe67581af",
   "metadata": {
    "tags": []
   },
   "outputs": [
    {
     "name": "stdout",
     "output_type": "stream",
     "text": [
      "38940\n",
      "38941\n"
     ]
    }
   ],
   "source": [
    "from sklearn.model_selection import train_test_split\n",
    "\n",
    "rl_dataset, ad_dataset = train_test_split(scaled_dataset, train_size=0.5, shuffle=True)\n",
    "print(len(rl_dataset))\n",
    "print(len(ad_dataset))"
   ]
  },
  {
   "cell_type": "code",
   "execution_count": 55,
   "id": "86717b1c-9276-4431-b52c-6b1c78161a03",
   "metadata": {
    "tags": []
   },
   "outputs": [
    {
     "name": "stdout",
     "output_type": "stream",
     "text": [
      "14481\n",
      "24460\n",
      "38941\n",
      "Contamination level of 62.81%\n"
     ]
    }
   ],
   "source": [
    "n_normal_ad_dataset = len(ad_dataset.loc[ad_dataset[\"is_normal\"] == normal_label])\n",
    "n_abnormal_ad_dataset = len(ad_dataset.loc[ad_dataset[\"is_normal\"] == abnormal_label])\n",
    "n_total = len(ad_dataset)\n",
    "\n",
    "print(n_normal_ad_dataset)\n",
    "print(n_abnormal_ad_dataset)\n",
    "print(n_total)\n",
    "assert n_normal_ad_dataset + n_abnormal_ad_dataset == n_total\n",
    "\n",
    "nu = n_abnormal_ad_dataset/n_total\n",
    "print(f\"Contamination level of {round(nu*100, 2)}%\")"
   ]
  },
  {
   "cell_type": "code",
   "execution_count": 56,
   "id": "dca9b04f-89c6-4391-8b82-2cffb7c596d4",
   "metadata": {
    "tags": []
   },
   "outputs": [],
   "source": [
    "import numpy as np\n",
    "\n",
    "isf_training_x  = ad_dataset.drop([\"behavior\", \"mtd\", \"is_normal\"],  axis=1, inplace=False).to_numpy().astype(np.float32) \n",
    "isf_training_y = ad_dataset[\"is_normal\"].to_numpy().astype(np.int32)"
   ]
  },
  {
   "cell_type": "code",
   "execution_count": 48,
   "id": "998d58a0-76f0-4cd3-8190-e2aa7ec41210",
   "metadata": {
    "tags": []
   },
   "outputs": [
    {
     "ename": "NameError",
     "evalue": "name 'get_test_datasets' is not defined",
     "output_type": "error",
     "traceback": [
      "\u001b[0;31m---------------------------------------------------------------------------\u001b[0m",
      "\u001b[0;31mNameError\u001b[0m                                 Traceback (most recent call last)",
      "Input \u001b[0;32mIn [48]\u001b[0m, in \u001b[0;36m<cell line: 1>\u001b[0;34m()\u001b[0m\n\u001b[0;32m----> 1\u001b[0m isf_test_data_dict, isf_test_data_flat \u001b[38;5;241m=\u001b[39m \u001b[43mget_test_datasets\u001b[49m(test_data, \u001b[38;5;241m1\u001b[39m, \u001b[38;5;241m-\u001b[39m\u001b[38;5;241m1\u001b[39m)\n",
      "\u001b[0;31mNameError\u001b[0m: name 'get_test_datasets' is not defined"
     ]
    }
   ],
   "source": [
    "#isf_test_data_dict, isf_test_data_flat = get_test_datasets(test_data, 1, -1)"
   ]
  },
  {
   "cell_type": "code",
   "execution_count": 57,
   "id": "9b7919fb-db6b-4404-b1b7-83cf41a745d8",
   "metadata": {
    "tags": []
   },
   "outputs": [],
   "source": [
    "param_grid = {\n",
    "    'n_estimators': list(range(10,101,10)), \n",
    "    'max_samples': [\"auto\"], \n",
    "    'max_features': np.linspace(0.1, 1.0, 10), \n",
    "}"
   ]
  },
  {
   "cell_type": "code",
   "execution_count": 58,
   "id": "85c06169-d93e-4ac1-91fa-b957cef42548",
   "metadata": {
    "tags": []
   },
   "outputs": [
    {
     "name": "stdout",
     "output_type": "stream",
     "text": [
      "Fitting 2 folds for each of 100 candidates, totalling 200 fits\n",
      "[CV 1/2] END max_features=0.1, max_samples=auto, n_estimators=10;, score=(train=0.529, test=0.520) total time=   0.2s\n",
      "[CV 2/2] END max_features=0.1, max_samples=auto, n_estimators=10;, score=(train=0.551, test=0.549) total time=   0.2s\n",
      "[CV 1/2] END max_features=0.1, max_samples=auto, n_estimators=20;, score=(train=0.534, test=0.530) total time=   0.3s\n",
      "[CV 2/2] END max_features=0.1, max_samples=auto, n_estimators=20;, score=(train=0.548, test=0.551) total time=   0.3s\n",
      "[CV 1/2] END max_features=0.1, max_samples=auto, n_estimators=30;, score=(train=0.537, test=0.531) total time=   0.4s\n",
      "[CV 2/2] END max_features=0.1, max_samples=auto, n_estimators=30;, score=(train=0.554, test=0.557) total time=   0.4s\n",
      "[CV 1/2] END max_features=0.1, max_samples=auto, n_estimators=40;, score=(train=0.529, test=0.523) total time=   0.5s\n",
      "[CV 2/2] END max_features=0.1, max_samples=auto, n_estimators=40;, score=(train=0.546, test=0.547) total time=   0.6s\n",
      "[CV 1/2] END max_features=0.1, max_samples=auto, n_estimators=50;, score=(train=0.537, test=0.529) total time=   0.7s\n",
      "[CV 2/2] END max_features=0.1, max_samples=auto, n_estimators=50;, score=(train=0.549, test=0.550) total time=   0.7s\n",
      "[CV 1/2] END max_features=0.1, max_samples=auto, n_estimators=60;, score=(train=0.544, test=0.535) total time=   0.8s\n",
      "[CV 2/2] END max_features=0.1, max_samples=auto, n_estimators=60;, score=(train=0.553, test=0.556) total time=   0.8s\n",
      "[CV 1/2] END max_features=0.1, max_samples=auto, n_estimators=70;, score=(train=0.547, test=0.536) total time=   1.0s\n",
      "[CV 2/2] END max_features=0.1, max_samples=auto, n_estimators=70;, score=(train=0.555, test=0.558) total time=   1.0s\n",
      "[CV 1/2] END max_features=0.1, max_samples=auto, n_estimators=80;, score=(train=0.555, test=0.543) total time=   1.2s\n",
      "[CV 2/2] END max_features=0.1, max_samples=auto, n_estimators=80;, score=(train=0.557, test=0.562) total time=   1.5s\n",
      "[CV 1/2] END max_features=0.1, max_samples=auto, n_estimators=90;, score=(train=0.555, test=0.542) total time=   1.0s\n",
      "[CV 2/2] END max_features=0.1, max_samples=auto, n_estimators=90;, score=(train=0.562, test=0.566) total time=   1.1s\n",
      "[CV 1/2] END max_features=0.1, max_samples=auto, n_estimators=100;, score=(train=0.556, test=0.547) total time=   2.3s\n",
      "[CV 2/2] END max_features=0.1, max_samples=auto, n_estimators=100;, score=(train=0.563, test=0.569) total time=   2.2s\n",
      "[CV 1/2] END max_features=0.2, max_samples=auto, n_estimators=10;, score=(train=0.510, test=0.509) total time=   0.3s\n",
      "[CV 2/2] END max_features=0.2, max_samples=auto, n_estimators=10;, score=(train=0.545, test=0.544) total time=   0.3s\n",
      "[CV 1/2] END max_features=0.2, max_samples=auto, n_estimators=20;, score=(train=0.502, test=0.500) total time=   0.5s\n",
      "[CV 2/2] END max_features=0.2, max_samples=auto, n_estimators=20;, score=(train=0.538, test=0.546) total time=   0.4s\n",
      "[CV 1/2] END max_features=0.2, max_samples=auto, n_estimators=30;, score=(train=0.516, test=0.514) total time=   0.5s\n",
      "[CV 2/2] END max_features=0.2, max_samples=auto, n_estimators=30;, score=(train=0.549, test=0.554) total time=   0.4s\n",
      "[CV 1/2] END max_features=0.2, max_samples=auto, n_estimators=40;, score=(train=0.520, test=0.524) total time=   0.8s\n",
      "[CV 2/2] END max_features=0.2, max_samples=auto, n_estimators=40;, score=(train=0.540, test=0.544) total time=   0.6s\n",
      "[CV 1/2] END max_features=0.2, max_samples=auto, n_estimators=50;, score=(train=0.524, test=0.524) total time=   0.8s\n",
      "[CV 2/2] END max_features=0.2, max_samples=auto, n_estimators=50;, score=(train=0.541, test=0.546) total time=   1.0s\n",
      "[CV 1/2] END max_features=0.2, max_samples=auto, n_estimators=60;, score=(train=0.531, test=0.532) total time=   0.7s\n",
      "[CV 2/2] END max_features=0.2, max_samples=auto, n_estimators=60;, score=(train=0.540, test=0.547) total time=   0.8s\n",
      "[CV 1/2] END max_features=0.2, max_samples=auto, n_estimators=70;, score=(train=0.539, test=0.537) total time=   1.1s\n",
      "[CV 2/2] END max_features=0.2, max_samples=auto, n_estimators=70;, score=(train=0.547, test=0.553) total time=   1.0s\n",
      "[CV 1/2] END max_features=0.2, max_samples=auto, n_estimators=80;, score=(train=0.533, test=0.533) total time=   1.1s\n",
      "[CV 2/2] END max_features=0.2, max_samples=auto, n_estimators=80;, score=(train=0.541, test=0.546) total time=   1.2s\n",
      "[CV 1/2] END max_features=0.2, max_samples=auto, n_estimators=90;, score=(train=0.535, test=0.536) total time=   1.3s\n",
      "[CV 2/2] END max_features=0.2, max_samples=auto, n_estimators=90;, score=(train=0.542, test=0.548) total time=   1.3s\n",
      "[CV 1/2] END max_features=0.2, max_samples=auto, n_estimators=100;, score=(train=0.540, test=0.538) total time=   1.4s\n",
      "[CV 2/2] END max_features=0.2, max_samples=auto, n_estimators=100;, score=(train=0.542, test=0.547) total time=   2.1s\n",
      "[CV 1/2] END max_features=0.30000000000000004, max_samples=auto, n_estimators=10;, score=(train=0.551, test=0.545) total time=   0.2s\n",
      "[CV 2/2] END max_features=0.30000000000000004, max_samples=auto, n_estimators=10;, score=(train=0.549, test=0.550) total time=   0.2s\n",
      "[CV 1/2] END max_features=0.30000000000000004, max_samples=auto, n_estimators=20;, score=(train=0.540, test=0.538) total time=   0.3s\n",
      "[CV 2/2] END max_features=0.30000000000000004, max_samples=auto, n_estimators=20;, score=(train=0.527, test=0.528) total time=   0.3s\n",
      "[CV 1/2] END max_features=0.30000000000000004, max_samples=auto, n_estimators=30;, score=(train=0.551, test=0.547) total time=   0.4s\n",
      "[CV 2/2] END max_features=0.30000000000000004, max_samples=auto, n_estimators=30;, score=(train=0.540, test=0.544) total time=   0.5s\n",
      "[CV 1/2] END max_features=0.30000000000000004, max_samples=auto, n_estimators=40;, score=(train=0.544, test=0.542) total time=   0.7s\n",
      "[CV 2/2] END max_features=0.30000000000000004, max_samples=auto, n_estimators=40;, score=(train=0.536, test=0.545) total time=   0.7s\n",
      "[CV 1/2] END max_features=0.30000000000000004, max_samples=auto, n_estimators=50;, score=(train=0.551, test=0.546) total time=   0.9s\n",
      "[CV 2/2] END max_features=0.30000000000000004, max_samples=auto, n_estimators=50;, score=(train=0.538, test=0.542) total time=   1.1s\n",
      "[CV 1/2] END max_features=0.30000000000000004, max_samples=auto, n_estimators=60;, score=(train=0.552, test=0.545) total time=   1.0s\n",
      "[CV 2/2] END max_features=0.30000000000000004, max_samples=auto, n_estimators=60;, score=(train=0.544, test=0.548) total time=   1.2s\n",
      "[CV 1/2] END max_features=0.30000000000000004, max_samples=auto, n_estimators=70;, score=(train=0.559, test=0.555) total time=   1.1s\n",
      "[CV 2/2] END max_features=0.30000000000000004, max_samples=auto, n_estimators=70;, score=(train=0.544, test=0.547) total time=   1.1s\n",
      "[CV 1/2] END max_features=0.30000000000000004, max_samples=auto, n_estimators=80;, score=(train=0.562, test=0.557) total time=   1.2s\n",
      "[CV 2/2] END max_features=0.30000000000000004, max_samples=auto, n_estimators=80;, score=(train=0.547, test=0.550) total time=   1.2s\n",
      "[CV 1/2] END max_features=0.30000000000000004, max_samples=auto, n_estimators=90;, score=(train=0.563, test=0.558) total time=   1.6s\n",
      "[CV 2/2] END max_features=0.30000000000000004, max_samples=auto, n_estimators=90;, score=(train=0.547, test=0.551) total time=   1.3s\n",
      "[CV 1/2] END max_features=0.30000000000000004, max_samples=auto, n_estimators=100;, score=(train=0.560, test=0.555) total time=   1.6s\n",
      "[CV 2/2] END max_features=0.30000000000000004, max_samples=auto, n_estimators=100;, score=(train=0.546, test=0.550) total time=   1.6s\n",
      "[CV 1/2] END max_features=0.4, max_samples=auto, n_estimators=10;, score=(train=0.540, test=0.538) total time=   0.2s\n",
      "[CV 2/2] END max_features=0.4, max_samples=auto, n_estimators=10;, score=(train=0.535, test=0.536) total time=   0.2s\n",
      "[CV 1/2] END max_features=0.4, max_samples=auto, n_estimators=20;, score=(train=0.546, test=0.550) total time=   0.4s\n",
      "[CV 2/2] END max_features=0.4, max_samples=auto, n_estimators=20;, score=(train=0.548, test=0.552) total time=   0.4s\n",
      "[CV 1/2] END max_features=0.4, max_samples=auto, n_estimators=30;, score=(train=0.550, test=0.550) total time=   0.5s\n",
      "[CV 2/2] END max_features=0.4, max_samples=auto, n_estimators=30;, score=(train=0.558, test=0.560) total time=   0.5s\n",
      "[CV 1/2] END max_features=0.4, max_samples=auto, n_estimators=40;, score=(train=0.558, test=0.557) total time=   0.7s\n",
      "[CV 2/2] END max_features=0.4, max_samples=auto, n_estimators=40;, score=(train=0.546, test=0.547) total time=   0.7s\n",
      "[CV 1/2] END max_features=0.4, max_samples=auto, n_estimators=50;, score=(train=0.559, test=0.559) total time=   0.9s\n",
      "[CV 2/2] END max_features=0.4, max_samples=auto, n_estimators=50;, score=(train=0.539, test=0.540) total time=   0.9s\n",
      "[CV 1/2] END max_features=0.4, max_samples=auto, n_estimators=60;, score=(train=0.560, test=0.555) total time=   1.0s\n",
      "[CV 2/2] END max_features=0.4, max_samples=auto, n_estimators=60;, score=(train=0.540, test=0.543) total time=   1.0s\n",
      "[CV 1/2] END max_features=0.4, max_samples=auto, n_estimators=70;, score=(train=0.559, test=0.553) total time=   1.2s\n",
      "[CV 2/2] END max_features=0.4, max_samples=auto, n_estimators=70;, score=(train=0.536, test=0.538) total time=   1.2s\n",
      "[CV 1/2] END max_features=0.4, max_samples=auto, n_estimators=80;, score=(train=0.558, test=0.554) total time=   1.4s\n",
      "[CV 2/2] END max_features=0.4, max_samples=auto, n_estimators=80;, score=(train=0.534, test=0.535) total time=   1.4s\n",
      "[CV 1/2] END max_features=0.4, max_samples=auto, n_estimators=90;, score=(train=0.558, test=0.553) total time=   1.6s\n",
      "[CV 2/2] END max_features=0.4, max_samples=auto, n_estimators=90;, score=(train=0.536, test=0.537) total time=   1.7s\n",
      "[CV 1/2] END max_features=0.4, max_samples=auto, n_estimators=100;, score=(train=0.555, test=0.553) total time=   1.9s\n",
      "[CV 2/2] END max_features=0.4, max_samples=auto, n_estimators=100;, score=(train=0.538, test=0.538) total time=   1.9s\n",
      "[CV 1/2] END max_features=0.5, max_samples=auto, n_estimators=10;, score=(train=0.568, test=0.566) total time=   0.2s\n",
      "[CV 2/2] END max_features=0.5, max_samples=auto, n_estimators=10;, score=(train=0.579, test=0.582) total time=   0.2s\n",
      "[CV 1/2] END max_features=0.5, max_samples=auto, n_estimators=20;, score=(train=0.559, test=0.554) total time=   0.4s\n",
      "[CV 2/2] END max_features=0.5, max_samples=auto, n_estimators=20;, score=(train=0.546, test=0.554) total time=   0.4s\n",
      "[CV 1/2] END max_features=0.5, max_samples=auto, n_estimators=30;, score=(train=0.567, test=0.560) total time=   0.6s\n",
      "[CV 2/2] END max_features=0.5, max_samples=auto, n_estimators=30;, score=(train=0.551, test=0.555) total time=   0.6s\n",
      "[CV 1/2] END max_features=0.5, max_samples=auto, n_estimators=40;, score=(train=0.558, test=0.548) total time=   0.9s\n",
      "[CV 2/2] END max_features=0.5, max_samples=auto, n_estimators=40;, score=(train=0.541, test=0.544) total time=   0.8s\n",
      "[CV 1/2] END max_features=0.5, max_samples=auto, n_estimators=50;, score=(train=0.554, test=0.548) total time=   1.0s\n",
      "[CV 2/2] END max_features=0.5, max_samples=auto, n_estimators=50;, score=(train=0.542, test=0.548) total time=   1.0s\n",
      "[CV 1/2] END max_features=0.5, max_samples=auto, n_estimators=60;, score=(train=0.563, test=0.556) total time=   1.1s\n",
      "[CV 2/2] END max_features=0.5, max_samples=auto, n_estimators=60;, score=(train=0.551, test=0.555) total time=   1.1s\n",
      "[CV 1/2] END max_features=0.5, max_samples=auto, n_estimators=70;, score=(train=0.560, test=0.553) total time=   1.4s\n",
      "[CV 2/2] END max_features=0.5, max_samples=auto, n_estimators=70;, score=(train=0.549, test=0.552) total time=   1.3s\n",
      "[CV 1/2] END max_features=0.5, max_samples=auto, n_estimators=80;, score=(train=0.562, test=0.553) total time=   1.5s\n",
      "[CV 2/2] END max_features=0.5, max_samples=auto, n_estimators=80;, score=(train=0.548, test=0.553) total time=   1.9s\n",
      "[CV 1/2] END max_features=0.5, max_samples=auto, n_estimators=90;, score=(train=0.560, test=0.551) total time=   1.9s\n",
      "[CV 2/2] END max_features=0.5, max_samples=auto, n_estimators=90;, score=(train=0.547, test=0.553) total time=   1.7s\n",
      "[CV 1/2] END max_features=0.5, max_samples=auto, n_estimators=100;, score=(train=0.558, test=0.552) total time=   1.9s\n",
      "[CV 2/2] END max_features=0.5, max_samples=auto, n_estimators=100;, score=(train=0.550, test=0.556) total time=   1.9s\n",
      "[CV 1/2] END max_features=0.6, max_samples=auto, n_estimators=10;, score=(train=0.538, test=0.533) total time=   0.2s\n",
      "[CV 2/2] END max_features=0.6, max_samples=auto, n_estimators=10;, score=(train=0.537, test=0.534) total time=   0.2s\n",
      "[CV 1/2] END max_features=0.6, max_samples=auto, n_estimators=20;, score=(train=0.525, test=0.524) total time=   0.4s\n",
      "[CV 2/2] END max_features=0.6, max_samples=auto, n_estimators=20;, score=(train=0.533, test=0.534) total time=   0.4s\n",
      "[CV 1/2] END max_features=0.6, max_samples=auto, n_estimators=30;, score=(train=0.526, test=0.522) total time=   0.6s\n",
      "[CV 2/2] END max_features=0.6, max_samples=auto, n_estimators=30;, score=(train=0.521, test=0.525) total time=   0.7s\n",
      "[CV 1/2] END max_features=0.6, max_samples=auto, n_estimators=40;, score=(train=0.536, test=0.535) total time=   0.9s\n",
      "[CV 2/2] END max_features=0.6, max_samples=auto, n_estimators=40;, score=(train=0.532, test=0.534) total time=   0.8s\n",
      "[CV 1/2] END max_features=0.6, max_samples=auto, n_estimators=50;, score=(train=0.537, test=0.537) total time=   1.1s\n",
      "[CV 2/2] END max_features=0.6, max_samples=auto, n_estimators=50;, score=(train=0.535, test=0.539) total time=   1.1s\n",
      "[CV 1/2] END max_features=0.6, max_samples=auto, n_estimators=60;, score=(train=0.542, test=0.539) total time=   1.3s\n",
      "[CV 2/2] END max_features=0.6, max_samples=auto, n_estimators=60;, score=(train=0.540, test=0.546) total time=   1.3s\n",
      "[CV 1/2] END max_features=0.6, max_samples=auto, n_estimators=70;, score=(train=0.546, test=0.542) total time=   1.5s\n",
      "[CV 2/2] END max_features=0.6, max_samples=auto, n_estimators=70;, score=(train=0.544, test=0.549) total time=   1.6s\n",
      "[CV 1/2] END max_features=0.6, max_samples=auto, n_estimators=80;, score=(train=0.544, test=0.540) total time=   2.3s\n",
      "[CV 2/2] END max_features=0.6, max_samples=auto, n_estimators=80;, score=(train=0.545, test=0.550) total time=   2.6s\n",
      "[CV 1/2] END max_features=0.6, max_samples=auto, n_estimators=90;, score=(train=0.543, test=0.540) total time=   2.5s\n",
      "[CV 2/2] END max_features=0.6, max_samples=auto, n_estimators=90;, score=(train=0.547, test=0.552) total time=   2.1s\n",
      "[CV 1/2] END max_features=0.6, max_samples=auto, n_estimators=100;, score=(train=0.549, test=0.544) total time=   2.5s\n",
      "[CV 2/2] END max_features=0.6, max_samples=auto, n_estimators=100;, score=(train=0.549, test=0.554) total time=   2.2s\n",
      "[CV 1/2] END max_features=0.7000000000000001, max_samples=auto, n_estimators=10;, score=(train=0.570, test=0.567) total time=   0.3s\n",
      "[CV 2/2] END max_features=0.7000000000000001, max_samples=auto, n_estimators=10;, score=(train=0.515, test=0.514) total time=   0.3s\n",
      "[CV 1/2] END max_features=0.7000000000000001, max_samples=auto, n_estimators=20;, score=(train=0.546, test=0.543) total time=   0.6s\n",
      "[CV 2/2] END max_features=0.7000000000000001, max_samples=auto, n_estimators=20;, score=(train=0.534, test=0.537) total time=   0.5s\n",
      "[CV 1/2] END max_features=0.7000000000000001, max_samples=auto, n_estimators=30;, score=(train=0.548, test=0.545) total time=   0.7s\n",
      "[CV 2/2] END max_features=0.7000000000000001, max_samples=auto, n_estimators=30;, score=(train=0.540, test=0.545) total time=   0.7s\n",
      "[CV 1/2] END max_features=0.7000000000000001, max_samples=auto, n_estimators=40;, score=(train=0.551, test=0.548) total time=   0.9s\n",
      "[CV 2/2] END max_features=0.7000000000000001, max_samples=auto, n_estimators=40;, score=(train=0.542, test=0.547) total time=   0.9s\n",
      "[CV 1/2] END max_features=0.7000000000000001, max_samples=auto, n_estimators=50;, score=(train=0.551, test=0.548) total time=   1.1s\n",
      "[CV 2/2] END max_features=0.7000000000000001, max_samples=auto, n_estimators=50;, score=(train=0.540, test=0.543) total time=   1.1s\n",
      "[CV 1/2] END max_features=0.7000000000000001, max_samples=auto, n_estimators=60;, score=(train=0.554, test=0.551) total time=   1.4s\n",
      "[CV 2/2] END max_features=0.7000000000000001, max_samples=auto, n_estimators=60;, score=(train=0.544, test=0.548) total time=   1.3s\n",
      "[CV 1/2] END max_features=0.7000000000000001, max_samples=auto, n_estimators=70;, score=(train=0.554, test=0.550) total time=   1.6s\n",
      "[CV 2/2] END max_features=0.7000000000000001, max_samples=auto, n_estimators=70;, score=(train=0.544, test=0.548) total time=   1.6s\n",
      "[CV 1/2] END max_features=0.7000000000000001, max_samples=auto, n_estimators=80;, score=(train=0.553, test=0.547) total time=   1.8s\n",
      "[CV 2/2] END max_features=0.7000000000000001, max_samples=auto, n_estimators=80;, score=(train=0.545, test=0.547) total time=   1.8s\n",
      "[CV 1/2] END max_features=0.7000000000000001, max_samples=auto, n_estimators=90;, score=(train=0.553, test=0.549) total time=   2.1s\n",
      "[CV 2/2] END max_features=0.7000000000000001, max_samples=auto, n_estimators=90;, score=(train=0.545, test=0.550) total time=   2.1s\n",
      "[CV 1/2] END max_features=0.7000000000000001, max_samples=auto, n_estimators=100;, score=(train=0.553, test=0.550) total time=   2.3s\n",
      "[CV 2/2] END max_features=0.7000000000000001, max_samples=auto, n_estimators=100;, score=(train=0.546, test=0.551) total time=   2.4s\n",
      "[CV 1/2] END max_features=0.8, max_samples=auto, n_estimators=10;, score=(train=0.548, test=0.540) total time=   0.3s\n",
      "[CV 2/2] END max_features=0.8, max_samples=auto, n_estimators=10;, score=(train=0.553, test=0.553) total time=   0.3s\n",
      "[CV 1/2] END max_features=0.8, max_samples=auto, n_estimators=20;, score=(train=0.541, test=0.534) total time=   0.5s\n",
      "[CV 2/2] END max_features=0.8, max_samples=auto, n_estimators=20;, score=(train=0.546, test=0.552) total time=   0.5s\n",
      "[CV 1/2] END max_features=0.8, max_samples=auto, n_estimators=30;, score=(train=0.546, test=0.541) total time=   0.9s\n",
      "[CV 2/2] END max_features=0.8, max_samples=auto, n_estimators=30;, score=(train=0.546, test=0.554) total time=   0.8s\n",
      "[CV 1/2] END max_features=0.8, max_samples=auto, n_estimators=40;, score=(train=0.545, test=0.541) total time=   1.0s\n",
      "[CV 2/2] END max_features=0.8, max_samples=auto, n_estimators=40;, score=(train=0.549, test=0.556) total time=   1.0s\n",
      "[CV 1/2] END max_features=0.8, max_samples=auto, n_estimators=50;, score=(train=0.546, test=0.542) total time=   1.3s\n",
      "[CV 2/2] END max_features=0.8, max_samples=auto, n_estimators=50;, score=(train=0.545, test=0.549) total time=   1.3s\n",
      "[CV 1/2] END max_features=0.8, max_samples=auto, n_estimators=60;, score=(train=0.549, test=0.547) total time=   1.5s\n",
      "[CV 2/2] END max_features=0.8, max_samples=auto, n_estimators=60;, score=(train=0.546, test=0.553) total time=   1.5s\n",
      "[CV 1/2] END max_features=0.8, max_samples=auto, n_estimators=70;, score=(train=0.551, test=0.550) total time=   1.7s\n",
      "[CV 2/2] END max_features=0.8, max_samples=auto, n_estimators=70;, score=(train=0.546, test=0.552) total time=   1.7s\n",
      "[CV 1/2] END max_features=0.8, max_samples=auto, n_estimators=80;, score=(train=0.548, test=0.545) total time=   2.0s\n",
      "[CV 2/2] END max_features=0.8, max_samples=auto, n_estimators=80;, score=(train=0.546, test=0.549) total time=   1.9s\n",
      "[CV 1/2] END max_features=0.8, max_samples=auto, n_estimators=90;, score=(train=0.547, test=0.545) total time=   2.2s\n",
      "[CV 2/2] END max_features=0.8, max_samples=auto, n_estimators=90;, score=(train=0.542, test=0.548) total time=   2.2s\n",
      "[CV 1/2] END max_features=0.8, max_samples=auto, n_estimators=100;, score=(train=0.548, test=0.546) total time=   2.7s\n",
      "[CV 2/2] END max_features=0.8, max_samples=auto, n_estimators=100;, score=(train=0.543, test=0.547) total time=   2.6s\n",
      "[CV 1/2] END max_features=0.9, max_samples=auto, n_estimators=10;, score=(train=0.549, test=0.543) total time=   0.3s\n",
      "[CV 2/2] END max_features=0.9, max_samples=auto, n_estimators=10;, score=(train=0.546, test=0.550) total time=   0.3s\n",
      "[CV 1/2] END max_features=0.9, max_samples=auto, n_estimators=20;, score=(train=0.537, test=0.532) total time=   0.6s\n",
      "[CV 2/2] END max_features=0.9, max_samples=auto, n_estimators=20;, score=(train=0.544, test=0.547) total time=   0.9s\n",
      "[CV 1/2] END max_features=0.9, max_samples=auto, n_estimators=30;, score=(train=0.547, test=0.544) total time=   0.8s\n",
      "[CV 2/2] END max_features=0.9, max_samples=auto, n_estimators=30;, score=(train=0.555, test=0.557) total time=   0.8s\n",
      "[CV 1/2] END max_features=0.9, max_samples=auto, n_estimators=40;, score=(train=0.548, test=0.546) total time=   1.1s\n",
      "[CV 2/2] END max_features=0.9, max_samples=auto, n_estimators=40;, score=(train=0.553, test=0.555) total time=   1.1s\n",
      "[CV 1/2] END max_features=0.9, max_samples=auto, n_estimators=50;, score=(train=0.549, test=0.547) total time=   1.6s\n",
      "[CV 2/2] END max_features=0.9, max_samples=auto, n_estimators=50;, score=(train=0.549, test=0.554) total time=   1.4s\n",
      "[CV 1/2] END max_features=0.9, max_samples=auto, n_estimators=60;, score=(train=0.546, test=0.542) total time=   1.7s\n",
      "[CV 2/2] END max_features=0.9, max_samples=auto, n_estimators=60;, score=(train=0.547, test=0.550) total time=   1.8s\n",
      "[CV 1/2] END max_features=0.9, max_samples=auto, n_estimators=70;, score=(train=0.543, test=0.539) total time=   2.1s\n",
      "[CV 2/2] END max_features=0.9, max_samples=auto, n_estimators=70;, score=(train=0.547, test=0.549) total time=   2.2s\n",
      "[CV 1/2] END max_features=0.9, max_samples=auto, n_estimators=80;, score=(train=0.543, test=0.539) total time=   2.4s\n",
      "[CV 2/2] END max_features=0.9, max_samples=auto, n_estimators=80;, score=(train=0.549, test=0.550) total time=   2.1s\n",
      "[CV 1/2] END max_features=0.9, max_samples=auto, n_estimators=90;, score=(train=0.542, test=0.538) total time=   2.7s\n",
      "[CV 2/2] END max_features=0.9, max_samples=auto, n_estimators=90;, score=(train=0.548, test=0.549) total time=   3.0s\n",
      "[CV 1/2] END max_features=0.9, max_samples=auto, n_estimators=100;, score=(train=0.541, test=0.535) total time=   3.1s\n",
      "[CV 2/2] END max_features=0.9, max_samples=auto, n_estimators=100;, score=(train=0.546, test=0.548) total time=   2.5s\n",
      "[CV 1/2] END max_features=1.0, max_samples=auto, n_estimators=10;, score=(train=0.561, test=0.551) total time=   0.1s\n",
      "[CV 2/2] END max_features=1.0, max_samples=auto, n_estimators=10;, score=(train=0.539, test=0.547) total time=   0.1s\n",
      "[CV 1/2] END max_features=1.0, max_samples=auto, n_estimators=20;, score=(train=0.553, test=0.544) total time=   0.2s\n",
      "[CV 2/2] END max_features=1.0, max_samples=auto, n_estimators=20;, score=(train=0.541, test=0.547) total time=   0.2s\n",
      "[CV 1/2] END max_features=1.0, max_samples=auto, n_estimators=30;, score=(train=0.552, test=0.548) total time=   0.4s\n",
      "[CV 2/2] END max_features=1.0, max_samples=auto, n_estimators=30;, score=(train=0.543, test=0.548) total time=   0.4s\n",
      "[CV 1/2] END max_features=1.0, max_samples=auto, n_estimators=40;, score=(train=0.554, test=0.550) total time=   0.5s\n",
      "[CV 2/2] END max_features=1.0, max_samples=auto, n_estimators=40;, score=(train=0.544, test=0.551) total time=   0.5s\n",
      "[CV 1/2] END max_features=1.0, max_samples=auto, n_estimators=50;, score=(train=0.554, test=0.550) total time=   0.7s\n",
      "[CV 2/2] END max_features=1.0, max_samples=auto, n_estimators=50;, score=(train=0.546, test=0.552) total time=   0.6s\n",
      "[CV 1/2] END max_features=1.0, max_samples=auto, n_estimators=60;, score=(train=0.553, test=0.547) total time=   0.8s\n",
      "[CV 2/2] END max_features=1.0, max_samples=auto, n_estimators=60;, score=(train=0.546, test=0.550) total time=   0.8s\n",
      "[CV 1/2] END max_features=1.0, max_samples=auto, n_estimators=70;, score=(train=0.556, test=0.547) total time=   1.0s\n",
      "[CV 2/2] END max_features=1.0, max_samples=auto, n_estimators=70;, score=(train=0.543, test=0.549) total time=   1.6s\n",
      "[CV 1/2] END max_features=1.0, max_samples=auto, n_estimators=80;, score=(train=0.557, test=0.552) total time=   1.7s\n",
      "[CV 2/2] END max_features=1.0, max_samples=auto, n_estimators=80;, score=(train=0.545, test=0.551) total time=   1.1s\n",
      "[CV 1/2] END max_features=1.0, max_samples=auto, n_estimators=90;, score=(train=0.560, test=0.552) total time=   1.9s\n",
      "[CV 2/2] END max_features=1.0, max_samples=auto, n_estimators=90;, score=(train=0.547, test=0.554) total time=   1.6s\n",
      "[CV 1/2] END max_features=1.0, max_samples=auto, n_estimators=100;, score=(train=0.561, test=0.553) total time=   1.4s\n",
      "[CV 2/2] END max_features=1.0, max_samples=auto, n_estimators=100;, score=(train=0.550, test=0.556) total time=   1.2s\n"
     ]
    }
   ],
   "source": [
    "from sklearn.ensemble import IsolationForest\n",
    "from sklearn.model_selection import GridSearchCV\n",
    "\n",
    "isolation_forest = IsolationForest(contamination=0.5, random_state=42)\n",
    "\n",
    "isf_grid_search = GridSearchCV(isolation_forest, \n",
    "                                                 param_grid,\n",
    "                                                 scoring='accuracy', \n",
    "                                                 refit=False,\n",
    "                                                 cv=2, \n",
    "                                                 return_train_score=True,\n",
    "                                                 verbose=3,\n",
    "                                                 n_jobs=1)\n",
    "\n",
    "#Fitting 5 folds for each of 100 candidates, totalling 500 fits\n",
    "isf_grid_search_result = isf_grid_search.fit(isf_training_x, isf_training_y)"
   ]
  },
  {
   "cell_type": "code",
   "execution_count": 61,
   "id": "b920fd99-38b4-4837-aa43-c0d1d6660655",
   "metadata": {
    "tags": []
   },
   "outputs": [
    {
     "name": "stdout",
     "output_type": "stream",
     "text": [
      "\\begin{tabular}{lrrlr}\n",
      "\\toprule\n",
      "{} &  mean\\_validation\\_accuracy &  max\\_features & max\\_samples &  n\\_estimators \\\\\n",
      "\\midrule\n",
      "\\textbf{1 } &                  0.573791 &           0.5 &        auto &            10 \\\\\n",
      "\\textbf{2 } &                  0.557690 &           0.1 &        auto &           100 \\\\\n",
      "\\textbf{3 } &                  0.557561 &           0.5 &        auto &            30 \\\\\n",
      "\\textbf{4 } &                  0.555276 &           0.5 &        auto &            60 \\\\\n",
      "\\textbf{5 } &                  0.554711 &           1.0 &        auto &           100 \\\\\n",
      "\\textbf{6 } &                  0.554583 &           0.4 &        auto &            30 \\\\\n",
      "\\textbf{7 } &                  0.554274 &           0.3 &        auto &            90 \\\\\n",
      "\\textbf{8 } &                  0.554121 &           0.1 &        auto &            90 \\\\\n",
      "\\textbf{9 } &                  0.553787 &           0.5 &        auto &           100 \\\\\n",
      "\\textbf{10} &                  0.553786 &           0.5 &        auto &            20 \\\\\n",
      "\\bottomrule\n",
      "\\end{tabular}\n",
      "\n"
     ]
    },
    {
     "name": "stderr",
     "output_type": "stream",
     "text": [
      "/Users/jankreischer/Library/Mobile Documents/com~apple~CloudDocs/Master-Thesis/Code/src/functions.py:125: FutureWarning: In future versions `DataFrame.to_latex` is expected to utilise the base implementation of `Styler.to_latex` for formatting and rendering. The arguments signature may therefore change. It is recommended instead to use `DataFrame.style.to_latex` which also contains additional functionality.\n",
      "  print(df.head(n_items).to_latex(escape=True, bold_rows=True))\n"
     ]
    }
   ],
   "source": [
    "# Display the best hyperparameter configuration for the 50:50 dataset\n",
    "isf_grid_search_result_table = convert_grid_search_result(isf_grid_search_result)\n",
    "display_grid_search_result(isf_grid_search_result_table)"
   ]
  },
  {
   "cell_type": "code",
   "execution_count": null,
   "id": "01279483-9ddc-4942-be37-77292e530816",
   "metadata": {
    "tags": []
   },
   "outputs": [],
   "source": [
    "#isolation_forest = IsolationForest(contamination=0.5, random_state=42, max_features=0.7, max_samples='auto', n_estimators=60)\n",
    "#isolation_forest.fit(isf_training_x, isf_training_y);\n",
    "#evaluate(isolation_forest, isf_test_data_dict)"
   ]
  }
 ],
 "metadata": {
  "kernelspec": {
   "display_name": "Python 3 (ipykernel)",
   "language": "python",
   "name": "python3"
  },
  "language_info": {
   "codemirror_mode": {
    "name": "ipython",
    "version": 3
   },
   "file_extension": ".py",
   "mimetype": "text/x-python",
   "name": "python",
   "nbconvert_exporter": "python",
   "pygments_lexer": "ipython3",
   "version": "3.10.10"
  }
 },
 "nbformat": 4,
 "nbformat_minor": 5
}
