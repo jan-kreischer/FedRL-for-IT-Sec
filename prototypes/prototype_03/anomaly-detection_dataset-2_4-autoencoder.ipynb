{
 "cells": [
  {
   "cell_type": "markdown",
   "id": "ba26052c-2bb9-48c9-9565-ed139cc65688",
   "metadata": {
    "tags": []
   },
   "source": [
    "# Prototype 02 > Experiment 01"
   ]
  },
  {
   "cell_type": "code",
   "execution_count": 1,
   "id": "7e796890-58dd-4f17-bf30-0e3ca852201e",
   "metadata": {
    "tags": []
   },
   "outputs": [],
   "source": [
    "executed_yet = False"
   ]
  },
  {
   "cell_type": "code",
   "execution_count": 2,
   "id": "0562da66-4301-4ed6-a99f-174d247c8cd4",
   "metadata": {
    "tags": []
   },
   "outputs": [
    {
     "name": "stdout",
     "output_type": "stream",
     "text": [
      "Original working directory: /Users/jankreischer/Library/Mobile Documents/com~apple~CloudDocs/Master-Thesis/Code/prototypes/prototype_03\n",
      "Current working directory: /Users/jankreischer/Library/Mobile Documents/com~apple~CloudDocs/Master-Thesis/Code\n"
     ]
    }
   ],
   "source": [
    "import os\n",
    "\n",
    "if not executed_yet:\n",
    "    executed_yet = True\n",
    "    original_working_directory_path = os.getcwd()\n",
    "    os.chdir(os.path.join(original_working_directory_path, \"../..\"))\n",
    "    root_working_directory_path =  os.getcwd()\n",
    "    \n",
    "print(f'Original working directory: {original_working_directory_path}')\n",
    "print(f'Current working directory: {root_working_directory_path}')"
   ]
  },
  {
   "cell_type": "markdown",
   "id": "80523a04-4e7d-47de-8c6f-4d0c6c77d05a",
   "metadata": {
    "tags": []
   },
   "source": [
    "## --- Dependencies ---"
   ]
  },
  {
   "cell_type": "code",
   "execution_count": 3,
   "id": "889a4ea2-121e-4ad0-8bf6-03b5b30e86f8",
   "metadata": {},
   "outputs": [],
   "source": [
    "# Standard Dependencies\n",
    "import sys\n",
    "import os\n",
    "import numpy as np\n",
    "from time import time"
   ]
  },
  {
   "cell_type": "code",
   "execution_count": 5,
   "id": "63770f25-75fb-4b9d-8ea3-51354c8152dd",
   "metadata": {
    "id": "63770f25-75fb-4b9d-8ea3-51354c8152dd"
   },
   "outputs": [
    {
     "name": "stderr",
     "output_type": "stream",
     "text": [
      "/Users/jankreischer/opt/anaconda3/envs/FedRL-for-IT-Sec/lib/python3.10/site-packages/tqdm/auto.py:22: TqdmWarning: IProgress not found. Please update jupyter and ipywidgets. See https://ipywidgets.readthedocs.io/en/stable/user_install.html\n",
      "  from .autonotebook import tqdm as notebook_tqdm\n"
     ]
    }
   ],
   "source": [
    "# Global Dependencies\n",
    "from src.functions import calculate_balance_metrics\n",
    "from src.custom_types import Behavior, MTDTechnique,  Execution, Evaluation, actions, mitigated_by, normal_afterstates\n",
    "from src.data_provider import DataProvider\n",
    "from src.evaluation_utils import plot_learning, seed_random, get_pretrained_agent, evaluate_agent, evaluate_agent_on_afterstates\n",
    "from src.autoencoder import AutoEncoder, RMSELoss"
   ]
  },
  {
   "cell_type": "code",
   "execution_count": 6,
   "id": "580f9cb8-76ea-4408-81e9-94d910c3b356",
   "metadata": {
    "tags": []
   },
   "outputs": [],
   "source": [
    "#from prototypes.prototype_02.agent import Agent\n",
    "#from prototypes.prototype_02.client import Client\n",
    "#from prototypes.prototype_02.server import Server\n",
    "#from prototypes.prototype_02.experiment import Experiment"
   ]
  },
  {
   "cell_type": "code",
   "execution_count": 6,
   "id": "f16cde5a-acb4-4b13-820c-0345c75f385d",
   "metadata": {},
   "outputs": [
    {
     "name": "stdout",
     "output_type": "stream",
     "text": [
      "17332\n",
      "60549\n"
     ]
    }
   ],
   "source": [
    "import pandas as pd\n",
    "decision_states_dataset = pd.read_csv('prototypes/prototype_03/dataset-02_decision-state-samples.csv')\n",
    "print(len(decision_states_dataset))\n",
    "after_states_dataset = pd.read_csv('prototypes/prototype_03/dataset-02_after-state-samples.csv')\n",
    "print(len(after_states_dataset))\n",
    "dataset = pd.concat([decision_states_dataset, after_states_dataset], axis=0)"
   ]
  },
  {
   "cell_type": "code",
   "execution_count": 7,
   "id": "c9baf9c7-f76e-49be-8ef0-56b30c8e94c5",
   "metadata": {
    "tags": []
   },
   "outputs": [
    {
     "data": {
      "text/plain": [
       "array(['None'], dtype=object)"
      ]
     },
     "execution_count": 7,
     "metadata": {},
     "output_type": "execute_result"
    }
   ],
   "source": [
    "decision_states_dataset[\"mtd\"].unique()"
   ]
  },
  {
   "cell_type": "code",
   "execution_count": 8,
   "id": "74cb649b-379a-4a58-ad13-622752fc4b27",
   "metadata": {
    "tags": []
   },
   "outputs": [],
   "source": [
    "# 3 Status Features\n",
    "time_status_columns = ['time', 'timestamp', 'seconds']\n",
    "try:\n",
    "    dataset.drop(time_status_columns, inplace=True, axis=1)\n",
    "except:\n",
    "    print(\"All time status features are removed from the dataset\")\n",
    "assert len(dataset.columns) == 99"
   ]
  },
  {
   "cell_type": "code",
   "execution_count": 9,
   "id": "b8591552-9118-4acc-9f84-fab7e47ddad2",
   "metadata": {
    "tags": []
   },
   "outputs": [
    {
     "name": "stdout",
     "output_type": "stream",
     "text": [
      "{'cpuNice', 'tasksStopped', 'udp:udp_fail_queue_rcv_skb', 'dma_fence:dma_fence_init', 'cpuHardIrq', 'clk:clk_set_rate', 'alarmtimer:alarmtimer_start', 'cachefiles:cachefiles_create', 'cachefiles:cachefiles_lookup', 'alarmtimer:alarmtimer_fired', 'cachefiles:cachefiles_mark_active', 'connectivity'}\n",
      "(77881, 87)\n"
     ]
    }
   ],
   "source": [
    "from fast_ml.feature_selection import get_constant_features\n",
    "\n",
    "constant_features = set(get_constant_features(dataset, threshold=0.99, dropna=False)['Var'])\n",
    "print(constant_features)\n",
    "try:\n",
    "    dataset.drop(constant_features, inplace=True, axis=1)\n",
    "except:\n",
    "    print(\"All constant features are removed from the dataset\")\n",
    "print(dataset.shape)"
   ]
  },
  {
   "cell_type": "code",
   "execution_count": 103,
   "id": "8e7cce8d-bddd-45bc-b8f2-f863db79281a",
   "metadata": {
    "tags": []
   },
   "outputs": [],
   "source": [
    "normal_afterstate_strings = [\n",
    "    (\"Behavior.ROOTKIT_BDVL\", \"MTDTechnique.ROOTKIT_SANITIZER\"),\n",
    "    (\"Behavior.ROOTKIT_BEURK\", \"MTDTechnique.ROOTKIT_SANITIZER\"),\n",
    "    (\"Behavior.RANSOMWARE_POC\", \"MTDTechnique.RANSOMWARE_DIRTRAP\"),\n",
    "    (\"Behavior.RANSOMWARE_POC\", \"MTDTechnique.RANSOMWARE_FILE_EXT_HIDE\"),\n",
    "    (\"Behavior.CNC_BACKDOOR_JAKORITAR\", \"MTDTechnique.CNC_IP_SHUFFLE\"),\n",
    "    (\"Behavior.CNC_THETICK\", \"MTDTechnique.CNC_IP_SHUFFLE\"),\n",
    "    (\"Behavior.CNC_OPT1\", \"MTDTechnique.CNC_IP_SHUFFLE\"),\n",
    "    (\"Behavior.CNC_OPT2\", \"MTDTechnique.CNC_IP_SHUFFLE\"),\n",
    "]"
   ]
  },
  {
   "cell_type": "code",
   "execution_count": 104,
   "id": "4cbaed76-55cb-435b-afd3-f445de23c0ba",
   "metadata": {
    "tags": []
   },
   "outputs": [
    {
     "data": {
      "text/plain": [
       "array(['Behavior.NORMAL', 'Behavior.RANSOMWARE_POC',\n",
       "       'Behavior.ROOTKIT_BDVL', 'Behavior.CNC_BACKDOOR_JAKORITAR',\n",
       "       'Behavior.ROOTKIT_BEURK', 'Behavior.CNC_THETICK',\n",
       "       'Behavior.CNC_OPT1', 'Behavior.CNC_OPT2'], dtype=object)"
      ]
     },
     "execution_count": 104,
     "metadata": {},
     "output_type": "execute_result"
    }
   ],
   "source": [
    "dataset[\"behavior\"].unique()"
   ]
  },
  {
   "cell_type": "code",
   "execution_count": 105,
   "id": "3368fd12-df1f-48ee-9573-e2cf71fa34d4",
   "metadata": {
    "tags": []
   },
   "outputs": [],
   "source": [
    "normal_label = 0\n",
    "abnormal_label = 1\n",
    "\n",
    "def is_normal(sample):  \n",
    "    behavior = sample.behavior \n",
    "    mtd = sample.mtd\n",
    "    if behavior == \"Behavior.NORMAL\":\n",
    "        label = normal_label\n",
    "    elif (str(behavior), str(mtd)) in normal_afterstate_strings:\n",
    "        label = normal_label\n",
    "    else:\n",
    "        label = abnormal_label\n",
    "    return label"
   ]
  },
  {
   "cell_type": "code",
   "execution_count": 106,
   "id": "d2647ec7-1f7b-49e8-911d-a87302915ff2",
   "metadata": {
    "tags": []
   },
   "outputs": [],
   "source": [
    "# Add a label if a state should be considered normal or not\n",
    "dataset['is_normal'] = dataset.apply(lambda sample: is_normal(sample), axis=1)"
   ]
  },
  {
   "cell_type": "code",
   "execution_count": null,
   "id": "086e5650-ccd4-41e6-b46d-6c17d83d243d",
   "metadata": {
    "tags": []
   },
   "outputs": [],
   "source": [
    "from sklearn.preprocessing import MinMaxScaler\n",
    "# Scaling\n",
    "fit_normal_behavior_only = True\n",
    "standard_scaling = False\n",
    "if standard_scaling:\n",
    "    scaler = StandardScaler()\n",
    "else:\n",
    "    scaler = MinMaxScaler()\n",
    "    \n",
    "print(f\"Using {scaler}\")\n",
    "\n",
    "if fit_normal_behavior_only: \n",
    "    scaler.fit(dataset[dataset['behavior'] == \"Behavior.NORMAL\"].values[:,:-2])\n",
    "else: \n",
    "    scaler.fit(dataset.values[:,:-1])\n",
    "\n",
    "scaled_dataset = pd.DataFrame(scaler.transform(dataset.values[:,:-2]), columns=dataset.columns.drop([\"behavior\", \"mtd\"]), index=dataset.index)\n",
    "scaled_dataset[\"behavior\"] = dataset[\"behavior\"]\n",
    "scaled_dataset[\"mtd\"] = dataset[\"mtd\"]"
   ]
  },
  {
   "cell_type": "code",
   "execution_count": 108,
   "id": "bd856ce6-ec9d-4ae1-a276-741607b746b8",
   "metadata": {
    "tags": []
   },
   "outputs": [
    {
     "name": "stdout",
     "output_type": "stream",
     "text": [
      "Using MinMaxScaler()\n"
     ]
    }
   ],
   "source": [
    "from sklearn.preprocessing import MinMaxScaler\n",
    "# Scaling\n",
    "fit_normal_behavior_only = True\n",
    "standard_scaling = False\n",
    "if standard_scaling:\n",
    "    scaler = StandardScaler()\n",
    "else:\n",
    "    scaler = MinMaxScaler()\n",
    "    \n",
    "print(f\"Using {scaler}\")\n",
    "\n",
    "if fit_normal_behavior_only:\n",
    "    df = dataset[dataset['is_normal'] == normal_label]\n",
    "\n",
    "else: \n",
    "    df = dataset\n",
    "    \n",
    "scaler.fit(df.values[:,:-3])\n",
    "\n",
    "scaled_dataset = pd.DataFrame(scaler.transform(dataset.values[:,:-3]), columns=dataset.columns.drop([\"behavior\", \"mtd\", \"is_normal\"]), index=dataset.index)\n",
    "scaled_dataset[\"behavior\"] = dataset[\"behavior\"]\n",
    "scaled_dataset[\"mtd\"] = dataset[\"mtd\"]\n",
    "scaled_dataset[\"is_normal\"] = dataset[\"is_normal\"]"
   ]
  },
  {
   "cell_type": "code",
   "execution_count": 109,
   "id": "3b0c8744-57ee-4c44-9a11-2c0fe67581af",
   "metadata": {
    "tags": []
   },
   "outputs": [
    {
     "name": "stdout",
     "output_type": "stream",
     "text": [
      "38940\n",
      "38941\n"
     ]
    }
   ],
   "source": [
    "from sklearn.model_selection import train_test_split\n",
    "\n",
    "rl_dataset, ae_dataset = train_test_split(scaled_dataset, train_size=0.5, shuffle=True)\n",
    "print(len(rl_dataset))\n",
    "print(len(ae_dataset))"
   ]
  },
  {
   "cell_type": "code",
   "execution_count": 110,
   "id": "fa2bf827-606e-42f1-bd6f-21be1dd25581",
   "metadata": {
    "tags": []
   },
   "outputs": [
    {
     "name": "stdout",
     "output_type": "stream",
     "text": [
      "Behavior.NORMAL, None : labeled [0] (2036 samples)\n",
      "Behavior.NORMAL, MTDTechnique.CNC_IP_SHUFFLE : labeled [0] (999 samples)\n",
      "Behavior.NORMAL, MTDTechnique.ROOTKIT_SANITIZER : labeled [0] (952 samples)\n",
      "Behavior.NORMAL, MTDTechnique.RANSOMWARE_DIRTRAP : labeled [0] (1073 samples)\n",
      "Behavior.NORMAL, MTDTechnique.RANSOMWARE_FILE_EXT_HIDE : labeled [0] (996 samples)\n",
      "Behavior.ROOTKIT_BDVL, None : labeled [1] (845 samples)\n",
      "Behavior.ROOTKIT_BDVL, MTDTechnique.CNC_IP_SHUFFLE : labeled [1] (325 samples)\n",
      "Behavior.ROOTKIT_BDVL, MTDTechnique.ROOTKIT_SANITIZER : labeled [0] (1004 samples)\n",
      "Behavior.ROOTKIT_BDVL, MTDTechnique.RANSOMWARE_DIRTRAP : labeled [1] (707 samples)\n",
      "Behavior.ROOTKIT_BDVL, MTDTechnique.RANSOMWARE_FILE_EXT_HIDE : labeled [1] (329 samples)\n",
      "Behavior.ROOTKIT_BEURK, None : labeled [1] (989 samples)\n",
      "Behavior.ROOTKIT_BEURK, MTDTechnique.CNC_IP_SHUFFLE : labeled [1] (994 samples)\n",
      "Behavior.ROOTKIT_BEURK, MTDTechnique.ROOTKIT_SANITIZER : labeled [0] (1098 samples)\n",
      "Behavior.ROOTKIT_BEURK, MTDTechnique.RANSOMWARE_DIRTRAP : labeled [1] (1010 samples)\n",
      "Behavior.ROOTKIT_BEURK, MTDTechnique.RANSOMWARE_FILE_EXT_HIDE : labeled [1] (996 samples)\n",
      "Behavior.CNC_BACKDOOR_JAKORITAR, None : labeled [1] (977 samples)\n",
      "Behavior.CNC_BACKDOOR_JAKORITAR, MTDTechnique.CNC_IP_SHUFFLE : labeled [0] (1021 samples)\n",
      "Behavior.CNC_BACKDOOR_JAKORITAR, MTDTechnique.ROOTKIT_SANITIZER : labeled [1] (1008 samples)\n",
      "Behavior.CNC_BACKDOOR_JAKORITAR, MTDTechnique.RANSOMWARE_DIRTRAP : labeled [1] (1002 samples)\n",
      "Behavior.CNC_BACKDOOR_JAKORITAR, MTDTechnique.RANSOMWARE_FILE_EXT_HIDE : labeled [1] (989 samples)\n",
      "Behavior.CNC_THETICK, None : labeled [1] (733 samples)\n",
      "Behavior.CNC_THETICK, MTDTechnique.CNC_IP_SHUFFLE : labeled [0] (1057 samples)\n",
      "Behavior.CNC_THETICK, MTDTechnique.ROOTKIT_SANITIZER : labeled [1] (1050 samples)\n",
      "Behavior.CNC_THETICK, MTDTechnique.RANSOMWARE_DIRTRAP : labeled [1] (1063 samples)\n",
      "Behavior.CNC_THETICK, MTDTechnique.RANSOMWARE_FILE_EXT_HIDE : labeled [1] (1067 samples)\n",
      "Behavior.CNC_OPT1, None : labeled [1] (1028 samples)\n",
      "Behavior.CNC_OPT1, MTDTechnique.CNC_IP_SHUFFLE : labeled [0] (1054 samples)\n",
      "Behavior.CNC_OPT1, MTDTechnique.ROOTKIT_SANITIZER : labeled [1] (1080 samples)\n",
      "Behavior.CNC_OPT1, MTDTechnique.RANSOMWARE_DIRTRAP : labeled [1] (1039 samples)\n",
      "Behavior.CNC_OPT1, MTDTechnique.RANSOMWARE_FILE_EXT_HIDE : labeled [1] (1047 samples)\n",
      "Behavior.CNC_OPT2, None : labeled [1] (1011 samples)\n",
      "Behavior.CNC_OPT2, MTDTechnique.CNC_IP_SHUFFLE : labeled [0] (1073 samples)\n",
      "Behavior.CNC_OPT2, MTDTechnique.ROOTKIT_SANITIZER : labeled [1] (975 samples)\n",
      "Behavior.CNC_OPT2, MTDTechnique.RANSOMWARE_DIRTRAP : labeled [1] (1073 samples)\n",
      "Behavior.CNC_OPT2, MTDTechnique.RANSOMWARE_FILE_EXT_HIDE : labeled [1] (1077 samples)\n",
      "Behavior.RANSOMWARE_POC, None : labeled [1] (879 samples)\n",
      "Behavior.RANSOMWARE_POC, MTDTechnique.CNC_IP_SHUFFLE : labeled [1] (316 samples)\n",
      "Behavior.RANSOMWARE_POC, MTDTechnique.ROOTKIT_SANITIZER : labeled [1] (891 samples)\n",
      "Behavior.RANSOMWARE_POC, MTDTechnique.RANSOMWARE_DIRTRAP : labeled [0] (1057 samples)\n",
      "Behavior.RANSOMWARE_POC, MTDTechnique.RANSOMWARE_FILE_EXT_HIDE : labeled [0] (1020 samples)\n",
      "Contains a total of 38940 samples.\n"
     ]
    }
   ],
   "source": [
    "n_total = 0\n",
    "for behavior in Behavior:\n",
    "    for mtd in [\"None\"] + list(MTDTechnique):\n",
    "        behavior_samples = rl_dataset.loc[(rl_dataset['behavior'] == str(behavior)) & (rl_dataset['mtd'] == str(mtd))]\n",
    "        n_total+=len(behavior_samples)\n",
    "        print(f\"{behavior}, {mtd} : labeled {behavior_samples['is_normal'].unique()} ({len(behavior_samples)} samples)\")\n",
    "print(f\"Contains a total of {n_total} samples.\")"
   ]
  },
  {
   "cell_type": "code",
   "execution_count": 20,
   "id": "c8eed50d-fa70-4417-82bf-066c420b379c",
   "metadata": {
    "tags": []
   },
   "outputs": [
    {
     "name": "stdout",
     "output_type": "stream",
     "text": [
      "(14452, 85)\n"
     ]
    }
   ],
   "source": [
    "ae_normal_x = ae_dataset.loc[ae_dataset[\"is_normal\"] == 0].drop([\"behavior\", \"mtd\", \"is_normal\"],  axis=1, inplace=False).to_numpy().astype(np.float32) \n",
    "print(ae_normal_x.shape)"
   ]
  },
  {
   "cell_type": "code",
   "execution_count": 111,
   "id": "7f83971a-3571-4b55-9bac-475fce673704",
   "metadata": {
    "tags": []
   },
   "outputs": [
    {
     "name": "stdout",
     "output_type": "stream",
     "text": [
      "(9633, 85)\n",
      "(4819, 85)\n"
     ]
    }
   ],
   "source": [
    "threshold = int(0.6666*len(ae_normal_x))\n",
    "ae_train_x = ae_normal_x[:threshold]\n",
    "ae_valid_x = ae_normal_x[threshold:]\n",
    "print(ae_train_x.shape)\n",
    "print(ae_valid_x.shape)"
   ]
  },
  {
   "cell_type": "code",
   "execution_count": 122,
   "id": "e70eb392-28d2-4589-9cf9-caeadf575df2",
   "metadata": {
    "tags": []
   },
   "outputs": [],
   "source": [
    "from torch import nn\n",
    "import torch\n",
    "import numpy as np\n",
    "from sklearn.metrics import precision_score, recall_score, f1_score, confusion_matrix, classification_report, accuracy_score\n",
    "from tabulate import tabulate\n",
    "\n",
    "\n",
    "class RMSELoss(nn.Module):\n",
    "    def __init__(self, eps=1e-6):\n",
    "        super().__init__()\n",
    "        self.mse = torch.nn.MSELoss()\n",
    "        self.eps = eps\n",
    "        \n",
    "    def forward(self, yhat, y):\n",
    "        loss = torch.sqrt(self.mse(yhat,y) + self.eps)\n",
    "        return loss\n",
    "    \n",
    "\n",
    "class AutoEncoder(torch.nn.Module):\n",
    "    \n",
    "\n",
    "    def __init__(self, X_valid, evaluation_data, n_stds=[1], n_hidden_1=64, n_hidden_2=32, activation_function=nn.GELU(), batch_size: int = 64, verbose=False):\n",
    "\n",
    "        super().__init__()\n",
    "        \n",
    "        validation_dataset = torch.utils.data.TensorDataset(\n",
    "            torch.from_numpy(X_valid).type(torch.float),\n",
    "\n",
    "        )\n",
    "        self.validation_data_loader = torch.utils.data.DataLoader(validation_dataset, batch_size=1, shuffle=True, drop_last=True)\n",
    "\n",
    "        self.y_test = evaluation_data[[\"is_normal\"]].to_numpy().astype(np.float32) \n",
    "        #print(f\"type(self.y_test): {type(self.y_test)}; self.y_test.shape: {self.y_test.shape}\")\n",
    "        self.X_test = evaluation_data.drop([\"behavior\", \"mtd\", \"is_normal\"],  axis=1, inplace=False).to_numpy().astype(np.float32) \n",
    "        #print(f\"type(self.X_test): {type(self.X_test)}; self.X_test.shape: {self.X_test.shape}\")\n",
    "        \n",
    "        self.evaluation_data = evaluation_data\n",
    "        self.n_stds = n_stds\n",
    "        \n",
    "        n_features = X_valid.shape[1]\n",
    "        \n",
    "        self.model = nn.Sequential(\n",
    "            nn.Linear(n_features, n_hidden_1),\n",
    "            nn.BatchNorm1d(n_hidden_1),\n",
    "            activation_function,\n",
    "            nn.Linear(n_hidden_1, n_hidden_2),\n",
    "            activation_function,\n",
    "            #nn.Linear(32, 16),\n",
    "            #activation_function,\n",
    "            #nn.Linear(16, 32),\n",
    "            #activation_function,\n",
    "            nn.Linear(n_hidden_2, n_hidden_1),\n",
    "            nn.BatchNorm1d(n_hidden_1),\n",
    "            activation_function,\n",
    "            nn.Linear(n_hidden_1, n_features),\n",
    "            activation_function\n",
    "        )\n",
    "        \n",
    "        print(f\"Using {n_hidden_2} neurons\")\n",
    "        self.threshold = None\n",
    "        self.loss_mean = None\n",
    "        self.loss_standard_deviation = None\n",
    "        \n",
    "        self.verbose = verbose\n",
    "\n",
    "        \n",
    "    def forward(self, X):\n",
    "        return self.model(X)\n",
    "    \n",
    "    \n",
    "    def pretrain(self, X_train, optimizer=torch.optim.SGD, loss_function=torch.nn.MSELoss(reduction='mean'), num_epochs: int = 15, batch_size=64, verbose=False):\n",
    "        \n",
    "        training_dataset = torch.utils.data.TensorDataset(\n",
    "            torch.from_numpy(X_train).type(torch.float),\n",
    "        )\n",
    "        training_data_loader = torch.utils.data.DataLoader(training_dataset, batch_size=batch_size, shuffle=True, drop_last=True)\n",
    "\n",
    "        epoch_losses = []\n",
    "        #for e in tqdm(range(num_epochs), unit=\"epoch\", leave=False):\n",
    "        for e in range(num_epochs):\n",
    "            self.train()\n",
    "            current_losses = []\n",
    "            for batch_index, (inputs,) in enumerate(training_data_loader):\n",
    "                optimizer.zero_grad()\n",
    "                outputs = self.forward(inputs)\n",
    "                loss = loss_function(inputs, outputs)\n",
    "                loss.backward()\n",
    "                optimizer.step()\n",
    "                current_losses.append(loss.item())\n",
    "            \n",
    "            epoch_losses.append(np.average(current_losses))\n",
    "            if verbose:\n",
    "                print(f'Training Loss in epoch {e + 1}: {epoch_losses[e]}')\n",
    "            \n",
    "        self.analyze_loss()\n",
    "\n",
    "    '''\n",
    "    This function uses normal data samles \n",
    "    after training the autoencoder to determine\n",
    "    values that can be considered normal\n",
    "    for the reconstruction loss based on normal samples\n",
    "    '''\n",
    "    def analyze_loss(self):\n",
    "        losses = []\n",
    "        \n",
    "        self.eval() \n",
    "        with torch.no_grad():\n",
    "            loss_function = torch.nn.MSELoss(reduction='sum')\n",
    "            for batch_index, (inputs,) in enumerate(self.validation_data_loader):\n",
    "                outputs = self.forward(inputs)\n",
    "                loss = loss_function(inputs, outputs)\n",
    "                losses.append(loss.item())\n",
    "        \n",
    "        losses = np.array(losses)\n",
    "\n",
    "        self.loss_mean = losses.mean()\n",
    "        #print(f\"self.loss_mean: {self.loss_mean}\")\n",
    "        #print(f\"type(self.loss_mean): {type(self.loss_mean)}; self.loss_mean.shape: {self.loss_mean.shape}\")\n",
    "        self.loss_standard_deviation = losses.std()\n",
    "        #print(f\"self.loss_standard_deviation: {self.loss_standard_deviation}\")\n",
    "        #print(f\"type(self.loss_standard_deviation): {type(self.loss_standard_deviation)}; self.loss_standard_deviation: {self.loss_standard_deviation.shape}\")\n",
    "\n",
    "        \n",
    "    def predict(self, x, n_std):\n",
    "        test_data = torch.utils.data.TensorDataset(\n",
    "            torch.from_numpy(x).type(torch.float32)\n",
    "        )\n",
    "        test_data_loader = torch.utils.data.DataLoader(test_data, batch_size=1, shuffle=False)\n",
    "\n",
    "        all_predictions = torch.tensor([])  # .cuda()\n",
    "\n",
    "        self.eval()\n",
    "        with torch.no_grad():\n",
    "            ae_loss = torch.nn.MSELoss(reduction=\"sum\")\n",
    "            for idx, (batch_x,) in enumerate(test_data_loader):\n",
    "                model_predictions = self.forward(batch_x)\n",
    "                model_predictions = ae_loss(model_predictions, batch_x).unsqueeze(0)  # unsqueeze as batch_size set to 1\n",
    "                all_predictions = torch.cat((all_predictions, model_predictions))\n",
    "\n",
    "        threshold = self.loss_mean + n_std * self.loss_standard_deviation\n",
    "        all_predictions = (all_predictions > threshold).type(torch.long)\n",
    "        return all_predictions.flatten()\n",
    "    \n",
    "    \n",
    "    def predict_deviation(self, x):\n",
    "        test_data = torch.utils.data.TensorDataset(\n",
    "            torch.from_numpy(x).type(torch.float32)\n",
    "        )\n",
    "        test_data_loader = torch.utils.data.DataLoader(test_data, batch_size=1, shuffle=False)\n",
    "\n",
    "        prediction_errors = torch.tensor([])\n",
    "        loss_function = torch.nn.MSELoss(reduction=\"sum\")\n",
    "        \n",
    "        self.eval()\n",
    "        with torch.no_grad():\n",
    "            \n",
    "            for batch_index, (inputs,) in enumerate(test_data_loader):\n",
    "                prediction = self.forward(inputs)\n",
    "                prediction_error = loss_function(inputs, prediction).unsqueeze(0)  # unsqueeze as batch_size set to 1\n",
    "                prediction_errors = torch.cat((prediction_errors, prediction_error))\n",
    "\n",
    "        return prediction_errors\n",
    "    \n",
    "    \n",
    "    def score(self):\n",
    "        n_std, accuracy = self.accuracy_score(None, None)\n",
    "        if self.verbose:\n",
    "            print(f\">> Highest validation accuracy achieved {accuracy:.2f} with n_std={n_std} <<\")\n",
    "            self.evaluate(n_std)\n",
    "        return accuracy\n",
    "    \n",
    "    \n",
    "    def accuracy_score(self, X, y):\n",
    "        #if not self.threshold:\n",
    "        #loss_mean, loss_standard_deviation = self.analyze_loss(X)\n",
    "        #n_stds = np.arange(0.1, 3, 0.1)\n",
    "        if self.loss_mean == None or self.loss_standard_deviation == None:\n",
    "              #print(\"accuracy_score_optimized > accurcy_loss()\")\n",
    "              self.analyze_loss()\n",
    "    \n",
    "        best_accuracy = 0\n",
    "        best_n_std = 0\n",
    "        #accuracies = []\n",
    "        y_dev = self.predict_deviation((self.X_test).astype(np.float32))\n",
    "        for n_std in self.n_stds:\n",
    "            #print(f\"Using n_std: {n_std}\")\n",
    "            y_true = self.y_test\n",
    "            threshold = self.loss_mean + n_std * self.loss_standard_deviation\n",
    "            #print(f\"threshold: {threshold}\")\n",
    "            #print(f\"y_dev: type {type(y_dev)} and shape {y_dev.shape}\")\n",
    "            #print(f\"threshold: {type(threshold)} and shape {threshold.shape}\")\n",
    "            y_pred = (y_dev > threshold).type(torch.long).detach().cpu().numpy()\n",
    "            \n",
    "            accuracy = accuracy_score(y_true, y_pred)\n",
    "            if accuracy > best_accuracy:\n",
    "                best_accuracy = accuracy\n",
    "                best_n_std = n_std\n",
    "            #if self.verbose:\n",
    "            #    print(f\"n_std {n_std:.2f} -> accuracy: {accuracy}\")\n",
    "\n",
    "        return best_n_std, best_accuracy\n",
    "    \n",
    "    def evaluate(self, n_std=1, tablefmt='pipe'):\n",
    "        print(f\"Using {n_std} n_stds for the decision threshold\")\n",
    "        results = []\n",
    "        headers=[\"Behavior\", \"Type\", \"After MTD\", \"Accuracy\", \"\\#Samples\"]\n",
    "        \n",
    "        y_true_total = np.empty([0])\n",
    "        y_pred_total = np.empty([0])\n",
    "        \n",
    "        for behavior in Behavior:\n",
    "            for mtd in [\"None\"] + list(MTDTechnique):\n",
    "                behavior_samples = self.evaluation_data.loc[(self.evaluation_data['behavior'] == str(behavior)) & (self.evaluation_data['mtd'] == str(mtd))]\n",
    "                \n",
    "                y_true= behavior_samples[[\"is_normal\"]].to_numpy().flatten().astype(np.float32) \n",
    "                #print(y_true.shape)\n",
    "                #print(y_true_total.shape)\n",
    "                y_true_total = np.concatenate((y_true_total, y_true))\n",
    "                \n",
    "                X_test = behavior_samples.drop([\"behavior\", \"mtd\", \"is_normal\"],  axis=1, inplace=False).to_numpy().astype(np.float32) \n",
    "                \n",
    "                y_pred = self.predict(X_test, n_std=n_std)\n",
    "                #print(f\"{behavior}, {mtd} : Predicted {len(y_pred)} for {len(X_test)} given samples\")\n",
    "                y_pred_total = np.concatenate((y_pred_total, y_pred))\n",
    "                \n",
    "                accuracy = accuracy_score(y_true, y_pred)\n",
    "            \n",
    "                n_samples = len(y_true)\n",
    "                \n",
    "                if mtd == 'None':\n",
    "                    state_type = \"Decision\"\n",
    "                else:\n",
    "                    state_type = \"After\"\n",
    "                results.append([behavior.name.replace('_', '\\_'), state_type, str(mtd), f'{(100 * accuracy):.2f}\\%', str(n_samples)])\n",
    "        \n",
    "        \n",
    "        micro_accuracy = accuracy_score(y_true_total, y_pred_total)\n",
    "        n_samples = len(y_true_total)\n",
    "        results.append([\"MICRO ACCURACY\", \"\", \"\", f'{(100 * micro_accuracy):.2f}\\%', n_samples])\n",
    "        \n",
    "        print(tabulate(results, headers=headers, tablefmt=tablefmt))"
   ]
  },
  {
   "cell_type": "code",
   "execution_count": 125,
   "id": "a542c845-042a-45ee-8ccc-5144a0f5b08e",
   "metadata": {
    "tags": []
   },
   "outputs": [
    {
     "name": "stdout",
     "output_type": "stream",
     "text": [
      "Using 32 neurons\n"
     ]
    }
   ],
   "source": [
    "autoencoder = AutoEncoder(ae_valid_x, rl_dataset, n_hidden_1=64, n_hidden_2=32)"
   ]
  },
  {
   "cell_type": "code",
   "execution_count": 126,
   "id": "e206630c-8cde-4a73-a48d-96892936a533",
   "metadata": {
    "tags": []
   },
   "outputs": [
    {
     "name": "stdout",
     "output_type": "stream",
     "text": [
      "Training Loss in epoch 1: 0.4042696422338486\n",
      "Training Loss in epoch 2: 0.3162392435471217\n",
      "Training Loss in epoch 3: 0.2343783410390218\n",
      "Training Loss in epoch 4: 0.18906875337163606\n",
      "Training Loss in epoch 5: 0.17133437638481458\n",
      "Training Loss in epoch 6: 0.16079341972867647\n",
      "Training Loss in epoch 7: 0.15428711950778962\n",
      "Training Loss in epoch 8: 0.147991261134545\n",
      "Training Loss in epoch 9: 0.1449591875076294\n",
      "Training Loss in epoch 10: 0.14097564746936161\n",
      "Training Loss in epoch 11: 0.13772769649823507\n",
      "Training Loss in epoch 12: 0.13626951843500137\n",
      "Training Loss in epoch 13: 0.13502028365929922\n",
      "Training Loss in epoch 14: 0.132609855979681\n",
      "Training Loss in epoch 15: 0.13185864662130672\n",
      "Training Loss in epoch 16: 0.12949390386541684\n",
      "Training Loss in epoch 17: 0.12845855390032132\n",
      "Training Loss in epoch 18: 0.1278797531624635\n",
      "Training Loss in epoch 19: 0.12733520597219466\n",
      "Training Loss in epoch 20: 0.12665482873717943\n"
     ]
    }
   ],
   "source": [
    "autoencoder.pretrain(ae_train_x, optimizer=torch.optim.Adam(autoencoder.parameters(), lr=1e-4,  weight_decay=0.01), loss_function=RMSELoss(), num_epochs=20, batch_size=64, verbose=True)"
   ]
  },
  {
   "cell_type": "code",
   "execution_count": 128,
   "id": "938a7773-7fd0-4962-906e-803cf995b7c2",
   "metadata": {
    "tags": []
   },
   "outputs": [
    {
     "name": "stdout",
     "output_type": "stream",
     "text": [
      "Using 2 n_stds for the decision threshold\n",
      "| Behavior                 | Type     | After MTD                             | Accuracy   |   \\#Samples |\n",
      "|:-------------------------|:---------|:--------------------------------------|:-----------|------------:|\n",
      "| NORMAL                   | Decision | None                                  | 100.00\\%   |        2036 |\n",
      "| NORMAL                   | After    | MTDTechnique.CNC_IP_SHUFFLE           | 100.00\\%   |         999 |\n",
      "| NORMAL                   | After    | MTDTechnique.ROOTKIT_SANITIZER        | 100.00\\%   |         952 |\n",
      "| NORMAL                   | After    | MTDTechnique.RANSOMWARE_DIRTRAP       | 100.00\\%   |        1073 |\n",
      "| NORMAL                   | After    | MTDTechnique.RANSOMWARE_FILE_EXT_HIDE | 100.00\\%   |         996 |\n",
      "| ROOTKIT\\_BDVL            | Decision | None                                  | 0.12\\%     |         845 |\n",
      "| ROOTKIT\\_BDVL            | After    | MTDTechnique.CNC_IP_SHUFFLE           | 1.23\\%     |         325 |\n",
      "| ROOTKIT\\_BDVL            | After    | MTDTechnique.ROOTKIT_SANITIZER        | 100.00\\%   |        1004 |\n",
      "| ROOTKIT\\_BDVL            | After    | MTDTechnique.RANSOMWARE_DIRTRAP       | 0.00\\%     |         707 |\n",
      "| ROOTKIT\\_BDVL            | After    | MTDTechnique.RANSOMWARE_FILE_EXT_HIDE | 0.61\\%     |         329 |\n",
      "| ROOTKIT\\_BEURK           | Decision | None                                  | 0.00\\%     |         989 |\n",
      "| ROOTKIT\\_BEURK           | After    | MTDTechnique.CNC_IP_SHUFFLE           | 0.00\\%     |         994 |\n",
      "| ROOTKIT\\_BEURK           | After    | MTDTechnique.ROOTKIT_SANITIZER        | 100.00\\%   |        1098 |\n",
      "| ROOTKIT\\_BEURK           | After    | MTDTechnique.RANSOMWARE_DIRTRAP       | 0.00\\%     |        1010 |\n",
      "| ROOTKIT\\_BEURK           | After    | MTDTechnique.RANSOMWARE_FILE_EXT_HIDE | 0.00\\%     |         996 |\n",
      "| CNC\\_BACKDOOR\\_JAKORITAR | Decision | None                                  | 0.00\\%     |         977 |\n",
      "| CNC\\_BACKDOOR\\_JAKORITAR | After    | MTDTechnique.CNC_IP_SHUFFLE           | 100.00\\%   |        1021 |\n",
      "| CNC\\_BACKDOOR\\_JAKORITAR | After    | MTDTechnique.ROOTKIT_SANITIZER        | 0.00\\%     |        1008 |\n",
      "| CNC\\_BACKDOOR\\_JAKORITAR | After    | MTDTechnique.RANSOMWARE_DIRTRAP       | 0.00\\%     |        1002 |\n",
      "| CNC\\_BACKDOOR\\_JAKORITAR | After    | MTDTechnique.RANSOMWARE_FILE_EXT_HIDE | 0.00\\%     |         989 |\n",
      "| CNC\\_THETICK             | Decision | None                                  | 0.00\\%     |         733 |\n",
      "| CNC\\_THETICK             | After    | MTDTechnique.CNC_IP_SHUFFLE           | 100.00\\%   |        1057 |\n",
      "| CNC\\_THETICK             | After    | MTDTechnique.ROOTKIT_SANITIZER        | 0.00\\%     |        1050 |\n",
      "| CNC\\_THETICK             | After    | MTDTechnique.RANSOMWARE_DIRTRAP       | 0.00\\%     |        1063 |\n",
      "| CNC\\_THETICK             | After    | MTDTechnique.RANSOMWARE_FILE_EXT_HIDE | 0.00\\%     |        1067 |\n",
      "| CNC\\_OPT1                | Decision | None                                  | 0.00\\%     |        1028 |\n",
      "| CNC\\_OPT1                | After    | MTDTechnique.CNC_IP_SHUFFLE           | 100.00\\%   |        1054 |\n",
      "| CNC\\_OPT1                | After    | MTDTechnique.ROOTKIT_SANITIZER        | 0.00\\%     |        1080 |\n",
      "| CNC\\_OPT1                | After    | MTDTechnique.RANSOMWARE_DIRTRAP       | 0.00\\%     |        1039 |\n",
      "| CNC\\_OPT1                | After    | MTDTechnique.RANSOMWARE_FILE_EXT_HIDE | 0.00\\%     |        1047 |\n",
      "| CNC\\_OPT2                | Decision | None                                  | 0.00\\%     |        1011 |\n",
      "| CNC\\_OPT2                | After    | MTDTechnique.CNC_IP_SHUFFLE           | 100.00\\%   |        1073 |\n",
      "| CNC\\_OPT2                | After    | MTDTechnique.ROOTKIT_SANITIZER        | 0.00\\%     |         975 |\n",
      "| CNC\\_OPT2                | After    | MTDTechnique.RANSOMWARE_DIRTRAP       | 0.00\\%     |        1073 |\n",
      "| CNC\\_OPT2                | After    | MTDTechnique.RANSOMWARE_FILE_EXT_HIDE | 0.00\\%     |        1077 |\n",
      "| RANSOMWARE\\_POC          | Decision | None                                  | 100.00\\%   |         879 |\n",
      "| RANSOMWARE\\_POC          | After    | MTDTechnique.CNC_IP_SHUFFLE           | 100.00\\%   |         316 |\n",
      "| RANSOMWARE\\_POC          | After    | MTDTechnique.ROOTKIT_SANITIZER        | 100.00\\%   |         891 |\n",
      "| RANSOMWARE\\_POC          | After    | MTDTechnique.RANSOMWARE_DIRTRAP       | 100.00\\%   |        1057 |\n",
      "| RANSOMWARE\\_POC          | After    | MTDTechnique.RANSOMWARE_FILE_EXT_HIDE | 100.00\\%   |        1020 |\n",
      "| MICRO ACCURACY           |          |                                       | 42.46\\%    |       38940 |\n"
     ]
    }
   ],
   "source": [
    "autoencoder.evaluate(n_std=2)"
   ]
  },
  {
   "cell_type": "code",
   "execution_count": 114,
   "id": "1f812765-80a2-4eea-8d15-5cb32ccd465d",
   "metadata": {
    "tags": []
   },
   "outputs": [],
   "source": [
    "import skorch\n",
    "from skorch import NeuralNet, NeuralNetRegressor\n",
    "from skorch.scoring import loss_scoring\n",
    "\n",
    "class StateAnomalyDetector(skorch.NeuralNet):\n",
    "    def score(self, X, y=None):\n",
    "        return self.module_.score()\n",
    "    \n",
    "    def evaluate(self):\n",
    "        self.module_.evaluate()"
   ]
  },
  {
   "cell_type": "code",
   "execution_count": 115,
   "id": "5b7d9e7b-457c-4d9f-8915-0664c045c3de",
   "metadata": {
    "tags": []
   },
   "outputs": [],
   "source": [
    "from skorch import NeuralNet, NeuralNetRegressor\n",
    "from skorch.callbacks import LRScheduler, EarlyStopping\n",
    "\n",
    "state_anomaly_detector = StateAnomalyDetector(\n",
    "    module=AutoEncoder,\n",
    "    \n",
    "    criterion=RMSELoss(),\n",
    "    optimizer=torch.optim.SGD,\n",
    "    optimizer__lr=0.0001,\n",
    "    optimizer__weight_decay=0.01,\n",
    "    \n",
    "    iterator_train__shuffle=True,\n",
    "    max_epochs=100,\n",
    "    batch_size=32,\n",
    "    \n",
    "    module__X_valid=ae_valid_x,\n",
    "    module__evaluation_data=rl_dataset,\n",
    "    #module__n_hidden_1=64,\n",
    "    #module__n_hidden_2=32,\n",
    "    #module__activation_function=nn.GELU(),\n",
    "    #module__n_stds=np.linspace(0.1, , ),\n",
    "    module__n_stds=np.linspace(0.1, 3, 30),\n",
    "    module__verbose=True,\n",
    "    \n",
    "    verbose=False,\n",
    "    \n",
    "    callbacks=[EarlyStopping(patience=5, monitor='valid_loss')]\n",
    "\n",
    ")"
   ]
  },
  {
   "cell_type": "code",
   "execution_count": 118,
   "id": "50d315ac-dfd4-4cb1-9d59-874331b80421",
   "metadata": {
    "tags": []
   },
   "outputs": [
    {
     "name": "stdout",
     "output_type": "stream",
     "text": [
      "Fitting 2 folds for each of 9 candidates, totalling 18 fits\n",
      "[CV 1/2; 1/9] START criterion=<class '__main__.RMSELoss'>, module__activation_function=GELU(approximate='none'), module__n_hidden_1=64, module__n_hidden_2=32, module__n_stds=[0.1, 0.01, 0.001, 0.0001], optimizer=<class 'torch.optim.adam.Adam'>\n",
      "Using 32 neurons\n",
      ">> Highest validation accuracy achieved 0.42 with n_std=0.001 <<\n",
      "| Behavior                 | Type     | After MTD                             | Accuracy   |   \\#Samples |\n",
      "|:-------------------------|:---------|:--------------------------------------|:-----------|------------:|\n",
      "| NORMAL                   | Decision | None                                  | 100.00\\%   |        2036 |\n",
      "| NORMAL                   | After    | MTDTechnique.CNC_IP_SHUFFLE           | 100.00\\%   |         999 |\n",
      "| NORMAL                   | After    | MTDTechnique.ROOTKIT_SANITIZER        | 100.00\\%   |         952 |\n",
      "| NORMAL                   | After    | MTDTechnique.RANSOMWARE_DIRTRAP       | 100.00\\%   |        1073 |\n",
      "| NORMAL                   | After    | MTDTechnique.RANSOMWARE_FILE_EXT_HIDE | 100.00\\%   |         996 |\n",
      "| ROOTKIT\\_BDVL            | Decision | None                                  | 0.12\\%     |         845 |\n",
      "| ROOTKIT\\_BDVL            | After    | MTDTechnique.CNC_IP_SHUFFLE           | 1.54\\%     |         325 |\n",
      "| ROOTKIT\\_BDVL            | After    | MTDTechnique.ROOTKIT_SANITIZER        | 100.00\\%   |        1004 |\n",
      "| ROOTKIT\\_BDVL            | After    | MTDTechnique.RANSOMWARE_DIRTRAP       | 0.14\\%     |         707 |\n",
      "| ROOTKIT\\_BDVL            | After    | MTDTechnique.RANSOMWARE_FILE_EXT_HIDE | 0.91\\%     |         329 |\n",
      "| ROOTKIT\\_BEURK           | Decision | None                                  | 0.10\\%     |         989 |\n",
      "| ROOTKIT\\_BEURK           | After    | MTDTechnique.CNC_IP_SHUFFLE           | 0.20\\%     |         994 |\n",
      "| ROOTKIT\\_BEURK           | After    | MTDTechnique.ROOTKIT_SANITIZER        | 100.00\\%   |        1098 |\n",
      "| ROOTKIT\\_BEURK           | After    | MTDTechnique.RANSOMWARE_DIRTRAP       | 0.00\\%     |        1010 |\n",
      "| ROOTKIT\\_BEURK           | After    | MTDTechnique.RANSOMWARE_FILE_EXT_HIDE | 0.00\\%     |         996 |\n",
      "| CNC\\_BACKDOOR\\_JAKORITAR | Decision | None                                  | 0.00\\%     |         977 |\n",
      "| CNC\\_BACKDOOR\\_JAKORITAR | After    | MTDTechnique.CNC_IP_SHUFFLE           | 100.00\\%   |        1021 |\n",
      "| CNC\\_BACKDOOR\\_JAKORITAR | After    | MTDTechnique.ROOTKIT_SANITIZER        | 0.00\\%     |        1008 |\n",
      "| CNC\\_BACKDOOR\\_JAKORITAR | After    | MTDTechnique.RANSOMWARE_DIRTRAP       | 0.00\\%     |        1002 |\n",
      "| CNC\\_BACKDOOR\\_JAKORITAR | After    | MTDTechnique.RANSOMWARE_FILE_EXT_HIDE | 0.00\\%     |         989 |\n",
      "| CNC\\_THETICK             | Decision | None                                  | 0.00\\%     |         733 |\n",
      "| CNC\\_THETICK             | After    | MTDTechnique.CNC_IP_SHUFFLE           | 100.00\\%   |        1057 |\n",
      "| CNC\\_THETICK             | After    | MTDTechnique.ROOTKIT_SANITIZER        | 0.00\\%     |        1050 |\n",
      "| CNC\\_THETICK             | After    | MTDTechnique.RANSOMWARE_DIRTRAP       | 0.00\\%     |        1063 |\n",
      "| CNC\\_THETICK             | After    | MTDTechnique.RANSOMWARE_FILE_EXT_HIDE | 0.00\\%     |        1067 |\n",
      "| CNC\\_OPT1                | Decision | None                                  | 0.00\\%     |        1028 |\n",
      "| CNC\\_OPT1                | After    | MTDTechnique.CNC_IP_SHUFFLE           | 100.00\\%   |        1054 |\n",
      "| CNC\\_OPT1                | After    | MTDTechnique.ROOTKIT_SANITIZER        | 0.00\\%     |        1080 |\n",
      "| CNC\\_OPT1                | After    | MTDTechnique.RANSOMWARE_DIRTRAP       | 0.00\\%     |        1039 |\n",
      "| CNC\\_OPT1                | After    | MTDTechnique.RANSOMWARE_FILE_EXT_HIDE | 0.00\\%     |        1047 |\n",
      "| CNC\\_OPT2                | Decision | None                                  | 0.00\\%     |        1011 |\n",
      "| CNC\\_OPT2                | After    | MTDTechnique.CNC_IP_SHUFFLE           | 100.00\\%   |        1073 |\n",
      "| CNC\\_OPT2                | After    | MTDTechnique.ROOTKIT_SANITIZER        | 0.00\\%     |         975 |\n",
      "| CNC\\_OPT2                | After    | MTDTechnique.RANSOMWARE_DIRTRAP       | 0.00\\%     |        1073 |\n",
      "| CNC\\_OPT2                | After    | MTDTechnique.RANSOMWARE_FILE_EXT_HIDE | 0.00\\%     |        1077 |\n",
      "| RANSOMWARE\\_POC          | Decision | None                                  | 100.00\\%   |         879 |\n",
      "| RANSOMWARE\\_POC          | After    | MTDTechnique.CNC_IP_SHUFFLE           | 100.00\\%   |         316 |\n",
      "| RANSOMWARE\\_POC          | After    | MTDTechnique.ROOTKIT_SANITIZER        | 100.00\\%   |         891 |\n",
      "| RANSOMWARE\\_POC          | After    | MTDTechnique.RANSOMWARE_DIRTRAP       | 100.00\\%   |        1057 |\n",
      "| RANSOMWARE\\_POC          | After    | MTDTechnique.RANSOMWARE_FILE_EXT_HIDE | 100.00\\%   |        1020 |\n",
      "| MICRO ACCURACY           |          |                                       | 42.47\\%    |       38940 |\n",
      "[CV 1/2; 1/9] END criterion=<class '__main__.RMSELoss'>, module__activation_function=GELU(approximate='none'), module__n_hidden_1=64, module__n_hidden_2=32, module__n_stds=[0.1, 0.01, 0.001, 0.0001], optimizer=<class 'torch.optim.adam.Adam'>;, score=0.425 total time=  30.5s\n",
      "[CV 2/2; 1/9] START criterion=<class '__main__.RMSELoss'>, module__activation_function=GELU(approximate='none'), module__n_hidden_1=64, module__n_hidden_2=32, module__n_stds=[0.1, 0.01, 0.001, 0.0001], optimizer=<class 'torch.optim.adam.Adam'>\n",
      "Using 32 neurons\n",
      ">> Highest validation accuracy achieved 0.42 with n_std=0.001 <<\n",
      "| Behavior                 | Type     | After MTD                             | Accuracy   |   \\#Samples |\n",
      "|:-------------------------|:---------|:--------------------------------------|:-----------|------------:|\n",
      "| NORMAL                   | Decision | None                                  | 100.00\\%   |        2036 |\n",
      "| NORMAL                   | After    | MTDTechnique.CNC_IP_SHUFFLE           | 100.00\\%   |         999 |\n",
      "| NORMAL                   | After    | MTDTechnique.ROOTKIT_SANITIZER        | 100.00\\%   |         952 |\n",
      "| NORMAL                   | After    | MTDTechnique.RANSOMWARE_DIRTRAP       | 100.00\\%   |        1073 |\n",
      "| NORMAL                   | After    | MTDTechnique.RANSOMWARE_FILE_EXT_HIDE | 100.00\\%   |         996 |\n",
      "| ROOTKIT\\_BDVL            | Decision | None                                  | 0.12\\%     |         845 |\n",
      "| ROOTKIT\\_BDVL            | After    | MTDTechnique.CNC_IP_SHUFFLE           | 1.54\\%     |         325 |\n",
      "| ROOTKIT\\_BDVL            | After    | MTDTechnique.ROOTKIT_SANITIZER        | 100.00\\%   |        1004 |\n",
      "| ROOTKIT\\_BDVL            | After    | MTDTechnique.RANSOMWARE_DIRTRAP       | 0.14\\%     |         707 |\n",
      "| ROOTKIT\\_BDVL            | After    | MTDTechnique.RANSOMWARE_FILE_EXT_HIDE | 0.91\\%     |         329 |\n",
      "| ROOTKIT\\_BEURK           | Decision | None                                  | 0.00\\%     |         989 |\n",
      "| ROOTKIT\\_BEURK           | After    | MTDTechnique.CNC_IP_SHUFFLE           | 0.20\\%     |         994 |\n",
      "| ROOTKIT\\_BEURK           | After    | MTDTechnique.ROOTKIT_SANITIZER        | 100.00\\%   |        1098 |\n",
      "| ROOTKIT\\_BEURK           | After    | MTDTechnique.RANSOMWARE_DIRTRAP       | 0.00\\%     |        1010 |\n",
      "| ROOTKIT\\_BEURK           | After    | MTDTechnique.RANSOMWARE_FILE_EXT_HIDE | 0.00\\%     |         996 |\n",
      "| CNC\\_BACKDOOR\\_JAKORITAR | Decision | None                                  | 0.00\\%     |         977 |\n",
      "| CNC\\_BACKDOOR\\_JAKORITAR | After    | MTDTechnique.CNC_IP_SHUFFLE           | 100.00\\%   |        1021 |\n",
      "| CNC\\_BACKDOOR\\_JAKORITAR | After    | MTDTechnique.ROOTKIT_SANITIZER        | 0.00\\%     |        1008 |\n",
      "| CNC\\_BACKDOOR\\_JAKORITAR | After    | MTDTechnique.RANSOMWARE_DIRTRAP       | 0.00\\%     |        1002 |\n",
      "| CNC\\_BACKDOOR\\_JAKORITAR | After    | MTDTechnique.RANSOMWARE_FILE_EXT_HIDE | 0.00\\%     |         989 |\n",
      "| CNC\\_THETICK             | Decision | None                                  | 0.00\\%     |         733 |\n",
      "| CNC\\_THETICK             | After    | MTDTechnique.CNC_IP_SHUFFLE           | 100.00\\%   |        1057 |\n",
      "| CNC\\_THETICK             | After    | MTDTechnique.ROOTKIT_SANITIZER        | 0.00\\%     |        1050 |\n",
      "| CNC\\_THETICK             | After    | MTDTechnique.RANSOMWARE_DIRTRAP       | 0.00\\%     |        1063 |\n",
      "| CNC\\_THETICK             | After    | MTDTechnique.RANSOMWARE_FILE_EXT_HIDE | 0.00\\%     |        1067 |\n",
      "| CNC\\_OPT1                | Decision | None                                  | 0.00\\%     |        1028 |\n",
      "| CNC\\_OPT1                | After    | MTDTechnique.CNC_IP_SHUFFLE           | 100.00\\%   |        1054 |\n",
      "| CNC\\_OPT1                | After    | MTDTechnique.ROOTKIT_SANITIZER        | 0.00\\%     |        1080 |\n",
      "| CNC\\_OPT1                | After    | MTDTechnique.RANSOMWARE_DIRTRAP       | 0.00\\%     |        1039 |\n",
      "| CNC\\_OPT1                | After    | MTDTechnique.RANSOMWARE_FILE_EXT_HIDE | 0.00\\%     |        1047 |\n",
      "| CNC\\_OPT2                | Decision | None                                  | 0.00\\%     |        1011 |\n",
      "| CNC\\_OPT2                | After    | MTDTechnique.CNC_IP_SHUFFLE           | 100.00\\%   |        1073 |\n",
      "| CNC\\_OPT2                | After    | MTDTechnique.ROOTKIT_SANITIZER        | 0.00\\%     |         975 |\n",
      "| CNC\\_OPT2                | After    | MTDTechnique.RANSOMWARE_DIRTRAP       | 0.00\\%     |        1073 |\n",
      "| CNC\\_OPT2                | After    | MTDTechnique.RANSOMWARE_FILE_EXT_HIDE | 0.00\\%     |        1077 |\n",
      "| RANSOMWARE\\_POC          | Decision | None                                  | 100.00\\%   |         879 |\n",
      "| RANSOMWARE\\_POC          | After    | MTDTechnique.CNC_IP_SHUFFLE           | 100.00\\%   |         316 |\n",
      "| RANSOMWARE\\_POC          | After    | MTDTechnique.ROOTKIT_SANITIZER        | 100.00\\%   |         891 |\n",
      "| RANSOMWARE\\_POC          | After    | MTDTechnique.RANSOMWARE_DIRTRAP       | 100.00\\%   |        1057 |\n",
      "| RANSOMWARE\\_POC          | After    | MTDTechnique.RANSOMWARE_FILE_EXT_HIDE | 100.00\\%   |        1020 |\n",
      "| MICRO ACCURACY           |          |                                       | 42.47\\%    |       38940 |\n",
      "[CV 2/2; 1/9] END criterion=<class '__main__.RMSELoss'>, module__activation_function=GELU(approximate='none'), module__n_hidden_1=64, module__n_hidden_2=32, module__n_stds=[0.1, 0.01, 0.001, 0.0001], optimizer=<class 'torch.optim.adam.Adam'>;, score=0.425 total time=  32.5s\n",
      "[CV 1/2; 2/9] START criterion=<class '__main__.RMSELoss'>, module__activation_function=GELU(approximate='none'), module__n_hidden_1=64, module__n_hidden_2=32, module__n_stds=[0.1, 0.01, 0.001, 0.0001], optimizer=<class 'torch.optim.sgd.SGD'>\n",
      "Using 32 neurons\n",
      ">> Highest validation accuracy achieved 0.46 with n_std=0.0001 <<\n",
      "| Behavior                 | Type     | After MTD                             | Accuracy   |   \\#Samples |\n",
      "|:-------------------------|:---------|:--------------------------------------|:-----------|------------:|\n",
      "| NORMAL                   | Decision | None                                  | 100.00\\%   |        2036 |\n",
      "| NORMAL                   | After    | MTDTechnique.CNC_IP_SHUFFLE           | 100.00\\%   |         999 |\n",
      "| NORMAL                   | After    | MTDTechnique.ROOTKIT_SANITIZER        | 100.00\\%   |         952 |\n",
      "| NORMAL                   | After    | MTDTechnique.RANSOMWARE_DIRTRAP       | 100.00\\%   |        1073 |\n",
      "| NORMAL                   | After    | MTDTechnique.RANSOMWARE_FILE_EXT_HIDE | 100.00\\%   |         996 |\n",
      "| ROOTKIT\\_BDVL            | Decision | None                                  | 13.14\\%    |         845 |\n",
      "| ROOTKIT\\_BDVL            | After    | MTDTechnique.CNC_IP_SHUFFLE           | 15.08\\%    |         325 |\n",
      "| ROOTKIT\\_BDVL            | After    | MTDTechnique.ROOTKIT_SANITIZER        | 100.00\\%   |        1004 |\n",
      "| ROOTKIT\\_BDVL            | After    | MTDTechnique.RANSOMWARE_DIRTRAP       | 8.35\\%     |         707 |\n",
      "| ROOTKIT\\_BDVL            | After    | MTDTechnique.RANSOMWARE_FILE_EXT_HIDE | 25.53\\%    |         329 |\n",
      "| ROOTKIT\\_BEURK           | Decision | None                                  | 0.10\\%     |         989 |\n",
      "| ROOTKIT\\_BEURK           | After    | MTDTechnique.CNC_IP_SHUFFLE           | 0.20\\%     |         994 |\n",
      "| ROOTKIT\\_BEURK           | After    | MTDTechnique.ROOTKIT_SANITIZER        | 100.00\\%   |        1098 |\n",
      "| ROOTKIT\\_BEURK           | After    | MTDTechnique.RANSOMWARE_DIRTRAP       | 0.00\\%     |        1010 |\n",
      "| ROOTKIT\\_BEURK           | After    | MTDTechnique.RANSOMWARE_FILE_EXT_HIDE | 0.10\\%     |         996 |\n",
      "| CNC\\_BACKDOOR\\_JAKORITAR | Decision | None                                  | 0.00\\%     |         977 |\n",
      "| CNC\\_BACKDOOR\\_JAKORITAR | After    | MTDTechnique.CNC_IP_SHUFFLE           | 100.00\\%   |        1021 |\n",
      "| CNC\\_BACKDOOR\\_JAKORITAR | After    | MTDTechnique.ROOTKIT_SANITIZER        | 0.00\\%     |        1008 |\n",
      "| CNC\\_BACKDOOR\\_JAKORITAR | After    | MTDTechnique.RANSOMWARE_DIRTRAP       | 0.00\\%     |        1002 |\n",
      "| CNC\\_BACKDOOR\\_JAKORITAR | After    | MTDTechnique.RANSOMWARE_FILE_EXT_HIDE | 0.00\\%     |         989 |\n",
      "| CNC\\_THETICK             | Decision | None                                  | 0.00\\%     |         733 |\n",
      "| CNC\\_THETICK             | After    | MTDTechnique.CNC_IP_SHUFFLE           | 100.00\\%   |        1057 |\n",
      "| CNC\\_THETICK             | After    | MTDTechnique.ROOTKIT_SANITIZER        | 0.00\\%     |        1050 |\n",
      "| CNC\\_THETICK             | After    | MTDTechnique.RANSOMWARE_DIRTRAP       | 0.09\\%     |        1063 |\n",
      "| CNC\\_THETICK             | After    | MTDTechnique.RANSOMWARE_FILE_EXT_HIDE | 0.00\\%     |        1067 |\n",
      "| CNC\\_OPT1                | Decision | None                                  | 0.00\\%     |        1028 |\n",
      "| CNC\\_OPT1                | After    | MTDTechnique.CNC_IP_SHUFFLE           | 100.00\\%   |        1054 |\n",
      "| CNC\\_OPT1                | After    | MTDTechnique.ROOTKIT_SANITIZER        | 0.00\\%     |        1080 |\n",
      "| CNC\\_OPT1                | After    | MTDTechnique.RANSOMWARE_DIRTRAP       | 0.00\\%     |        1039 |\n",
      "| CNC\\_OPT1                | After    | MTDTechnique.RANSOMWARE_FILE_EXT_HIDE | 0.00\\%     |        1047 |\n",
      "| CNC\\_OPT2                | Decision | None                                  | 24.43\\%    |        1011 |\n",
      "| CNC\\_OPT2                | After    | MTDTechnique.CNC_IP_SHUFFLE           | 100.00\\%   |        1073 |\n",
      "| CNC\\_OPT2                | After    | MTDTechnique.ROOTKIT_SANITIZER        | 28.51\\%    |         975 |\n",
      "| CNC\\_OPT2                | After    | MTDTechnique.RANSOMWARE_DIRTRAP       | 25.72\\%    |        1073 |\n",
      "| CNC\\_OPT2                | After    | MTDTechnique.RANSOMWARE_FILE_EXT_HIDE | 33.24\\%    |        1077 |\n",
      "| RANSOMWARE\\_POC          | Decision | None                                  | 100.00\\%   |         879 |\n",
      "| RANSOMWARE\\_POC          | After    | MTDTechnique.CNC_IP_SHUFFLE           | 100.00\\%   |         316 |\n",
      "| RANSOMWARE\\_POC          | After    | MTDTechnique.ROOTKIT_SANITIZER        | 100.00\\%   |         891 |\n",
      "| RANSOMWARE\\_POC          | After    | MTDTechnique.RANSOMWARE_DIRTRAP       | 100.00\\%   |        1057 |\n",
      "| RANSOMWARE\\_POC          | After    | MTDTechnique.RANSOMWARE_FILE_EXT_HIDE | 100.00\\%   |        1020 |\n",
      "| MICRO ACCURACY           |          |                                       | 46.21\\%    |       38940 |\n",
      "[CV 1/2; 2/9] END criterion=<class '__main__.RMSELoss'>, module__activation_function=GELU(approximate='none'), module__n_hidden_1=64, module__n_hidden_2=32, module__n_stds=[0.1, 0.01, 0.001, 0.0001], optimizer=<class 'torch.optim.sgd.SGD'>;, score=0.462 total time=  24.0s\n",
      "[CV 2/2; 2/9] START criterion=<class '__main__.RMSELoss'>, module__activation_function=GELU(approximate='none'), module__n_hidden_1=64, module__n_hidden_2=32, module__n_stds=[0.1, 0.01, 0.001, 0.0001], optimizer=<class 'torch.optim.sgd.SGD'>\n",
      "Using 32 neurons\n",
      ">> Highest validation accuracy achieved 0.45 with n_std=0.0001 <<\n",
      "| Behavior                 | Type     | After MTD                             | Accuracy   |   \\#Samples |\n",
      "|:-------------------------|:---------|:--------------------------------------|:-----------|------------:|\n",
      "| NORMAL                   | Decision | None                                  | 100.00\\%   |        2036 |\n",
      "| NORMAL                   | After    | MTDTechnique.CNC_IP_SHUFFLE           | 100.00\\%   |         999 |\n",
      "| NORMAL                   | After    | MTDTechnique.ROOTKIT_SANITIZER        | 100.00\\%   |         952 |\n",
      "| NORMAL                   | After    | MTDTechnique.RANSOMWARE_DIRTRAP       | 100.00\\%   |        1073 |\n",
      "| NORMAL                   | After    | MTDTechnique.RANSOMWARE_FILE_EXT_HIDE | 100.00\\%   |         996 |\n",
      "| ROOTKIT\\_BDVL            | Decision | None                                  | 4.26\\%     |         845 |\n",
      "| ROOTKIT\\_BDVL            | After    | MTDTechnique.CNC_IP_SHUFFLE           | 2.77\\%     |         325 |\n",
      "| ROOTKIT\\_BDVL            | After    | MTDTechnique.ROOTKIT_SANITIZER        | 100.00\\%   |        1004 |\n",
      "| ROOTKIT\\_BDVL            | After    | MTDTechnique.RANSOMWARE_DIRTRAP       | 0.99\\%     |         707 |\n",
      "| ROOTKIT\\_BDVL            | After    | MTDTechnique.RANSOMWARE_FILE_EXT_HIDE | 8.51\\%     |         329 |\n",
      "| ROOTKIT\\_BEURK           | Decision | None                                  | 0.10\\%     |         989 |\n",
      "| ROOTKIT\\_BEURK           | After    | MTDTechnique.CNC_IP_SHUFFLE           | 0.20\\%     |         994 |\n",
      "| ROOTKIT\\_BEURK           | After    | MTDTechnique.ROOTKIT_SANITIZER        | 100.00\\%   |        1098 |\n",
      "| ROOTKIT\\_BEURK           | After    | MTDTechnique.RANSOMWARE_DIRTRAP       | 0.00\\%     |        1010 |\n",
      "| ROOTKIT\\_BEURK           | After    | MTDTechnique.RANSOMWARE_FILE_EXT_HIDE | 0.00\\%     |         996 |\n",
      "| CNC\\_BACKDOOR\\_JAKORITAR | Decision | None                                  | 0.00\\%     |         977 |\n",
      "| CNC\\_BACKDOOR\\_JAKORITAR | After    | MTDTechnique.CNC_IP_SHUFFLE           | 100.00\\%   |        1021 |\n",
      "| CNC\\_BACKDOOR\\_JAKORITAR | After    | MTDTechnique.ROOTKIT_SANITIZER        | 0.00\\%     |        1008 |\n",
      "| CNC\\_BACKDOOR\\_JAKORITAR | After    | MTDTechnique.RANSOMWARE_DIRTRAP       | 0.00\\%     |        1002 |\n",
      "| CNC\\_BACKDOOR\\_JAKORITAR | After    | MTDTechnique.RANSOMWARE_FILE_EXT_HIDE | 0.00\\%     |         989 |\n",
      "| CNC\\_THETICK             | Decision | None                                  | 0.00\\%     |         733 |\n",
      "| CNC\\_THETICK             | After    | MTDTechnique.CNC_IP_SHUFFLE           | 100.00\\%   |        1057 |\n",
      "| CNC\\_THETICK             | After    | MTDTechnique.ROOTKIT_SANITIZER        | 0.00\\%     |        1050 |\n",
      "| CNC\\_THETICK             | After    | MTDTechnique.RANSOMWARE_DIRTRAP       | 0.00\\%     |        1063 |\n",
      "| CNC\\_THETICK             | After    | MTDTechnique.RANSOMWARE_FILE_EXT_HIDE | 0.00\\%     |        1067 |\n",
      "| CNC\\_OPT1                | Decision | None                                  | 0.00\\%     |        1028 |\n",
      "| CNC\\_OPT1                | After    | MTDTechnique.CNC_IP_SHUFFLE           | 100.00\\%   |        1054 |\n",
      "| CNC\\_OPT1                | After    | MTDTechnique.ROOTKIT_SANITIZER        | 0.00\\%     |        1080 |\n",
      "| CNC\\_OPT1                | After    | MTDTechnique.RANSOMWARE_DIRTRAP       | 0.00\\%     |        1039 |\n",
      "| CNC\\_OPT1                | After    | MTDTechnique.RANSOMWARE_FILE_EXT_HIDE | 0.00\\%     |        1047 |\n",
      "| CNC\\_OPT2                | Decision | None                                  | 17.71\\%    |        1011 |\n",
      "| CNC\\_OPT2                | After    | MTDTechnique.CNC_IP_SHUFFLE           | 100.00\\%   |        1073 |\n",
      "| CNC\\_OPT2                | After    | MTDTechnique.ROOTKIT_SANITIZER        | 20.62\\%    |         975 |\n",
      "| CNC\\_OPT2                | After    | MTDTechnique.RANSOMWARE_DIRTRAP       | 20.41\\%    |        1073 |\n",
      "| CNC\\_OPT2                | After    | MTDTechnique.RANSOMWARE_FILE_EXT_HIDE | 19.78\\%    |        1077 |\n",
      "| RANSOMWARE\\_POC          | Decision | None                                  | 100.00\\%   |         879 |\n",
      "| RANSOMWARE\\_POC          | After    | MTDTechnique.CNC_IP_SHUFFLE           | 100.00\\%   |         316 |\n",
      "| RANSOMWARE\\_POC          | After    | MTDTechnique.ROOTKIT_SANITIZER        | 100.00\\%   |         891 |\n",
      "| RANSOMWARE\\_POC          | After    | MTDTechnique.RANSOMWARE_DIRTRAP       | 100.00\\%   |        1057 |\n",
      "| RANSOMWARE\\_POC          | After    | MTDTechnique.RANSOMWARE_FILE_EXT_HIDE | 100.00\\%   |        1020 |\n",
      "| MICRO ACCURACY           |          |                                       | 44.74\\%    |       38940 |\n",
      "[CV 2/2; 2/9] END criterion=<class '__main__.RMSELoss'>, module__activation_function=GELU(approximate='none'), module__n_hidden_1=64, module__n_hidden_2=32, module__n_stds=[0.1, 0.01, 0.001, 0.0001], optimizer=<class 'torch.optim.sgd.SGD'>;, score=0.447 total time=  28.5s\n",
      "[CV 1/2; 3/9] START criterion=<class '__main__.RMSELoss'>, module__activation_function=GELU(approximate='none'), module__n_hidden_1=64, module__n_hidden_2=32, module__n_stds=[0.1, 0.01, 0.001, 0.0001], optimizer=<class 'torch.optim.rmsprop.RMSprop'>\n",
      "Using 32 neurons\n",
      ">> Highest validation accuracy achieved 0.42 with n_std=0.001 <<\n",
      "| Behavior                 | Type     | After MTD                             | Accuracy   |   \\#Samples |\n",
      "|:-------------------------|:---------|:--------------------------------------|:-----------|------------:|\n",
      "| NORMAL                   | Decision | None                                  | 100.00\\%   |        2036 |\n",
      "| NORMAL                   | After    | MTDTechnique.CNC_IP_SHUFFLE           | 100.00\\%   |         999 |\n",
      "| NORMAL                   | After    | MTDTechnique.ROOTKIT_SANITIZER        | 100.00\\%   |         952 |\n",
      "| NORMAL                   | After    | MTDTechnique.RANSOMWARE_DIRTRAP       | 100.00\\%   |        1073 |\n",
      "| NORMAL                   | After    | MTDTechnique.RANSOMWARE_FILE_EXT_HIDE | 100.00\\%   |         996 |\n",
      "| ROOTKIT\\_BDVL            | Decision | None                                  | 0.12\\%     |         845 |\n",
      "| ROOTKIT\\_BDVL            | After    | MTDTechnique.CNC_IP_SHUFFLE           | 1.54\\%     |         325 |\n",
      "| ROOTKIT\\_BDVL            | After    | MTDTechnique.ROOTKIT_SANITIZER        | 100.00\\%   |        1004 |\n",
      "| ROOTKIT\\_BDVL            | After    | MTDTechnique.RANSOMWARE_DIRTRAP       | 0.14\\%     |         707 |\n",
      "| ROOTKIT\\_BDVL            | After    | MTDTechnique.RANSOMWARE_FILE_EXT_HIDE | 0.91\\%     |         329 |\n",
      "| ROOTKIT\\_BEURK           | Decision | None                                  | 0.00\\%     |         989 |\n",
      "| ROOTKIT\\_BEURK           | After    | MTDTechnique.CNC_IP_SHUFFLE           | 0.20\\%     |         994 |\n",
      "| ROOTKIT\\_BEURK           | After    | MTDTechnique.ROOTKIT_SANITIZER        | 100.00\\%   |        1098 |\n",
      "| ROOTKIT\\_BEURK           | After    | MTDTechnique.RANSOMWARE_DIRTRAP       | 0.00\\%     |        1010 |\n",
      "| ROOTKIT\\_BEURK           | After    | MTDTechnique.RANSOMWARE_FILE_EXT_HIDE | 0.00\\%     |         996 |\n",
      "| CNC\\_BACKDOOR\\_JAKORITAR | Decision | None                                  | 0.00\\%     |         977 |\n",
      "| CNC\\_BACKDOOR\\_JAKORITAR | After    | MTDTechnique.CNC_IP_SHUFFLE           | 100.00\\%   |        1021 |\n",
      "| CNC\\_BACKDOOR\\_JAKORITAR | After    | MTDTechnique.ROOTKIT_SANITIZER        | 0.00\\%     |        1008 |\n",
      "| CNC\\_BACKDOOR\\_JAKORITAR | After    | MTDTechnique.RANSOMWARE_DIRTRAP       | 0.00\\%     |        1002 |\n",
      "| CNC\\_BACKDOOR\\_JAKORITAR | After    | MTDTechnique.RANSOMWARE_FILE_EXT_HIDE | 0.00\\%     |         989 |\n",
      "| CNC\\_THETICK             | Decision | None                                  | 0.00\\%     |         733 |\n",
      "| CNC\\_THETICK             | After    | MTDTechnique.CNC_IP_SHUFFLE           | 100.00\\%   |        1057 |\n",
      "| CNC\\_THETICK             | After    | MTDTechnique.ROOTKIT_SANITIZER        | 0.00\\%     |        1050 |\n",
      "| CNC\\_THETICK             | After    | MTDTechnique.RANSOMWARE_DIRTRAP       | 0.00\\%     |        1063 |\n",
      "| CNC\\_THETICK             | After    | MTDTechnique.RANSOMWARE_FILE_EXT_HIDE | 0.00\\%     |        1067 |\n",
      "| CNC\\_OPT1                | Decision | None                                  | 0.00\\%     |        1028 |\n",
      "| CNC\\_OPT1                | After    | MTDTechnique.CNC_IP_SHUFFLE           | 100.00\\%   |        1054 |\n",
      "| CNC\\_OPT1                | After    | MTDTechnique.ROOTKIT_SANITIZER        | 0.00\\%     |        1080 |\n",
      "| CNC\\_OPT1                | After    | MTDTechnique.RANSOMWARE_DIRTRAP       | 0.00\\%     |        1039 |\n",
      "| CNC\\_OPT1                | After    | MTDTechnique.RANSOMWARE_FILE_EXT_HIDE | 0.00\\%     |        1047 |\n",
      "| CNC\\_OPT2                | Decision | None                                  | 0.00\\%     |        1011 |\n",
      "| CNC\\_OPT2                | After    | MTDTechnique.CNC_IP_SHUFFLE           | 100.00\\%   |        1073 |\n",
      "| CNC\\_OPT2                | After    | MTDTechnique.ROOTKIT_SANITIZER        | 0.00\\%     |         975 |\n",
      "| CNC\\_OPT2                | After    | MTDTechnique.RANSOMWARE_DIRTRAP       | 0.00\\%     |        1073 |\n",
      "| CNC\\_OPT2                | After    | MTDTechnique.RANSOMWARE_FILE_EXT_HIDE | 0.00\\%     |        1077 |\n",
      "| RANSOMWARE\\_POC          | Decision | None                                  | 100.00\\%   |         879 |\n",
      "| RANSOMWARE\\_POC          | After    | MTDTechnique.CNC_IP_SHUFFLE           | 100.00\\%   |         316 |\n",
      "| RANSOMWARE\\_POC          | After    | MTDTechnique.ROOTKIT_SANITIZER        | 100.00\\%   |         891 |\n",
      "| RANSOMWARE\\_POC          | After    | MTDTechnique.RANSOMWARE_DIRTRAP       | 100.00\\%   |        1057 |\n",
      "| RANSOMWARE\\_POC          | After    | MTDTechnique.RANSOMWARE_FILE_EXT_HIDE | 100.00\\%   |        1020 |\n",
      "| MICRO ACCURACY           |          |                                       | 42.47\\%    |       38940 |\n",
      "[CV 1/2; 3/9] END criterion=<class '__main__.RMSELoss'>, module__activation_function=GELU(approximate='none'), module__n_hidden_1=64, module__n_hidden_2=32, module__n_stds=[0.1, 0.01, 0.001, 0.0001], optimizer=<class 'torch.optim.rmsprop.RMSprop'>;, score=0.425 total time=  29.3s\n",
      "[CV 2/2; 3/9] START criterion=<class '__main__.RMSELoss'>, module__activation_function=GELU(approximate='none'), module__n_hidden_1=64, module__n_hidden_2=32, module__n_stds=[0.1, 0.01, 0.001, 0.0001], optimizer=<class 'torch.optim.rmsprop.RMSprop'>\n",
      "Using 32 neurons\n",
      ">> Highest validation accuracy achieved 0.45 with n_std=0.0001 <<\n",
      "| Behavior                 | Type     | After MTD                             | Accuracy   |   \\#Samples |\n",
      "|:-------------------------|:---------|:--------------------------------------|:-----------|------------:|\n",
      "| NORMAL                   | Decision | None                                  | 100.00\\%   |        2036 |\n",
      "| NORMAL                   | After    | MTDTechnique.CNC_IP_SHUFFLE           | 100.00\\%   |         999 |\n",
      "| NORMAL                   | After    | MTDTechnique.ROOTKIT_SANITIZER        | 100.00\\%   |         952 |\n",
      "| NORMAL                   | After    | MTDTechnique.RANSOMWARE_DIRTRAP       | 100.00\\%   |        1073 |\n",
      "| NORMAL                   | After    | MTDTechnique.RANSOMWARE_FILE_EXT_HIDE | 100.00\\%   |         996 |\n",
      "| ROOTKIT\\_BDVL            | Decision | None                                  | 8.28\\%     |         845 |\n",
      "| ROOTKIT\\_BDVL            | After    | MTDTechnique.CNC_IP_SHUFFLE           | 9.54\\%     |         325 |\n",
      "| ROOTKIT\\_BDVL            | After    | MTDTechnique.ROOTKIT_SANITIZER        | 100.00\\%   |        1004 |\n",
      "| ROOTKIT\\_BDVL            | After    | MTDTechnique.RANSOMWARE_DIRTRAP       | 3.39\\%     |         707 |\n",
      "| ROOTKIT\\_BDVL            | After    | MTDTechnique.RANSOMWARE_FILE_EXT_HIDE | 10.33\\%    |         329 |\n",
      "| ROOTKIT\\_BEURK           | Decision | None                                  | 0.10\\%     |         989 |\n",
      "| ROOTKIT\\_BEURK           | After    | MTDTechnique.CNC_IP_SHUFFLE           | 0.20\\%     |         994 |\n",
      "| ROOTKIT\\_BEURK           | After    | MTDTechnique.ROOTKIT_SANITIZER        | 100.00\\%   |        1098 |\n",
      "| ROOTKIT\\_BEURK           | After    | MTDTechnique.RANSOMWARE_DIRTRAP       | 0.00\\%     |        1010 |\n",
      "| ROOTKIT\\_BEURK           | After    | MTDTechnique.RANSOMWARE_FILE_EXT_HIDE | 0.10\\%     |         996 |\n",
      "| CNC\\_BACKDOOR\\_JAKORITAR | Decision | None                                  | 0.00\\%     |         977 |\n",
      "| CNC\\_BACKDOOR\\_JAKORITAR | After    | MTDTechnique.CNC_IP_SHUFFLE           | 100.00\\%   |        1021 |\n",
      "| CNC\\_BACKDOOR\\_JAKORITAR | After    | MTDTechnique.ROOTKIT_SANITIZER        | 0.00\\%     |        1008 |\n",
      "| CNC\\_BACKDOOR\\_JAKORITAR | After    | MTDTechnique.RANSOMWARE_DIRTRAP       | 0.00\\%     |        1002 |\n",
      "| CNC\\_BACKDOOR\\_JAKORITAR | After    | MTDTechnique.RANSOMWARE_FILE_EXT_HIDE | 0.00\\%     |         989 |\n",
      "| CNC\\_THETICK             | Decision | None                                  | 0.00\\%     |         733 |\n",
      "| CNC\\_THETICK             | After    | MTDTechnique.CNC_IP_SHUFFLE           | 100.00\\%   |        1057 |\n",
      "| CNC\\_THETICK             | After    | MTDTechnique.ROOTKIT_SANITIZER        | 0.00\\%     |        1050 |\n",
      "| CNC\\_THETICK             | After    | MTDTechnique.RANSOMWARE_DIRTRAP       | 0.09\\%     |        1063 |\n",
      "| CNC\\_THETICK             | After    | MTDTechnique.RANSOMWARE_FILE_EXT_HIDE | 0.00\\%     |        1067 |\n",
      "| CNC\\_OPT1                | Decision | None                                  | 0.00\\%     |        1028 |\n",
      "| CNC\\_OPT1                | After    | MTDTechnique.CNC_IP_SHUFFLE           | 100.00\\%   |        1054 |\n",
      "| CNC\\_OPT1                | After    | MTDTechnique.ROOTKIT_SANITIZER        | 0.00\\%     |        1080 |\n",
      "| CNC\\_OPT1                | After    | MTDTechnique.RANSOMWARE_DIRTRAP       | 0.00\\%     |        1039 |\n",
      "| CNC\\_OPT1                | After    | MTDTechnique.RANSOMWARE_FILE_EXT_HIDE | 0.00\\%     |        1047 |\n",
      "| CNC\\_OPT2                | Decision | None                                  | 18.60\\%    |        1011 |\n",
      "| CNC\\_OPT2                | After    | MTDTechnique.CNC_IP_SHUFFLE           | 100.00\\%   |        1073 |\n",
      "| CNC\\_OPT2                | After    | MTDTechnique.ROOTKIT_SANITIZER        | 21.13\\%    |         975 |\n",
      "| CNC\\_OPT2                | After    | MTDTechnique.RANSOMWARE_DIRTRAP       | 21.25\\%    |        1073 |\n",
      "| CNC\\_OPT2                | After    | MTDTechnique.RANSOMWARE_FILE_EXT_HIDE | 20.61\\%    |        1077 |\n",
      "| RANSOMWARE\\_POC          | Decision | None                                  | 100.00\\%   |         879 |\n",
      "| RANSOMWARE\\_POC          | After    | MTDTechnique.CNC_IP_SHUFFLE           | 100.00\\%   |         316 |\n",
      "| RANSOMWARE\\_POC          | After    | MTDTechnique.ROOTKIT_SANITIZER        | 100.00\\%   |         891 |\n",
      "| RANSOMWARE\\_POC          | After    | MTDTechnique.RANSOMWARE_DIRTRAP       | 100.00\\%   |        1057 |\n",
      "| RANSOMWARE\\_POC          | After    | MTDTechnique.RANSOMWARE_FILE_EXT_HIDE | 100.00\\%   |        1020 |\n",
      "| MICRO ACCURACY           |          |                                       | 45.03\\%    |       38940 |\n",
      "[CV 2/2; 3/9] END criterion=<class '__main__.RMSELoss'>, module__activation_function=GELU(approximate='none'), module__n_hidden_1=64, module__n_hidden_2=32, module__n_stds=[0.1, 0.01, 0.001, 0.0001], optimizer=<class 'torch.optim.rmsprop.RMSprop'>;, score=0.450 total time=  31.0s\n",
      "[CV 1/2; 4/9] START criterion=<class 'torch.nn.modules.loss.MSELoss'>, module__activation_function=GELU(approximate='none'), module__n_hidden_1=64, module__n_hidden_2=32, module__n_stds=[0.1, 0.01, 0.001, 0.0001], optimizer=<class 'torch.optim.adam.Adam'>\n",
      "Using 32 neurons\n"
     ]
    },
    {
     "ename": "KeyboardInterrupt",
     "evalue": "",
     "output_type": "error",
     "traceback": [
      "\u001b[0;31m---------------------------------------------------------------------------\u001b[0m",
      "\u001b[0;31mKeyboardInterrupt\u001b[0m                         Traceback (most recent call last)",
      "Input \u001b[0;32mIn [118]\u001b[0m, in \u001b[0;36m<cell line: 25>\u001b[0;34m()\u001b[0m\n\u001b[1;32m      3\u001b[0m param_grid \u001b[38;5;241m=\u001b[39m {\n\u001b[1;32m      4\u001b[0m     \u001b[38;5;124m'\u001b[39m\u001b[38;5;124mcriterion\u001b[39m\u001b[38;5;124m'\u001b[39m: [RMSELoss, torch\u001b[38;5;241m.\u001b[39mnn\u001b[38;5;241m.\u001b[39mMSELoss, torch\u001b[38;5;241m.\u001b[39mnn\u001b[38;5;241m.\u001b[39mL1Loss()],\n\u001b[1;32m      5\u001b[0m     \u001b[38;5;124m'\u001b[39m\u001b[38;5;124moptimizer\u001b[39m\u001b[38;5;124m'\u001b[39m: [torch\u001b[38;5;241m.\u001b[39moptim\u001b[38;5;241m.\u001b[39mAdam, torch\u001b[38;5;241m.\u001b[39moptim\u001b[38;5;241m.\u001b[39mSGD, torch\u001b[38;5;241m.\u001b[39moptim\u001b[38;5;241m.\u001b[39mRMSprop],\n\u001b[0;32m   (...)\u001b[0m\n\u001b[1;32m     14\u001b[0m      \u001b[38;5;124m'\u001b[39m\u001b[38;5;124mmodule__n_stds\u001b[39m\u001b[38;5;124m'\u001b[39m : [[\u001b[38;5;241m0.1\u001b[39m, \u001b[38;5;241m0.01\u001b[39m, \u001b[38;5;241m0.001\u001b[39m, \u001b[38;5;241m0.0001\u001b[39m]],\n\u001b[1;32m     15\u001b[0m }\n\u001b[1;32m     17\u001b[0m ae_grid_search_01 \u001b[38;5;241m=\u001b[39m GridSearchCV(estimator\u001b[38;5;241m=\u001b[39mstate_anomaly_detector,\n\u001b[1;32m     18\u001b[0m                                  param_grid\u001b[38;5;241m=\u001b[39mparam_grid,\n\u001b[1;32m     19\u001b[0m                                  n_jobs\u001b[38;5;241m=\u001b[39m\u001b[38;5;241m1\u001b[39m,\n\u001b[0;32m   (...)\u001b[0m\n\u001b[1;32m     23\u001b[0m                                  error_score\u001b[38;5;241m=\u001b[39m\u001b[38;5;124m\"\u001b[39m\u001b[38;5;124mraise\u001b[39m\u001b[38;5;124m\"\u001b[39m\n\u001b[1;32m     24\u001b[0m                                 )\n\u001b[0;32m---> 25\u001b[0m ae_grid_search_01_result \u001b[38;5;241m=\u001b[39m \u001b[43mae_grid_search_01\u001b[49m\u001b[38;5;241;43m.\u001b[39;49m\u001b[43mfit\u001b[49m\u001b[43m(\u001b[49m\u001b[43mae_train_x\u001b[49m\u001b[43m,\u001b[49m\u001b[43m \u001b[49m\u001b[43mae_train_x\u001b[49m\u001b[43m)\u001b[49m\n",
      "File \u001b[0;32m~/opt/anaconda3/envs/FedRL-for-IT-Sec/lib/python3.10/site-packages/sklearn/model_selection/_search.py:874\u001b[0m, in \u001b[0;36mBaseSearchCV.fit\u001b[0;34m(self, X, y, groups, **fit_params)\u001b[0m\n\u001b[1;32m    868\u001b[0m     results \u001b[38;5;241m=\u001b[39m \u001b[38;5;28mself\u001b[39m\u001b[38;5;241m.\u001b[39m_format_results(\n\u001b[1;32m    869\u001b[0m         all_candidate_params, n_splits, all_out, all_more_results\n\u001b[1;32m    870\u001b[0m     )\n\u001b[1;32m    872\u001b[0m     \u001b[38;5;28;01mreturn\u001b[39;00m results\n\u001b[0;32m--> 874\u001b[0m \u001b[38;5;28;43mself\u001b[39;49m\u001b[38;5;241;43m.\u001b[39;49m\u001b[43m_run_search\u001b[49m\u001b[43m(\u001b[49m\u001b[43mevaluate_candidates\u001b[49m\u001b[43m)\u001b[49m\n\u001b[1;32m    876\u001b[0m \u001b[38;5;66;03m# multimetric is determined here because in the case of a callable\u001b[39;00m\n\u001b[1;32m    877\u001b[0m \u001b[38;5;66;03m# self.scoring the return type is only known after calling\u001b[39;00m\n\u001b[1;32m    878\u001b[0m first_test_score \u001b[38;5;241m=\u001b[39m all_out[\u001b[38;5;241m0\u001b[39m][\u001b[38;5;124m\"\u001b[39m\u001b[38;5;124mtest_scores\u001b[39m\u001b[38;5;124m\"\u001b[39m]\n",
      "File \u001b[0;32m~/opt/anaconda3/envs/FedRL-for-IT-Sec/lib/python3.10/site-packages/sklearn/model_selection/_search.py:1388\u001b[0m, in \u001b[0;36mGridSearchCV._run_search\u001b[0;34m(self, evaluate_candidates)\u001b[0m\n\u001b[1;32m   1386\u001b[0m \u001b[38;5;28;01mdef\u001b[39;00m \u001b[38;5;21m_run_search\u001b[39m(\u001b[38;5;28mself\u001b[39m, evaluate_candidates):\n\u001b[1;32m   1387\u001b[0m \u001b[38;5;250m    \u001b[39m\u001b[38;5;124;03m\"\"\"Search all candidates in param_grid\"\"\"\u001b[39;00m\n\u001b[0;32m-> 1388\u001b[0m     \u001b[43mevaluate_candidates\u001b[49m\u001b[43m(\u001b[49m\u001b[43mParameterGrid\u001b[49m\u001b[43m(\u001b[49m\u001b[38;5;28;43mself\u001b[39;49m\u001b[38;5;241;43m.\u001b[39;49m\u001b[43mparam_grid\u001b[49m\u001b[43m)\u001b[49m\u001b[43m)\u001b[49m\n",
      "File \u001b[0;32m~/opt/anaconda3/envs/FedRL-for-IT-Sec/lib/python3.10/site-packages/sklearn/model_selection/_search.py:821\u001b[0m, in \u001b[0;36mBaseSearchCV.fit.<locals>.evaluate_candidates\u001b[0;34m(candidate_params, cv, more_results)\u001b[0m\n\u001b[1;32m    813\u001b[0m \u001b[38;5;28;01mif\u001b[39;00m \u001b[38;5;28mself\u001b[39m\u001b[38;5;241m.\u001b[39mverbose \u001b[38;5;241m>\u001b[39m \u001b[38;5;241m0\u001b[39m:\n\u001b[1;32m    814\u001b[0m     \u001b[38;5;28mprint\u001b[39m(\n\u001b[1;32m    815\u001b[0m         \u001b[38;5;124m\"\u001b[39m\u001b[38;5;124mFitting \u001b[39m\u001b[38;5;132;01m{0}\u001b[39;00m\u001b[38;5;124m folds for each of \u001b[39m\u001b[38;5;132;01m{1}\u001b[39;00m\u001b[38;5;124m candidates,\u001b[39m\u001b[38;5;124m\"\u001b[39m\n\u001b[1;32m    816\u001b[0m         \u001b[38;5;124m\"\u001b[39m\u001b[38;5;124m totalling \u001b[39m\u001b[38;5;132;01m{2}\u001b[39;00m\u001b[38;5;124m fits\u001b[39m\u001b[38;5;124m\"\u001b[39m\u001b[38;5;241m.\u001b[39mformat(\n\u001b[1;32m    817\u001b[0m             n_splits, n_candidates, n_candidates \u001b[38;5;241m*\u001b[39m n_splits\n\u001b[1;32m    818\u001b[0m         )\n\u001b[1;32m    819\u001b[0m     )\n\u001b[0;32m--> 821\u001b[0m out \u001b[38;5;241m=\u001b[39m \u001b[43mparallel\u001b[49m\u001b[43m(\u001b[49m\n\u001b[1;32m    822\u001b[0m \u001b[43m    \u001b[49m\u001b[43mdelayed\u001b[49m\u001b[43m(\u001b[49m\u001b[43m_fit_and_score\u001b[49m\u001b[43m)\u001b[49m\u001b[43m(\u001b[49m\n\u001b[1;32m    823\u001b[0m \u001b[43m        \u001b[49m\u001b[43mclone\u001b[49m\u001b[43m(\u001b[49m\u001b[43mbase_estimator\u001b[49m\u001b[43m)\u001b[49m\u001b[43m,\u001b[49m\n\u001b[1;32m    824\u001b[0m \u001b[43m        \u001b[49m\u001b[43mX\u001b[49m\u001b[43m,\u001b[49m\n\u001b[1;32m    825\u001b[0m \u001b[43m        \u001b[49m\u001b[43my\u001b[49m\u001b[43m,\u001b[49m\n\u001b[1;32m    826\u001b[0m \u001b[43m        \u001b[49m\u001b[43mtrain\u001b[49m\u001b[38;5;241;43m=\u001b[39;49m\u001b[43mtrain\u001b[49m\u001b[43m,\u001b[49m\n\u001b[1;32m    827\u001b[0m \u001b[43m        \u001b[49m\u001b[43mtest\u001b[49m\u001b[38;5;241;43m=\u001b[39;49m\u001b[43mtest\u001b[49m\u001b[43m,\u001b[49m\n\u001b[1;32m    828\u001b[0m \u001b[43m        \u001b[49m\u001b[43mparameters\u001b[49m\u001b[38;5;241;43m=\u001b[39;49m\u001b[43mparameters\u001b[49m\u001b[43m,\u001b[49m\n\u001b[1;32m    829\u001b[0m \u001b[43m        \u001b[49m\u001b[43msplit_progress\u001b[49m\u001b[38;5;241;43m=\u001b[39;49m\u001b[43m(\u001b[49m\u001b[43msplit_idx\u001b[49m\u001b[43m,\u001b[49m\u001b[43m \u001b[49m\u001b[43mn_splits\u001b[49m\u001b[43m)\u001b[49m\u001b[43m,\u001b[49m\n\u001b[1;32m    830\u001b[0m \u001b[43m        \u001b[49m\u001b[43mcandidate_progress\u001b[49m\u001b[38;5;241;43m=\u001b[39;49m\u001b[43m(\u001b[49m\u001b[43mcand_idx\u001b[49m\u001b[43m,\u001b[49m\u001b[43m \u001b[49m\u001b[43mn_candidates\u001b[49m\u001b[43m)\u001b[49m\u001b[43m,\u001b[49m\n\u001b[1;32m    831\u001b[0m \u001b[43m        \u001b[49m\u001b[38;5;241;43m*\u001b[39;49m\u001b[38;5;241;43m*\u001b[39;49m\u001b[43mfit_and_score_kwargs\u001b[49m\u001b[43m,\u001b[49m\n\u001b[1;32m    832\u001b[0m \u001b[43m    \u001b[49m\u001b[43m)\u001b[49m\n\u001b[1;32m    833\u001b[0m \u001b[43m    \u001b[49m\u001b[38;5;28;43;01mfor\u001b[39;49;00m\u001b[43m \u001b[49m\u001b[43m(\u001b[49m\u001b[43mcand_idx\u001b[49m\u001b[43m,\u001b[49m\u001b[43m \u001b[49m\u001b[43mparameters\u001b[49m\u001b[43m)\u001b[49m\u001b[43m,\u001b[49m\u001b[43m \u001b[49m\u001b[43m(\u001b[49m\u001b[43msplit_idx\u001b[49m\u001b[43m,\u001b[49m\u001b[43m \u001b[49m\u001b[43m(\u001b[49m\u001b[43mtrain\u001b[49m\u001b[43m,\u001b[49m\u001b[43m \u001b[49m\u001b[43mtest\u001b[49m\u001b[43m)\u001b[49m\u001b[43m)\u001b[49m\u001b[43m \u001b[49m\u001b[38;5;129;43;01min\u001b[39;49;00m\u001b[43m \u001b[49m\u001b[43mproduct\u001b[49m\u001b[43m(\u001b[49m\n\u001b[1;32m    834\u001b[0m \u001b[43m        \u001b[49m\u001b[38;5;28;43menumerate\u001b[39;49m\u001b[43m(\u001b[49m\u001b[43mcandidate_params\u001b[49m\u001b[43m)\u001b[49m\u001b[43m,\u001b[49m\u001b[43m \u001b[49m\u001b[38;5;28;43menumerate\u001b[39;49m\u001b[43m(\u001b[49m\u001b[43mcv\u001b[49m\u001b[38;5;241;43m.\u001b[39;49m\u001b[43msplit\u001b[49m\u001b[43m(\u001b[49m\u001b[43mX\u001b[49m\u001b[43m,\u001b[49m\u001b[43m \u001b[49m\u001b[43my\u001b[49m\u001b[43m,\u001b[49m\u001b[43m \u001b[49m\u001b[43mgroups\u001b[49m\u001b[43m)\u001b[49m\u001b[43m)\u001b[49m\n\u001b[1;32m    835\u001b[0m \u001b[43m    \u001b[49m\u001b[43m)\u001b[49m\n\u001b[1;32m    836\u001b[0m \u001b[43m\u001b[49m\u001b[43m)\u001b[49m\n\u001b[1;32m    838\u001b[0m \u001b[38;5;28;01mif\u001b[39;00m \u001b[38;5;28mlen\u001b[39m(out) \u001b[38;5;241m<\u001b[39m \u001b[38;5;241m1\u001b[39m:\n\u001b[1;32m    839\u001b[0m     \u001b[38;5;28;01mraise\u001b[39;00m \u001b[38;5;167;01mValueError\u001b[39;00m(\n\u001b[1;32m    840\u001b[0m         \u001b[38;5;124m\"\u001b[39m\u001b[38;5;124mNo fits were performed. \u001b[39m\u001b[38;5;124m\"\u001b[39m\n\u001b[1;32m    841\u001b[0m         \u001b[38;5;124m\"\u001b[39m\u001b[38;5;124mWas the CV iterator empty? \u001b[39m\u001b[38;5;124m\"\u001b[39m\n\u001b[1;32m    842\u001b[0m         \u001b[38;5;124m\"\u001b[39m\u001b[38;5;124mWere there no candidates?\u001b[39m\u001b[38;5;124m\"\u001b[39m\n\u001b[1;32m    843\u001b[0m     )\n",
      "File \u001b[0;32m~/opt/anaconda3/envs/FedRL-for-IT-Sec/lib/python3.10/site-packages/sklearn/utils/parallel.py:63\u001b[0m, in \u001b[0;36mParallel.__call__\u001b[0;34m(self, iterable)\u001b[0m\n\u001b[1;32m     58\u001b[0m config \u001b[38;5;241m=\u001b[39m get_config()\n\u001b[1;32m     59\u001b[0m iterable_with_config \u001b[38;5;241m=\u001b[39m (\n\u001b[1;32m     60\u001b[0m     (_with_config(delayed_func, config), args, kwargs)\n\u001b[1;32m     61\u001b[0m     \u001b[38;5;28;01mfor\u001b[39;00m delayed_func, args, kwargs \u001b[38;5;129;01min\u001b[39;00m iterable\n\u001b[1;32m     62\u001b[0m )\n\u001b[0;32m---> 63\u001b[0m \u001b[38;5;28;01mreturn\u001b[39;00m \u001b[38;5;28;43msuper\u001b[39;49m\u001b[43m(\u001b[49m\u001b[43m)\u001b[49m\u001b[38;5;241;43m.\u001b[39;49m\u001b[38;5;21;43m__call__\u001b[39;49m\u001b[43m(\u001b[49m\u001b[43miterable_with_config\u001b[49m\u001b[43m)\u001b[49m\n",
      "File \u001b[0;32m~/opt/anaconda3/envs/FedRL-for-IT-Sec/lib/python3.10/site-packages/joblib/parallel.py:1088\u001b[0m, in \u001b[0;36mParallel.__call__\u001b[0;34m(self, iterable)\u001b[0m\n\u001b[1;32m   1085\u001b[0m \u001b[38;5;28;01mif\u001b[39;00m \u001b[38;5;28mself\u001b[39m\u001b[38;5;241m.\u001b[39mdispatch_one_batch(iterator):\n\u001b[1;32m   1086\u001b[0m     \u001b[38;5;28mself\u001b[39m\u001b[38;5;241m.\u001b[39m_iterating \u001b[38;5;241m=\u001b[39m \u001b[38;5;28mself\u001b[39m\u001b[38;5;241m.\u001b[39m_original_iterator \u001b[38;5;129;01mis\u001b[39;00m \u001b[38;5;129;01mnot\u001b[39;00m \u001b[38;5;28;01mNone\u001b[39;00m\n\u001b[0;32m-> 1088\u001b[0m \u001b[38;5;28;01mwhile\u001b[39;00m \u001b[38;5;28;43mself\u001b[39;49m\u001b[38;5;241;43m.\u001b[39;49m\u001b[43mdispatch_one_batch\u001b[49m\u001b[43m(\u001b[49m\u001b[43miterator\u001b[49m\u001b[43m)\u001b[49m:\n\u001b[1;32m   1089\u001b[0m     \u001b[38;5;28;01mpass\u001b[39;00m\n\u001b[1;32m   1091\u001b[0m \u001b[38;5;28;01mif\u001b[39;00m pre_dispatch \u001b[38;5;241m==\u001b[39m \u001b[38;5;124m\"\u001b[39m\u001b[38;5;124mall\u001b[39m\u001b[38;5;124m\"\u001b[39m \u001b[38;5;129;01mor\u001b[39;00m n_jobs \u001b[38;5;241m==\u001b[39m \u001b[38;5;241m1\u001b[39m:\n\u001b[1;32m   1092\u001b[0m     \u001b[38;5;66;03m# The iterable was consumed all at once by the above for loop.\u001b[39;00m\n\u001b[1;32m   1093\u001b[0m     \u001b[38;5;66;03m# No need to wait for async callbacks to trigger to\u001b[39;00m\n\u001b[1;32m   1094\u001b[0m     \u001b[38;5;66;03m# consumption.\u001b[39;00m\n",
      "File \u001b[0;32m~/opt/anaconda3/envs/FedRL-for-IT-Sec/lib/python3.10/site-packages/joblib/parallel.py:901\u001b[0m, in \u001b[0;36mParallel.dispatch_one_batch\u001b[0;34m(self, iterator)\u001b[0m\n\u001b[1;32m    899\u001b[0m     \u001b[38;5;28;01mreturn\u001b[39;00m \u001b[38;5;28;01mFalse\u001b[39;00m\n\u001b[1;32m    900\u001b[0m \u001b[38;5;28;01melse\u001b[39;00m:\n\u001b[0;32m--> 901\u001b[0m     \u001b[38;5;28;43mself\u001b[39;49m\u001b[38;5;241;43m.\u001b[39;49m\u001b[43m_dispatch\u001b[49m\u001b[43m(\u001b[49m\u001b[43mtasks\u001b[49m\u001b[43m)\u001b[49m\n\u001b[1;32m    902\u001b[0m     \u001b[38;5;28;01mreturn\u001b[39;00m \u001b[38;5;28;01mTrue\u001b[39;00m\n",
      "File \u001b[0;32m~/opt/anaconda3/envs/FedRL-for-IT-Sec/lib/python3.10/site-packages/joblib/parallel.py:819\u001b[0m, in \u001b[0;36mParallel._dispatch\u001b[0;34m(self, batch)\u001b[0m\n\u001b[1;32m    817\u001b[0m \u001b[38;5;28;01mwith\u001b[39;00m \u001b[38;5;28mself\u001b[39m\u001b[38;5;241m.\u001b[39m_lock:\n\u001b[1;32m    818\u001b[0m     job_idx \u001b[38;5;241m=\u001b[39m \u001b[38;5;28mlen\u001b[39m(\u001b[38;5;28mself\u001b[39m\u001b[38;5;241m.\u001b[39m_jobs)\n\u001b[0;32m--> 819\u001b[0m     job \u001b[38;5;241m=\u001b[39m \u001b[38;5;28;43mself\u001b[39;49m\u001b[38;5;241;43m.\u001b[39;49m\u001b[43m_backend\u001b[49m\u001b[38;5;241;43m.\u001b[39;49m\u001b[43mapply_async\u001b[49m\u001b[43m(\u001b[49m\u001b[43mbatch\u001b[49m\u001b[43m,\u001b[49m\u001b[43m \u001b[49m\u001b[43mcallback\u001b[49m\u001b[38;5;241;43m=\u001b[39;49m\u001b[43mcb\u001b[49m\u001b[43m)\u001b[49m\n\u001b[1;32m    820\u001b[0m     \u001b[38;5;66;03m# A job can complete so quickly than its callback is\u001b[39;00m\n\u001b[1;32m    821\u001b[0m     \u001b[38;5;66;03m# called before we get here, causing self._jobs to\u001b[39;00m\n\u001b[1;32m    822\u001b[0m     \u001b[38;5;66;03m# grow. To ensure correct results ordering, .insert is\u001b[39;00m\n\u001b[1;32m    823\u001b[0m     \u001b[38;5;66;03m# used (rather than .append) in the following line\u001b[39;00m\n\u001b[1;32m    824\u001b[0m     \u001b[38;5;28mself\u001b[39m\u001b[38;5;241m.\u001b[39m_jobs\u001b[38;5;241m.\u001b[39minsert(job_idx, job)\n",
      "File \u001b[0;32m~/opt/anaconda3/envs/FedRL-for-IT-Sec/lib/python3.10/site-packages/joblib/_parallel_backends.py:208\u001b[0m, in \u001b[0;36mSequentialBackend.apply_async\u001b[0;34m(self, func, callback)\u001b[0m\n\u001b[1;32m    206\u001b[0m \u001b[38;5;28;01mdef\u001b[39;00m \u001b[38;5;21mapply_async\u001b[39m(\u001b[38;5;28mself\u001b[39m, func, callback\u001b[38;5;241m=\u001b[39m\u001b[38;5;28;01mNone\u001b[39;00m):\n\u001b[1;32m    207\u001b[0m \u001b[38;5;250m    \u001b[39m\u001b[38;5;124;03m\"\"\"Schedule a func to be run\"\"\"\u001b[39;00m\n\u001b[0;32m--> 208\u001b[0m     result \u001b[38;5;241m=\u001b[39m \u001b[43mImmediateResult\u001b[49m\u001b[43m(\u001b[49m\u001b[43mfunc\u001b[49m\u001b[43m)\u001b[49m\n\u001b[1;32m    209\u001b[0m     \u001b[38;5;28;01mif\u001b[39;00m callback:\n\u001b[1;32m    210\u001b[0m         callback(result)\n",
      "File \u001b[0;32m~/opt/anaconda3/envs/FedRL-for-IT-Sec/lib/python3.10/site-packages/joblib/_parallel_backends.py:597\u001b[0m, in \u001b[0;36mImmediateResult.__init__\u001b[0;34m(self, batch)\u001b[0m\n\u001b[1;32m    594\u001b[0m \u001b[38;5;28;01mdef\u001b[39;00m \u001b[38;5;21m__init__\u001b[39m(\u001b[38;5;28mself\u001b[39m, batch):\n\u001b[1;32m    595\u001b[0m     \u001b[38;5;66;03m# Don't delay the application, to avoid keeping the input\u001b[39;00m\n\u001b[1;32m    596\u001b[0m     \u001b[38;5;66;03m# arguments in memory\u001b[39;00m\n\u001b[0;32m--> 597\u001b[0m     \u001b[38;5;28mself\u001b[39m\u001b[38;5;241m.\u001b[39mresults \u001b[38;5;241m=\u001b[39m \u001b[43mbatch\u001b[49m\u001b[43m(\u001b[49m\u001b[43m)\u001b[49m\n",
      "File \u001b[0;32m~/opt/anaconda3/envs/FedRL-for-IT-Sec/lib/python3.10/site-packages/joblib/parallel.py:288\u001b[0m, in \u001b[0;36mBatchedCalls.__call__\u001b[0;34m(self)\u001b[0m\n\u001b[1;32m    284\u001b[0m \u001b[38;5;28;01mdef\u001b[39;00m \u001b[38;5;21m__call__\u001b[39m(\u001b[38;5;28mself\u001b[39m):\n\u001b[1;32m    285\u001b[0m     \u001b[38;5;66;03m# Set the default nested backend to self._backend but do not set the\u001b[39;00m\n\u001b[1;32m    286\u001b[0m     \u001b[38;5;66;03m# change the default number of processes to -1\u001b[39;00m\n\u001b[1;32m    287\u001b[0m     \u001b[38;5;28;01mwith\u001b[39;00m parallel_backend(\u001b[38;5;28mself\u001b[39m\u001b[38;5;241m.\u001b[39m_backend, n_jobs\u001b[38;5;241m=\u001b[39m\u001b[38;5;28mself\u001b[39m\u001b[38;5;241m.\u001b[39m_n_jobs):\n\u001b[0;32m--> 288\u001b[0m         \u001b[38;5;28;01mreturn\u001b[39;00m [func(\u001b[38;5;241m*\u001b[39margs, \u001b[38;5;241m*\u001b[39m\u001b[38;5;241m*\u001b[39mkwargs)\n\u001b[1;32m    289\u001b[0m                 \u001b[38;5;28;01mfor\u001b[39;00m func, args, kwargs \u001b[38;5;129;01min\u001b[39;00m \u001b[38;5;28mself\u001b[39m\u001b[38;5;241m.\u001b[39mitems]\n",
      "File \u001b[0;32m~/opt/anaconda3/envs/FedRL-for-IT-Sec/lib/python3.10/site-packages/joblib/parallel.py:288\u001b[0m, in \u001b[0;36m<listcomp>\u001b[0;34m(.0)\u001b[0m\n\u001b[1;32m    284\u001b[0m \u001b[38;5;28;01mdef\u001b[39;00m \u001b[38;5;21m__call__\u001b[39m(\u001b[38;5;28mself\u001b[39m):\n\u001b[1;32m    285\u001b[0m     \u001b[38;5;66;03m# Set the default nested backend to self._backend but do not set the\u001b[39;00m\n\u001b[1;32m    286\u001b[0m     \u001b[38;5;66;03m# change the default number of processes to -1\u001b[39;00m\n\u001b[1;32m    287\u001b[0m     \u001b[38;5;28;01mwith\u001b[39;00m parallel_backend(\u001b[38;5;28mself\u001b[39m\u001b[38;5;241m.\u001b[39m_backend, n_jobs\u001b[38;5;241m=\u001b[39m\u001b[38;5;28mself\u001b[39m\u001b[38;5;241m.\u001b[39m_n_jobs):\n\u001b[0;32m--> 288\u001b[0m         \u001b[38;5;28;01mreturn\u001b[39;00m [\u001b[43mfunc\u001b[49m\u001b[43m(\u001b[49m\u001b[38;5;241;43m*\u001b[39;49m\u001b[43margs\u001b[49m\u001b[43m,\u001b[49m\u001b[43m \u001b[49m\u001b[38;5;241;43m*\u001b[39;49m\u001b[38;5;241;43m*\u001b[39;49m\u001b[43mkwargs\u001b[49m\u001b[43m)\u001b[49m\n\u001b[1;32m    289\u001b[0m                 \u001b[38;5;28;01mfor\u001b[39;00m func, args, kwargs \u001b[38;5;129;01min\u001b[39;00m \u001b[38;5;28mself\u001b[39m\u001b[38;5;241m.\u001b[39mitems]\n",
      "File \u001b[0;32m~/opt/anaconda3/envs/FedRL-for-IT-Sec/lib/python3.10/site-packages/sklearn/utils/parallel.py:123\u001b[0m, in \u001b[0;36m_FuncWrapper.__call__\u001b[0;34m(self, *args, **kwargs)\u001b[0m\n\u001b[1;32m    121\u001b[0m     config \u001b[38;5;241m=\u001b[39m {}\n\u001b[1;32m    122\u001b[0m \u001b[38;5;28;01mwith\u001b[39;00m config_context(\u001b[38;5;241m*\u001b[39m\u001b[38;5;241m*\u001b[39mconfig):\n\u001b[0;32m--> 123\u001b[0m     \u001b[38;5;28;01mreturn\u001b[39;00m \u001b[38;5;28;43mself\u001b[39;49m\u001b[38;5;241;43m.\u001b[39;49m\u001b[43mfunction\u001b[49m\u001b[43m(\u001b[49m\u001b[38;5;241;43m*\u001b[39;49m\u001b[43margs\u001b[49m\u001b[43m,\u001b[49m\u001b[43m \u001b[49m\u001b[38;5;241;43m*\u001b[39;49m\u001b[38;5;241;43m*\u001b[39;49m\u001b[43mkwargs\u001b[49m\u001b[43m)\u001b[49m\n",
      "File \u001b[0;32m~/opt/anaconda3/envs/FedRL-for-IT-Sec/lib/python3.10/site-packages/sklearn/model_selection/_validation.py:708\u001b[0m, in \u001b[0;36m_fit_and_score\u001b[0;34m(estimator, X, y, scorer, train, test, verbose, parameters, fit_params, return_train_score, return_parameters, return_n_test_samples, return_times, return_estimator, split_progress, candidate_progress, error_score)\u001b[0m\n\u001b[1;32m    705\u001b[0m result[\u001b[38;5;124m\"\u001b[39m\u001b[38;5;124mfit_error\u001b[39m\u001b[38;5;124m\"\u001b[39m] \u001b[38;5;241m=\u001b[39m \u001b[38;5;28;01mNone\u001b[39;00m\n\u001b[1;32m    707\u001b[0m fit_time \u001b[38;5;241m=\u001b[39m time\u001b[38;5;241m.\u001b[39mtime() \u001b[38;5;241m-\u001b[39m start_time\n\u001b[0;32m--> 708\u001b[0m test_scores \u001b[38;5;241m=\u001b[39m \u001b[43m_score\u001b[49m\u001b[43m(\u001b[49m\u001b[43mestimator\u001b[49m\u001b[43m,\u001b[49m\u001b[43m \u001b[49m\u001b[43mX_test\u001b[49m\u001b[43m,\u001b[49m\u001b[43m \u001b[49m\u001b[43my_test\u001b[49m\u001b[43m,\u001b[49m\u001b[43m \u001b[49m\u001b[43mscorer\u001b[49m\u001b[43m,\u001b[49m\u001b[43m \u001b[49m\u001b[43merror_score\u001b[49m\u001b[43m)\u001b[49m\n\u001b[1;32m    709\u001b[0m score_time \u001b[38;5;241m=\u001b[39m time\u001b[38;5;241m.\u001b[39mtime() \u001b[38;5;241m-\u001b[39m start_time \u001b[38;5;241m-\u001b[39m fit_time\n\u001b[1;32m    710\u001b[0m \u001b[38;5;28;01mif\u001b[39;00m return_train_score:\n",
      "File \u001b[0;32m~/opt/anaconda3/envs/FedRL-for-IT-Sec/lib/python3.10/site-packages/sklearn/model_selection/_validation.py:767\u001b[0m, in \u001b[0;36m_score\u001b[0;34m(estimator, X_test, y_test, scorer, error_score)\u001b[0m\n\u001b[1;32m    765\u001b[0m         scores \u001b[38;5;241m=\u001b[39m scorer(estimator, X_test)\n\u001b[1;32m    766\u001b[0m     \u001b[38;5;28;01melse\u001b[39;00m:\n\u001b[0;32m--> 767\u001b[0m         scores \u001b[38;5;241m=\u001b[39m \u001b[43mscorer\u001b[49m\u001b[43m(\u001b[49m\u001b[43mestimator\u001b[49m\u001b[43m,\u001b[49m\u001b[43m \u001b[49m\u001b[43mX_test\u001b[49m\u001b[43m,\u001b[49m\u001b[43m \u001b[49m\u001b[43my_test\u001b[49m\u001b[43m)\u001b[49m\n\u001b[1;32m    768\u001b[0m \u001b[38;5;28;01mexcept\u001b[39;00m \u001b[38;5;167;01mException\u001b[39;00m:\n\u001b[1;32m    769\u001b[0m     \u001b[38;5;28;01mif\u001b[39;00m \u001b[38;5;28misinstance\u001b[39m(scorer, _MultimetricScorer):\n\u001b[1;32m    770\u001b[0m         \u001b[38;5;66;03m# If `_MultimetricScorer` raises exception, the `error_score`\u001b[39;00m\n\u001b[1;32m    771\u001b[0m         \u001b[38;5;66;03m# parameter is equal to \"raise\".\u001b[39;00m\n",
      "File \u001b[0;32m~/opt/anaconda3/envs/FedRL-for-IT-Sec/lib/python3.10/site-packages/sklearn/metrics/_scorer.py:444\u001b[0m, in \u001b[0;36m_passthrough_scorer\u001b[0;34m(estimator, *args, **kwargs)\u001b[0m\n\u001b[1;32m    442\u001b[0m \u001b[38;5;28;01mdef\u001b[39;00m \u001b[38;5;21m_passthrough_scorer\u001b[39m(estimator, \u001b[38;5;241m*\u001b[39margs, \u001b[38;5;241m*\u001b[39m\u001b[38;5;241m*\u001b[39mkwargs):\n\u001b[1;32m    443\u001b[0m \u001b[38;5;250m    \u001b[39m\u001b[38;5;124;03m\"\"\"Function that wraps estimator.score\"\"\"\u001b[39;00m\n\u001b[0;32m--> 444\u001b[0m     \u001b[38;5;28;01mreturn\u001b[39;00m \u001b[43mestimator\u001b[49m\u001b[38;5;241;43m.\u001b[39;49m\u001b[43mscore\u001b[49m\u001b[43m(\u001b[49m\u001b[38;5;241;43m*\u001b[39;49m\u001b[43margs\u001b[49m\u001b[43m,\u001b[49m\u001b[43m \u001b[49m\u001b[38;5;241;43m*\u001b[39;49m\u001b[38;5;241;43m*\u001b[39;49m\u001b[43mkwargs\u001b[49m\u001b[43m)\u001b[49m\n",
      "Input \u001b[0;32mIn [114]\u001b[0m, in \u001b[0;36mStateAnomalyDetector.score\u001b[0;34m(self, X, y)\u001b[0m\n\u001b[1;32m      6\u001b[0m \u001b[38;5;28;01mdef\u001b[39;00m \u001b[38;5;21mscore\u001b[39m(\u001b[38;5;28mself\u001b[39m, X, y\u001b[38;5;241m=\u001b[39m\u001b[38;5;28;01mNone\u001b[39;00m):\n\u001b[0;32m----> 7\u001b[0m     \u001b[38;5;28;01mreturn\u001b[39;00m \u001b[38;5;28;43mself\u001b[39;49m\u001b[38;5;241;43m.\u001b[39;49m\u001b[43mmodule_\u001b[49m\u001b[38;5;241;43m.\u001b[39;49m\u001b[43mscore\u001b[49m\u001b[43m(\u001b[49m\u001b[43m)\u001b[49m\n",
      "Input \u001b[0;32mIn [112]\u001b[0m, in \u001b[0;36mAutoEncoder.score\u001b[0;34m(self)\u001b[0m\n\u001b[1;32m    165\u001b[0m \u001b[38;5;28;01mdef\u001b[39;00m \u001b[38;5;21mscore\u001b[39m(\u001b[38;5;28mself\u001b[39m):\n\u001b[0;32m--> 166\u001b[0m     n_std, accuracy \u001b[38;5;241m=\u001b[39m \u001b[38;5;28;43mself\u001b[39;49m\u001b[38;5;241;43m.\u001b[39;49m\u001b[43maccuracy_score\u001b[49m\u001b[43m(\u001b[49m\u001b[38;5;28;43;01mNone\u001b[39;49;00m\u001b[43m,\u001b[49m\u001b[43m \u001b[49m\u001b[38;5;28;43;01mNone\u001b[39;49;00m\u001b[43m)\u001b[49m\n\u001b[1;32m    167\u001b[0m     \u001b[38;5;28;01mif\u001b[39;00m \u001b[38;5;28mself\u001b[39m\u001b[38;5;241m.\u001b[39mverbose:\n\u001b[1;32m    168\u001b[0m         \u001b[38;5;28mprint\u001b[39m(\u001b[38;5;124mf\u001b[39m\u001b[38;5;124m\"\u001b[39m\u001b[38;5;124m>> Highest validation accuracy achieved \u001b[39m\u001b[38;5;132;01m{\u001b[39;00maccuracy\u001b[38;5;132;01m:\u001b[39;00m\u001b[38;5;124m.2f\u001b[39m\u001b[38;5;132;01m}\u001b[39;00m\u001b[38;5;124m with n_std=\u001b[39m\u001b[38;5;132;01m{\u001b[39;00mn_std\u001b[38;5;132;01m}\u001b[39;00m\u001b[38;5;124m <<\u001b[39m\u001b[38;5;124m\"\u001b[39m)\n",
      "Input \u001b[0;32mIn [112]\u001b[0m, in \u001b[0;36mAutoEncoder.accuracy_score\u001b[0;34m(self, X, y)\u001b[0m\n\u001b[1;32m    173\u001b[0m \u001b[38;5;28;01mdef\u001b[39;00m \u001b[38;5;21maccuracy_score\u001b[39m(\u001b[38;5;28mself\u001b[39m, X, y):\n\u001b[1;32m    174\u001b[0m     \u001b[38;5;66;03m#if not self.threshold:\u001b[39;00m\n\u001b[1;32m    175\u001b[0m     \u001b[38;5;66;03m#loss_mean, loss_standard_deviation = self.analyze_loss(X)\u001b[39;00m\n\u001b[1;32m    176\u001b[0m     \u001b[38;5;66;03m#n_stds = np.arange(0.1, 3, 0.1)\u001b[39;00m\n\u001b[1;32m    177\u001b[0m     \u001b[38;5;28;01mif\u001b[39;00m \u001b[38;5;28mself\u001b[39m\u001b[38;5;241m.\u001b[39mloss_mean \u001b[38;5;241m==\u001b[39m \u001b[38;5;28;01mNone\u001b[39;00m \u001b[38;5;129;01mor\u001b[39;00m \u001b[38;5;28mself\u001b[39m\u001b[38;5;241m.\u001b[39mloss_standard_deviation \u001b[38;5;241m==\u001b[39m \u001b[38;5;28;01mNone\u001b[39;00m:\n\u001b[1;32m    178\u001b[0m           \u001b[38;5;66;03m#print(\"accuracy_score_optimized > accurcy_loss()\")\u001b[39;00m\n\u001b[0;32m--> 179\u001b[0m           \u001b[38;5;28;43mself\u001b[39;49m\u001b[38;5;241;43m.\u001b[39;49m\u001b[43manalyze_loss\u001b[49m\u001b[43m(\u001b[49m\u001b[43m)\u001b[49m\n\u001b[1;32m    181\u001b[0m     best_accuracy \u001b[38;5;241m=\u001b[39m \u001b[38;5;241m0\u001b[39m\n\u001b[1;32m    182\u001b[0m     best_n_std \u001b[38;5;241m=\u001b[39m \u001b[38;5;241m0\u001b[39m\n",
      "Input \u001b[0;32mIn [112]\u001b[0m, in \u001b[0;36mAutoEncoder.analyze_loss\u001b[0;34m(self)\u001b[0m\n\u001b[1;32m    108\u001b[0m loss_function \u001b[38;5;241m=\u001b[39m torch\u001b[38;5;241m.\u001b[39mnn\u001b[38;5;241m.\u001b[39mMSELoss(reduction\u001b[38;5;241m=\u001b[39m\u001b[38;5;124m'\u001b[39m\u001b[38;5;124msum\u001b[39m\u001b[38;5;124m'\u001b[39m)\n\u001b[1;32m    109\u001b[0m \u001b[38;5;28;01mfor\u001b[39;00m batch_index, (inputs,) \u001b[38;5;129;01min\u001b[39;00m \u001b[38;5;28menumerate\u001b[39m(\u001b[38;5;28mself\u001b[39m\u001b[38;5;241m.\u001b[39mvalidation_data_loader):\n\u001b[0;32m--> 110\u001b[0m     outputs \u001b[38;5;241m=\u001b[39m \u001b[38;5;28;43mself\u001b[39;49m\u001b[38;5;241;43m.\u001b[39;49m\u001b[43mforward\u001b[49m\u001b[43m(\u001b[49m\u001b[43minputs\u001b[49m\u001b[43m)\u001b[49m\n\u001b[1;32m    111\u001b[0m     loss \u001b[38;5;241m=\u001b[39m loss_function(inputs, outputs)\n\u001b[1;32m    112\u001b[0m     losses\u001b[38;5;241m.\u001b[39mappend(loss\u001b[38;5;241m.\u001b[39mitem())\n",
      "Input \u001b[0;32mIn [112]\u001b[0m, in \u001b[0;36mAutoEncoder.forward\u001b[0;34m(self, X)\u001b[0m\n\u001b[1;32m     67\u001b[0m \u001b[38;5;28;01mdef\u001b[39;00m \u001b[38;5;21mforward\u001b[39m(\u001b[38;5;28mself\u001b[39m, X):\n\u001b[0;32m---> 68\u001b[0m     \u001b[38;5;28;01mreturn\u001b[39;00m \u001b[38;5;28;43mself\u001b[39;49m\u001b[38;5;241;43m.\u001b[39;49m\u001b[43mmodel\u001b[49m\u001b[43m(\u001b[49m\u001b[43mX\u001b[49m\u001b[43m)\u001b[49m\n",
      "File \u001b[0;32m~/opt/anaconda3/envs/FedRL-for-IT-Sec/lib/python3.10/site-packages/torch/nn/modules/module.py:1194\u001b[0m, in \u001b[0;36mModule._call_impl\u001b[0;34m(self, *input, **kwargs)\u001b[0m\n\u001b[1;32m   1190\u001b[0m \u001b[38;5;66;03m# If we don't have any hooks, we want to skip the rest of the logic in\u001b[39;00m\n\u001b[1;32m   1191\u001b[0m \u001b[38;5;66;03m# this function, and just call forward.\u001b[39;00m\n\u001b[1;32m   1192\u001b[0m \u001b[38;5;28;01mif\u001b[39;00m \u001b[38;5;129;01mnot\u001b[39;00m (\u001b[38;5;28mself\u001b[39m\u001b[38;5;241m.\u001b[39m_backward_hooks \u001b[38;5;129;01mor\u001b[39;00m \u001b[38;5;28mself\u001b[39m\u001b[38;5;241m.\u001b[39m_forward_hooks \u001b[38;5;129;01mor\u001b[39;00m \u001b[38;5;28mself\u001b[39m\u001b[38;5;241m.\u001b[39m_forward_pre_hooks \u001b[38;5;129;01mor\u001b[39;00m _global_backward_hooks\n\u001b[1;32m   1193\u001b[0m         \u001b[38;5;129;01mor\u001b[39;00m _global_forward_hooks \u001b[38;5;129;01mor\u001b[39;00m _global_forward_pre_hooks):\n\u001b[0;32m-> 1194\u001b[0m     \u001b[38;5;28;01mreturn\u001b[39;00m \u001b[43mforward_call\u001b[49m\u001b[43m(\u001b[49m\u001b[38;5;241;43m*\u001b[39;49m\u001b[38;5;28;43minput\u001b[39;49m\u001b[43m,\u001b[49m\u001b[43m \u001b[49m\u001b[38;5;241;43m*\u001b[39;49m\u001b[38;5;241;43m*\u001b[39;49m\u001b[43mkwargs\u001b[49m\u001b[43m)\u001b[49m\n\u001b[1;32m   1195\u001b[0m \u001b[38;5;66;03m# Do not call functions when jit is used\u001b[39;00m\n\u001b[1;32m   1196\u001b[0m full_backward_hooks, non_full_backward_hooks \u001b[38;5;241m=\u001b[39m [], []\n",
      "File \u001b[0;32m~/opt/anaconda3/envs/FedRL-for-IT-Sec/lib/python3.10/site-packages/torch/nn/modules/container.py:204\u001b[0m, in \u001b[0;36mSequential.forward\u001b[0;34m(self, input)\u001b[0m\n\u001b[1;32m    202\u001b[0m \u001b[38;5;28;01mdef\u001b[39;00m \u001b[38;5;21mforward\u001b[39m(\u001b[38;5;28mself\u001b[39m, \u001b[38;5;28minput\u001b[39m):\n\u001b[1;32m    203\u001b[0m     \u001b[38;5;28;01mfor\u001b[39;00m module \u001b[38;5;129;01min\u001b[39;00m \u001b[38;5;28mself\u001b[39m:\n\u001b[0;32m--> 204\u001b[0m         \u001b[38;5;28minput\u001b[39m \u001b[38;5;241m=\u001b[39m \u001b[43mmodule\u001b[49m\u001b[43m(\u001b[49m\u001b[38;5;28;43minput\u001b[39;49m\u001b[43m)\u001b[49m\n\u001b[1;32m    205\u001b[0m     \u001b[38;5;28;01mreturn\u001b[39;00m \u001b[38;5;28minput\u001b[39m\n",
      "File \u001b[0;32m~/opt/anaconda3/envs/FedRL-for-IT-Sec/lib/python3.10/site-packages/torch/nn/modules/module.py:1194\u001b[0m, in \u001b[0;36mModule._call_impl\u001b[0;34m(self, *input, **kwargs)\u001b[0m\n\u001b[1;32m   1190\u001b[0m \u001b[38;5;66;03m# If we don't have any hooks, we want to skip the rest of the logic in\u001b[39;00m\n\u001b[1;32m   1191\u001b[0m \u001b[38;5;66;03m# this function, and just call forward.\u001b[39;00m\n\u001b[1;32m   1192\u001b[0m \u001b[38;5;28;01mif\u001b[39;00m \u001b[38;5;129;01mnot\u001b[39;00m (\u001b[38;5;28mself\u001b[39m\u001b[38;5;241m.\u001b[39m_backward_hooks \u001b[38;5;129;01mor\u001b[39;00m \u001b[38;5;28mself\u001b[39m\u001b[38;5;241m.\u001b[39m_forward_hooks \u001b[38;5;129;01mor\u001b[39;00m \u001b[38;5;28mself\u001b[39m\u001b[38;5;241m.\u001b[39m_forward_pre_hooks \u001b[38;5;129;01mor\u001b[39;00m _global_backward_hooks\n\u001b[1;32m   1193\u001b[0m         \u001b[38;5;129;01mor\u001b[39;00m _global_forward_hooks \u001b[38;5;129;01mor\u001b[39;00m _global_forward_pre_hooks):\n\u001b[0;32m-> 1194\u001b[0m     \u001b[38;5;28;01mreturn\u001b[39;00m \u001b[43mforward_call\u001b[49m\u001b[43m(\u001b[49m\u001b[38;5;241;43m*\u001b[39;49m\u001b[38;5;28;43minput\u001b[39;49m\u001b[43m,\u001b[49m\u001b[43m \u001b[49m\u001b[38;5;241;43m*\u001b[39;49m\u001b[38;5;241;43m*\u001b[39;49m\u001b[43mkwargs\u001b[49m\u001b[43m)\u001b[49m\n\u001b[1;32m   1195\u001b[0m \u001b[38;5;66;03m# Do not call functions when jit is used\u001b[39;00m\n\u001b[1;32m   1196\u001b[0m full_backward_hooks, non_full_backward_hooks \u001b[38;5;241m=\u001b[39m [], []\n",
      "File \u001b[0;32m~/opt/anaconda3/envs/FedRL-for-IT-Sec/lib/python3.10/site-packages/torch/nn/modules/activation.py:684\u001b[0m, in \u001b[0;36mGELU.forward\u001b[0;34m(self, input)\u001b[0m\n\u001b[1;32m    683\u001b[0m \u001b[38;5;28;01mdef\u001b[39;00m \u001b[38;5;21mforward\u001b[39m(\u001b[38;5;28mself\u001b[39m, \u001b[38;5;28minput\u001b[39m: Tensor) \u001b[38;5;241m-\u001b[39m\u001b[38;5;241m>\u001b[39m Tensor:\n\u001b[0;32m--> 684\u001b[0m     \u001b[38;5;28;01mreturn\u001b[39;00m \u001b[43mF\u001b[49m\u001b[38;5;241;43m.\u001b[39;49m\u001b[43mgelu\u001b[49m\u001b[43m(\u001b[49m\u001b[38;5;28;43minput\u001b[39;49m\u001b[43m,\u001b[49m\u001b[43m \u001b[49m\u001b[43mapproximate\u001b[49m\u001b[38;5;241;43m=\u001b[39;49m\u001b[38;5;28;43mself\u001b[39;49m\u001b[38;5;241;43m.\u001b[39;49m\u001b[43mapproximate\u001b[49m\u001b[43m)\u001b[49m\n",
      "\u001b[0;31mKeyboardInterrupt\u001b[0m: "
     ]
    }
   ],
   "source": [
    "from sklearn.model_selection import GridSearchCV\n",
    "\n",
    "param_grid = {\n",
    "    'criterion': [RMSELoss, torch.nn.MSELoss, torch.nn.L1Loss()],\n",
    "    'optimizer': [torch.optim.Adam, torch.optim.SGD, torch.optim.RMSprop],\n",
    "    #'lr': [0.0001],\n",
    "    #'max_epochs': [100],\n",
    "    #'batch_size': [64],\n",
    "    #'module__activation_function': [torch.nn.Tanh(), torch.nn.GELU(), torch.nn.ReLU(), torch.nn.Sigmoid(), torch.nn.ELU()],\n",
    "    'module__activation_function': [torch.nn.GELU()],\n",
    "    'module__n_hidden_1': [64],\n",
    "    #'module__n_hidden_2': [32, 16, 8],\n",
    "    'module__n_hidden_2': [32],\n",
    "     'module__n_stds' : [[0.1, 0.01, 0.001, 0.0001]],\n",
    "}\n",
    "\n",
    "ae_grid_search_01 = GridSearchCV(estimator=state_anomaly_detector,\n",
    "                                 param_grid=param_grid,\n",
    "                                 n_jobs=1,\n",
    "                                 cv=2,\n",
    "                                 verbose=10,\n",
    "                                 refit=False,\n",
    "                                 error_score=\"raise\"\n",
    "                                )\n",
    "ae_grid_search_01_result = ae_grid_search_01.fit(ae_train_x, ae_train_x)"
   ]
  },
  {
   "cell_type": "code",
   "execution_count": 64,
   "id": "f8ce4b1d-bb3a-40ef-a21a-68b4d1852496",
   "metadata": {
    "tags": []
   },
   "outputs": [
    {
     "name": "stdout",
     "output_type": "stream",
     "text": [
      "Behavior.NORMAL, None : Predicted 2113 for 2113 given samples\n",
      "Behavior.NORMAL, MTDTechnique.CNC_IP_SHUFFLE : Predicted 986 for 986 given samples\n",
      "Behavior.NORMAL, MTDTechnique.ROOTKIT_SANITIZER : Predicted 974 for 974 given samples\n",
      "Behavior.NORMAL, MTDTechnique.RANSOMWARE_DIRTRAP : Predicted 1059 for 1059 given samples\n",
      "Behavior.NORMAL, MTDTechnique.RANSOMWARE_FILE_EXT_HIDE : Predicted 953 for 953 given samples\n",
      "Behavior.ROOTKIT_BDVL, None : Predicted 852 for 852 given samples\n",
      "Behavior.ROOTKIT_BDVL, MTDTechnique.CNC_IP_SHUFFLE : Predicted 334 for 334 given samples\n",
      "Behavior.ROOTKIT_BDVL, MTDTechnique.ROOTKIT_SANITIZER : Predicted 1030 for 1030 given samples\n",
      "Behavior.ROOTKIT_BDVL, MTDTechnique.RANSOMWARE_DIRTRAP : Predicted 736 for 736 given samples\n",
      "Behavior.ROOTKIT_BDVL, MTDTechnique.RANSOMWARE_FILE_EXT_HIDE : Predicted 314 for 314 given samples\n",
      "Behavior.ROOTKIT_BEURK, None : Predicted 996 for 996 given samples\n",
      "Behavior.ROOTKIT_BEURK, MTDTechnique.CNC_IP_SHUFFLE : Predicted 976 for 976 given samples\n",
      "Behavior.ROOTKIT_BEURK, MTDTechnique.ROOTKIT_SANITIZER : Predicted 1034 for 1034 given samples\n",
      "Behavior.ROOTKIT_BEURK, MTDTechnique.RANSOMWARE_DIRTRAP : Predicted 962 for 962 given samples\n",
      "Behavior.ROOTKIT_BEURK, MTDTechnique.RANSOMWARE_FILE_EXT_HIDE : Predicted 972 for 972 given samples\n",
      "Behavior.CNC_BACKDOOR_JAKORITAR, None : Predicted 989 for 989 given samples\n",
      "Behavior.CNC_BACKDOOR_JAKORITAR, MTDTechnique.CNC_IP_SHUFFLE : Predicted 1037 for 1037 given samples\n",
      "Behavior.CNC_BACKDOOR_JAKORITAR, MTDTechnique.ROOTKIT_SANITIZER : Predicted 1086 for 1086 given samples\n",
      "Behavior.CNC_BACKDOOR_JAKORITAR, MTDTechnique.RANSOMWARE_DIRTRAP : Predicted 1025 for 1025 given samples\n",
      "Behavior.CNC_BACKDOOR_JAKORITAR, MTDTechnique.RANSOMWARE_FILE_EXT_HIDE : Predicted 987 for 987 given samples\n",
      "Behavior.CNC_THETICK, None : Predicted 776 for 776 given samples\n",
      "Behavior.CNC_THETICK, MTDTechnique.CNC_IP_SHUFFLE : Predicted 1041 for 1041 given samples\n",
      "Behavior.CNC_THETICK, MTDTechnique.ROOTKIT_SANITIZER : Predicted 1014 for 1014 given samples\n",
      "Behavior.CNC_THETICK, MTDTechnique.RANSOMWARE_DIRTRAP : Predicted 1029 for 1029 given samples\n",
      "Behavior.CNC_THETICK, MTDTechnique.RANSOMWARE_FILE_EXT_HIDE : Predicted 1016 for 1016 given samples\n",
      "Behavior.CNC_OPT1, None : Predicted 1055 for 1055 given samples\n",
      "Behavior.CNC_OPT1, MTDTechnique.CNC_IP_SHUFFLE : Predicted 1025 for 1025 given samples\n",
      "Behavior.CNC_OPT1, MTDTechnique.ROOTKIT_SANITIZER : Predicted 1074 for 1074 given samples\n",
      "Behavior.CNC_OPT1, MTDTechnique.RANSOMWARE_DIRTRAP : Predicted 1052 for 1052 given samples\n",
      "Behavior.CNC_OPT1, MTDTechnique.RANSOMWARE_FILE_EXT_HIDE : Predicted 1035 for 1035 given samples\n",
      "Behavior.CNC_OPT2, None : Predicted 1046 for 1046 given samples\n",
      "Behavior.CNC_OPT2, MTDTechnique.CNC_IP_SHUFFLE : Predicted 1039 for 1039 given samples\n",
      "Behavior.CNC_OPT2, MTDTechnique.ROOTKIT_SANITIZER : Predicted 1037 for 1037 given samples\n",
      "Behavior.CNC_OPT2, MTDTechnique.RANSOMWARE_DIRTRAP : Predicted 1053 for 1053 given samples\n",
      "Behavior.CNC_OPT2, MTDTechnique.RANSOMWARE_FILE_EXT_HIDE : Predicted 1049 for 1049 given samples\n",
      "Behavior.RANSOMWARE_POC, None : Predicted 898 for 898 given samples\n",
      "Behavior.RANSOMWARE_POC, MTDTechnique.CNC_IP_SHUFFLE : Predicted 327 for 327 given samples\n",
      "Behavior.RANSOMWARE_POC, MTDTechnique.ROOTKIT_SANITIZER : Predicted 888 for 888 given samples\n",
      "Behavior.RANSOMWARE_POC, MTDTechnique.RANSOMWARE_DIRTRAP : Predicted 1015 for 1015 given samples\n",
      "Behavior.RANSOMWARE_POC, MTDTechnique.RANSOMWARE_FILE_EXT_HIDE : Predicted 1056 for 1056 given samples\n",
      "\\begin{tabular}{llllr}\n",
      "\\hline\n",
      " Behavior                 & Type     & After MTD                             & Accuracy   &   \\#Samples \\\\\n",
      "\\hline\n",
      " NORMAL                   & Decision & None                                  & 100.00\\%   &        2113 \\\\\n",
      " NORMAL                   & After    & MTDTechnique.CNC_IP_SHUFFLE           & 100.00\\%   &         986 \\\\\n",
      " NORMAL                   & After    & MTDTechnique.ROOTKIT_SANITIZER        & 100.00\\%   &         974 \\\\\n",
      " NORMAL                   & After    & MTDTechnique.RANSOMWARE_DIRTRAP       & 100.00\\%   &        1059 \\\\\n",
      " NORMAL                   & After    & MTDTechnique.RANSOMWARE_FILE_EXT_HIDE & 100.00\\%   &         953 \\\\\n",
      " ROOTKIT\\_BDVL            & Decision & None                                  & 8.80\\%     &         852 \\\\\n",
      " ROOTKIT\\_BDVL            & After    & MTDTechnique.CNC_IP_SHUFFLE           & 8.38\\%     &         334 \\\\\n",
      " ROOTKIT\\_BDVL            & After    & MTDTechnique.ROOTKIT_SANITIZER        & 99.32\\%    &        1030 \\\\\n",
      " ROOTKIT\\_BDVL            & After    & MTDTechnique.RANSOMWARE_DIRTRAP       & 6.25\\%     &         736 \\\\\n",
      " ROOTKIT\\_BDVL            & After    & MTDTechnique.RANSOMWARE_FILE_EXT_HIDE & 7.64\\%     &         314 \\\\\n",
      " ROOTKIT\\_BEURK           & Decision & None                                  & 0.00\\%     &         996 \\\\\n",
      " ROOTKIT\\_BEURK           & After    & MTDTechnique.CNC_IP_SHUFFLE           & 0.10\\%     &         976 \\\\\n",
      " ROOTKIT\\_BEURK           & After    & MTDTechnique.ROOTKIT_SANITIZER        & 100.00\\%   &        1034 \\\\\n",
      " ROOTKIT\\_BEURK           & After    & MTDTechnique.RANSOMWARE_DIRTRAP       & 0.00\\%     &         962 \\\\\n",
      " ROOTKIT\\_BEURK           & After    & MTDTechnique.RANSOMWARE_FILE_EXT_HIDE & 0.00\\%     &         972 \\\\\n",
      " CNC\\_BACKDOOR\\_JAKORITAR & Decision & None                                  & 0.00\\%     &         989 \\\\\n",
      " CNC\\_BACKDOOR\\_JAKORITAR & After    & MTDTechnique.CNC_IP_SHUFFLE           & 100.00\\%   &        1037 \\\\\n",
      " CNC\\_BACKDOOR\\_JAKORITAR & After    & MTDTechnique.ROOTKIT_SANITIZER        & 0.00\\%     &        1086 \\\\\n",
      " CNC\\_BACKDOOR\\_JAKORITAR & After    & MTDTechnique.RANSOMWARE_DIRTRAP       & 0.00\\%     &        1025 \\\\\n",
      " CNC\\_BACKDOOR\\_JAKORITAR & After    & MTDTechnique.RANSOMWARE_FILE_EXT_HIDE & 0.00\\%     &         987 \\\\\n",
      " CNC\\_THETICK             & Decision & None                                  & 0.00\\%     &         776 \\\\\n",
      " CNC\\_THETICK             & After    & MTDTechnique.CNC_IP_SHUFFLE           & 99.71\\%    &        1041 \\\\\n",
      " CNC\\_THETICK             & After    & MTDTechnique.ROOTKIT_SANITIZER        & 0.00\\%     &        1014 \\\\\n",
      " CNC\\_THETICK             & After    & MTDTechnique.RANSOMWARE_DIRTRAP       & 0.00\\%     &        1029 \\\\\n",
      " CNC\\_THETICK             & After    & MTDTechnique.RANSOMWARE_FILE_EXT_HIDE & 0.00\\%     &        1016 \\\\\n",
      " CNC\\_OPT1                & Decision & None                                  & 0.00\\%     &        1055 \\\\\n",
      " CNC\\_OPT1                & After    & MTDTechnique.CNC_IP_SHUFFLE           & 99.80\\%    &        1025 \\\\\n",
      " CNC\\_OPT1                & After    & MTDTechnique.ROOTKIT_SANITIZER        & 0.00\\%     &        1074 \\\\\n",
      " CNC\\_OPT1                & After    & MTDTechnique.RANSOMWARE_DIRTRAP       & 0.00\\%     &        1052 \\\\\n",
      " CNC\\_OPT1                & After    & MTDTechnique.RANSOMWARE_FILE_EXT_HIDE & 0.00\\%     &        1035 \\\\\n",
      " CNC\\_OPT2                & Decision & None                                  & 0.00\\%     &        1046 \\\\\n",
      " CNC\\_OPT2                & After    & MTDTechnique.CNC_IP_SHUFFLE           & 99.81\\%    &        1039 \\\\\n",
      " CNC\\_OPT2                & After    & MTDTechnique.ROOTKIT_SANITIZER        & 0.00\\%     &        1037 \\\\\n",
      " CNC\\_OPT2                & After    & MTDTechnique.RANSOMWARE_DIRTRAP       & 0.47\\%     &        1053 \\\\\n",
      " CNC\\_OPT2                & After    & MTDTechnique.RANSOMWARE_FILE_EXT_HIDE & 0.00\\%     &        1049 \\\\\n",
      " RANSOMWARE\\_POC          & Decision & None                                  & 100.00\\%   &         898 \\\\\n",
      " RANSOMWARE\\_POC          & After    & MTDTechnique.CNC_IP_SHUFFLE           & 100.00\\%   &         327 \\\\\n",
      " RANSOMWARE\\_POC          & After    & MTDTechnique.ROOTKIT_SANITIZER        & 100.00\\%   &         888 \\\\\n",
      " RANSOMWARE\\_POC          & After    & MTDTechnique.RANSOMWARE_DIRTRAP       & 100.00\\%   &        1015 \\\\\n",
      " RANSOMWARE\\_POC          & After    & MTDTechnique.RANSOMWARE_FILE_EXT_HIDE & 100.00\\%   &        1056 \\\\\n",
      "\\hline\n",
      "\\end{tabular}\n"
     ]
    }
   ],
   "source": [
    "autoencoder.evaluate(n_std=0.5, tablefmt='latex_raw')"
   ]
  }
 ],
 "metadata": {
  "colab": {
   "include_colab_link": true,
   "provenance": []
  },
  "kernelspec": {
   "display_name": "FedRL-for-IT-Sec",
   "language": "python",
   "name": "fedrl-for-it-sec"
  },
  "language_info": {
   "codemirror_mode": {
    "name": "ipython",
    "version": 3
   },
   "file_extension": ".py",
   "mimetype": "text/x-python",
   "name": "python",
   "nbconvert_exporter": "python",
   "pygments_lexer": "ipython3",
   "version": "3.10.10"
  }
 },
 "nbformat": 4,
 "nbformat_minor": 5
}
