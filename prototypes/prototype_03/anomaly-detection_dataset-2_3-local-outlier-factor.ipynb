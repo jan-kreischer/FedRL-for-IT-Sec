{
 "cells": [
  {
   "cell_type": "markdown",
   "id": "86c63224-498b-4c16-aa87-42db78bbe7b7",
   "metadata": {},
   "source": [
    "# 3. Local Outlier Factor for Anomaly Detection"
   ]
  },
  {
   "cell_type": "code",
   "execution_count": 1,
   "id": "c30e1215-6895-45ff-b6e1-43b60b0da8a4",
   "metadata": {
    "tags": []
   },
   "outputs": [],
   "source": [
    "executed_yet = False"
   ]
  },
  {
   "cell_type": "code",
   "execution_count": 2,
   "id": "8a2a135d-7df3-4592-9a56-cae1546f383a",
   "metadata": {
    "tags": []
   },
   "outputs": [
    {
     "name": "stdout",
     "output_type": "stream",
     "text": [
      "Original working directory: /Users/jankreischer/Library/Mobile Documents/com~apple~CloudDocs/Master-Thesis/Code/prototypes/prototype_03\n",
      "Current working directory: /Users/jankreischer/Library/Mobile Documents/com~apple~CloudDocs/Master-Thesis/Code\n"
     ]
    }
   ],
   "source": [
    "import os\n",
    "\n",
    "if not executed_yet:\n",
    "    executed_yet = True\n",
    "    original_working_directory_path = os.getcwd()\n",
    "    os.chdir(os.path.join(original_working_directory_path, \"../..\"))\n",
    "    root_working_directory_path =  os.getcwd()\n",
    "    \n",
    "print(f'Original working directory: {original_working_directory_path}')\n",
    "print(f'Current working directory: {root_working_directory_path}')"
   ]
  },
  {
   "cell_type": "code",
   "execution_count": 3,
   "id": "dbcdc0b8-5b79-45f3-9389-f0375950d4e8",
   "metadata": {
    "tags": []
   },
   "outputs": [],
   "source": [
    "import warnings\n",
    "warnings.simplefilter(action='ignore', category=FutureWarning)"
   ]
  },
  {
   "cell_type": "code",
   "execution_count": 4,
   "id": "eab7012a-7923-4a66-807c-c022eec4f6e4",
   "metadata": {},
   "outputs": [],
   "source": [
    "# Standard Dependencies\n",
    "import sys\n",
    "import os\n",
    "import numpy as np\n",
    "from time import time"
   ]
  },
  {
   "cell_type": "code",
   "execution_count": 5,
   "id": "cbc1e0a6-88a6-410f-8f6d-38b1dae723bc",
   "metadata": {
    "id": "63770f25-75fb-4b9d-8ea3-51354c8152dd"
   },
   "outputs": [
    {
     "name": "stderr",
     "output_type": "stream",
     "text": [
      "/Users/jankreischer/opt/anaconda3/envs/FedRL-for-IT-Sec/lib/python3.10/site-packages/tqdm/auto.py:22: TqdmWarning: IProgress not found. Please update jupyter and ipywidgets. See https://ipywidgets.readthedocs.io/en/stable/user_install.html\n",
      "  from .autonotebook import tqdm as notebook_tqdm\n"
     ]
    }
   ],
   "source": [
    "# Global Dependencies\n",
    "from src.functions import calculate_balance_metrics\n",
    "from src.custom_types import Behavior, MTDTechnique,  Execution, Evaluation, actions, mitigated_by, normal_afterstates\n",
    "from src.data_provider import DataProvider\n",
    "from src.autoencoder import AutoEncoder, RMSELoss\n",
    "from src.functions import convert_grid_search_result, display_grid_search_result"
   ]
  },
  {
   "cell_type": "code",
   "execution_count": 6,
   "id": "2082683a-b409-439e-be27-0c48f7d32bbf",
   "metadata": {
    "tags": []
   },
   "outputs": [],
   "source": [
    "#from prototypes.prototype_02.agent import Agent\n",
    "#from prototypes.prototype_02.client import Client\n",
    "#from prototypes.prototype_02.server import Server\n",
    "#from prototypes.prototype_02.experiment import Experiment"
   ]
  },
  {
   "cell_type": "code",
   "execution_count": 6,
   "id": "928f9709-9ed0-409e-aae4-ee81da00c09d",
   "metadata": {},
   "outputs": [
    {
     "name": "stdout",
     "output_type": "stream",
     "text": [
      "17332\n",
      "60549\n"
     ]
    }
   ],
   "source": [
    "import pandas as pd\n",
    "decision_states_dataset = pd.read_csv('prototypes/prototype_03/dataset-02_decision-state-samples.csv')\n",
    "print(len(decision_states_dataset))\n",
    "after_states_dataset = pd.read_csv('prototypes/prototype_03/dataset-02_after-state-samples.csv')\n",
    "print(len(after_states_dataset))\n",
    "dataset = pd.concat([decision_states_dataset, after_states_dataset], axis=0)"
   ]
  },
  {
   "cell_type": "code",
   "execution_count": 7,
   "id": "52dcd8d2-035d-4a25-b8f1-071432da7676",
   "metadata": {
    "tags": []
   },
   "outputs": [
    {
     "data": {
      "text/plain": [
       "array(['None'], dtype=object)"
      ]
     },
     "execution_count": 7,
     "metadata": {},
     "output_type": "execute_result"
    }
   ],
   "source": [
    "decision_states_dataset[\"mtd\"].unique()"
   ]
  },
  {
   "cell_type": "code",
   "execution_count": 8,
   "id": "8e7f34e2-574f-4542-87cb-01f7ad674b7a",
   "metadata": {
    "tags": []
   },
   "outputs": [],
   "source": [
    "# 3 Status Features\n",
    "time_status_columns = ['time', 'timestamp', 'seconds']\n",
    "try:\n",
    "    dataset.drop(time_status_columns, inplace=True, axis=1)\n",
    "except:\n",
    "    print(\"All time status features are removed from the dataset\")\n",
    "assert len(dataset.columns) == 99"
   ]
  },
  {
   "cell_type": "code",
   "execution_count": 9,
   "id": "d292b78c-66a0-4ffe-9961-5fd92ade1e8e",
   "metadata": {
    "tags": []
   },
   "outputs": [
    {
     "name": "stdout",
     "output_type": "stream",
     "text": [
      "{'cpuHardIrq', 'connectivity', 'alarmtimer:alarmtimer_start', 'cpuNice', 'dma_fence:dma_fence_init', 'alarmtimer:alarmtimer_fired', 'udp:udp_fail_queue_rcv_skb', 'cachefiles:cachefiles_create', 'clk:clk_set_rate', 'cachefiles:cachefiles_mark_active', 'tasksStopped', 'cachefiles:cachefiles_lookup'}\n",
      "(77881, 87)\n"
     ]
    }
   ],
   "source": [
    "from fast_ml.feature_selection import get_constant_features\n",
    "\n",
    "constant_features = set(get_constant_features(dataset, threshold=0.99, dropna=False)['Var'])\n",
    "print(constant_features)\n",
    "try:\n",
    "    dataset.drop(constant_features, inplace=True, axis=1)\n",
    "except:\n",
    "    print(\"All constant features are removed from the dataset\")\n",
    "print(dataset.shape)"
   ]
  },
  {
   "cell_type": "code",
   "execution_count": 10,
   "id": "49f4cccc-30ad-457f-8c89-ab27bddbaf64",
   "metadata": {
    "tags": []
   },
   "outputs": [],
   "source": [
    "normal_afterstate_strings = [\n",
    "    (\"Behavior.ROOTKIT_BDVL\", \"MTDTechnique.ROOTKIT_SANITIZER\"),\n",
    "    (\"Behavior.ROOTKIT_BEURK\", \"MTDTechnique.ROOTKIT_SANITIZER\"),\n",
    "    (\"Behavior.RANSOMWARE_POC\", \"MTDTechnique.RANSOMWARE_DIRTRAP\"),\n",
    "    (\"Behavior.RANSOMWARE_POC\", \"MTDTechnique.RANSOMWARE_FILE_EXT_HIDE\"),\n",
    "    (\"Behavior.CNC_BACKDOOR_JAKORITAR\", \"MTDTechnique.CNC_IP_SHUFFLE\"),\n",
    "    (\"Behavior.CNC_THETICK\", \"MTDTechnique.CNC_IP_SHUFFLE\"),\n",
    "    (\"Behavior.CNC_OPT1\", \"MTDTechnique.CNC_IP_SHUFFLE\"),\n",
    "    (\"Behavior.CNC_OPT2\", \"MTDTechnique.CNC_IP_SHUFFLE\"),\n",
    "]"
   ]
  },
  {
   "cell_type": "code",
   "execution_count": 11,
   "id": "a304100f-7b32-4bae-b541-792e49525834",
   "metadata": {
    "tags": []
   },
   "outputs": [
    {
     "data": {
      "text/plain": [
       "array(['Behavior.NORMAL', 'Behavior.RANSOMWARE_POC',\n",
       "       'Behavior.ROOTKIT_BDVL', 'Behavior.CNC_BACKDOOR_JAKORITAR',\n",
       "       'Behavior.ROOTKIT_BEURK', 'Behavior.CNC_THETICK',\n",
       "       'Behavior.CNC_OPT1', 'Behavior.CNC_OPT2'], dtype=object)"
      ]
     },
     "execution_count": 11,
     "metadata": {},
     "output_type": "execute_result"
    }
   ],
   "source": [
    "dataset[\"behavior\"].unique()"
   ]
  },
  {
   "cell_type": "code",
   "execution_count": 13,
   "id": "370dc1b4-b30c-462d-8ee9-5c305cf26dff",
   "metadata": {
    "tags": []
   },
   "outputs": [],
   "source": [
    "normal_label = 1\n",
    "abnormal_label = -1\n",
    "\n",
    "def is_normal(sample):  \n",
    "    behavior = sample.behavior \n",
    "    mtd = sample.mtd\n",
    "    if behavior == \"Behavior.NORMAL\":\n",
    "        label = normal_label\n",
    "    elif (str(behavior), str(mtd)) in normal_afterstate_strings:\n",
    "        label = normal_label\n",
    "    else:\n",
    "        label = abnormal_label\n",
    "    return label"
   ]
  },
  {
   "cell_type": "code",
   "execution_count": 14,
   "id": "dcba1f9c-1caf-44a3-b531-6c5496767ffe",
   "metadata": {
    "tags": []
   },
   "outputs": [],
   "source": [
    "# Add a label if a state should be considered normal or not\n",
    "dataset['is_normal'] = dataset.apply(lambda sample: is_normal(sample), axis=1)"
   ]
  },
  {
   "cell_type": "code",
   "execution_count": 15,
   "id": "3e986679-44b8-4797-a09a-64ccd0a4aa32",
   "metadata": {
    "tags": []
   },
   "outputs": [
    {
     "name": "stdout",
     "output_type": "stream",
     "text": [
      "Using MinMaxScaler()\n"
     ]
    }
   ],
   "source": [
    "from sklearn.preprocessing import MinMaxScaler\n",
    "# Scaling\n",
    "fit_normal_behavior_only = True\n",
    "standard_scaling = False\n",
    "if standard_scaling:\n",
    "    scaler = StandardScaler()\n",
    "else:\n",
    "    scaler = MinMaxScaler()\n",
    "    \n",
    "print(f\"Using {scaler}\")\n",
    "\n",
    "if fit_normal_behavior_only:\n",
    "    df = dataset[dataset['is_normal'] == normal_label]\n",
    "\n",
    "else: \n",
    "    df = dataset\n",
    "    \n",
    "scaler.fit(df.values[:,:-3])\n",
    "\n",
    "scaled_dataset = pd.DataFrame(scaler.transform(dataset.values[:,:-3]), columns=dataset.columns.drop([\"behavior\", \"mtd\", \"is_normal\"]), index=dataset.index)\n",
    "scaled_dataset[\"behavior\"] = dataset[\"behavior\"]\n",
    "scaled_dataset[\"mtd\"] = dataset[\"mtd\"]\n",
    "scaled_dataset[\"is_normal\"] = dataset[\"is_normal\"]"
   ]
  },
  {
   "cell_type": "code",
   "execution_count": 16,
   "id": "de92282c-c53b-47fe-891f-69fe3410fd98",
   "metadata": {
    "tags": []
   },
   "outputs": [
    {
     "name": "stdout",
     "output_type": "stream",
     "text": [
      "38940\n",
      "38941\n"
     ]
    }
   ],
   "source": [
    "from sklearn.model_selection import train_test_split\n",
    "\n",
    "rl_dataset, ad_dataset = train_test_split(scaled_dataset, train_size=0.5, shuffle=True)\n",
    "print(len(rl_dataset))\n",
    "print(len(ad_dataset))"
   ]
  },
  {
   "cell_type": "code",
   "execution_count": 18,
   "id": "a765de25-43d7-4530-83f1-9ba049e3a3d2",
   "metadata": {
    "tags": []
   },
   "outputs": [
    {
     "name": "stdout",
     "output_type": "stream",
     "text": [
      "Behavior.NORMAL, None : labeled [1] (4178 samples)\n",
      "Behavior.NORMAL, MTDTechnique.CNC_IP_SHUFFLE : labeled [1] (2031 samples)\n",
      "Behavior.NORMAL, MTDTechnique.ROOTKIT_SANITIZER : labeled [1] (1971 samples)\n",
      "Behavior.NORMAL, MTDTechnique.RANSOMWARE_DIRTRAP : labeled [1] (2084 samples)\n",
      "Behavior.NORMAL, MTDTechnique.RANSOMWARE_FILE_EXT_HIDE : labeled [1] (1971 samples)\n",
      "Behavior.ROOTKIT_BDVL, None : labeled [-1] (1658 samples)\n",
      "Behavior.ROOTKIT_BDVL, MTDTechnique.CNC_IP_SHUFFLE : labeled [-1] (657 samples)\n",
      "Behavior.ROOTKIT_BDVL, MTDTechnique.ROOTKIT_SANITIZER : labeled [1] (1995 samples)\n",
      "Behavior.ROOTKIT_BDVL, MTDTechnique.RANSOMWARE_DIRTRAP : labeled [-1] (1392 samples)\n",
      "Behavior.ROOTKIT_BDVL, MTDTechnique.RANSOMWARE_FILE_EXT_HIDE : labeled [-1] (624 samples)\n",
      "Behavior.ROOTKIT_BEURK, None : labeled [-1] (2012 samples)\n",
      "Behavior.ROOTKIT_BEURK, MTDTechnique.CNC_IP_SHUFFLE : labeled [-1] (1975 samples)\n",
      "Behavior.ROOTKIT_BEURK, MTDTechnique.ROOTKIT_SANITIZER : labeled [1] (2081 samples)\n",
      "Behavior.ROOTKIT_BEURK, MTDTechnique.RANSOMWARE_DIRTRAP : labeled [-1] (1969 samples)\n",
      "Behavior.ROOTKIT_BEURK, MTDTechnique.RANSOMWARE_FILE_EXT_HIDE : labeled [-1] (1990 samples)\n",
      "Behavior.CNC_BACKDOOR_JAKORITAR, None : labeled [-1] (2018 samples)\n",
      "Behavior.CNC_BACKDOOR_JAKORITAR, MTDTechnique.CNC_IP_SHUFFLE : labeled [1] (2024 samples)\n",
      "Behavior.CNC_BACKDOOR_JAKORITAR, MTDTechnique.ROOTKIT_SANITIZER : labeled [-1] (2085 samples)\n",
      "Behavior.CNC_BACKDOOR_JAKORITAR, MTDTechnique.RANSOMWARE_DIRTRAP : labeled [-1] (2017 samples)\n",
      "Behavior.CNC_BACKDOOR_JAKORITAR, MTDTechnique.RANSOMWARE_FILE_EXT_HIDE : labeled [-1] (2013 samples)\n",
      "Behavior.CNC_THETICK, None : labeled [-1] (1507 samples)\n",
      "Behavior.CNC_THETICK, MTDTechnique.CNC_IP_SHUFFLE : labeled [1] (2086 samples)\n",
      "Behavior.CNC_THETICK, MTDTechnique.ROOTKIT_SANITIZER : labeled [-1] (2093 samples)\n",
      "Behavior.CNC_THETICK, MTDTechnique.RANSOMWARE_DIRTRAP : labeled [-1] (2095 samples)\n",
      "Behavior.CNC_THETICK, MTDTechnique.RANSOMWARE_FILE_EXT_HIDE : labeled [-1] (2087 samples)\n",
      "Behavior.CNC_OPT1, None : labeled [-1] (2080 samples)\n",
      "Behavior.CNC_OPT1, MTDTechnique.CNC_IP_SHUFFLE : labeled [1] (2079 samples)\n",
      "Behavior.CNC_OPT1, MTDTechnique.ROOTKIT_SANITIZER : labeled [-1] (2081 samples)\n",
      "Behavior.CNC_OPT1, MTDTechnique.RANSOMWARE_DIRTRAP : labeled [-1] (2091 samples)\n",
      "Behavior.CNC_OPT1, MTDTechnique.RANSOMWARE_FILE_EXT_HIDE : labeled [-1] (2085 samples)\n",
      "Behavior.CNC_OPT2, None : labeled [-1] (2075 samples)\n",
      "Behavior.CNC_OPT2, MTDTechnique.CNC_IP_SHUFFLE : labeled [1] (2089 samples)\n",
      "Behavior.CNC_OPT2, MTDTechnique.ROOTKIT_SANITIZER : labeled [-1] (2082 samples)\n",
      "Behavior.CNC_OPT2, MTDTechnique.RANSOMWARE_DIRTRAP : labeled [-1] (2072 samples)\n",
      "Behavior.CNC_OPT2, MTDTechnique.RANSOMWARE_FILE_EXT_HIDE : labeled [-1] (2095 samples)\n",
      "Behavior.RANSOMWARE_POC, None : labeled [-1] (1804 samples)\n",
      "Behavior.RANSOMWARE_POC, MTDTechnique.CNC_IP_SHUFFLE : labeled [-1] (636 samples)\n",
      "Behavior.RANSOMWARE_POC, MTDTechnique.ROOTKIT_SANITIZER : labeled [-1] (1812 samples)\n",
      "Behavior.RANSOMWARE_POC, MTDTechnique.RANSOMWARE_DIRTRAP : labeled [1] (2095 samples)\n",
      "Behavior.RANSOMWARE_POC, MTDTechnique.RANSOMWARE_FILE_EXT_HIDE : labeled [1] (2092 samples)\n",
      "Contains a total of 77881 samples.\n"
     ]
    }
   ],
   "source": [
    "n_total = 0\n",
    "for behavior in Behavior:\n",
    "    for mtd in [\"None\"] + list(MTDTechnique):\n",
    "        behavior_samples = scaled_dataset.loc[(scaled_dataset['behavior'] == str(behavior)) & (scaled_dataset['mtd'] == str(mtd))]\n",
    "        n_total+=len(behavior_samples)\n",
    "        print(f\"{behavior}, {mtd} : labeled {behavior_samples['is_normal'].unique()} ({len(behavior_samples)} samples)\")\n",
    "print(f\"Contains a total of {n_total} samples.\")"
   ]
  },
  {
   "cell_type": "code",
   "execution_count": 20,
   "id": "245c42e9-74b2-4933-893f-ad1e2f1d73cd",
   "metadata": {
    "tags": []
   },
   "outputs": [
    {
     "name": "stdout",
     "output_type": "stream",
     "text": [
      "14242\n",
      "24699\n",
      "38941\n",
      "0.6342672247759431\n"
     ]
    }
   ],
   "source": [
    "n_normal_ad_dataset = len(ad_dataset.loc[ad_dataset[\"is_normal\"] == normal_label])\n",
    "n_abnormal_ad_dataset = len(ad_dataset.loc[ad_dataset[\"is_normal\"] == abnormal_label])\n",
    "n_total = len(ad_dataset)\n",
    "\n",
    "print(n_normal_ad_dataset)\n",
    "print(n_abnormal_ad_dataset)\n",
    "print(n_total)\n",
    "assert n_normal_ad_dataset + n_abnormal_ad_dataset == n_total\n",
    "\n",
    "nu = n_abnormal_ad_dataset/n_total\n",
    "print(nu)"
   ]
  },
  {
   "cell_type": "markdown",
   "id": "326e9773-36b1-4a1a-8ca7-0400b29fa34d",
   "metadata": {
    "tags": []
   },
   "source": [
    "### Functions"
   ]
  },
  {
   "cell_type": "code",
   "execution_count": 226,
   "id": "67957ec8-15f5-4ad3-b33f-89cf11e5ed56",
   "metadata": {},
   "outputs": [],
   "source": [
    "from sklearn.svm import OneClassSVM\n",
    "from sklearn.ensemble import IsolationForest\n",
    "from sklearn.neighbors import LocalOutlierFactor\n",
    "from sklearn.metrics import precision_score, recall_score, f1_score, accuracy_score\n",
    "\n",
    "def evaluate(model, data_dict, tablefmt='latex_raw'):\n",
    "        results = []\n",
    "        labels= [-1,1]\n",
    "        pos_label = 1\n",
    "        \n",
    "        y_true_total = np.empty([0])\n",
    "        y_pred_total = np.empty([0])\n",
    "        for behavior, data in data_dict.items():\n",
    "            y_true = data[:,-1].astype(int)\n",
    "            y_true_total = np.concatenate((y_true_total, y_true))\n",
    "\n",
    "            y_pred = model.predict(data[:, :-1].astype(np.float32))\n",
    "            y_pred_total = np.concatenate((y_pred_total, y_pred))\n",
    "\n",
    "            accuracy = accuracy_score(y_true, y_pred)\n",
    "\n",
    "            n_samples = len(y_true)\n",
    "            results.append([behavior.name.replace(\"_\", \"\\_\"), f'{(100 * accuracy):.2f}\\%', '\\\\notCalculated', '\\\\notCalculated', '\\\\notCalculated', str(n_samples)])\n",
    "\n",
    "        accuracy = accuracy_score(y_true_total, y_pred_total)\n",
    "        precision = precision_score(y_true_total, y_pred_total, average='binary', labels=labels, pos_label=pos_label, zero_division=1)\n",
    "        recall = recall_score(y_true_total, y_pred_total, average='binary', labels=labels, pos_label=pos_label, zero_division=1)\n",
    "        f1 = f1_score(y_true_total, y_pred_total, average='binary', labels=labels, pos_label=pos_label, zero_division=1)\n",
    "        n_samples = len(y_true_total)\n",
    "        results.append([\"GLOBAL\", f'{(100 * accuracy):.2f}\\%', f'{(100 * precision):.2f}\\%', f'{(100 * recall):.2f}\\%', f'{(100 * f1):.2f}\\%', n_samples])\n",
    "        print(tabulate(results, headers=[\"Behavior\", \"Accuracy\", \"Precision\", \"Recall\", \"F1-Score\", \"\\\\#Samples\"], tablefmt=tablefmt)) "
   ]
  },
  {
   "cell_type": "code",
   "execution_count": 50,
   "id": "34454896-699d-449c-afe4-bb749acac7f7",
   "metadata": {
    "tags": []
   },
   "outputs": [],
   "source": [
    "svm_training_x = ad_dataset.drop([\"behavior\", \"mtd\", \"is_normal\"],  axis=1, inplace=False).to_numpy().astype(np.float32) \n",
    "svm_training_y = ad_dataset[\"is_normal\"].to_numpy().astype(np.int32)\n",
    "\n"
   ]
  },
  {
   "cell_type": "markdown",
   "id": "a499bbd6-a439-43be-b024-94366516d666",
   "metadata": {},
   "source": [
    "## 3. Local Outlier Factor"
   ]
  },
  {
   "cell_type": "code",
   "execution_count": 21,
   "id": "32f0e308-8571-4af1-a15c-9fbfb3e47b4a",
   "metadata": {
    "tags": []
   },
   "outputs": [],
   "source": [
    "lof_training_x = ad_dataset.drop([\"behavior\", \"mtd\", \"is_normal\"],  axis=1, inplace=False).to_numpy().astype(np.float32)\n",
    "lof_training_y = ad_dataset[\"is_normal\"].to_numpy().astype(np.int32)"
   ]
  },
  {
   "cell_type": "code",
   "execution_count": null,
   "id": "e521450d-9cad-4901-83bb-19c4433128d4",
   "metadata": {
    "tags": []
   },
   "outputs": [],
   "source": [
    "lof_test_data_dict, lof_test_data_flat = get_test_datasets(test_data, 1, -1)"
   ]
  },
  {
   "cell_type": "code",
   "execution_count": 22,
   "id": "3c2dff4c-032d-42f8-a885-75884fc6d33d",
   "metadata": {
    "tags": []
   },
   "outputs": [],
   "source": [
    "param_grid = {\n",
    "    'n_neighbors': [10, 15, 20, 25, 30],\n",
    "    'algorithm': ['auto', 'ball_tree', 'kd_tree', 'brute'],\n",
    "    'metric': ['minkowski'],\n",
    "    'p': [2], \n",
    "    'novelty': [True]\n",
    "}"
   ]
  },
  {
   "cell_type": "code",
   "execution_count": 24,
   "id": "c51800b0-ce3a-4de9-8f6b-e44cb1b36026",
   "metadata": {
    "tags": []
   },
   "outputs": [
    {
     "name": "stdout",
     "output_type": "stream",
     "text": [
      "Fitting 2 folds for each of 20 candidates, totalling 40 fits\n",
      "[CV 1/2] END algorithm=auto, metric=minkowski, n_neighbors=10, novelty=True, p=2;, score=(train=0.482, test=0.502) total time=   1.1s\n",
      "[CV 2/2] END algorithm=auto, metric=minkowski, n_neighbors=10, novelty=True, p=2;, score=(train=0.488, test=0.499) total time=   0.9s\n",
      "[CV 1/2] END algorithm=auto, metric=minkowski, n_neighbors=15, novelty=True, p=2;, score=(train=0.486, test=0.501) total time=   1.0s\n",
      "[CV 2/2] END algorithm=auto, metric=minkowski, n_neighbors=15, novelty=True, p=2;, score=(train=0.496, test=0.502) total time=   1.0s\n",
      "[CV 1/2] END algorithm=auto, metric=minkowski, n_neighbors=20, novelty=True, p=2;, score=(train=0.490, test=0.498) total time=   1.0s\n",
      "[CV 2/2] END algorithm=auto, metric=minkowski, n_neighbors=20, novelty=True, p=2;, score=(train=0.494, test=0.499) total time=   1.0s\n",
      "[CV 1/2] END algorithm=auto, metric=minkowski, n_neighbors=25, novelty=True, p=2;, score=(train=0.490, test=0.493) total time=   1.1s\n",
      "[CV 2/2] END algorithm=auto, metric=minkowski, n_neighbors=25, novelty=True, p=2;, score=(train=0.491, test=0.494) total time=   1.2s\n",
      "[CV 1/2] END algorithm=auto, metric=minkowski, n_neighbors=30, novelty=True, p=2;, score=(train=0.492, test=0.494) total time=   1.5s\n",
      "[CV 2/2] END algorithm=auto, metric=minkowski, n_neighbors=30, novelty=True, p=2;, score=(train=0.489, test=0.495) total time=   1.1s\n",
      "[CV 1/2] END algorithm=ball_tree, metric=minkowski, n_neighbors=10, novelty=True, p=2;, score=(train=0.482, test=0.502) total time= 1.5min\n",
      "[CV 2/2] END algorithm=ball_tree, metric=minkowski, n_neighbors=10, novelty=True, p=2;, score=(train=0.488, test=0.499) total time= 1.3min\n",
      "[CV 1/2] END algorithm=ball_tree, metric=minkowski, n_neighbors=15, novelty=True, p=2;, score=(train=0.486, test=0.501) total time= 1.3min\n",
      "[CV 2/2] END algorithm=ball_tree, metric=minkowski, n_neighbors=15, novelty=True, p=2;, score=(train=0.496, test=0.502) total time= 1.3min\n",
      "[CV 1/2] END algorithm=ball_tree, metric=minkowski, n_neighbors=20, novelty=True, p=2;, score=(train=0.490, test=0.498) total time= 1.3min\n",
      "[CV 2/2] END algorithm=ball_tree, metric=minkowski, n_neighbors=20, novelty=True, p=2;, score=(train=0.494, test=0.499) total time= 1.1min\n",
      "[CV 1/2] END algorithm=ball_tree, metric=minkowski, n_neighbors=25, novelty=True, p=2;, score=(train=0.490, test=0.493) total time=19.9min\n",
      "[CV 2/2] END algorithm=ball_tree, metric=minkowski, n_neighbors=25, novelty=True, p=2;, score=(train=0.491, test=0.494) total time= 1.4min\n",
      "[CV 1/2] END algorithm=ball_tree, metric=minkowski, n_neighbors=30, novelty=True, p=2;, score=(train=0.492, test=0.494) total time= 1.3min\n",
      "[CV 2/2] END algorithm=ball_tree, metric=minkowski, n_neighbors=30, novelty=True, p=2;, score=(train=0.489, test=0.495) total time= 1.3min\n",
      "[CV 1/2] END algorithm=kd_tree, metric=minkowski, n_neighbors=10, novelty=True, p=2;, score=(train=0.482, test=0.502) total time=  55.7s\n",
      "[CV 2/2] END algorithm=kd_tree, metric=minkowski, n_neighbors=10, novelty=True, p=2;, score=(train=0.488, test=0.499) total time=  58.6s\n",
      "[CV 1/2] END algorithm=kd_tree, metric=minkowski, n_neighbors=15, novelty=True, p=2;, score=(train=0.486, test=0.501) total time=  56.1s\n",
      "[CV 2/2] END algorithm=kd_tree, metric=minkowski, n_neighbors=15, novelty=True, p=2;, score=(train=0.496, test=0.502) total time=  59.1s\n",
      "[CV 1/2] END algorithm=kd_tree, metric=minkowski, n_neighbors=20, novelty=True, p=2;, score=(train=0.490, test=0.498) total time=  58.0s\n",
      "[CV 2/2] END algorithm=kd_tree, metric=minkowski, n_neighbors=20, novelty=True, p=2;, score=(train=0.494, test=0.499) total time= 1.0min\n",
      "[CV 1/2] END algorithm=kd_tree, metric=minkowski, n_neighbors=25, novelty=True, p=2;, score=(train=0.490, test=0.493) total time=18.3min\n",
      "[CV 2/2] END algorithm=kd_tree, metric=minkowski, n_neighbors=25, novelty=True, p=2;, score=(train=0.491, test=0.494) total time= 1.2min\n",
      "[CV 1/2] END algorithm=kd_tree, metric=minkowski, n_neighbors=30, novelty=True, p=2;, score=(train=0.492, test=0.494) total time= 1.0min\n",
      "[CV 2/2] END algorithm=kd_tree, metric=minkowski, n_neighbors=30, novelty=True, p=2;, score=(train=0.489, test=0.495) total time= 1.0min\n",
      "[CV 1/2] END algorithm=brute, metric=minkowski, n_neighbors=10, novelty=True, p=2;, score=(train=0.482, test=0.502) total time=   1.1s\n",
      "[CV 2/2] END algorithm=brute, metric=minkowski, n_neighbors=10, novelty=True, p=2;, score=(train=0.488, test=0.499) total time=   1.3s\n",
      "[CV 1/2] END algorithm=brute, metric=minkowski, n_neighbors=15, novelty=True, p=2;, score=(train=0.486, test=0.501) total time=   1.7s\n",
      "[CV 2/2] END algorithm=brute, metric=minkowski, n_neighbors=15, novelty=True, p=2;, score=(train=0.496, test=0.502) total time=   3.2s\n",
      "[CV 1/2] END algorithm=brute, metric=minkowski, n_neighbors=20, novelty=True, p=2;, score=(train=0.490, test=0.498) total time=   3.7s\n",
      "[CV 2/2] END algorithm=brute, metric=minkowski, n_neighbors=20, novelty=True, p=2;, score=(train=0.494, test=0.499) total time=   4.2s\n",
      "[CV 1/2] END algorithm=brute, metric=minkowski, n_neighbors=25, novelty=True, p=2;, score=(train=0.490, test=0.493) total time=   4.2s\n",
      "[CV 2/2] END algorithm=brute, metric=minkowski, n_neighbors=25, novelty=True, p=2;, score=(train=0.491, test=0.494) total time=   4.2s\n",
      "[CV 1/2] END algorithm=brute, metric=minkowski, n_neighbors=30, novelty=True, p=2;, score=(train=0.492, test=0.494) total time=   3.9s\n",
      "[CV 2/2] END algorithm=brute, metric=minkowski, n_neighbors=30, novelty=True, p=2;, score=(train=0.489, test=0.495) total time=   3.4s\n"
     ]
    }
   ],
   "source": [
    "from sklearn.neighbors import LocalOutlierFactor\n",
    "from sklearn.model_selection import GridSearchCV\n",
    "\n",
    "local_outlier_factor = LocalOutlierFactor(contamination=0.5, novelty=True)\n",
    "lof_grid_search = GridSearchCV(local_outlier_factor, \n",
    "                                                 param_grid,\n",
    "                                                 scoring='accuracy', \n",
    "                                                 refit=False,\n",
    "                                                 cv=2, \n",
    "                                                 return_train_score=True,\n",
    "                                                 verbose=3,\n",
    "                                                 n_jobs=1)\n",
    "# Fitting 5 folds for each of 20 candidates, totalling 100 fits\n",
    "lof_grid_search_result = lof_grid_search.fit(lof_training_x, lof_training_y)"
   ]
  },
  {
   "cell_type": "code",
   "execution_count": null,
   "id": "e2e73740-d4ad-49ea-9c26-48496bda2876",
   "metadata": {},
   "outputs": [],
   "source": [
    "lof_grid_search_result_table = convert_grid_search_result(lof_grid_search_result)\n",
    "display_grid_search_result(lof_grid_search_result_table)"
   ]
  },
  {
   "cell_type": "code",
   "execution_count": null,
   "id": "11449ee3-08a6-46a2-908a-6def5458ccb7",
   "metadata": {
    "tags": []
   },
   "outputs": [],
   "source": [
    "best_lof = LocalOutlierFactor(contamination=0.5, novelty=True, algorithm='brute', metric='minkowski', p=2.0, n_neighbors=30)\n",
    "best_lof.fit(lof_training_x, lof_training_y)\n",
    "evaluate(best_lof, lof_test_data_dict)"
   ]
  }
 ],
 "metadata": {
  "kernelspec": {
   "display_name": "Python 3 (ipykernel)",
   "language": "python",
   "name": "python3"
  },
  "language_info": {
   "codemirror_mode": {
    "name": "ipython",
    "version": 3
   },
   "file_extension": ".py",
   "mimetype": "text/x-python",
   "name": "python",
   "nbconvert_exporter": "python",
   "pygments_lexer": "ipython3",
   "version": "3.10.10"
  }
 },
 "nbformat": 4,
 "nbformat_minor": 5
}
