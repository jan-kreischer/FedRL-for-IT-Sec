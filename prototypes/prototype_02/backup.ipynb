{
 "cells": [
  {
   "cell_type": "code",
   "execution_count": 1,
   "id": "ef60f709-cbcd-4b19-9d38-3e92604638c3",
   "metadata": {
    "tags": []
   },
   "outputs": [
    {
     "ename": "NameError",
     "evalue": "name 'AutoEncoder' is not defined",
     "output_type": "error",
     "traceback": [
      "\u001b[0;31m---------------------------------------------------------------------------\u001b[0m",
      "\u001b[0;31mNameError\u001b[0m                                 Traceback (most recent call last)",
      "Input \u001b[0;32mIn [1]\u001b[0m, in \u001b[0;36m<cell line: 1>\u001b[0;34m()\u001b[0m\n\u001b[0;32m----> 1\u001b[0m \u001b[38;5;28;01mdef\u001b[39;00m \u001b[38;5;21mevaluate_ae_on_no_mtd_behavior\u001b[39m(autoencoder: \u001b[43mAutoEncoder\u001b[49m, test_data):\n\u001b[1;32m      2\u001b[0m     results \u001b[38;5;241m=\u001b[39m []\n\u001b[1;32m      3\u001b[0m     \u001b[38;5;28;01mfor\u001b[39;00m b, d \u001b[38;5;129;01min\u001b[39;00m test_data\u001b[38;5;241m.\u001b[39mitems():\n",
      "\u001b[0;31mNameError\u001b[0m: name 'AutoEncoder' is not defined"
     ]
    }
   ],
   "source": [
    "def evaluate_ae_on_no_mtd_behavior(autoencoder: AutoEncoder, test_data):\n",
    "    results = []\n",
    "    for b, d in test_data.items():\n",
    "        y_test = np.array([0 if b == Behavior.NORMAL else 1] * len(d))\n",
    "        y_predicted = autoencoder.predict(d[:, :-1].astype(np.float32))\n",
    "\n",
    "        acc, f1, conf_mat = calculate_metrics(y_test.flatten(), y_predicted.flatten().numpy())\n",
    "        #res_dict[b] = f'{(100 * acc):.2f}%'\n",
    "        results.append([b, f'{(100 * acc):.2f}%', f'{(100 * f1):.2f}%'])\n",
    "    #labels = [\"Behavior\", \"Accuracy\", \"F1-Score\"] \n",
    "    #results = []\n",
    "    #for b, a in res_dict.items():\n",
    "        #results.append([b.value, res_dict[b]])\n",
    "    print(tabulate(results, headers=[\"Behavior\", \"Accuracy\", \"F1-Score\"], tablefmt=\"latex\"))\n",
    "    print(conf_mat)"
   ]
  }
 ],
 "metadata": {
  "kernelspec": {
   "display_name": "Python 3 (ipykernel)",
   "language": "python",
   "name": "python3"
  },
  "language_info": {
   "codemirror_mode": {
    "name": "ipython",
    "version": 3
   },
   "file_extension": ".py",
   "mimetype": "text/x-python",
   "name": "python",
   "nbconvert_exporter": "python",
   "pygments_lexer": "ipython3",
   "version": "3.10.10"
  }
 },
 "nbformat": 4,
 "nbformat_minor": 5
}
