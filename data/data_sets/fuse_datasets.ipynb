{
 "cells": [
  {
   "cell_type": "code",
   "execution_count": 3,
   "id": "92c02670-7175-4d70-bc62-4fc2623d1ca3",
   "metadata": {
    "tags": []
   },
   "outputs": [],
   "source": [
    "executed_yet = False"
   ]
  },
  {
   "cell_type": "code",
   "execution_count": 4,
   "id": "5705bb51-8a9b-4474-8777-f3715ae8caa7",
   "metadata": {
    "tags": []
   },
   "outputs": [
    {
     "name": "stdout",
     "output_type": "stream",
     "text": [
      "Original working directory: /Users/jankreischer/Library/Mobile Documents/com~apple~CloudDocs/Master-Thesis/Code/data/data_sets\n",
      "Current working directory: /Users/jankreischer/Library/Mobile Documents/com~apple~CloudDocs/Master-Thesis/Code\n"
     ]
    }
   ],
   "source": [
    "import os\n",
    "\n",
    "if not executed_yet:\n",
    "    executed_yet = True\n",
    "    original_working_directory_path = os.getcwd()\n",
    "    os.chdir(os.path.join(original_working_directory_path, \"../..\"))\n",
    "    root_working_directory_path =  os.getcwd()\n",
    "    \n",
    "print(f'Original working directory: {original_working_directory_path}')\n",
    "print(f'Current working directory: {root_working_directory_path}')"
   ]
  },
  {
   "cell_type": "code",
   "execution_count": 12,
   "id": "1c34ce7f-3b5d-49cf-b004-3ea7eab274be",
   "metadata": {
    "tags": []
   },
   "outputs": [],
   "source": [
    "from src.data_provider import raw_behaviors_file_paths_rp3, decision_states_file_paths, afterstates_file_paths"
   ]
  },
  {
   "cell_type": "code",
   "execution_count": 19,
   "id": "d386eeb5-ac65-4b4e-8b5c-867eb870a3f7",
   "metadata": {
    "tags": []
   },
   "outputs": [
    {
     "name": "stdout",
     "output_type": "stream",
     "text": [
      "Processing: data/data_sets/raw_state_samples/normal_expfs_online_samples_1_2022-08-20-09-16_5s.csv\n",
      "Processing: data/data_sets/raw_state_samples/ransom_expfs_online_samples_1_2022-08-22-14-04_5s.csv\n",
      "Processing: data/data_sets/raw_state_samples/rootkit_bdvl_online_samples_1_2022-08-19-08-45_5s.csv\n",
      "Processing: data/data_sets/raw_state_samples/rootkit_beurk_online_samples_1_2022-09-01-18-12_5s.csv\n",
      "Processing: data/data_sets/raw_state_samples/cnc_thetick_online_samples_1_2022-08-30-16-11_5s.csv\n",
      "Processing: data/data_sets/raw_state_samples/cnc_backdoor_jakoritar_new_online_samples_1_2022-09-02-09-19_5s.csv\n",
      "Processing: data/data_sets/raw_state_samples/cnc_opt_1_file_extr_online_samples_1_2022-09-24-22-08_5s.csv\n",
      "Processing: data/data_sets/raw_state_samples/cnc_opt_2_sysinfo_online_samples_1_2022-09-24-14-04_5s.csv\n"
     ]
    }
   ],
   "source": [
    "import pandas as pd\n",
    "\n",
    "\n",
    "\n",
    "dataframe = pd.DataFrame()\n",
    "for behavior, file_path in raw_behaviors_file_paths_rp3.items():\n",
    "    print(f\"Processing: {file_path}\")\n",
    "    df = pd.read_csv(file_path)\n",
    "    df[\"behavior\"] = behavior\n",
    "    df[\"mtd\"] = None\n",
    "    dataframe = pd.concat([dataframe, df], ignore_index=True)\n",
    "    \n",
    "#dataframe.to_csv(\"data/data_sets/raw_state_samples.csv\", index=False)"
   ]
  },
  {
   "cell_type": "code",
   "execution_count": 18,
   "id": "b1ecd83c-2225-4a51-9099-c9f3c7c0475b",
   "metadata": {
    "tags": []
   },
   "outputs": [
    {
     "name": "stdout",
     "output_type": "stream",
     "text": [
      "Processing: data/data_sets/decision_state_samples/normal_expfs_online_samples_1_2022-08-18-08-31_5s.csv\n",
      "Processing: data/data_sets/decision_state_samples/ransom_noexpfs_online_samples_1_2022-08-16-08-43_5s.csv\n",
      "Processing: data/data_sets/decision_state_samples/rootkit_bdvl_online_samples_1_2022-08-12-16-40_5s.csv\n",
      "Processing: data/data_sets/decision_state_samples/cnc_backdoor_jakoritar_new_online_samples_1_2022-09-06-15-29_5s.csv\n",
      "Processing: data/data_sets/decision_state_samples/rootkit_beurk_online_samples_1_2022-09-08-08-55_5s.csv\n",
      "Processing: data/data_sets/decision_state_samples/cnc_thetick_online_samples_1_2022-09-12-10-27_5s.csv\n",
      "Processing: data/data_sets/decision_state_samples/cnc_opt_1_file_extr_online_samples_1_2022-09-20-17-30_5s.csv\n",
      "Processing: data/data_sets/decision_state_samples/cnc_opt_2_sysinfo_online_samples_1_2022-09-24-09-46_5s.csv\n"
     ]
    }
   ],
   "source": [
    "import pandas as pd\n",
    "\n",
    "dataframe = pd.DataFrame()\n",
    "for behavior, file_path in decision_states_file_paths.items():\n",
    "    print(f\"Processing: {file_path}\")\n",
    "    df = pd.read_csv(file_path)\n",
    "    df[\"behavior\"] = behavior\n",
    "    df[\"mtd\"] = None\n",
    "    dataframe = pd.concat([dataframe, df], ignore_index=True)\n",
    "    \n",
    "#dataframe.to_csv(\"data/data_sets/decision_state_samples.csv\", index=False)"
   ]
  },
  {
   "cell_type": "code",
   "execution_count": 20,
   "id": "b25cd0b9-6cce-442a-bcf0-0529bb008325",
   "metadata": {
    "tags": []
   },
   "outputs": [
    {
     "name": "stdout",
     "output_type": "stream",
     "text": [
      "Processing: data/data_sets/after_state_samples/normal_as_dirtrap_expfs_online_samples_2_2022-08-17-14-23_5s.csv\n",
      "Processing: data/data_sets/after_state_samples/normal_as_filetypes_noexpfs_online_samples_2_2022-08-18-08-29_5s.csv\n",
      "Processing: data/data_sets/after_state_samples/normal_as_removerk_noexpfs_online_samples_2_2022-08-17-08-17_5s.csv\n",
      "Processing: data/data_sets/after_state_samples/normal_as_changeip_new_online_samples_2_2022-09-12-08-01_5s.csv\n",
      "Processing: data/data_sets/after_state_samples/ransom_as_dirtrap_expfs_online_samples_2_2022-08-16-09-33_5s.csv\n",
      "Processing: data/data_sets/after_state_samples/ransom_as_filetypes_expfs_online_samples_2_2022-08-16-14-36_5s.csv\n",
      "Processing: data/data_sets/after_state_samples/ransom_as_changeip_expfs_online_samples_2_2022-08-15-21-09_5s.csv\n",
      "Processing: data/data_sets/after_state_samples/ransom_as_removerk_noexpfs_online_samples_2_2022-08-16-19-06_5s.csv\n",
      "Processing: data/data_sets/after_state_samples/rootkit_bdvl_as_dirtrap_samples_noexpfs_2022-08-12-17-02_5s.csv\n",
      "Processing: data/data_sets/after_state_samples/rootkit_bdvl_as_filetypes_noexpfs_cip_online_samples_2_2022-08-12-21-14_5s.csv\n",
      "Processing: data/data_sets/after_state_samples/rootkit_bdvl_as_changeip_expfs_cip_online_samples_2_2022-08-12-20-42_5s.csv\n",
      "Processing: data/data_sets/after_state_samples/rootkit_bdvl_as_removerk_noexpfs_online_samples_2_2022-08-13-06-02_5s.csv\n",
      "Processing: data/data_sets/after_state_samples/cnc_backdoor_jakoritar_as_dirtrap_online_samples_2_2022-09-07-09-06_5s.csv\n",
      "Processing: data/data_sets/after_state_samples/cnc_backdoor_jakoritar_as_filetypes_online_samples_2_2022-09-06-20-14_5s.csv\n",
      "Processing: data/data_sets/after_state_samples/cnc_backdoor_jakoritar_as_changeip_nohup_client_online_samples_2_2022-08-24-14-41_5s.csv\n",
      "Processing: data/data_sets/after_state_samples/old_cnc_jakoritar_as_removerk_expfs_online_samples_2_2022-08-13-10-52_5s.csv\n",
      "Processing: data/data_sets/after_state_samples/rootkit_beurk_as_dirtrap_online_samples_2_2022-09-10-18-10_5s.csv\n",
      "Processing: data/data_sets/after_state_samples/rootkit_beurk_as_filetypes_online_samples_2_2022-09-11-18-07_5s.csv\n",
      "Processing: data/data_sets/after_state_samples/rootkit_beurk_as_changeip_online_samples_2_2022-09-09-14-27_5s.csv\n",
      "Processing: data/data_sets/after_state_samples/rootkit_beurk_as_removerk_online_samples_2_2022-09-10-09-51_5s.csv\n",
      "Processing: data/data_sets/after_state_samples/cnc_thetick_as_dirtrap_online_samples_2_2022-09-13-08-15_5s.csv\n",
      "Processing: data/data_sets/after_state_samples/cnc_thetick_as_filetypes_online_samples_2_2022-09-13-14-11_5s.csv\n",
      "Processing: data/data_sets/after_state_samples/cnc_thetick_as_changeip_online_samples_2_2022-09-13-21-10_5s.csv\n",
      "Processing: data/data_sets/after_state_samples/cnc_thetick_as_removerk_online_samples_2_2022-09-12-14-07_5s.csv\n",
      "Processing: data/data_sets/after_state_samples/cnc_opt_1_file_extr_as_dirtrap_online_samples_2_2022-09-21-14-33_5s.csv\n",
      "Processing: data/data_sets/after_state_samples/cnc_opt_1_file_extr_as_filetypes_online_samples_2_2022-09-25-09-20_5s.csv\n",
      "Processing: data/data_sets/after_state_samples/cnc_opt_1_file_extr_as_changeip_online_samples_2_2022-09-20-21-40_5s.csv\n",
      "Processing: data/data_sets/after_state_samples/cnc_opt_1_file_extr_as_removerk_online_samples_2_2022-09-21-08-19_5s.csv\n",
      "Processing: data/data_sets/after_state_samples/cnc_opt_2_sysinfo_as_dirtrap_online_samples_2_2022-09-22-20-22_5s.csv\n",
      "Processing: data/data_sets/after_state_samples/cnc_opt_2_sysinfo_as_filetypes_online_samples_2_2022-09-22-16-11_5s.csv\n",
      "Processing: data/data_sets/after_state_samples/cnc_opt_2_sysinfo_as_changeip_online_samples_2_2022-09-23-19-30_5s.csv\n",
      "Processing: data/data_sets/after_state_samples/cnc_opt_2_sysinfo_as_removerk_online_samples_2_2022-09-23-08-14_5s.csv\n"
     ]
    }
   ],
   "source": [
    "import pandas as pd\n",
    "\n",
    "dataframe = pd.DataFrame()\n",
    "for behavior, mtd_file_dict in afterstates_file_paths.items():\n",
    "    #print(mtd_file_dict)\n",
    "    for mtd, file_path in mtd_file_dict.items():\n",
    "        print(f\"Processing: {file_path}\")\n",
    "        df = pd.read_csv(file_path)\n",
    "        df[\"behavior\"] = behavior\n",
    "        df[\"mtd\"] = mtd\n",
    "    dataframe = pd.concat([dataframe, df], ignore_index=True)\n",
    "    \n",
    "#dataframe.to_csv(\"data/data_sets/after_state_samples.csv\", index=False)\n"
   ]
  }
 ],
 "metadata": {
  "kernelspec": {
   "display_name": "Python 3 (ipykernel)",
   "language": "python",
   "name": "python3"
  },
  "language_info": {
   "codemirror_mode": {
    "name": "ipython",
    "version": 3
   },
   "file_extension": ".py",
   "mimetype": "text/x-python",
   "name": "python",
   "nbconvert_exporter": "python",
   "pygments_lexer": "ipython3",
   "version": "3.10.10"
  }
 },
 "nbformat": 4,
 "nbformat_minor": 5
}
